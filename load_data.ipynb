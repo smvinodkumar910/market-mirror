{
  "nbformat": 4,
  "nbformat_minor": 0,
  "metadata": {
    "colab": {
      "cell_execution_strategy": "setup",
      "provenance": [],
      "name": "load_data.ipynb"
    },
    "kernelspec": {
      "name": "python3",
      "display_name": "Python 3"
    },
    "language_info": {
      "name": "python"
    }
  },
  "cells": [
    {
      "cell_type": "markdown",
      "source": [
        "## **Loading Data to BigQuery**"
      ],
      "metadata": {
        "id": "wfzOMyCyjfKL"
      }
    },
    {
      "cell_type": "markdown",
      "source": [
        "\n",
        "<table align=\"left\">\n",
        "  <td style=\"text-align: center\">\n",
        "    <a href=\"https://colab.research.google.com/github/GoogleCloudPlatform/generative-ai/blob/main/vision/getting-started/imagen3_customization.ipynb\">\n",
        "      <img width=\"32px\" src=\"https://www.gstatic.com/pantheon/images/bigquery/welcome_page/colab-logo.svg\" alt=\"Google Colaboratory logo\"><br> Run in Colab\n",
        "    </a>\n",
        "  </td>\n",
        "  <td style=\"text-align: center\">\n",
        "    <a href=\"https://console.cloud.google.com/vertex-ai/colab/import/https:%2F%2Fraw.githubusercontent.com%2FGoogleCloudPlatform%2Fgenerative-ai%2Fmain%2Fvision%2Fgetting-started%2Fimagen3_customization.ipynb\">\n",
        "      <img width=\"32px\" src=\"https://lh3.googleusercontent.com/JmcxdQi-qOpctIvWKgPtrzZdJJK-J3sWE1RsfjZNwshCFgE_9fULcNpuXYTilIR2hjwN\" alt=\"Google Cloud Colab Enterprise logo\"><br> Run in Colab Enterprise\n",
        "    </a>\n",
        "  </td>\n",
        "  <td style=\"text-align: center\">\n",
        "    <a href=\"https://console.cloud.google.com/vertex-ai/workbench/deploy-notebook?download_url=https://raw.githubusercontent.com/GoogleCloudPlatform/generative-ai/main/vision/getting-started/imagen3_customization.ipynb\">\n",
        "      <img src=\"https://lh3.googleusercontent.com/UiNooY4LUgW_oTvpsNhPpQzsstV5W8F7rYgxgGBD85cWJoLmrOzhVs_ksK_vgx40SHs7jCqkTkCk=e14-rj-sc0xffffff-h130-w32\" alt=\"Vertex AI logo\"><br> Open in Vertex AI Workbench\n",
        "    </a>\n",
        "  </td>    \n",
        "  <td style=\"text-align: center\">\n",
        "    <a href=\"https://github.com/GoogleCloudPlatform/generative-ai/blob/main/vision/getting-started/imagen3_customization.ipynb\">\n",
        "      <img width=\"32px\" src=\"https://www.svgrepo.com/download/217753/github.svg\" alt=\"GitHub logo\"><br> View on GitHub\n",
        "    </a>\n",
        "  </td>\n",
        "</table>"
      ],
      "metadata": {
        "id": "Fs11SlAmizlg"
      }
    },
    {
      "cell_type": "markdown",
      "source": [
        "We are going to use 4 Kaggle Datasets for this project.\n",
        "\n",
        "1. https://www.kaggle.com/datasets/pratyushpuri/multilingual-mobile-app-reviews-dataset-2025\n",
        "2. https://www.kaggle.com/datasets/lava18/google-play-store-apps\n",
        "3. https://www.kaggle.com/datasets/ramamet4/app-store-apple-data-set-10k-apps\n",
        "4. https://www.kaggle.com/datasets/quadeer15sh/windows-store-top-apps-games"
      ],
      "metadata": {
        "id": "fRcHOFmDkxEr"
      }
    },
    {
      "cell_type": "markdown",
      "source": [
        "### Authenticate your notebook environment (Colab only)\n",
        "\n",
        "If you are running this notebook on Google Colab, run the following cell to authenticate your environment.\n"
      ],
      "metadata": {
        "id": "cNsd-fI3mYHM"
      }
    },
    {
      "cell_type": "code",
      "source": [
        "import sys\n",
        "\n",
        "if \"google.colab\" in sys.modules:\n",
        "    # Support for third party widgets\n",
        "    from google.colab import auth, output\n",
        "\n",
        "    auth.authenticate_user()\n",
        "    output.enable_custom_widget_manager()"
      ],
      "metadata": {
        "id": "QBdSXkfcmc9c",
        "colab": {
          "base_uri": "https://localhost:8080/"
        },
        "executionInfo": {
          "status": "ok",
          "timestamp": 1755242877505,
          "user_tz": -330,
          "elapsed": 3,
          "user": {
            "displayName": "",
            "userId": ""
          }
        },
        "outputId": "f820701c-c345-4c1b-b5bf-6a27a1be9b84"
      },
      "execution_count": 3,
      "outputs": [
        {
          "output_type": "stream",
          "name": "stdout",
          "text": [
            "WARNING: google.colab.auth.authenticate_user() is not supported in Colab Enterprise.\n"
          ]
        }
      ]
    },
    {
      "cell_type": "code",
      "source": [
        "import os\n",
        "\n",
        "PROJECT_ID = \"market-mirror-dev\"  # @param {type: \"string\", placeholder: \"[your-project-id]\", isTemplate: true}\n",
        "BUCKET_NAME = \"marke-mirror-dev-data\"  # @param {type: \"string\", placeholder: \"[your-bucket-name]\", isTemplate: true}\n",
        "LOCATION = \"us-central1\"  # @param {type: \"string\", placeholder: \"[your-region]\", isTemplate: true}\n",
        "if not PROJECT_ID or PROJECT_ID == \"[your-project-id]\":\n",
        "    PROJECT_ID = str(os.environ.get(\"GOOGLE_CLOUD_PROJECT\"))\n",
        "\n",
        "if not LOCATION or LOCATION == \"[your-region]\":\n",
        "    LOCATION = os.environ.get(\"GOOGLE_CLOUD_REGION\", \"us-central1\")\n"
      ],
      "metadata": {
        "id": "L02uxb6fwRz5",
        "executionInfo": {
          "status": "ok",
          "timestamp": 1755245339713,
          "user_tz": -330,
          "elapsed": 720,
          "user": {
            "displayName": "",
            "userId": ""
          }
        }
      },
      "execution_count": 26,
      "outputs": []
    },
    {
      "cell_type": "code",
      "source": [
        "import kagglehub\n",
        "import os, glob\n",
        "\n",
        "datasets_list = ['https://www.kaggle.com/datasets/pratyushpuri/multilingual-mobile-app-reviews-dataset-2025',\n",
        "'https://www.kaggle.com/datasets/lava18/google-play-store-apps',\n",
        "'https://www.kaggle.com/datasets/ramamet4/app-store-apple-data-set-10k-apps',\n",
        "'https://www.kaggle.com/datasets/quadeer15sh/windows-store-top-apps-games']"
      ],
      "metadata": {
        "id": "rCWjjAKmp1ph",
        "executionInfo": {
          "status": "ok",
          "timestamp": 1755243671111,
          "user_tz": -330,
          "elapsed": 715,
          "user": {
            "displayName": "",
            "userId": ""
          }
        }
      },
      "execution_count": 10,
      "outputs": []
    },
    {
      "cell_type": "code",
      "source": [
        "local_paths = []\n",
        "for dataset in datasets_list:\n",
        "  dataset_path = dataset.replace('https://www.kaggle.com/datasets/','')\n",
        "  dataset_name = dataset.split('/')[-1]\n",
        "  path = kagglehub.dataset_download(dataset_path)\n",
        "  files_path = glob.glob(pathname=os.path.join(path,'*'))\n",
        "  local_paths.append({'dataset_name': dataset_name, 'path':files_path})"
      ],
      "metadata": {
        "id": "hdUAaI73qGo2",
        "executionInfo": {
          "status": "ok",
          "timestamp": 1755244865481,
          "user_tz": -330,
          "elapsed": 8009,
          "user": {
            "displayName": "",
            "userId": ""
          }
        }
      },
      "execution_count": 24,
      "outputs": []
    },
    {
      "cell_type": "code",
      "source": [
        "from google.cloud import storage\n",
        "from google.cloud.exceptions import NotFound\n",
        "\n",
        "gcs_client = storage.Client(\n",
        "    project=PROJECT_ID\n",
        ")"
      ],
      "metadata": {
        "id": "6fXhJhwtxt0m",
        "executionInfo": {
          "status": "ok",
          "timestamp": 1755246227427,
          "user_tz": -330,
          "elapsed": 729,
          "user": {
            "displayName": "",
            "userId": ""
          }
        }
      },
      "execution_count": 31,
      "outputs": []
    },
    {
      "cell_type": "code",
      "source": [
        "try:\n",
        "  databucket = gcs_client.get_bucket(BUCKET_NAME)\n",
        "  bucket_exists = True\n",
        "except NotFound:\n",
        "  databucket = gcs_client.create_bucket(BUCKET_NAME, project=PROJECT_ID)\n",
        "  bucket_exists = True"
      ],
      "metadata": {
        "id": "mBzju9ohy0EY",
        "executionInfo": {
          "status": "ok",
          "timestamp": 1755249098960,
          "user_tz": -330,
          "elapsed": 665,
          "user": {
            "displayName": "",
            "userId": ""
          }
        }
      },
      "execution_count": 39,
      "outputs": []
    },
    {
      "cell_type": "code",
      "source": [
        "gcs_files = []\n",
        "if bucket_exists:\n",
        "  for file in local_paths:\n",
        "    dataset_name = file.get('dataset_name')\n",
        "    paths = file.get('path')\n",
        "    for path in paths:\n",
        "      file_name = path.split('/')[-1]\n",
        "      destination_blob_name = os.path.join(dataset_name,file_name)\n",
        "      destination_blob = databucket.blob(destination_blob_name)\n",
        "      destination_blob.upload_from_filename(path)\n",
        "      gcs_files.append(f\"gs://{BUCKET_NAME}/{destination_blob_name}\")\n",
        "      print(\n",
        "          f\"File {path} uploaded to gs://{BUCKET_NAME}/{destination_blob_name}.\"\n",
        "      )"
      ],
      "metadata": {
        "colab": {
          "base_uri": "https://localhost:8080/"
        },
        "id": "HsXJYXud2b52",
        "executionInfo": {
          "status": "ok",
          "timestamp": 1755249461127,
          "user_tz": -330,
          "elapsed": 2248,
          "user": {
            "displayName": "",
            "userId": ""
          }
        },
        "outputId": "c803ebd7-e195-499c-db48-3bfc2b44c970"
      },
      "execution_count": 45,
      "outputs": [
        {
          "output_type": "stream",
          "name": "stdout",
          "text": [
            "File /root/.cache/kagglehub/datasets/pratyushpuri/multilingual-mobile-app-reviews-dataset-2025/versions/1/multilingual_mobile_app_reviews_2025.csv uploaded to gs://marke-mirror-dev-data/multilingual-mobile-app-reviews-dataset-2025/multilingual_mobile_app_reviews_2025.csv.\n",
            "File /root/.cache/kagglehub/datasets/lava18/google-play-store-apps/versions/6/googleplaystore_user_reviews.csv uploaded to gs://marke-mirror-dev-data/google-play-store-apps/googleplaystore_user_reviews.csv.\n",
            "File /root/.cache/kagglehub/datasets/lava18/google-play-store-apps/versions/6/googleplaystore.csv uploaded to gs://marke-mirror-dev-data/google-play-store-apps/googleplaystore.csv.\n",
            "File /root/.cache/kagglehub/datasets/lava18/google-play-store-apps/versions/6/license.txt uploaded to gs://marke-mirror-dev-data/google-play-store-apps/license.txt.\n",
            "File /root/.cache/kagglehub/datasets/ramamet4/app-store-apple-data-set-10k-apps/versions/7/AppleStore.csv uploaded to gs://marke-mirror-dev-data/app-store-apple-data-set-10k-apps/AppleStore.csv.\n",
            "File /root/.cache/kagglehub/datasets/ramamet4/app-store-apple-data-set-10k-apps/versions/7/appleStore_description.csv uploaded to gs://marke-mirror-dev-data/app-store-apple-data-set-10k-apps/appleStore_description.csv.\n",
            "File /root/.cache/kagglehub/datasets/quadeer15sh/windows-store-top-apps-games/versions/1/windows_store.csv uploaded to gs://marke-mirror-dev-data/windows-store-top-apps-games/windows_store.csv.\n"
          ]
        }
      ]
    },
    {
      "cell_type": "code",
      "source": [
        "from google.cloud import bigquery\n",
        "\n",
        "bq_client = bigquery.Client(project=PROJECT_ID)\n",
        "\n",
        "bq_client.create_dataset('APP_MARKET_BRONZE',exists_ok=True)\n",
        "bq_client.create_dataset('APP_MARKET_SILVER',exists_ok=True)\n",
        "bq_client.create_dataset('APP_MARKET_GOLD',exists_ok=True)"
      ],
      "metadata": {
        "colab": {
          "base_uri": "https://localhost:8080/"
        },
        "id": "6umLktvxCItU",
        "executionInfo": {
          "status": "ok",
          "timestamp": 1755249976750,
          "user_tz": -330,
          "elapsed": 1457,
          "user": {
            "displayName": "",
            "userId": ""
          }
        },
        "outputId": "5bfc8c2a-1f22-4f3f-f910-97242a969dc9"
      },
      "execution_count": 50,
      "outputs": [
        {
          "output_type": "execute_result",
          "data": {
            "text/plain": [
              "Dataset(DatasetReference('market-mirror-dev', 'APP_MARKET_GOLD'))"
            ]
          },
          "metadata": {},
          "execution_count": 50
        }
      ]
    },
    {
      "cell_type": "code",
      "source": [
        "from google.cloud.dataproc_spark_connect import DataprocSparkSession\n",
        "from google.cloud.dataproc_v1 import Session\n",
        "\n",
        "\n",
        "# This will create a default Spark session\n",
        "spark = DataprocSparkSession.builder.getOrCreate()\n"
      ],
      "metadata": {
        "colab": {
          "base_uri": "https://localhost:8080/"
        },
        "id": "DmQx92ke31SD",
        "executionInfo": {
          "status": "ok",
          "timestamp": 1755249300377,
          "user_tz": -330,
          "elapsed": 834,
          "user": {
            "displayName": "",
            "userId": ""
          }
        },
        "outputId": "a708c687-899a-4952-8de0-b6954198a7e4"
      },
      "execution_count": 43,
      "outputs": [
        {
          "output_type": "stream",
          "name": "stdout",
          "text": [
            "Using existing Dataproc Session (configuration changes may not be applied): https://console.cloud.google.com/dataproc/interactive/us-central1/sc-20250815-083623-go3rag?project=market-mirror-dev\n"
          ]
        }
      ]
    },
    {
      "cell_type": "code",
      "source": [
        "for file in gcs_files:\n",
        "  if file.endswith('.csv'):\n",
        "    table_name = file.split('/')[-1].split('.')[0]\n",
        "    print(table_name)\n",
        "    df = spark.read.csv(file,\n",
        "                    inferSchema=True,\n",
        "                    header=True)\n",
        "    col_rename = [{f\"{column}\":f\"{column.replace(' ','_').replace('.','_')}\"} for column in df.columns]\n",
        "    all_col_rename = dict()\n",
        "    for a in col_rename:\n",
        "      all_col_rename.update(a)\n",
        "    df = df.withColumnsRenamed(all_col_rename)\n",
        "    df.write.mode(\"overwrite\").format('bigquery').save(f'{PROJECT_ID}.APP_MARKET_BRONZE.{table_name}')\n",
        ""
      ],
      "metadata": {
        "colab": {
          "base_uri": "https://localhost:8080/",
          "height": 64
        },
        "id": "jBjMXsfUD6O6",
        "executionInfo": {
          "status": "ok",
          "timestamp": 1755252180666,
          "user_tz": -330,
          "elapsed": 6548,
          "user": {
            "displayName": "",
            "userId": ""
          }
        },
        "outputId": "eaeebad9-d052-44bf-b8a1-2635357db5f2"
      },
      "execution_count": 88,
      "outputs": [
        {
          "output_type": "stream",
          "name": "stdout",
          "text": [
            "AppleStore\n"
          ]
        },
        {
          "output_type": "display_data",
          "data": {
            "text/plain": [
              "<IPython.core.display.HTML object>"
            ],
            "text/html": [
              "\n",
              "              <div>\n",
              "                  <p><a href=\"https://console.cloud.google.com/dataproc/interactive/us-central1/sc-20250815-083623-go3rag/sparkApplications/application;associatedSqlOperationId=971894c7-744a-4479-a189-766a1d56c1a0?project=market-mirror-dev\">Spark Query</a> (Operation: 971894c7-744a-4479-a189-766a1d56c1a0)</p>\n",
              "              </div>\n",
              "              "
            ]
          },
          "metadata": {}
        }
      ]
    }
  ]
}