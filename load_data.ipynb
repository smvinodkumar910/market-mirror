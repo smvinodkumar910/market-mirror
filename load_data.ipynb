{
  "nbformat": 4,
  "nbformat_minor": 0,
  "metadata": {
    "colab": {
      "cell_execution_strategy": "setup",
      "provenance": [],
      "name": "load_data.ipynb"
    },
    "kernelspec": {
      "name": "python3",
      "display_name": "Python 3"
    },
    "language_info": {
      "name": "python"
    },
    "widgets": {
      "application/vnd.jupyter.widget-state+json": {
        "465b9f2a90904c979c4e67a085ff2bac": {
          "model_module": "@jupyter-widgets/controls",
          "model_name": "HBoxModel",
          "model_module_version": "1.5.0",
          "state": {
            "_dom_classes": [],
            "_model_module": "@jupyter-widgets/controls",
            "_model_module_version": "1.5.0",
            "_model_name": "HBoxModel",
            "_view_count": null,
            "_view_module": "@jupyter-widgets/controls",
            "_view_module_version": "1.5.0",
            "_view_name": "HBoxView",
            "box_style": "",
            "children": [
              "IPY_MODEL_a6d343a6d4c24e2d8517c820a5f64b96",
              "IPY_MODEL_2f11d57420094ddba1de5991b60f0a54",
              "IPY_MODEL_3aa7a24eff0949448bf7c0f2c56029ce"
            ],
            "layout": "IPY_MODEL_7e0ffea8cf8e4dcba1bae43f70bc79e4"
          }
        },
        "a6d343a6d4c24e2d8517c820a5f64b96": {
          "model_module": "@jupyter-widgets/controls",
          "model_name": "HTMLModel",
          "model_module_version": "1.5.0",
          "state": {
            "_dom_classes": [],
            "_model_module": "@jupyter-widgets/controls",
            "_model_module_version": "1.5.0",
            "_model_name": "HTMLModel",
            "_view_count": null,
            "_view_module": "@jupyter-widgets/controls",
            "_view_module_version": "1.5.0",
            "_view_name": "HTMLView",
            "description": "",
            "description_tooltip": null,
            "layout": "IPY_MODEL_12e4f9f2bd1440acad4efe540bc2148c",
            "placeholder": "​",
            "style": "IPY_MODEL_d65f65b6ff284c6c91e819bd7c7f7eb5",
            "value": "Job ID 567a7ba8-2271-4762-b25f-a9c0def3f1bf successfully executed: 100%"
          }
        },
        "2f11d57420094ddba1de5991b60f0a54": {
          "model_module": "@jupyter-widgets/controls",
          "model_name": "FloatProgressModel",
          "model_module_version": "1.5.0",
          "state": {
            "_dom_classes": [],
            "_model_module": "@jupyter-widgets/controls",
            "_model_module_version": "1.5.0",
            "_model_name": "FloatProgressModel",
            "_view_count": null,
            "_view_module": "@jupyter-widgets/controls",
            "_view_module_version": "1.5.0",
            "_view_name": "ProgressView",
            "bar_style": "success",
            "description": "",
            "description_tooltip": null,
            "layout": "IPY_MODEL_549817ee5d9b45f2a79c3574d5bec5d5",
            "max": 1,
            "min": 0,
            "orientation": "horizontal",
            "style": "IPY_MODEL_36a56f9e362f46d3a77225b7a137a7f3",
            "value": 1
          }
        },
        "3aa7a24eff0949448bf7c0f2c56029ce": {
          "model_module": "@jupyter-widgets/controls",
          "model_name": "HTMLModel",
          "model_module_version": "1.5.0",
          "state": {
            "_dom_classes": [],
            "_model_module": "@jupyter-widgets/controls",
            "_model_module_version": "1.5.0",
            "_model_name": "HTMLModel",
            "_view_count": null,
            "_view_module": "@jupyter-widgets/controls",
            "_view_module_version": "1.5.0",
            "_view_name": "HTMLView",
            "description": "",
            "description_tooltip": null,
            "layout": "IPY_MODEL_aa5e65df364342c2996477dc353902f9",
            "placeholder": "​",
            "style": "IPY_MODEL_e0b0d08c106f43398059817db81e7265",
            "value": ""
          }
        },
        "7e0ffea8cf8e4dcba1bae43f70bc79e4": {
          "model_module": "@jupyter-widgets/base",
          "model_name": "LayoutModel",
          "model_module_version": "1.2.0",
          "state": {
            "_model_module": "@jupyter-widgets/base",
            "_model_module_version": "1.2.0",
            "_model_name": "LayoutModel",
            "_view_count": null,
            "_view_module": "@jupyter-widgets/base",
            "_view_module_version": "1.2.0",
            "_view_name": "LayoutView",
            "align_content": null,
            "align_items": null,
            "align_self": null,
            "border": null,
            "bottom": null,
            "display": null,
            "flex": null,
            "flex_flow": null,
            "grid_area": null,
            "grid_auto_columns": null,
            "grid_auto_flow": null,
            "grid_auto_rows": null,
            "grid_column": null,
            "grid_gap": null,
            "grid_row": null,
            "grid_template_areas": null,
            "grid_template_columns": null,
            "grid_template_rows": null,
            "height": null,
            "justify_content": null,
            "justify_items": null,
            "left": null,
            "margin": null,
            "max_height": null,
            "max_width": null,
            "min_height": null,
            "min_width": null,
            "object_fit": null,
            "object_position": null,
            "order": null,
            "overflow": null,
            "overflow_x": null,
            "overflow_y": null,
            "padding": null,
            "right": null,
            "top": null,
            "visibility": null,
            "width": null
          }
        },
        "12e4f9f2bd1440acad4efe540bc2148c": {
          "model_module": "@jupyter-widgets/base",
          "model_name": "LayoutModel",
          "model_module_version": "1.2.0",
          "state": {
            "_model_module": "@jupyter-widgets/base",
            "_model_module_version": "1.2.0",
            "_model_name": "LayoutModel",
            "_view_count": null,
            "_view_module": "@jupyter-widgets/base",
            "_view_module_version": "1.2.0",
            "_view_name": "LayoutView",
            "align_content": null,
            "align_items": null,
            "align_self": null,
            "border": null,
            "bottom": null,
            "display": null,
            "flex": null,
            "flex_flow": null,
            "grid_area": null,
            "grid_auto_columns": null,
            "grid_auto_flow": null,
            "grid_auto_rows": null,
            "grid_column": null,
            "grid_gap": null,
            "grid_row": null,
            "grid_template_areas": null,
            "grid_template_columns": null,
            "grid_template_rows": null,
            "height": null,
            "justify_content": null,
            "justify_items": null,
            "left": null,
            "margin": null,
            "max_height": null,
            "max_width": null,
            "min_height": null,
            "min_width": null,
            "object_fit": null,
            "object_position": null,
            "order": null,
            "overflow": null,
            "overflow_x": null,
            "overflow_y": null,
            "padding": null,
            "right": null,
            "top": null,
            "visibility": null,
            "width": null
          }
        },
        "d65f65b6ff284c6c91e819bd7c7f7eb5": {
          "model_module": "@jupyter-widgets/controls",
          "model_name": "DescriptionStyleModel",
          "model_module_version": "1.5.0",
          "state": {
            "_model_module": "@jupyter-widgets/controls",
            "_model_module_version": "1.5.0",
            "_model_name": "DescriptionStyleModel",
            "_view_count": null,
            "_view_module": "@jupyter-widgets/base",
            "_view_module_version": "1.2.0",
            "_view_name": "StyleView",
            "description_width": ""
          }
        },
        "549817ee5d9b45f2a79c3574d5bec5d5": {
          "model_module": "@jupyter-widgets/base",
          "model_name": "LayoutModel",
          "model_module_version": "1.2.0",
          "state": {
            "_model_module": "@jupyter-widgets/base",
            "_model_module_version": "1.2.0",
            "_model_name": "LayoutModel",
            "_view_count": null,
            "_view_module": "@jupyter-widgets/base",
            "_view_module_version": "1.2.0",
            "_view_name": "LayoutView",
            "align_content": null,
            "align_items": null,
            "align_self": null,
            "border": null,
            "bottom": null,
            "display": null,
            "flex": null,
            "flex_flow": null,
            "grid_area": null,
            "grid_auto_columns": null,
            "grid_auto_flow": null,
            "grid_auto_rows": null,
            "grid_column": null,
            "grid_gap": null,
            "grid_row": null,
            "grid_template_areas": null,
            "grid_template_columns": null,
            "grid_template_rows": null,
            "height": null,
            "justify_content": null,
            "justify_items": null,
            "left": null,
            "margin": null,
            "max_height": null,
            "max_width": null,
            "min_height": null,
            "min_width": null,
            "object_fit": null,
            "object_position": null,
            "order": null,
            "overflow": null,
            "overflow_x": null,
            "overflow_y": null,
            "padding": null,
            "right": null,
            "top": null,
            "visibility": null,
            "width": null
          }
        },
        "36a56f9e362f46d3a77225b7a137a7f3": {
          "model_module": "@jupyter-widgets/controls",
          "model_name": "ProgressStyleModel",
          "model_module_version": "1.5.0",
          "state": {
            "_model_module": "@jupyter-widgets/controls",
            "_model_module_version": "1.5.0",
            "_model_name": "ProgressStyleModel",
            "_view_count": null,
            "_view_module": "@jupyter-widgets/base",
            "_view_module_version": "1.2.0",
            "_view_name": "StyleView",
            "bar_color": null,
            "description_width": ""
          }
        },
        "aa5e65df364342c2996477dc353902f9": {
          "model_module": "@jupyter-widgets/base",
          "model_name": "LayoutModel",
          "model_module_version": "1.2.0",
          "state": {
            "_model_module": "@jupyter-widgets/base",
            "_model_module_version": "1.2.0",
            "_model_name": "LayoutModel",
            "_view_count": null,
            "_view_module": "@jupyter-widgets/base",
            "_view_module_version": "1.2.0",
            "_view_name": "LayoutView",
            "align_content": null,
            "align_items": null,
            "align_self": null,
            "border": null,
            "bottom": null,
            "display": null,
            "flex": null,
            "flex_flow": null,
            "grid_area": null,
            "grid_auto_columns": null,
            "grid_auto_flow": null,
            "grid_auto_rows": null,
            "grid_column": null,
            "grid_gap": null,
            "grid_row": null,
            "grid_template_areas": null,
            "grid_template_columns": null,
            "grid_template_rows": null,
            "height": null,
            "justify_content": null,
            "justify_items": null,
            "left": null,
            "margin": null,
            "max_height": null,
            "max_width": null,
            "min_height": null,
            "min_width": null,
            "object_fit": null,
            "object_position": null,
            "order": null,
            "overflow": null,
            "overflow_x": null,
            "overflow_y": null,
            "padding": null,
            "right": null,
            "top": null,
            "visibility": null,
            "width": null
          }
        },
        "e0b0d08c106f43398059817db81e7265": {
          "model_module": "@jupyter-widgets/controls",
          "model_name": "DescriptionStyleModel",
          "model_module_version": "1.5.0",
          "state": {
            "_model_module": "@jupyter-widgets/controls",
            "_model_module_version": "1.5.0",
            "_model_name": "DescriptionStyleModel",
            "_view_count": null,
            "_view_module": "@jupyter-widgets/base",
            "_view_module_version": "1.2.0",
            "_view_name": "StyleView",
            "description_width": ""
          }
        },
        "a43283e90aa945ed82ecaa28f9ba291c": {
          "model_module": "@jupyter-widgets/controls",
          "model_name": "HBoxModel",
          "model_module_version": "1.5.0",
          "state": {
            "_dom_classes": [],
            "_model_module": "@jupyter-widgets/controls",
            "_model_module_version": "1.5.0",
            "_model_name": "HBoxModel",
            "_view_count": null,
            "_view_module": "@jupyter-widgets/controls",
            "_view_module_version": "1.5.0",
            "_view_name": "HBoxView",
            "box_style": "",
            "children": [
              "IPY_MODEL_da8ed4483bc549c7b2cba45de68b202a",
              "IPY_MODEL_9e97c13264d044bfad3a42839c0cdb37",
              "IPY_MODEL_746472561b3344bb8f5a3881f206d564"
            ],
            "layout": "IPY_MODEL_4c07f5aba749471f8d8d9962f9263017"
          }
        },
        "da8ed4483bc549c7b2cba45de68b202a": {
          "model_module": "@jupyter-widgets/controls",
          "model_name": "HTMLModel",
          "model_module_version": "1.5.0",
          "state": {
            "_dom_classes": [],
            "_model_module": "@jupyter-widgets/controls",
            "_model_module_version": "1.5.0",
            "_model_name": "HTMLModel",
            "_view_count": null,
            "_view_module": "@jupyter-widgets/controls",
            "_view_module_version": "1.5.0",
            "_view_name": "HTMLView",
            "description": "",
            "description_tooltip": null,
            "layout": "IPY_MODEL_29e391dbdabb4e718217b3a77efe9efd",
            "placeholder": "​",
            "style": "IPY_MODEL_048013496dd6499bb76d77967312d87c",
            "value": "Downloading: 100%"
          }
        },
        "9e97c13264d044bfad3a42839c0cdb37": {
          "model_module": "@jupyter-widgets/controls",
          "model_name": "FloatProgressModel",
          "model_module_version": "1.5.0",
          "state": {
            "_dom_classes": [],
            "_model_module": "@jupyter-widgets/controls",
            "_model_module_version": "1.5.0",
            "_model_name": "FloatProgressModel",
            "_view_count": null,
            "_view_module": "@jupyter-widgets/controls",
            "_view_module_version": "1.5.0",
            "_view_name": "ProgressView",
            "bar_style": "success",
            "description": "",
            "description_tooltip": null,
            "layout": "IPY_MODEL_a99f299b0efa44299f8e1a62abdc944d",
            "max": 1,
            "min": 0,
            "orientation": "horizontal",
            "style": "IPY_MODEL_a410cea157f34c5d8324487b446e3476",
            "value": 1
          }
        },
        "746472561b3344bb8f5a3881f206d564": {
          "model_module": "@jupyter-widgets/controls",
          "model_name": "HTMLModel",
          "model_module_version": "1.5.0",
          "state": {
            "_dom_classes": [],
            "_model_module": "@jupyter-widgets/controls",
            "_model_module_version": "1.5.0",
            "_model_name": "HTMLModel",
            "_view_count": null,
            "_view_module": "@jupyter-widgets/controls",
            "_view_module_version": "1.5.0",
            "_view_name": "HTMLView",
            "description": "",
            "description_tooltip": null,
            "layout": "IPY_MODEL_8e403e43dfa94634950f6ef367f069af",
            "placeholder": "​",
            "style": "IPY_MODEL_5cdd70c58d4e4dada1fcaa6972b2afbd",
            "value": ""
          }
        },
        "4c07f5aba749471f8d8d9962f9263017": {
          "model_module": "@jupyter-widgets/base",
          "model_name": "LayoutModel",
          "model_module_version": "1.2.0",
          "state": {
            "_model_module": "@jupyter-widgets/base",
            "_model_module_version": "1.2.0",
            "_model_name": "LayoutModel",
            "_view_count": null,
            "_view_module": "@jupyter-widgets/base",
            "_view_module_version": "1.2.0",
            "_view_name": "LayoutView",
            "align_content": null,
            "align_items": null,
            "align_self": null,
            "border": null,
            "bottom": null,
            "display": null,
            "flex": null,
            "flex_flow": null,
            "grid_area": null,
            "grid_auto_columns": null,
            "grid_auto_flow": null,
            "grid_auto_rows": null,
            "grid_column": null,
            "grid_gap": null,
            "grid_row": null,
            "grid_template_areas": null,
            "grid_template_columns": null,
            "grid_template_rows": null,
            "height": null,
            "justify_content": null,
            "justify_items": null,
            "left": null,
            "margin": null,
            "max_height": null,
            "max_width": null,
            "min_height": null,
            "min_width": null,
            "object_fit": null,
            "object_position": null,
            "order": null,
            "overflow": null,
            "overflow_x": null,
            "overflow_y": null,
            "padding": null,
            "right": null,
            "top": null,
            "visibility": null,
            "width": null
          }
        },
        "29e391dbdabb4e718217b3a77efe9efd": {
          "model_module": "@jupyter-widgets/base",
          "model_name": "LayoutModel",
          "model_module_version": "1.2.0",
          "state": {
            "_model_module": "@jupyter-widgets/base",
            "_model_module_version": "1.2.0",
            "_model_name": "LayoutModel",
            "_view_count": null,
            "_view_module": "@jupyter-widgets/base",
            "_view_module_version": "1.2.0",
            "_view_name": "LayoutView",
            "align_content": null,
            "align_items": null,
            "align_self": null,
            "border": null,
            "bottom": null,
            "display": null,
            "flex": null,
            "flex_flow": null,
            "grid_area": null,
            "grid_auto_columns": null,
            "grid_auto_flow": null,
            "grid_auto_rows": null,
            "grid_column": null,
            "grid_gap": null,
            "grid_row": null,
            "grid_template_areas": null,
            "grid_template_columns": null,
            "grid_template_rows": null,
            "height": null,
            "justify_content": null,
            "justify_items": null,
            "left": null,
            "margin": null,
            "max_height": null,
            "max_width": null,
            "min_height": null,
            "min_width": null,
            "object_fit": null,
            "object_position": null,
            "order": null,
            "overflow": null,
            "overflow_x": null,
            "overflow_y": null,
            "padding": null,
            "right": null,
            "top": null,
            "visibility": null,
            "width": null
          }
        },
        "048013496dd6499bb76d77967312d87c": {
          "model_module": "@jupyter-widgets/controls",
          "model_name": "DescriptionStyleModel",
          "model_module_version": "1.5.0",
          "state": {
            "_model_module": "@jupyter-widgets/controls",
            "_model_module_version": "1.5.0",
            "_model_name": "DescriptionStyleModel",
            "_view_count": null,
            "_view_module": "@jupyter-widgets/base",
            "_view_module_version": "1.2.0",
            "_view_name": "StyleView",
            "description_width": ""
          }
        },
        "a99f299b0efa44299f8e1a62abdc944d": {
          "model_module": "@jupyter-widgets/base",
          "model_name": "LayoutModel",
          "model_module_version": "1.2.0",
          "state": {
            "_model_module": "@jupyter-widgets/base",
            "_model_module_version": "1.2.0",
            "_model_name": "LayoutModel",
            "_view_count": null,
            "_view_module": "@jupyter-widgets/base",
            "_view_module_version": "1.2.0",
            "_view_name": "LayoutView",
            "align_content": null,
            "align_items": null,
            "align_self": null,
            "border": null,
            "bottom": null,
            "display": null,
            "flex": null,
            "flex_flow": null,
            "grid_area": null,
            "grid_auto_columns": null,
            "grid_auto_flow": null,
            "grid_auto_rows": null,
            "grid_column": null,
            "grid_gap": null,
            "grid_row": null,
            "grid_template_areas": null,
            "grid_template_columns": null,
            "grid_template_rows": null,
            "height": null,
            "justify_content": null,
            "justify_items": null,
            "left": null,
            "margin": null,
            "max_height": null,
            "max_width": null,
            "min_height": null,
            "min_width": null,
            "object_fit": null,
            "object_position": null,
            "order": null,
            "overflow": null,
            "overflow_x": null,
            "overflow_y": null,
            "padding": null,
            "right": null,
            "top": null,
            "visibility": null,
            "width": null
          }
        },
        "a410cea157f34c5d8324487b446e3476": {
          "model_module": "@jupyter-widgets/controls",
          "model_name": "ProgressStyleModel",
          "model_module_version": "1.5.0",
          "state": {
            "_model_module": "@jupyter-widgets/controls",
            "_model_module_version": "1.5.0",
            "_model_name": "ProgressStyleModel",
            "_view_count": null,
            "_view_module": "@jupyter-widgets/base",
            "_view_module_version": "1.2.0",
            "_view_name": "StyleView",
            "bar_color": null,
            "description_width": ""
          }
        },
        "8e403e43dfa94634950f6ef367f069af": {
          "model_module": "@jupyter-widgets/base",
          "model_name": "LayoutModel",
          "model_module_version": "1.2.0",
          "state": {
            "_model_module": "@jupyter-widgets/base",
            "_model_module_version": "1.2.0",
            "_model_name": "LayoutModel",
            "_view_count": null,
            "_view_module": "@jupyter-widgets/base",
            "_view_module_version": "1.2.0",
            "_view_name": "LayoutView",
            "align_content": null,
            "align_items": null,
            "align_self": null,
            "border": null,
            "bottom": null,
            "display": null,
            "flex": null,
            "flex_flow": null,
            "grid_area": null,
            "grid_auto_columns": null,
            "grid_auto_flow": null,
            "grid_auto_rows": null,
            "grid_column": null,
            "grid_gap": null,
            "grid_row": null,
            "grid_template_areas": null,
            "grid_template_columns": null,
            "grid_template_rows": null,
            "height": null,
            "justify_content": null,
            "justify_items": null,
            "left": null,
            "margin": null,
            "max_height": null,
            "max_width": null,
            "min_height": null,
            "min_width": null,
            "object_fit": null,
            "object_position": null,
            "order": null,
            "overflow": null,
            "overflow_x": null,
            "overflow_y": null,
            "padding": null,
            "right": null,
            "top": null,
            "visibility": null,
            "width": null
          }
        },
        "5cdd70c58d4e4dada1fcaa6972b2afbd": {
          "model_module": "@jupyter-widgets/controls",
          "model_name": "DescriptionStyleModel",
          "model_module_version": "1.5.0",
          "state": {
            "_model_module": "@jupyter-widgets/controls",
            "_model_module_version": "1.5.0",
            "_model_name": "DescriptionStyleModel",
            "_view_count": null,
            "_view_module": "@jupyter-widgets/base",
            "_view_module_version": "1.2.0",
            "_view_name": "StyleView",
            "description_width": ""
          }
        }
      }
    }
  },
  "cells": [
    {
      "cell_type": "code",
      "source": [
        "from google.cloud.dataproc_spark_connect import DataprocSparkSession\n",
        "from google.cloud.dataproc_v1 import Session\n",
        "\n",
        "\n",
        "# This will create a default Spark session\n",
        "spark = DataprocSparkSession.builder.getOrCreate()\n",
        "# If you would like to customize the Spark session, please refer to the\n",
        "# documentation at https://cloud.google.com/bigquery/docs/use-spark\n",
        "#\n",
        "# For example, if you need to use a different subnetwork, use the code below\n",
        "\n",
        "# from google.cloud.dataproc_v1 import Session\n",
        "\n",
        "# session = Session()\n",
        "# session.environment_config.execution_config.subnetwork_uri = \"<subnetwork_name>\"\n",
        "# spark = DataprocSparkSession.builder.dataprocSessionConfig(session).getOrCreate()"
      ],
      "metadata": {
        "id": "p2NN8wwF7YRa",
        "colab": {
          "base_uri": "https://localhost:8080/",
          "height": 513
        },
        "executionInfo": {
          "status": "error",
          "timestamp": 1755238888449,
          "user_tz": -330,
          "elapsed": 94375,
          "user": {
            "displayName": "",
            "userId": ""
          }
        },
        "outputId": "c6b6dd25-4a48-4fe9-e1c0-ee608f4898b6"
      },
      "execution_count": 1,
      "outputs": [
        {
          "output_type": "display_data",
          "data": {
            "text/plain": [
              "<IPython.core.display.HTML object>"
            ],
            "text/html": [
              "\n",
              "                <div>\n",
              "                    <p>Creating Dataproc Spark Session<p>\n",
              "                    <p><a href=\"https://console.cloud.google.com/dataproc/interactive/us-central1/sc-20250815-061955-gdn198?project=kaggle-gcp-comp1\">Dataproc Session</a></p>\n",
              "                </div>\n",
              "            "
            ]
          },
          "metadata": {}
        },
        {
          "output_type": "stream",
          "name": "stderr",
          "text": [
            "████████████████████████████████████████████████▌                               "
          ]
        },
        {
          "output_type": "error",
          "ename": "KeyboardInterrupt",
          "evalue": "",
          "traceback": [
            "\u001b[0;31m---------------------------------------------------------------------------\u001b[0m",
            "\u001b[0;31m_OperationNotComplete\u001b[0m                     Traceback (most recent call last)",
            "\u001b[0;32m/usr/local/lib/python3.11/dist-packages/google/api_core/retry/retry_unary.py\u001b[0m in \u001b[0;36mretry_target\u001b[0;34m(target, predicate, sleep_generator, timeout, on_error, exception_factory, **kwargs)\u001b[0m\n\u001b[1;32m    146\u001b[0m         \u001b[0;32mtry\u001b[0m\u001b[0;34m:\u001b[0m\u001b[0;34m\u001b[0m\u001b[0;34m\u001b[0m\u001b[0m\n\u001b[0;32m--> 147\u001b[0;31m             \u001b[0mresult\u001b[0m \u001b[0;34m=\u001b[0m \u001b[0mtarget\u001b[0m\u001b[0;34m(\u001b[0m\u001b[0;34m)\u001b[0m\u001b[0;34m\u001b[0m\u001b[0;34m\u001b[0m\u001b[0m\n\u001b[0m\u001b[1;32m    148\u001b[0m             \u001b[0;32mif\u001b[0m \u001b[0minspect\u001b[0m\u001b[0;34m.\u001b[0m\u001b[0misawaitable\u001b[0m\u001b[0;34m(\u001b[0m\u001b[0mresult\u001b[0m\u001b[0;34m)\u001b[0m\u001b[0;34m:\u001b[0m\u001b[0;34m\u001b[0m\u001b[0;34m\u001b[0m\u001b[0m\n",
            "\u001b[0;32m/usr/local/lib/python3.11/dist-packages/google/api_core/future/polling.py\u001b[0m in \u001b[0;36m_done_or_raise\u001b[0;34m(self, retry)\u001b[0m\n\u001b[1;32m    119\u001b[0m         \u001b[0;32mif\u001b[0m \u001b[0;32mnot\u001b[0m \u001b[0mself\u001b[0m\u001b[0;34m.\u001b[0m\u001b[0mdone\u001b[0m\u001b[0;34m(\u001b[0m\u001b[0mretry\u001b[0m\u001b[0;34m=\u001b[0m\u001b[0mretry\u001b[0m\u001b[0;34m)\u001b[0m\u001b[0;34m:\u001b[0m\u001b[0;34m\u001b[0m\u001b[0;34m\u001b[0m\u001b[0m\n\u001b[0;32m--> 120\u001b[0;31m             \u001b[0;32mraise\u001b[0m \u001b[0m_OperationNotComplete\u001b[0m\u001b[0;34m(\u001b[0m\u001b[0;34m)\u001b[0m\u001b[0;34m\u001b[0m\u001b[0;34m\u001b[0m\u001b[0m\n\u001b[0m\u001b[1;32m    121\u001b[0m \u001b[0;34m\u001b[0m\u001b[0m\n",
            "\u001b[0;31m_OperationNotComplete\u001b[0m: ",
            "\nDuring handling of the above exception, another exception occurred:\n",
            "\u001b[0;31mKeyboardInterrupt\u001b[0m                         Traceback (most recent call last)",
            "\u001b[0;32m/tmp/ipython-input-1-347693867.py\u001b[0m in \u001b[0;36m<cell line: 0>\u001b[0;34m()\u001b[0m\n\u001b[1;32m      4\u001b[0m \u001b[0;34m\u001b[0m\u001b[0m\n\u001b[1;32m      5\u001b[0m \u001b[0;31m# This will create a default Spark session\u001b[0m\u001b[0;34m\u001b[0m\u001b[0;34m\u001b[0m\u001b[0m\n\u001b[0;32m----> 6\u001b[0;31m \u001b[0mspark\u001b[0m \u001b[0;34m=\u001b[0m \u001b[0mDataprocSparkSession\u001b[0m\u001b[0;34m.\u001b[0m\u001b[0mbuilder\u001b[0m\u001b[0;34m.\u001b[0m\u001b[0mgetOrCreate\u001b[0m\u001b[0;34m(\u001b[0m\u001b[0;34m)\u001b[0m\u001b[0;34m\u001b[0m\u001b[0;34m\u001b[0m\u001b[0m\n\u001b[0m\u001b[1;32m      7\u001b[0m \u001b[0;31m# If you would like to customize the Spark session, please refer to the\u001b[0m\u001b[0;34m\u001b[0m\u001b[0;34m\u001b[0m\u001b[0m\n\u001b[1;32m      8\u001b[0m \u001b[0;31m# documentation at https://cloud.google.com/bigquery/docs/use-spark\u001b[0m\u001b[0;34m\u001b[0m\u001b[0;34m\u001b[0m\u001b[0m\n",
            "\u001b[0;32m/usr/local/lib/python3.11/dist-packages/google/cloud/dataproc_spark_connect/session.py\u001b[0m in \u001b[0;36mgetOrCreate\u001b[0;34m(self)\u001b[0m\n\u001b[1;32m    398\u001b[0m                 \u001b[0msession\u001b[0m \u001b[0;34m=\u001b[0m \u001b[0mself\u001b[0m\u001b[0;34m.\u001b[0m\u001b[0m_get_exiting_active_session\u001b[0m\u001b[0;34m(\u001b[0m\u001b[0;34m)\u001b[0m\u001b[0;34m\u001b[0m\u001b[0;34m\u001b[0m\u001b[0m\n\u001b[1;32m    399\u001b[0m                 \u001b[0;32mif\u001b[0m \u001b[0msession\u001b[0m \u001b[0;32mis\u001b[0m \u001b[0;32mNone\u001b[0m\u001b[0;34m:\u001b[0m\u001b[0;34m\u001b[0m\u001b[0;34m\u001b[0m\u001b[0m\n\u001b[0;32m--> 400\u001b[0;31m                     \u001b[0msession\u001b[0m \u001b[0;34m=\u001b[0m \u001b[0mself\u001b[0m\u001b[0;34m.\u001b[0m\u001b[0m__create\u001b[0m\u001b[0;34m(\u001b[0m\u001b[0;34m)\u001b[0m\u001b[0;34m\u001b[0m\u001b[0;34m\u001b[0m\u001b[0m\n\u001b[0m\u001b[1;32m    401\u001b[0m                 \u001b[0;32mreturn\u001b[0m \u001b[0msession\u001b[0m\u001b[0;34m\u001b[0m\u001b[0;34m\u001b[0m\u001b[0m\n\u001b[1;32m    402\u001b[0m \u001b[0;34m\u001b[0m\u001b[0m\n",
            "\u001b[0;32m/usr/local/lib/python3.11/dist-packages/google/cloud/dataproc_spark_connect/session.py\u001b[0m in \u001b[0;36m__create\u001b[0;34m(self)\u001b[0m\n\u001b[1;32m    262\u001b[0m                     \u001b[0;31m# self._display_view_session_details_button(session_id)\u001b[0m\u001b[0;34m\u001b[0m\u001b[0;34m\u001b[0m\u001b[0m\n\u001b[1;32m    263\u001b[0m                     \u001b[0mcreate_session_pbar_thread\u001b[0m\u001b[0;34m.\u001b[0m\u001b[0mstart\u001b[0m\u001b[0;34m(\u001b[0m\u001b[0;34m)\u001b[0m\u001b[0;34m\u001b[0m\u001b[0;34m\u001b[0m\u001b[0m\n\u001b[0;32m--> 264\u001b[0;31m                     session_response: Session = operation.result(\n\u001b[0m\u001b[1;32m    265\u001b[0m                         polling=retry.Retry(\n\u001b[1;32m    266\u001b[0m                             \u001b[0mpredicate\u001b[0m\u001b[0;34m=\u001b[0m\u001b[0mPOLLING_PREDICATE\u001b[0m\u001b[0;34m,\u001b[0m\u001b[0;34m\u001b[0m\u001b[0;34m\u001b[0m\u001b[0m\n",
            "\u001b[0;32m/usr/local/lib/python3.11/dist-packages/google/api_core/future/polling.py\u001b[0m in \u001b[0;36mresult\u001b[0;34m(self, timeout, retry, polling)\u001b[0m\n\u001b[1;32m    254\u001b[0m         \"\"\"\n\u001b[1;32m    255\u001b[0m \u001b[0;34m\u001b[0m\u001b[0m\n\u001b[0;32m--> 256\u001b[0;31m         \u001b[0mself\u001b[0m\u001b[0;34m.\u001b[0m\u001b[0m_blocking_poll\u001b[0m\u001b[0;34m(\u001b[0m\u001b[0mtimeout\u001b[0m\u001b[0;34m=\u001b[0m\u001b[0mtimeout\u001b[0m\u001b[0;34m,\u001b[0m \u001b[0mretry\u001b[0m\u001b[0;34m=\u001b[0m\u001b[0mretry\u001b[0m\u001b[0;34m,\u001b[0m \u001b[0mpolling\u001b[0m\u001b[0;34m=\u001b[0m\u001b[0mpolling\u001b[0m\u001b[0;34m)\u001b[0m\u001b[0;34m\u001b[0m\u001b[0;34m\u001b[0m\u001b[0m\n\u001b[0m\u001b[1;32m    257\u001b[0m \u001b[0;34m\u001b[0m\u001b[0m\n\u001b[1;32m    258\u001b[0m         \u001b[0;32mif\u001b[0m \u001b[0mself\u001b[0m\u001b[0;34m.\u001b[0m\u001b[0m_exception\u001b[0m \u001b[0;32mis\u001b[0m \u001b[0;32mnot\u001b[0m \u001b[0;32mNone\u001b[0m\u001b[0;34m:\u001b[0m\u001b[0;34m\u001b[0m\u001b[0;34m\u001b[0m\u001b[0m\n",
            "\u001b[0;32m/usr/local/lib/python3.11/dist-packages/google/api_core/future/polling.py\u001b[0m in \u001b[0;36m_blocking_poll\u001b[0;34m(self, timeout, retry, polling)\u001b[0m\n\u001b[1;32m    135\u001b[0m \u001b[0;34m\u001b[0m\u001b[0m\n\u001b[1;32m    136\u001b[0m         \u001b[0;32mtry\u001b[0m\u001b[0;34m:\u001b[0m\u001b[0;34m\u001b[0m\u001b[0;34m\u001b[0m\u001b[0m\n\u001b[0;32m--> 137\u001b[0;31m             \u001b[0mpolling\u001b[0m\u001b[0;34m(\u001b[0m\u001b[0mself\u001b[0m\u001b[0;34m.\u001b[0m\u001b[0m_done_or_raise\u001b[0m\u001b[0;34m)\u001b[0m\u001b[0;34m(\u001b[0m\u001b[0mretry\u001b[0m\u001b[0;34m=\u001b[0m\u001b[0mretry\u001b[0m\u001b[0;34m)\u001b[0m\u001b[0;34m\u001b[0m\u001b[0;34m\u001b[0m\u001b[0m\n\u001b[0m\u001b[1;32m    138\u001b[0m         \u001b[0;32mexcept\u001b[0m \u001b[0mexceptions\u001b[0m\u001b[0;34m.\u001b[0m\u001b[0mRetryError\u001b[0m\u001b[0;34m:\u001b[0m\u001b[0;34m\u001b[0m\u001b[0;34m\u001b[0m\u001b[0m\n\u001b[1;32m    139\u001b[0m             raise concurrent.futures.TimeoutError(\n",
            "\u001b[0;32m/usr/local/lib/python3.11/dist-packages/google/api_core/retry/retry_unary.py\u001b[0m in \u001b[0;36mretry_wrapped_func\u001b[0;34m(*args, **kwargs)\u001b[0m\n\u001b[1;32m    292\u001b[0m                 \u001b[0mself\u001b[0m\u001b[0;34m.\u001b[0m\u001b[0m_initial\u001b[0m\u001b[0;34m,\u001b[0m \u001b[0mself\u001b[0m\u001b[0;34m.\u001b[0m\u001b[0m_maximum\u001b[0m\u001b[0;34m,\u001b[0m \u001b[0mmultiplier\u001b[0m\u001b[0;34m=\u001b[0m\u001b[0mself\u001b[0m\u001b[0;34m.\u001b[0m\u001b[0m_multiplier\u001b[0m\u001b[0;34m\u001b[0m\u001b[0;34m\u001b[0m\u001b[0m\n\u001b[1;32m    293\u001b[0m             )\n\u001b[0;32m--> 294\u001b[0;31m             return retry_target(\n\u001b[0m\u001b[1;32m    295\u001b[0m                 \u001b[0mtarget\u001b[0m\u001b[0;34m,\u001b[0m\u001b[0;34m\u001b[0m\u001b[0;34m\u001b[0m\u001b[0m\n\u001b[1;32m    296\u001b[0m                 \u001b[0mself\u001b[0m\u001b[0;34m.\u001b[0m\u001b[0m_predicate\u001b[0m\u001b[0;34m,\u001b[0m\u001b[0;34m\u001b[0m\u001b[0;34m\u001b[0m\u001b[0m\n",
            "\u001b[0;32m/usr/local/lib/python3.11/dist-packages/google/api_core/retry/retry_unary.py\u001b[0m in \u001b[0;36mretry_target\u001b[0;34m(target, predicate, sleep_generator, timeout, on_error, exception_factory, **kwargs)\u001b[0m\n\u001b[1;32m    165\u001b[0m             )\n\u001b[1;32m    166\u001b[0m             \u001b[0;31m# if exception not raised, sleep before next attempt\u001b[0m\u001b[0;34m\u001b[0m\u001b[0;34m\u001b[0m\u001b[0m\n\u001b[0;32m--> 167\u001b[0;31m             \u001b[0mtime\u001b[0m\u001b[0;34m.\u001b[0m\u001b[0msleep\u001b[0m\u001b[0;34m(\u001b[0m\u001b[0mnext_sleep\u001b[0m\u001b[0;34m)\u001b[0m\u001b[0;34m\u001b[0m\u001b[0;34m\u001b[0m\u001b[0m\n\u001b[0m\u001b[1;32m    168\u001b[0m \u001b[0;34m\u001b[0m\u001b[0m\n\u001b[1;32m    169\u001b[0m \u001b[0;34m\u001b[0m\u001b[0m\n",
            "\u001b[0;31mKeyboardInterrupt\u001b[0m: "
          ]
        }
      ]
    },
    {
      "cell_type": "code",
      "source": [
        "%%bigquery\n",
        "\n",
        "select count(1) from kaggle-gcp-comp1.APP_REVIEWS.APP_REVIEWS"
      ],
      "metadata": {
        "colab": {
          "base_uri": "https://localhost:8080/",
          "height": 145,
          "referenced_widgets": [
            "465b9f2a90904c979c4e67a085ff2bac",
            "a6d343a6d4c24e2d8517c820a5f64b96",
            "2f11d57420094ddba1de5991b60f0a54",
            "3aa7a24eff0949448bf7c0f2c56029ce",
            "7e0ffea8cf8e4dcba1bae43f70bc79e4",
            "12e4f9f2bd1440acad4efe540bc2148c",
            "d65f65b6ff284c6c91e819bd7c7f7eb5",
            "549817ee5d9b45f2a79c3574d5bec5d5",
            "36a56f9e362f46d3a77225b7a137a7f3",
            "aa5e65df364342c2996477dc353902f9",
            "e0b0d08c106f43398059817db81e7265",
            "a43283e90aa945ed82ecaa28f9ba291c",
            "da8ed4483bc549c7b2cba45de68b202a",
            "9e97c13264d044bfad3a42839c0cdb37",
            "746472561b3344bb8f5a3881f206d564",
            "4c07f5aba749471f8d8d9962f9263017",
            "29e391dbdabb4e718217b3a77efe9efd",
            "048013496dd6499bb76d77967312d87c",
            "a99f299b0efa44299f8e1a62abdc944d",
            "a410cea157f34c5d8324487b446e3476",
            "8e403e43dfa94634950f6ef367f069af",
            "5cdd70c58d4e4dada1fcaa6972b2afbd"
          ]
        },
        "id": "N4N5s0_HYd6_",
        "executionInfo": {
          "status": "ok",
          "timestamp": 1755238899117,
          "user_tz": -330,
          "elapsed": 2099,
          "user": {
            "displayName": "",
            "userId": ""
          }
        },
        "outputId": "6df12150-2f4d-41d3-9384-618af05fe2ad"
      },
      "execution_count": 2,
      "outputs": [
        {
          "output_type": "display_data",
          "data": {
            "text/plain": [
              "Query is running:   0%|          |"
            ],
            "application/vnd.jupyter.widget-view+json": {
              "version_major": 2,
              "version_minor": 0,
              "model_id": "465b9f2a90904c979c4e67a085ff2bac"
            }
          },
          "metadata": {}
        },
        {
          "output_type": "display_data",
          "data": {
            "text/plain": [
              "Downloading:   0%|          |"
            ],
            "application/vnd.jupyter.widget-view+json": {
              "version_major": 2,
              "version_minor": 0,
              "model_id": "a43283e90aa945ed82ecaa28f9ba291c"
            }
          },
          "metadata": {}
        },
        {
          "output_type": "execute_result",
          "data": {
            "text/plain": [
              "    f0_\n",
              "0  2514"
            ],
            "text/html": [
              "\n",
              "  <div id=\"df-1f103cba-440b-467b-a908-06c0b2f9596f\" class=\"colab-df-container\">\n",
              "    <div>\n",
              "<style scoped>\n",
              "    .dataframe tbody tr th:only-of-type {\n",
              "        vertical-align: middle;\n",
              "    }\n",
              "\n",
              "    .dataframe tbody tr th {\n",
              "        vertical-align: top;\n",
              "    }\n",
              "\n",
              "    .dataframe thead th {\n",
              "        text-align: right;\n",
              "    }\n",
              "</style>\n",
              "<table border=\"1\" class=\"dataframe\">\n",
              "  <thead>\n",
              "    <tr style=\"text-align: right;\">\n",
              "      <th></th>\n",
              "      <th>f0_</th>\n",
              "    </tr>\n",
              "  </thead>\n",
              "  <tbody>\n",
              "    <tr>\n",
              "      <th>0</th>\n",
              "      <td>2514</td>\n",
              "    </tr>\n",
              "  </tbody>\n",
              "</table>\n",
              "</div>\n",
              "    <div class=\"colab-df-buttons\">\n",
              "\n",
              "  <div class=\"colab-df-container\">\n",
              "    <button class=\"colab-df-convert\" onclick=\"convertToInteractive('df-1f103cba-440b-467b-a908-06c0b2f9596f')\"\n",
              "            title=\"Convert this dataframe to an interactive table.\"\n",
              "            style=\"display:none;\">\n",
              "\n",
              "  <svg xmlns=\"http://www.w3.org/2000/svg\" height=\"24px\" viewBox=\"0 -960 960 960\">\n",
              "    <path d=\"M120-120v-720h720v720H120Zm60-500h600v-160H180v160Zm220 220h160v-160H400v160Zm0 220h160v-160H400v160ZM180-400h160v-160H180v160Zm440 0h160v-160H620v160ZM180-180h160v-160H180v160Zm440 0h160v-160H620v160Z\"/>\n",
              "  </svg>\n",
              "    </button>\n",
              "\n",
              "  <style>\n",
              "    .colab-df-container {\n",
              "      display:flex;\n",
              "      gap: 12px;\n",
              "    }\n",
              "\n",
              "    .colab-df-convert {\n",
              "      background-color: #E8F0FE;\n",
              "      border: none;\n",
              "      border-radius: 50%;\n",
              "      cursor: pointer;\n",
              "      display: none;\n",
              "      fill: #1967D2;\n",
              "      height: 32px;\n",
              "      padding: 0 0 0 0;\n",
              "      width: 32px;\n",
              "    }\n",
              "\n",
              "    .colab-df-convert:hover {\n",
              "      background-color: #E2EBFA;\n",
              "      box-shadow: 0px 1px 2px rgba(60, 64, 67, 0.3), 0px 1px 3px 1px rgba(60, 64, 67, 0.15);\n",
              "      fill: #174EA6;\n",
              "    }\n",
              "\n",
              "    .colab-df-buttons div {\n",
              "      margin-bottom: 4px;\n",
              "    }\n",
              "\n",
              "    [theme=dark] .colab-df-convert {\n",
              "      background-color: #3B4455;\n",
              "      fill: #D2E3FC;\n",
              "    }\n",
              "\n",
              "    [theme=dark] .colab-df-convert:hover {\n",
              "      background-color: #434B5C;\n",
              "      box-shadow: 0px 1px 3px 1px rgba(0, 0, 0, 0.15);\n",
              "      filter: drop-shadow(0px 1px 2px rgba(0, 0, 0, 0.3));\n",
              "      fill: #FFFFFF;\n",
              "    }\n",
              "  </style>\n",
              "\n",
              "    <script>\n",
              "      const buttonEl =\n",
              "        document.querySelector('#df-1f103cba-440b-467b-a908-06c0b2f9596f button.colab-df-convert');\n",
              "      buttonEl.style.display =\n",
              "        google.colab.kernel.accessAllowed ? 'block' : 'none';\n",
              "\n",
              "      async function convertToInteractive(key) {\n",
              "        const element = document.querySelector('#df-1f103cba-440b-467b-a908-06c0b2f9596f');\n",
              "        const dataTable =\n",
              "          await google.colab.kernel.invokeFunction('convertToInteractive',\n",
              "                                                    [key], {});\n",
              "        if (!dataTable) return;\n",
              "\n",
              "        const docLinkHtml = 'Like what you see? Visit the ' +\n",
              "          '<a target=\"_blank\" href=https://colab.research.google.com/notebooks/data_table.ipynb>data table notebook</a>'\n",
              "          + ' to learn more about interactive tables.';\n",
              "        element.innerHTML = '';\n",
              "        dataTable['output_type'] = 'display_data';\n",
              "        await google.colab.output.renderOutput(dataTable, element);\n",
              "        const docLink = document.createElement('div');\n",
              "        docLink.innerHTML = docLinkHtml;\n",
              "        element.appendChild(docLink);\n",
              "      }\n",
              "    </script>\n",
              "  </div>\n",
              "\n",
              "\n",
              "    </div>\n",
              "  </div>\n"
            ],
            "application/vnd.google.colaboratory.intrinsic+json": {
              "type": "dataframe",
              "summary": "{\n  \"name\": \"get_ipython()\",\n  \"rows\": 1,\n  \"fields\": [\n    {\n      \"column\": \"f0_\",\n      \"properties\": {\n        \"dtype\": \"Int64\",\n        \"num_unique_values\": 1,\n        \"samples\": [\n          2514\n        ],\n        \"semantic_type\": \"\",\n        \"description\": \"\"\n      }\n    }\n  ]\n}"
            }
          },
          "metadata": {},
          "execution_count": 2
        }
      ]
    },
    {
      "cell_type": "code",
      "source": [
        "import kagglehub\n",
        "\n",
        "# Download latest version\n",
        "path = kagglehub.dataset_download(\"pratyushpuri/multilingual-mobile-app-reviews-dataset-2025\")\n",
        "\n",
        "print(\"Path to dataset files:\", path)"
      ],
      "metadata": {
        "colab": {
          "base_uri": "https://localhost:8080/"
        },
        "id": "DetupsEoj3ME",
        "executionInfo": {
          "status": "ok",
          "timestamp": 1755107529395,
          "user_tz": -330,
          "elapsed": 3264,
          "user": {
            "displayName": "",
            "userId": ""
          }
        },
        "outputId": "8ae0fc7f-d2fc-441c-b60c-3a84c48ad182"
      },
      "execution_count": null,
      "outputs": [
        {
          "output_type": "stream",
          "name": "stdout",
          "text": [
            "Downloading from https://www.kaggle.com/api/v1/datasets/download/pratyushpuri/multilingual-mobile-app-reviews-dataset-2025?dataset_version_number=1...\n"
          ]
        },
        {
          "output_type": "stream",
          "name": "stderr",
          "text": [
            "100%|██████████| 133k/133k [00:00<00:00, 45.6MB/s]"
          ]
        },
        {
          "output_type": "stream",
          "name": "stdout",
          "text": [
            "Extracting files...\n",
            "Path to dataset files: /root/.cache/kagglehub/datasets/pratyushpuri/multilingual-mobile-app-reviews-dataset-2025/versions/1\n"
          ]
        },
        {
          "output_type": "stream",
          "name": "stderr",
          "text": [
            "\n"
          ]
        }
      ]
    },
    {
      "cell_type": "code",
      "source": [
        "!cp -r /root/.cache/kagglehub/datasets/pratyushpuri/multilingual-mobile-app-reviews-dataset-2025/versions/1/ /content/multilingual-mobile-app-review/"
      ],
      "metadata": {
        "id": "Brt2Acf3j7Yi"
      },
      "execution_count": null,
      "outputs": []
    },
    {
      "cell_type": "code",
      "source": [
        "!gcloud storage cp -r /content/multilingual-mobile-app-review/ gs://kaggal-gcp-comp1-data/"
      ],
      "metadata": {
        "colab": {
          "base_uri": "https://localhost:8080/"
        },
        "id": "Dshp9-VZkCPi",
        "executionInfo": {
          "status": "ok",
          "timestamp": 1755107735786,
          "user_tz": -330,
          "elapsed": 1435,
          "user": {
            "displayName": "",
            "userId": ""
          }
        },
        "outputId": "c1189e1c-302b-444e-c1b9-146b7f2f13e8"
      },
      "execution_count": null,
      "outputs": [
        {
          "output_type": "stream",
          "name": "stdout",
          "text": [
            "Copying file:///content/multilingual-mobile-app-review/multilingual_mobile_app_reviews_2025.csv to gs://kaggal-gcp-comp1-data/multilingual-mobile-app-review/multilingual_mobile_app_reviews_2025.csv\n"
          ]
        }
      ]
    },
    {
      "cell_type": "code",
      "source": [
        "import kagglehub\n",
        "\n",
        "# Download latest version\n",
        "path = kagglehub.dataset_download(\"lava18/google-play-store-apps\")\n",
        "\n",
        "print(\"Path to dataset files:\", path)\n",
        "\n"
      ],
      "metadata": {
        "colab": {
          "base_uri": "https://localhost:8080/"
        },
        "id": "f61e_xcEdNg3",
        "executionInfo": {
          "status": "ok",
          "timestamp": 1755105845109,
          "user_tz": -330,
          "elapsed": 3089,
          "user": {
            "displayName": "",
            "userId": ""
          }
        },
        "outputId": "c2222dba-af5a-4631-d0db-9eecc97f0275"
      },
      "execution_count": null,
      "outputs": [
        {
          "output_type": "stream",
          "name": "stdout",
          "text": [
            "Downloading from https://www.kaggle.com/api/v1/datasets/download/lava18/google-play-store-apps?dataset_version_number=6...\n"
          ]
        },
        {
          "output_type": "stream",
          "name": "stderr",
          "text": [
            "100%|██████████| 1.94M/1.94M [00:00<00:00, 91.0MB/s]"
          ]
        },
        {
          "output_type": "stream",
          "name": "stdout",
          "text": [
            "Extracting files...\n",
            "Path to dataset files: /root/.cache/kagglehub/datasets/lava18/google-play-store-apps/versions/6\n"
          ]
        },
        {
          "output_type": "stream",
          "name": "stderr",
          "text": [
            "\n"
          ]
        }
      ]
    },
    {
      "cell_type": "code",
      "source": [
        "!cp -r /root/.cache/kagglehub/datasets/lava18/google-play-store-apps/versions/6 /content/google-play-store-apps/"
      ],
      "metadata": {
        "id": "UwbPgqftdxqv"
      },
      "execution_count": null,
      "outputs": []
    },
    {
      "cell_type": "code",
      "source": [
        "!gcloud storage cp -r /content/google-play-store-apps gs://kaggal-gcp-comp1-data/google-play-store-apps"
      ],
      "metadata": {
        "colab": {
          "base_uri": "https://localhost:8080/"
        },
        "id": "4xdlSyNadjJv",
        "executionInfo": {
          "status": "ok",
          "timestamp": 1755106070826,
          "user_tz": -330,
          "elapsed": 2250,
          "user": {
            "displayName": "",
            "userId": ""
          }
        },
        "outputId": "a255ee8a-14a3-45e0-bf74-6c023a5ae0f9"
      },
      "execution_count": null,
      "outputs": [
        {
          "output_type": "stream",
          "name": "stdout",
          "text": [
            "Copying file:///content/google-play-store-apps/googleplaystore_user_reviews.csv to gs://kaggal-gcp-comp1-data/google-play-store-apps/googleplaystore_user_reviews.csv\n",
            "Copying file:///content/google-play-store-apps/license.txt to gs://kaggal-gcp-comp1-data/google-play-store-apps/license.txt\n",
            "Copying file:///content/google-play-store-apps/googleplaystore.csv to gs://kaggal-gcp-comp1-data/google-play-store-apps/googleplaystore.csv\n",
            "\n",
            "Average throughput: 40.6MiB/s\n"
          ]
        }
      ]
    },
    {
      "cell_type": "code",
      "source": [
        "import kagglehub\n",
        "\n",
        "# Download latest version\n",
        "path = kagglehub.dataset_download(\"ramamet4/app-store-apple-data-set-10k-apps\")\n",
        "\n",
        "print(\"Path to dataset files:\", path)"
      ],
      "metadata": {
        "colab": {
          "base_uri": "https://localhost:8080/"
        },
        "id": "TgUWpATZg05e",
        "executionInfo": {
          "status": "ok",
          "timestamp": 1755106737258,
          "user_tz": -330,
          "elapsed": 3069,
          "user": {
            "displayName": "",
            "userId": ""
          }
        },
        "outputId": "c9079f56-1e18-4a2c-9dc7-c8529aa32f39"
      },
      "execution_count": null,
      "outputs": [
        {
          "output_type": "stream",
          "name": "stdout",
          "text": [
            "Downloading from https://www.kaggle.com/api/v1/datasets/download/ramamet4/app-store-apple-data-set-10k-apps?dataset_version_number=7...\n"
          ]
        },
        {
          "output_type": "stream",
          "name": "stderr",
          "text": [
            "100%|██████████| 5.63M/5.63M [00:00<00:00, 141MB/s]"
          ]
        },
        {
          "output_type": "stream",
          "name": "stdout",
          "text": [
            "Extracting files...\n",
            "Path to dataset files: /root/.cache/kagglehub/datasets/ramamet4/app-store-apple-data-set-10k-apps/versions/7\n"
          ]
        },
        {
          "output_type": "stream",
          "name": "stderr",
          "text": [
            "\n"
          ]
        }
      ]
    },
    {
      "cell_type": "code",
      "source": [
        "!cp -r /root/.cache/kagglehub/datasets/ramamet4/app-store-apple-data-set-10k-apps/versions/7/ /content/apple-play-store-apps/"
      ],
      "metadata": {
        "id": "1eL6Za7wg8cU"
      },
      "execution_count": null,
      "outputs": []
    },
    {
      "cell_type": "code",
      "source": [
        "!gcloud storage cp -r /content/apple-play-store-apps gs://kaggal-gcp-comp1-data/apple-play-store-apps"
      ],
      "metadata": {
        "colab": {
          "base_uri": "https://localhost:8080/"
        },
        "id": "rsJ5vY9NhOWZ",
        "executionInfo": {
          "status": "ok",
          "timestamp": 1755106868937,
          "user_tz": -330,
          "elapsed": 2357,
          "user": {
            "displayName": "",
            "userId": ""
          }
        },
        "outputId": "c5c4b016-2c6f-49fe-bc23-0d156bbd1b6f"
      },
      "execution_count": null,
      "outputs": [
        {
          "output_type": "stream",
          "name": "stdout",
          "text": [
            "Copying file:///content/apple-play-store-apps/AppleStore.csv to gs://kaggal-gcp-comp1-data/apple-play-store-apps/AppleStore.csv\n",
            "Copying file:///content/apple-play-store-apps/appleStore_description.csv to gs://kaggal-gcp-comp1-data/apple-play-store-apps/appleStore_description.csv\n",
            "\n",
            "Average throughput: 69.1MiB/s\n"
          ]
        }
      ]
    },
    {
      "cell_type": "code",
      "source": [
        "import kagglehub\n",
        "\n",
        "# Download latest version\n",
        "path = kagglehub.dataset_download(\"quadeer15sh/windows-store-top-apps-games\")\n",
        "\n",
        "print(\"Path to dataset files:\", path)"
      ],
      "metadata": {
        "colab": {
          "base_uri": "https://localhost:8080/"
        },
        "id": "IJtBua4tiQSk",
        "executionInfo": {
          "status": "ok",
          "timestamp": 1755107107526,
          "user_tz": -330,
          "elapsed": 3014,
          "user": {
            "displayName": "",
            "userId": ""
          }
        },
        "outputId": "4bb5d3a3-4a74-41f2-9a11-bcab22cd0d28"
      },
      "execution_count": null,
      "outputs": [
        {
          "output_type": "stream",
          "name": "stdout",
          "text": [
            "Downloading from https://www.kaggle.com/api/v1/datasets/download/quadeer15sh/windows-store-top-apps-games?dataset_version_number=1...\n"
          ]
        },
        {
          "output_type": "stream",
          "name": "stderr",
          "text": [
            "100%|██████████| 1.85M/1.85M [00:00<00:00, 101MB/s]"
          ]
        },
        {
          "output_type": "stream",
          "name": "stdout",
          "text": [
            "Extracting files...\n",
            "Path to dataset files: /root/.cache/kagglehub/datasets/quadeer15sh/windows-store-top-apps-games/versions/1\n"
          ]
        },
        {
          "output_type": "stream",
          "name": "stderr",
          "text": [
            "\n"
          ]
        }
      ]
    },
    {
      "cell_type": "code",
      "source": [
        "!cp -r /root/.cache/kagglehub/datasets/quadeer15sh/windows-store-top-apps-games/versions/1 /content/windows-store-apps/\n",
        "\n"
      ],
      "metadata": {
        "id": "ttvIigNJiVVS"
      },
      "execution_count": null,
      "outputs": []
    },
    {
      "cell_type": "code",
      "source": [
        "!gcloud storage cp -r /content/windows-store-apps gs://kaggal-gcp-comp1-data/"
      ],
      "metadata": {
        "colab": {
          "base_uri": "https://localhost:8080/"
        },
        "id": "k0P69eieidhQ",
        "executionInfo": {
          "status": "ok",
          "timestamp": 1755107794225,
          "user_tz": -330,
          "elapsed": 1958,
          "user": {
            "displayName": "",
            "userId": ""
          }
        },
        "outputId": "f99f30ca-47f4-4534-ab65-0933059e3b51"
      },
      "execution_count": null,
      "outputs": [
        {
          "output_type": "stream",
          "name": "stdout",
          "text": [
            "Copying file:///content/windows-store-apps/windows_store.csv to gs://kaggal-gcp-comp1-data/windows-store-apps/windows_store.csv\n"
          ]
        }
      ]
    },
    {
      "cell_type": "code",
      "source": [
        "from pyspark.sql.functions import sum, column as col, array_agg"
      ],
      "metadata": {
        "id": "h8M4FFwbI9zE"
      },
      "execution_count": null,
      "outputs": []
    },
    {
      "cell_type": "code",
      "source": [
        "df = spark.read.csv('gs://kaggal-gcp-comp1-data/multilingual_mobile_app_reviews_2025.csv',\n",
        "                    inferSchema=True,\n",
        "                    header=True)"
      ],
      "metadata": {
        "id": "cs5hD16kDuDt"
      },
      "execution_count": null,
      "outputs": []
    },
    {
      "cell_type": "code",
      "source": [
        "df.columns"
      ],
      "metadata": {
        "colab": {
          "base_uri": "https://localhost:8080/"
        },
        "id": "zB5hoifUEhnz",
        "executionInfo": {
          "status": "ok",
          "timestamp": 1755082595544,
          "user_tz": -330,
          "elapsed": 2206,
          "user": {
            "displayName": "",
            "userId": ""
          }
        },
        "outputId": "c32d3340-0174-4eb4-ff85-291fc616fc51"
      },
      "execution_count": null,
      "outputs": [
        {
          "output_type": "execute_result",
          "data": {
            "text/plain": [
              "['review_id',\n",
              " 'user_id',\n",
              " 'app_name',\n",
              " 'app_category',\n",
              " 'review_text',\n",
              " 'review_language',\n",
              " 'rating',\n",
              " 'review_date',\n",
              " 'verified_purchase',\n",
              " 'device_type',\n",
              " 'num_helpful_votes',\n",
              " 'user_age',\n",
              " 'user_country',\n",
              " 'user_gender',\n",
              " 'app_version']"
            ]
          },
          "metadata": {},
          "execution_count": 5
        }
      ]
    },
    {
      "cell_type": "code",
      "source": [
        "df.schema"
      ],
      "metadata": {
        "colab": {
          "base_uri": "https://localhost:8080/"
        },
        "id": "o-GXRfDdE9Wx",
        "executionInfo": {
          "status": "ok",
          "timestamp": 1755082653571,
          "user_tz": -330,
          "elapsed": 651,
          "user": {
            "displayName": "",
            "userId": ""
          }
        },
        "outputId": "d2182a63-0b12-4423-e831-a3c0f955723b"
      },
      "execution_count": null,
      "outputs": [
        {
          "output_type": "execute_result",
          "data": {
            "text/plain": [
              "StructType([StructField('review_id', IntegerType(), True), StructField('user_id', IntegerType(), True), StructField('app_name', StringType(), True), StructField('app_category', StringType(), True), StructField('review_text', StringType(), True), StructField('review_language', StringType(), True), StructField('rating', DoubleType(), True), StructField('review_date', TimestampType(), True), StructField('verified_purchase', BooleanType(), True), StructField('device_type', StringType(), True), StructField('num_helpful_votes', IntegerType(), True), StructField('user_age', DoubleType(), True), StructField('user_country', StringType(), True), StructField('user_gender', StringType(), True), StructField('app_version', StringType(), True)])"
            ]
          },
          "metadata": {},
          "execution_count": 6
        }
      ]
    },
    {
      "cell_type": "code",
      "source": [
        "print(df.count()) #2514"
      ],
      "metadata": {
        "colab": {
          "base_uri": "https://localhost:8080/",
          "height": 64
        },
        "id": "0meXzpXUFE_u",
        "executionInfo": {
          "status": "ok",
          "timestamp": 1755083058584,
          "user_tz": -330,
          "elapsed": 3230,
          "user": {
            "displayName": "",
            "userId": ""
          }
        },
        "outputId": "159c5315-e70f-4bc3-840d-bc06ee326105"
      },
      "execution_count": null,
      "outputs": [
        {
          "output_type": "display_data",
          "data": {
            "text/plain": [
              "<IPython.core.display.HTML object>"
            ],
            "text/html": [
              "\n",
              "              <div>\n",
              "                  <p><a href=\"https://console.cloud.google.com/dataproc/interactive/us-central1/sc-20250813-105143-x399oy/sparkApplications/application;associatedSqlOperationId=7b8c7db3-403d-49d4-92c4-1390fcb04626?project=kaggle-gcp-comp1\">Spark Query</a> (Operation: 7b8c7db3-403d-49d4-92c4-1390fcb04626)</p>\n",
              "              </div>\n",
              "              "
            ]
          },
          "metadata": {}
        },
        {
          "output_type": "stream",
          "name": "stdout",
          "text": [
            "2514\n"
          ]
        }
      ]
    },
    {
      "cell_type": "code",
      "source": [
        "df_cnt = df.groupBy(\"app_name\").count()"
      ],
      "metadata": {
        "id": "GbmtLsXjGln5"
      },
      "execution_count": null,
      "outputs": []
    },
    {
      "cell_type": "code",
      "source": [
        "df_cnt.select(sum(col(\"count\"))).show()"
      ],
      "metadata": {
        "colab": {
          "base_uri": "https://localhost:8080/",
          "height": 155
        },
        "id": "0F_ReZ2GIpVf",
        "executionInfo": {
          "status": "ok",
          "timestamp": 1755084088227,
          "user_tz": -330,
          "elapsed": 2045,
          "user": {
            "displayName": "",
            "userId": ""
          }
        },
        "outputId": "95975fdc-e951-4649-f617-f39384d40c7d"
      },
      "execution_count": null,
      "outputs": [
        {
          "output_type": "display_data",
          "data": {
            "text/plain": [
              "<IPython.core.display.HTML object>"
            ],
            "text/html": [
              "\n",
              "              <div>\n",
              "                  <p><a href=\"https://console.cloud.google.com/dataproc/interactive/us-central1/sc-20250813-105143-x399oy/sparkApplications/application;associatedSqlOperationId=42c2f411-61d4-424d-99fb-a14063d4afc0?project=kaggle-gcp-comp1\">Spark Query</a> (Operation: 42c2f411-61d4-424d-99fb-a14063d4afc0)</p>\n",
              "              </div>\n",
              "              "
            ]
          },
          "metadata": {}
        },
        {
          "output_type": "stream",
          "name": "stdout",
          "text": [
            "+----------+\n",
            "|sum(count)|\n",
            "+----------+\n",
            "|      2514|\n",
            "+----------+\n",
            "\n"
          ]
        }
      ]
    },
    {
      "cell_type": "code",
      "source": [
        "df.where(df.app_name=='Udemy').count()"
      ],
      "metadata": {
        "colab": {
          "base_uri": "https://localhost:8080/",
          "height": 64
        },
        "id": "y7Dpv7Q4H5Lb",
        "executionInfo": {
          "status": "ok",
          "timestamp": 1755083473504,
          "user_tz": -330,
          "elapsed": 2826,
          "user": {
            "displayName": "",
            "userId": ""
          }
        },
        "outputId": "f30d4d6f-2b8f-49da-a307-1635c2ce108d"
      },
      "execution_count": null,
      "outputs": [
        {
          "output_type": "display_data",
          "data": {
            "text/plain": [
              "<IPython.core.display.HTML object>"
            ],
            "text/html": [
              "\n",
              "              <div>\n",
              "                  <p><a href=\"https://console.cloud.google.com/dataproc/interactive/us-central1/sc-20250813-105143-x399oy/sparkApplications/application;associatedSqlOperationId=75f0b9c2-9668-4326-b853-e38edd6e942d?project=kaggle-gcp-comp1\">Spark Query</a> (Operation: 75f0b9c2-9668-4326-b853-e38edd6e942d)</p>\n",
              "              </div>\n",
              "              "
            ]
          },
          "metadata": {}
        },
        {
          "output_type": "execute_result",
          "data": {
            "text/plain": [
              "np.int64(52)"
            ]
          },
          "metadata": {},
          "execution_count": 15
        }
      ]
    },
    {
      "cell_type": "code",
      "source": [
        "df.summary().show()"
      ],
      "metadata": {
        "colab": {
          "base_uri": "https://localhost:8080/",
          "height": 302
        },
        "id": "VqRm_xR2Kk13",
        "executionInfo": {
          "status": "ok",
          "timestamp": 1755084393607,
          "user_tz": -330,
          "elapsed": 4387,
          "user": {
            "displayName": "",
            "userId": ""
          }
        },
        "outputId": "31b07a3f-2c89-4851-8af4-ab337de03e6b"
      },
      "execution_count": null,
      "outputs": [
        {
          "output_type": "display_data",
          "data": {
            "text/plain": [
              "<IPython.core.display.HTML object>"
            ],
            "text/html": [
              "\n",
              "              <div>\n",
              "                  <p><a href=\"https://console.cloud.google.com/dataproc/interactive/us-central1/sc-20250813-105143-x399oy/sparkApplications/application;associatedSqlOperationId=e615f2a0-8707-4808-8fcd-34ef6170ca55?project=kaggle-gcp-comp1\">Spark Query</a> (Operation: e615f2a0-8707-4808-8fcd-34ef6170ca55)</p>\n",
              "              </div>\n",
              "              "
            ]
          },
          "metadata": {}
        },
        {
          "output_type": "stream",
          "name": "stdout",
          "text": [
            "+-------+-----------------+------------------+---------------+--------------------+-------------------------------------+---------------+------------------+-----------+-----------------+------------------+------------+-----------------+------------------+\n",
            "|summary|        review_id|           user_id|       app_name|        app_category|                          review_text|review_language|            rating|device_type|num_helpful_votes|          user_age|user_country|      user_gender|       app_version|\n",
            "+-------+-----------------+------------------+---------------+--------------------+-------------------------------------+---------------+------------------+-----------+-----------------+------------------+------------+-----------------+------------------+\n",
            "|  count|             2514|              2514|           2514|                2514|                                 2455|           2514|              2477|       2514|             2514|              2514|        2473|             1927|              2484|\n",
            "|   mean|           1257.5| 5080736.584327765|           NULL|                NULL|                                 NULL|           NULL| 3.021033508276137|       NULL|616.7040572792363|44.247812251392205|        NULL|             NULL| 8.691379310344825|\n",
            "| stddev|725.8736115881331|2846939.1527320924|           NULL|                NULL|                                 NULL|           NULL|1.1499550729123327|       NULL|363.7453258594622|18.372289781665263|        NULL|             NULL|4.2656848893955095|\n",
            "|    min|                1|            100599|Adobe Photoshop|            Business|                 A dolores repelle...|             ar|               1.0|    Android|                0|              13.0|   Australia|           Female|               1.0|\n",
            "|    25%|              629|           2593814|           NULL|                NULL|                                 NULL|           NULL|               2.1|       NULL|              287|              28.0|        NULL|             NULL|               5.0|\n",
            "|    50%|             1257|           5059422|           NULL|                NULL|                                 NULL|           NULL|               3.0|       NULL|              620|              44.0|        NULL|             NULL|               8.8|\n",
            "|    75%|             1886|           7573283|           NULL|                NULL|                                 NULL|           NULL|               4.0|       NULL|              921|              60.0|        NULL|             NULL|              12.3|\n",
            "|    max|             2514|           9995027|           eBay|Video Players & E...|風景埋め込む狭いそれ近代化するダッ...|             zh|               5.0|       iPad|             1249|              75.0|     Vietnam|Prefer not to say|           v9.9.62|\n",
            "+-------+-----------------+------------------+---------------+--------------------+-------------------------------------+---------------+------------------+-----------+-----------------+------------------+------------+-----------------+------------------+\n",
            "\n"
          ]
        }
      ]
    },
    {
      "cell_type": "code",
      "source": [
        "df.describe().show()"
      ],
      "metadata": {
        "colab": {
          "base_uri": "https://localhost:8080/",
          "height": 247
        },
        "id": "IfzP98iXLXYc",
        "executionInfo": {
          "status": "ok",
          "timestamp": 1755084459764,
          "user_tz": -330,
          "elapsed": 2769,
          "user": {
            "displayName": "",
            "userId": ""
          }
        },
        "outputId": "c65dbd63-3946-446f-d3f0-a016e60de19d"
      },
      "execution_count": null,
      "outputs": [
        {
          "output_type": "display_data",
          "data": {
            "text/plain": [
              "<IPython.core.display.HTML object>"
            ],
            "text/html": [
              "\n",
              "              <div>\n",
              "                  <p><a href=\"https://console.cloud.google.com/dataproc/interactive/us-central1/sc-20250813-105143-x399oy/sparkApplications/application;associatedSqlOperationId=cdf82893-fffb-49f2-a0bc-0328cf23cf72?project=kaggle-gcp-comp1\">Spark Query</a> (Operation: cdf82893-fffb-49f2-a0bc-0328cf23cf72)</p>\n",
              "              </div>\n",
              "              "
            ]
          },
          "metadata": {}
        },
        {
          "output_type": "stream",
          "name": "stdout",
          "text": [
            "+-------+-----------------+------------------+---------------+--------------------+-------------------------------------+---------------+------------------+-----------+-----------------+------------------+------------+-----------------+------------------+\n",
            "|summary|        review_id|           user_id|       app_name|        app_category|                          review_text|review_language|            rating|device_type|num_helpful_votes|          user_age|user_country|      user_gender|       app_version|\n",
            "+-------+-----------------+------------------+---------------+--------------------+-------------------------------------+---------------+------------------+-----------+-----------------+------------------+------------+-----------------+------------------+\n",
            "|  count|             2514|              2514|           2514|                2514|                                 2455|           2514|              2477|       2514|             2514|              2514|        2473|             1927|              2484|\n",
            "|   mean|           1257.5| 5080736.584327765|           NULL|                NULL|                                 NULL|           NULL| 3.021033508276137|       NULL|616.7040572792363|44.247812251392205|        NULL|             NULL| 8.691379310344825|\n",
            "| stddev|725.8736115881331|2846939.1527320924|           NULL|                NULL|                                 NULL|           NULL|1.1499550729123327|       NULL|363.7453258594622|18.372289781665263|        NULL|             NULL|4.2656848893955095|\n",
            "|    min|                1|            100599|Adobe Photoshop|            Business|                 A dolores repelle...|             ar|               1.0|    Android|                0|              13.0|   Australia|           Female|               1.0|\n",
            "|    max|             2514|           9995027|           eBay|Video Players & E...|風景埋め込む狭いそれ近代化するダッ...|             zh|               5.0|       iPad|             1249|              75.0|     Vietnam|Prefer not to say|           v9.9.62|\n",
            "+-------+-----------------+------------------+---------------+--------------------+-------------------------------------+---------------+------------------+-----------+-----------------+------------------+------------+-----------------+------------------+\n",
            "\n"
          ]
        }
      ]
    },
    {
      "cell_type": "code",
      "source": [
        "unique_app_cat_df = df.select(df.app_name,df.app_category).drop_duplicates()"
      ],
      "metadata": {
        "id": "gFACl2O5MmRR"
      },
      "execution_count": null,
      "outputs": []
    },
    {
      "cell_type": "code",
      "source": [
        "unique_app_cat_agg_df = unique_app_cat_df.groupby(\"app_name\").agg(array_agg(\"app_category\").alias(\"app_categories_array\"))"
      ],
      "metadata": {
        "id": "mTFSrIcZaY75"
      },
      "execution_count": null,
      "outputs": []
    },
    {
      "cell_type": "code",
      "source": [
        "unique_app_cat_list = [{'app_name':row.app_name, 'app_category':row.app_categories_array} for row in unique_app_cat_agg_df.collect()]"
      ],
      "metadata": {
        "colab": {
          "base_uri": "https://localhost:8080/",
          "height": 46
        },
        "id": "DuY8jVN0adTJ",
        "executionInfo": {
          "status": "ok",
          "timestamp": 1755088438779,
          "user_tz": -330,
          "elapsed": 1415,
          "user": {
            "displayName": "",
            "userId": ""
          }
        },
        "outputId": "b27cfd31-fa8a-4e68-f18e-e481725e00a2"
      },
      "execution_count": null,
      "outputs": [
        {
          "output_type": "display_data",
          "data": {
            "text/plain": [
              "<IPython.core.display.HTML object>"
            ],
            "text/html": [
              "\n",
              "              <div>\n",
              "                  <p><a href=\"https://console.cloud.google.com/dataproc/interactive/us-central1/sc-20250813-105143-x399oy/sparkApplications/application;associatedSqlOperationId=df7c75ae-043d-4635-bc2e-4c2b7b1e2158?project=kaggle-gcp-comp1\">Spark Query</a> (Operation: df7c75ae-043d-4635-bc2e-4c2b7b1e2158)</p>\n",
              "              </div>\n",
              "              "
            ]
          },
          "metadata": {}
        }
      ]
    },
    {
      "cell_type": "code",
      "source": [
        "from google.genai import client, models\n",
        "\n",
        "genai_client = client.Client(vertexai=True,project=\"kaggle-gcp-comp1\", location='us-central1')"
      ],
      "metadata": {
        "id": "aLQOPOP8b-Ej"
      },
      "execution_count": null,
      "outputs": []
    },
    {
      "cell_type": "code",
      "source": [
        "def get_category(app_name:str, categories:list)->str:\n",
        "  categories_str = \",\".join(categories)\n",
        "  system_instructions = \"\"\"I give you a android app name and a list of app categories.you have correctly choose which category the app belongs.\n",
        "  Just return only the correct category.\n",
        "  app_name : {app_name}\n",
        "  app_categoryies : {categories}\n",
        "  \"\"\"\n",
        "  prompt = system_instructions.format(app_name=app_name, categories = categories_str)\n",
        "\n",
        "  response = genai_client.models.generate_content(model=\"gemini-2.5-flash-lite\", contents=prompt)\n",
        "  return response.text"
      ],
      "metadata": {
        "id": "dlSBHzorb3Yd"
      },
      "execution_count": null,
      "outputs": []
    },
    {
      "cell_type": "code",
      "source": [
        "unique_app_cat_list_genai = []\n",
        "for item in unique_app_cat_list:\n",
        "  correct_category = get_category(item['app_name'], item['app_category'])\n",
        "  unique_app_cat_list_genai.append({'app_name':item['app_name'], 'app_category':correct_category})"
      ],
      "metadata": {
        "id": "IXYbShjObMsD"
      },
      "execution_count": null,
      "outputs": []
    },
    {
      "cell_type": "code",
      "source": [
        "unique_app_cat_list_genai"
      ],
      "metadata": {
        "colab": {
          "base_uri": "https://localhost:8080/"
        },
        "id": "9cAkqb9Yd78x",
        "executionInfo": {
          "status": "ok",
          "timestamp": 1755089260244,
          "user_tz": -330,
          "elapsed": 642,
          "user": {
            "displayName": "",
            "userId": ""
          }
        },
        "outputId": "ff354749-dd0b-4f13-b4e9-5f920df49dc4"
      },
      "execution_count": null,
      "outputs": [
        {
          "output_type": "execute_result",
          "data": {
            "text/plain": [
              "[{'app_name': 'Udemy', 'app_category': 'Education'},\n",
              " {'app_name': 'Google Maps', 'app_category': 'Travel & Local'},\n",
              " {'app_name': 'Grammarly', 'app_category': 'Productivity'},\n",
              " {'app_name': 'Khan Academy', 'app_category': 'Education'},\n",
              " {'app_name': 'Pinterest', 'app_category': 'Social Networking'},\n",
              " {'app_name': 'Airbnb', 'app_category': 'Travel & Local'},\n",
              " {'app_name': 'Bumble', 'app_category': 'Dating'},\n",
              " {'app_name': 'Reddit', 'app_category': 'Social Networking'},\n",
              " {'app_name': 'Lyft', 'app_category': 'Travel & Local'},\n",
              " {'app_name': 'Google Drive', 'app_category': 'Productivity'},\n",
              " {'app_name': 'Adobe Photoshop', 'app_category': 'Photography'},\n",
              " {'app_name': 'TikTok', 'app_category': 'Social Networking'},\n",
              " {'app_name': 'Coursera', 'app_category': 'Education'},\n",
              " {'app_name': 'MX Player', 'app_category': 'Video Players & Editors'},\n",
              " {'app_name': 'Twitter', 'app_category': 'Social Networking'},\n",
              " {'app_name': 'WhatsApp', 'app_category': 'Communication'},\n",
              " {'app_name': 'Booking.com', 'app_category': 'Travel & Local'},\n",
              " {'app_name': 'Canva', 'app_category': 'Productivity'},\n",
              " {'app_name': 'eBay', 'app_category': 'Shopping'},\n",
              " {'app_name': 'Amazon', 'app_category': 'Shopping'},\n",
              " {'app_name': 'Facebook', 'app_category': 'Social Networking'},\n",
              " {'app_name': 'Dropbox', 'app_category': 'Productivity'},\n",
              " {'app_name': 'Zoom', 'app_category': 'Communication'},\n",
              " {'app_name': 'Duolingo', 'app_category': 'Education'},\n",
              " {'app_name': 'LinkedIn', 'app_category': 'Social Networking'},\n",
              " {'app_name': 'Telegram', 'app_category': 'Communication'},\n",
              " {'app_name': 'Venmo', 'app_category': 'Finance'},\n",
              " {'app_name': 'Signal', 'app_category': 'Communication'},\n",
              " {'app_name': 'Netflix', 'app_category': 'Entertainment'},\n",
              " {'app_name': 'Tinder', 'app_category': 'Dating'},\n",
              " {'app_name': 'Spotify', 'app_category': 'Music & Audio'},\n",
              " {'app_name': 'Microsoft Office', 'app_category': 'Productivity'},\n",
              " {'app_name': 'Discord', 'app_category': 'Social Networking'},\n",
              " {'app_name': 'Waze', 'app_category': 'Navigation'},\n",
              " {'app_name': 'YouTube', 'app_category': 'Entertainment'},\n",
              " {'app_name': 'OneDrive', 'app_category': 'Productivity'},\n",
              " {'app_name': 'Instagram', 'app_category': 'Social Networking'},\n",
              " {'app_name': 'PayPal', 'app_category': 'Finance'},\n",
              " {'app_name': 'Snapchat', 'app_category': 'Social Networking'},\n",
              " {'app_name': 'Uber', 'app_category': 'Travel & Local'},\n",
              " {'app_name': 'VLC', 'app_category': 'Video Players & Editors'}]"
            ]
          },
          "metadata": {},
          "execution_count": 75
        }
      ]
    },
    {
      "cell_type": "code",
      "source": [
        "correct_categories = spark.createDataFrame(unique_app_cat_list_genai)"
      ],
      "metadata": {
        "id": "3GY1iv_UeU8q"
      },
      "execution_count": null,
      "outputs": []
    },
    {
      "cell_type": "code",
      "source": [
        "correct_categories.count()"
      ],
      "metadata": {
        "colab": {
          "base_uri": "https://localhost:8080/",
          "height": 64
        },
        "id": "o2XcvSwKeeLw",
        "executionInfo": {
          "status": "ok",
          "timestamp": 1755089343335,
          "user_tz": -330,
          "elapsed": 684,
          "user": {
            "displayName": "",
            "userId": ""
          }
        },
        "outputId": "ffd1086c-5f11-4441-97f3-f62a05ca6618"
      },
      "execution_count": null,
      "outputs": [
        {
          "output_type": "display_data",
          "data": {
            "text/plain": [
              "<IPython.core.display.HTML object>"
            ],
            "text/html": [
              "\n",
              "              <div>\n",
              "                  <p><a href=\"https://console.cloud.google.com/dataproc/interactive/us-central1/sc-20250813-105143-x399oy/sparkApplications/application;associatedSqlOperationId=190c2567-ecc9-4422-9b43-39f5563e03b7?project=kaggle-gcp-comp1\">Spark Query</a> (Operation: 190c2567-ecc9-4422-9b43-39f5563e03b7)</p>\n",
              "              </div>\n",
              "              "
            ]
          },
          "metadata": {}
        },
        {
          "output_type": "execute_result",
          "data": {
            "text/plain": [
              "np.int64(41)"
            ]
          },
          "metadata": {},
          "execution_count": 78
        }
      ]
    },
    {
      "cell_type": "code",
      "source": [
        "spark.conf.set(\"temporaryGcsBucket\",\"kaggal-gcp-comp1-data\")"
      ],
      "metadata": {
        "id": "xE9sHddjfE6M"
      },
      "execution_count": null,
      "outputs": []
    },
    {
      "cell_type": "code",
      "source": [
        "correct_categories.write.mode(\"overwrite\").format('bigquery').save('kaggle-gcp-comp1.APP_REVIEWS.correct_app_categories')"
      ],
      "metadata": {
        "colab": {
          "base_uri": "https://localhost:8080/",
          "height": 46
        },
        "id": "-QhDsPhqepDF",
        "executionInfo": {
          "status": "ok",
          "timestamp": 1755089649997,
          "user_tz": -330,
          "elapsed": 11380,
          "user": {
            "displayName": "",
            "userId": ""
          }
        },
        "outputId": "eb66cf82-6b21-401c-ac0e-970da372e927"
      },
      "execution_count": null,
      "outputs": [
        {
          "output_type": "display_data",
          "data": {
            "text/plain": [
              "<IPython.core.display.HTML object>"
            ],
            "text/html": [
              "\n",
              "              <div>\n",
              "                  <p><a href=\"https://console.cloud.google.com/dataproc/interactive/us-central1/sc-20250813-105143-x399oy/sparkApplications/application;associatedSqlOperationId=43771af0-092e-4c43-b376-110830ef9db8?project=kaggle-gcp-comp1\">Spark Query</a> (Operation: 43771af0-092e-4c43-b376-110830ef9db8)</p>\n",
              "              </div>\n",
              "              "
            ]
          },
          "metadata": {}
        }
      ]
    },
    {
      "cell_type": "code",
      "source": [
        "correct_categories = correct_categories.withColumnsRenamed({\"app_category\":\"app_category_new\",\"app_name\":\"app_name_new\"})"
      ],
      "metadata": {
        "id": "_LEG49PniDD1"
      },
      "execution_count": null,
      "outputs": []
    },
    {
      "cell_type": "code",
      "source": [
        "joined_df = df.join(correct_categories,\n",
        "                    df.app_name == correct_categories.app_name_new,\n",
        "                    how='left')"
      ],
      "metadata": {
        "id": "wU1vPGTRg6Gr"
      },
      "execution_count": null,
      "outputs": []
    },
    {
      "cell_type": "code",
      "source": [
        "joined_df = joined_df.withColumn(\"app_category\", joined_df.app_category_new).drop(\"app_category_new\",\"app_name_new\")"
      ],
      "metadata": {
        "id": "8FsXzXdEg_Ls"
      },
      "execution_count": null,
      "outputs": []
    },
    {
      "cell_type": "code",
      "source": [
        "\n",
        "joined_df.write.mode(\"overwrite\").format('bigquery').save('kaggle-gcp-comp1.APP_REVIEWS.APP_REVIEWS')"
      ],
      "metadata": {
        "colab": {
          "base_uri": "https://localhost:8080/",
          "height": 46
        },
        "id": "8rZIVsvKj1ek",
        "executionInfo": {
          "status": "ok",
          "timestamp": 1755090800168,
          "user_tz": -330,
          "elapsed": 5625,
          "user": {
            "displayName": "",
            "userId": ""
          }
        },
        "outputId": "5bfb4322-5f96-434a-ae65-a1d914927a67"
      },
      "execution_count": null,
      "outputs": [
        {
          "output_type": "display_data",
          "data": {
            "text/plain": [
              "<IPython.core.display.HTML object>"
            ],
            "text/html": [
              "\n",
              "              <div>\n",
              "                  <p><a href=\"https://console.cloud.google.com/dataproc/interactive/us-central1/sc-20250813-105143-x399oy/sparkApplications/application;associatedSqlOperationId=c6317bc3-1686-40f4-a162-dd4530b60fad?project=kaggle-gcp-comp1\">Spark Query</a> (Operation: c6317bc3-1686-40f4-a162-dd4530b60fad)</p>\n",
              "              </div>\n",
              "              "
            ]
          },
          "metadata": {}
        }
      ]
    }
  ]
}