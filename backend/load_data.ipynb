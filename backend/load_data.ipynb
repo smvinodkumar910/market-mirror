{
  "nbformat": 4,
  "nbformat_minor": 0,
  "metadata": {
    "colab": {
      "cell_execution_strategy": "setup",
      "provenance": [],
      "name": "backend/load_data.ipynb",
      "toc_visible": true
    },
    "kernelspec": {
      "name": "python3",
      "display_name": "Python 3"
    },
    "language_info": {
      "name": "python"
    }
  },
  "cells": [
    {
      "cell_type": "markdown",
      "source": [
        "## **Loading Data to BigQuery**"
      ],
      "metadata": {
        "id": "wfzOMyCyjfKL"
      }
    },
    {
      "cell_type": "markdown",
      "source": [
        "\n",
        "<table align=\"left\">\n",
        "  <td style=\"text-align: center\">\n",
        "    <a href=\"https://github.com/smvinodkumar910/market-mirror/blob/dev/load_data.ipynb\">\n",
        "      <img width=\"32px\" src=\"https://www.gstatic.com/pantheon/images/bigquery/welcome_page/colab-logo.svg\" alt=\"Google Colaboratory logo\"><br> Run in Colab\n",
        "    </a>\n",
        "  </td>\n",
        "  <td style=\"text-align: center\">\n",
        "    <a href=\"https://console.cloud.google.com/vertex-ai/colab/import/https:%2F%2Fraw.githubusercontent.com%2FGoogleCloudPlatform%2Fgenerative-ai%2Fmain%2Fvision%2Fgetting-started%2Fimagen3_customization.ipynb\">\n",
        "      <img width=\"32px\" src=\"https://lh3.googleusercontent.com/JmcxdQi-qOpctIvWKgPtrzZdJJK-J3sWE1RsfjZNwshCFgE_9fULcNpuXYTilIR2hjwN\" alt=\"Google Cloud Colab Enterprise logo\"><br> Run in Colab Enterprise\n",
        "    </a>\n",
        "  </td>\n",
        "  <td style=\"text-align: center\">\n",
        "    <a href=\"https://console.cloud.google.com/vertex-ai/workbench/deploy-notebook?download_url=https://raw.githubusercontent.com/smvinodkumar910/market-mirror/blob/dev/load_data.ipynb\">\n",
        "      <img src=\"https://lh3.googleusercontent.com/UiNooY4LUgW_oTvpsNhPpQzsstV5W8F7rYgxgGBD85cWJoLmrOzhVs_ksK_vgx40SHs7jCqkTkCk=e14-rj-sc0xffffff-h130-w32\" alt=\"Vertex AI logo\"><br> Open in Vertex AI Workbench\n",
        "    </a>\n",
        "  </td>    \n",
        "  <td style=\"text-align: center\">\n",
        "    <a href=\"https://github.com/smvinodkumar910/market-mirror/blob/dev/load_data.ipynb\">\n",
        "      <img width=\"32px\" src=\"https://www.svgrepo.com/download/217753/github.svg\" alt=\"GitHub logo\"><br> View on GitHub\n",
        "    </a>\n",
        "  </td>\n",
        "</table>"
      ],
      "metadata": {
        "id": "Fs11SlAmizlg"
      }
    },
    {
      "cell_type": "markdown",
      "source": [
        "### Authenticate your notebook environment (Colab only)\n",
        "\n",
        "If you are running this notebook on Google Colab, run the following cell to authenticate your environment.\n"
      ],
      "metadata": {
        "id": "cNsd-fI3mYHM"
      }
    },
    {
      "cell_type": "code",
      "source": [
        "import sys\n",
        "\n",
        "if \"google.colab\" in sys.modules:\n",
        "    # Support for third party widgets\n",
        "    from google.colab import auth, output\n",
        "\n",
        "    auth.authenticate_user()\n",
        "    output.enable_custom_widget_manager()"
      ],
      "metadata": {
        "id": "QBdSXkfcmc9c",
        "colab": {
          "base_uri": "https://localhost:8080/"
        },
        "executionInfo": {
          "status": "ok",
          "timestamp": 1755255465037,
          "user_tz": -330,
          "elapsed": 6,
          "user": {
            "displayName": "",
            "userId": ""
          }
        },
        "outputId": "d7484eb8-a0af-4248-9461-6033c7592f5a"
      },
      "execution_count": null,
      "outputs": [
        {
          "output_type": "stream",
          "name": "stdout",
          "text": [
            "WARNING: google.colab.auth.authenticate_user() is not supported in Colab Enterprise.\n"
          ]
        }
      ]
    },
    {
      "cell_type": "markdown",
      "source": [
        "### Setting-up Environment"
      ],
      "metadata": {
        "id": "ckhjHdl0VxvZ"
      }
    },
    {
      "cell_type": "code",
      "source": [
        "import os\n",
        "\n",
        "PROJECT_ID = \"market-mirror-dev\"  # @param {type: \"string\", placeholder: \"[your-project-id]\", isTemplate: true}\n",
        "BUCKET_NAME = \"marke-mirror-dev-data\"  # @param {type: \"string\", placeholder: \"[your-bucket-name]\", isTemplate: true}\n",
        "LOCATION = \"us-central1\"  # @param {type: \"string\", placeholder: \"[your-region]\", isTemplate: true}\n",
        "if not PROJECT_ID or PROJECT_ID == \"[your-project-id]\":\n",
        "    PROJECT_ID = str(os.environ.get(\"GOOGLE_CLOUD_PROJECT\"))\n",
        "\n",
        "if not LOCATION or LOCATION == \"[your-region]\":\n",
        "    LOCATION = os.environ.get(\"GOOGLE_CLOUD_REGION\", \"us-central1\")\n"
      ],
      "metadata": {
        "id": "L02uxb6fwRz5"
      },
      "execution_count": null,
      "outputs": []
    },
    {
      "cell_type": "code",
      "source": [
        "BQ_BRONZE_DATASET = \"APP_MARKET_BRONZE\" # @param {type: \"string\", placeholder: \"[bronze-dataset]\", isTemplate: true}\n",
        "BQ_SILVER_DATASET = \"APP_MARKET_SILVER\" # @param {type: \"string\", placeholder: \"[silver-dataset]\", isTemplate: true}\n",
        "BQ_GOLD_DATASET = \"APP_MARKET_GOLD\" # @param {type: \"string\", placeholder: \"[gold-dataset]\", isTemplate: true}"
      ],
      "metadata": {
        "id": "Ae8j4N0ulv0Z",
        "executionInfo": {
          "status": "ok",
          "timestamp": 1755259133911,
          "user_tz": -330,
          "elapsed": 3,
          "user": {
            "displayName": "",
            "userId": ""
          }
        }
      },
      "execution_count": 39,
      "outputs": []
    },
    {
      "cell_type": "markdown",
      "source": [
        "#### Prepare GCS"
      ],
      "metadata": {
        "id": "DUsRjtqymYR1"
      }
    },
    {
      "cell_type": "code",
      "source": [
        "from google.cloud import storage\n",
        "from google.cloud.exceptions import NotFound\n",
        "\n",
        "gcs_client = storage.Client(\n",
        "    project=PROJECT_ID\n",
        ")\n",
        "\n",
        "try:\n",
        "  databucket = gcs_client.get_bucket(BUCKET_NAME)\n",
        "  bucket_exists = True\n",
        "except NotFound:\n",
        "  databucket = gcs_client.create_bucket(BUCKET_NAME, project=PROJECT_ID)\n",
        "  bucket_exists = True"
      ],
      "metadata": {
        "id": "hP-bc_WVmW1P"
      },
      "execution_count": null,
      "outputs": []
    },
    {
      "cell_type": "markdown",
      "source": [
        "#### Prepare BigQuery Datasets"
      ],
      "metadata": {
        "id": "oGJaRb78XdLf"
      }
    },
    {
      "cell_type": "code",
      "source": [
        "from google.cloud import bigquery\n",
        "\n",
        "bq_client = bigquery.Client(project=PROJECT_ID)\n",
        "\n",
        "bq_client.create_dataset('APP_MARKET_BRONZE',exists_ok=True)\n",
        "bq_client.create_dataset('APP_MARKET_SILVER',exists_ok=True)\n",
        "bq_client.create_dataset('APP_MARKET_GOLD',exists_ok=True)"
      ],
      "metadata": {
        "colab": {
          "base_uri": "https://localhost:8080/"
        },
        "id": "6umLktvxCItU",
        "executionInfo": {
          "status": "ok",
          "timestamp": 1755255474367,
          "user_tz": -330,
          "elapsed": 1796,
          "user": {
            "displayName": "",
            "userId": ""
          }
        },
        "outputId": "0dbd63a2-98c5-4d9d-fe2a-e250381cb87b"
      },
      "execution_count": null,
      "outputs": [
        {
          "output_type": "execute_result",
          "data": {
            "text/plain": [
              "Dataset(DatasetReference('market-mirror-dev', 'APP_MARKET_GOLD'))"
            ]
          },
          "metadata": {},
          "execution_count": 6
        }
      ]
    },
    {
      "cell_type": "markdown",
      "source": [
        "### Data Load Steps"
      ],
      "metadata": {
        "id": "WXzmyv-mV-zw"
      }
    },
    {
      "cell_type": "markdown",
      "source": [
        "#### Data Definitions\n",
        "\n",
        "We are going to use 4 Kaggle Datasets for this project.\n",
        "\n",
        "1. https://www.kaggle.com/datasets/pratyushpuri/multilingual-mobile-app-reviews-dataset-2025\n",
        "2. https://www.kaggle.com/datasets/lava18/google-play-store-apps\n",
        "3. https://www.kaggle.com/datasets/ramamet4/app-store-apple-data-set-10k-apps\n",
        "4. https://www.kaggle.com/datasets/quadeer15sh/mwindows-store-top-apps-games"
      ],
      "metadata": {
        "id": "fRcHOFmDkxEr"
      }
    },
    {
      "cell_type": "markdown",
      "source": [
        "#### Download Data from Kaggle"
      ],
      "metadata": {
        "id": "VXvIfXeSW6Y5"
      }
    },
    {
      "cell_type": "code",
      "source": [
        "import kagglehub\n",
        "import os, glob\n",
        "\n",
        "datasets_list = ['https://www.kaggle.com/datasets/pratyushpuri/multilingual-mobile-app-reviews-dataset-2025',\n",
        "'https://www.kaggle.com/datasets/lava18/google-play-store-apps',\n",
        "'https://www.kaggle.com/datasets/ramamet4/app-store-apple-data-set-10k-apps',\n",
        "'https://www.kaggle.com/datasets/quadeer15sh/windows-store-top-apps-games']"
      ],
      "metadata": {
        "id": "rCWjjAKmp1ph"
      },
      "execution_count": null,
      "outputs": []
    },
    {
      "cell_type": "code",
      "source": [
        "local_paths = []\n",
        "for dataset in datasets_list:\n",
        "  dataset_path = dataset.replace('https://www.kaggle.com/datasets/','')\n",
        "  dataset_name = dataset.split('/')[-1]\n",
        "  path = kagglehub.dataset_download(dataset_path)\n",
        "  files_path = glob.glob(pathname=os.path.join(path,'*'))\n",
        "  local_paths.append({'dataset_name': dataset_name, 'path':files_path})"
      ],
      "metadata": {
        "id": "hdUAaI73qGo2"
      },
      "execution_count": null,
      "outputs": []
    },
    {
      "cell_type": "markdown",
      "source": [
        "#### Upload Data to GCS"
      ],
      "metadata": {
        "id": "QVygYUjmXMND"
      }
    },
    {
      "cell_type": "code",
      "source": [
        "\n",
        "gcs_files = []\n",
        "if bucket_exists:\n",
        "  for file in local_paths:\n",
        "    dataset_name = file.get('dataset_name')\n",
        "    paths = file.get('path')\n",
        "    for path in paths:\n",
        "      file_name = path.split('/')[-1]\n",
        "      destination_blob_name = os.path.join(dataset_name,file_name)\n",
        "      destination_blob = databucket.blob(destination_blob_name)\n",
        "      destination_blob.upload_from_filename(path)\n",
        "      gcs_files.append(f\"gs://{BUCKET_NAME}/{destination_blob_name}\")\n",
        "      print(\n",
        "          f\"File {path} uploaded to gs://{BUCKET_NAME}/{destination_blob_name}.\"\n",
        "      )"
      ],
      "metadata": {
        "id": "6fXhJhwtxt0m",
        "executionInfo": {
          "status": "ok",
          "timestamp": 1755255472573,
          "user_tz": -330,
          "elapsed": 2126,
          "user": {
            "displayName": "",
            "userId": ""
          }
        },
        "colab": {
          "base_uri": "https://localhost:8080/"
        },
        "outputId": "4aa38cd5-145f-42bf-cdc2-ad02fe934f15"
      },
      "execution_count": null,
      "outputs": [
        {
          "output_type": "stream",
          "name": "stdout",
          "text": [
            "File /root/.cache/kagglehub/datasets/pratyushpuri/multilingual-mobile-app-reviews-dataset-2025/versions/1/multilingual_mobile_app_reviews_2025.csv uploaded to gs://marke-mirror-dev-data/multilingual-mobile-app-reviews-dataset-2025/multilingual_mobile_app_reviews_2025.csv.\n",
            "File /root/.cache/kagglehub/datasets/lava18/google-play-store-apps/versions/6/googleplaystore_user_reviews.csv uploaded to gs://marke-mirror-dev-data/google-play-store-apps/googleplaystore_user_reviews.csv.\n",
            "File /root/.cache/kagglehub/datasets/lava18/google-play-store-apps/versions/6/googleplaystore.csv uploaded to gs://marke-mirror-dev-data/google-play-store-apps/googleplaystore.csv.\n",
            "File /root/.cache/kagglehub/datasets/lava18/google-play-store-apps/versions/6/license.txt uploaded to gs://marke-mirror-dev-data/google-play-store-apps/license.txt.\n",
            "File /root/.cache/kagglehub/datasets/ramamet4/app-store-apple-data-set-10k-apps/versions/7/AppleStore.csv uploaded to gs://marke-mirror-dev-data/app-store-apple-data-set-10k-apps/AppleStore.csv.\n",
            "File /root/.cache/kagglehub/datasets/ramamet4/app-store-apple-data-set-10k-apps/versions/7/appleStore_description.csv uploaded to gs://marke-mirror-dev-data/app-store-apple-data-set-10k-apps/appleStore_description.csv.\n",
            "File /root/.cache/kagglehub/datasets/quadeer15sh/windows-store-top-apps-games/versions/1/windows_store.csv uploaded to gs://marke-mirror-dev-data/windows-store-top-apps-games/windows_store.csv.\n"
          ]
        }
      ]
    },
    {
      "cell_type": "markdown",
      "source": [
        "#### Write Data to BigQuery Bronze Layer"
      ],
      "metadata": {
        "id": "nmhD9RXCXnED"
      }
    },
    {
      "cell_type": "code",
      "source": [
        "from google.cloud.dataproc_spark_connect import DataprocSparkSession\n",
        "from google.cloud.dataproc_v1 import Session\n",
        "\n",
        "\n",
        "# This will create a default Spark session\n",
        "spark = DataprocSparkSession.builder.getOrCreate()\n"
      ],
      "metadata": {
        "colab": {
          "base_uri": "https://localhost:8080/",
          "height": 171
        },
        "id": "DmQx92ke31SD",
        "outputId": "9aad6a08-dc96-49df-d896-27909d89507d",
        "executionInfo": {
          "status": "ok",
          "timestamp": 1755255864671,
          "user_tz": -330,
          "elapsed": 800,
          "user": {
            "displayName": "",
            "userId": ""
          }
        }
      },
      "execution_count": 7,
      "outputs": [
        {
          "output_type": "stream",
          "name": "stderr",
          "text": [
            "WARNING:google.cloud.dataproc_spark_connect.session:Warning while processing notebook ID: Notebook ID 'load_data.ipynb' is not compliant with label value format. Only lowercase letters, numbers, and dashes are allowed. The value must start with lowercase letter or number and end with a lowercase letter or number. Maximum length is 63 characters. Skipping notebook ID label.\n"
          ]
        },
        {
          "output_type": "display_data",
          "data": {
            "text/plain": [
              "<IPython.core.display.HTML object>"
            ],
            "text/html": [
              "\n",
              "                <div>\n",
              "                    <p>Creating Dataproc Spark Session<p>\n",
              "                    <p><a href=\"https://console.cloud.google.com/dataproc/interactive/us-central1/sc-20250815-105754-mjyju4?project=market-mirror-dev\">Dataproc Session</a></p>\n",
              "                </div>\n",
              "            "
            ]
          },
          "metadata": {}
        },
        {
          "output_type": "stream",
          "name": "stderr",
          "text": [
            "███████████████████████████████████████████████████████████████████████▍        "
          ]
        },
        {
          "output_type": "stream",
          "name": "stdout",
          "text": [
            "\n"
          ]
        },
        {
          "output_type": "stream",
          "name": "stderr",
          "text": [
            "\n"
          ]
        },
        {
          "output_type": "display_data",
          "data": {
            "text/plain": [
              "<IPython.core.display.HTML object>"
            ],
            "text/html": [
              "<div><p>Dataproc Session was successfully created</p></div>"
            ]
          },
          "metadata": {}
        }
      ]
    },
    {
      "cell_type": "code",
      "source": [
        "for file in gcs_files[-2:-1]:\n",
        "  if file.endswith('.csv'):\n",
        "    table_name = file.split('/')[-1].split('.')[0]\n",
        "    print(table_name)\n",
        "    df = spark.read\\\n",
        "    .option(\"multiLine\", \"true\")\\\n",
        "    .option(\"quote\", \"\\\"\")\\\n",
        "    .option(\"escape\", '\"')\\\n",
        "    .csv(file,\n",
        "         inferSchema=True,\n",
        "         header=True)\n",
        "    col_rename = [{f\"{column}\":f\"{column.replace(' ','_').replace('.','_')}\"} for column in df.columns]\n",
        "    all_col_rename = dict()\n",
        "    for a in col_rename:\n",
        "      all_col_rename.update(a)\n",
        "    df = df.withColumnsRenamed(all_col_rename)\n",
        "    df.write.mode(\"overwrite\").format('bigquery').save(f'{PROJECT_ID}.APP_MARKET_BRONZE.{table_name}')\n"
      ],
      "metadata": {
        "colab": {
          "base_uri": "https://localhost:8080/",
          "height": 64
        },
        "id": "jBjMXsfUD6O6",
        "executionInfo": {
          "status": "ok",
          "timestamp": 1755258593196,
          "user_tz": -330,
          "elapsed": 6148,
          "user": {
            "displayName": "",
            "userId": ""
          }
        },
        "outputId": "5e57d3ed-6331-4e45-c41b-a772470f49c1"
      },
      "execution_count": 38,
      "outputs": [
        {
          "output_type": "stream",
          "name": "stdout",
          "text": [
            "appleStore_description\n"
          ]
        },
        {
          "output_type": "display_data",
          "data": {
            "text/plain": [
              "<IPython.core.display.HTML object>"
            ],
            "text/html": [
              "\n",
              "              <div>\n",
              "                  <p><a href=\"https://console.cloud.google.com/dataproc/interactive/us-central1/sc-20250815-105754-mjyju4/sparkApplications/application;associatedSqlOperationId=fcaa3807-4175-43e1-8fcf-f5ab772830a6?project=market-mirror-dev\">Spark Query</a> (Operation: fcaa3807-4175-43e1-8fcf-f5ab772830a6)</p>\n",
              "              </div>\n",
              "              "
            ]
          },
          "metadata": {}
        }
      ]
    }
  ]
}