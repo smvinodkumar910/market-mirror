{
  "nbformat": 4,
  "nbformat_minor": 0,
  "metadata": {
    "colab": {
      "name": "backend/process_data.ipynb",
      "cell_execution_strategy": "setup",
      "provenance": []
    },
    "kernelspec": {
      "name": "python3",
      "display_name": "Python 3"
    },
    "language_info": {
      "name": "python"
    },
    "widgets": {
      "application/vnd.jupyter.widget-state+json": {
        "dd93006cb4da49d2899c0adc67095c00": {
          "model_module": "@jupyter-widgets/controls",
          "model_name": "HBoxModel",
          "model_module_version": "1.5.0",
          "state": {
            "_dom_classes": [],
            "_model_module": "@jupyter-widgets/controls",
            "_model_module_version": "1.5.0",
            "_model_name": "HBoxModel",
            "_view_count": null,
            "_view_module": "@jupyter-widgets/controls",
            "_view_module_version": "1.5.0",
            "_view_name": "HBoxView",
            "box_style": "",
            "children": [
              "IPY_MODEL_13cc8c8d148f4706ae7da3828344e1ee",
              "IPY_MODEL_9a4ae16fc83a43acb0ad9d8ac518419f",
              "IPY_MODEL_2bdd43daed19489590cc0db2505c7ce3"
            ],
            "layout": "IPY_MODEL_9f7b5005781b42298ab037d32a366f79"
          }
        },
        "13cc8c8d148f4706ae7da3828344e1ee": {
          "model_module": "@jupyter-widgets/controls",
          "model_name": "HTMLModel",
          "model_module_version": "1.5.0",
          "state": {
            "_dom_classes": [],
            "_model_module": "@jupyter-widgets/controls",
            "_model_module_version": "1.5.0",
            "_model_name": "HTMLModel",
            "_view_count": null,
            "_view_module": "@jupyter-widgets/controls",
            "_view_module_version": "1.5.0",
            "_view_name": "HTMLView",
            "description": "",
            "description_tooltip": null,
            "layout": "IPY_MODEL_48ef10a6233f41ef97be234f0b9489ec",
            "placeholder": "​",
            "style": "IPY_MODEL_0aa6b6a984f440c1b98189b3acba8990",
            "value": "Job ID b9dd1127-59b0-41fe-9afa-774b767b6383 successfully executed: 100%"
          }
        },
        "9a4ae16fc83a43acb0ad9d8ac518419f": {
          "model_module": "@jupyter-widgets/controls",
          "model_name": "FloatProgressModel",
          "model_module_version": "1.5.0",
          "state": {
            "_dom_classes": [],
            "_model_module": "@jupyter-widgets/controls",
            "_model_module_version": "1.5.0",
            "_model_name": "FloatProgressModel",
            "_view_count": null,
            "_view_module": "@jupyter-widgets/controls",
            "_view_module_version": "1.5.0",
            "_view_name": "ProgressView",
            "bar_style": "success",
            "description": "",
            "description_tooltip": null,
            "layout": "IPY_MODEL_b15461a5ea95456aad2a0b8c59607f4b",
            "max": 1,
            "min": 0,
            "orientation": "horizontal",
            "style": "IPY_MODEL_20e19b62bff0420993e2ee4ddda7458c",
            "value": 1
          }
        },
        "2bdd43daed19489590cc0db2505c7ce3": {
          "model_module": "@jupyter-widgets/controls",
          "model_name": "HTMLModel",
          "model_module_version": "1.5.0",
          "state": {
            "_dom_classes": [],
            "_model_module": "@jupyter-widgets/controls",
            "_model_module_version": "1.5.0",
            "_model_name": "HTMLModel",
            "_view_count": null,
            "_view_module": "@jupyter-widgets/controls",
            "_view_module_version": "1.5.0",
            "_view_name": "HTMLView",
            "description": "",
            "description_tooltip": null,
            "layout": "IPY_MODEL_e3ced619a85344af86abff729d8d7568",
            "placeholder": "​",
            "style": "IPY_MODEL_e897db65ebd64564bb913787c899bb9e",
            "value": ""
          }
        },
        "9f7b5005781b42298ab037d32a366f79": {
          "model_module": "@jupyter-widgets/base",
          "model_name": "LayoutModel",
          "model_module_version": "1.2.0",
          "state": {
            "_model_module": "@jupyter-widgets/base",
            "_model_module_version": "1.2.0",
            "_model_name": "LayoutModel",
            "_view_count": null,
            "_view_module": "@jupyter-widgets/base",
            "_view_module_version": "1.2.0",
            "_view_name": "LayoutView",
            "align_content": null,
            "align_items": null,
            "align_self": null,
            "border": null,
            "bottom": null,
            "display": null,
            "flex": null,
            "flex_flow": null,
            "grid_area": null,
            "grid_auto_columns": null,
            "grid_auto_flow": null,
            "grid_auto_rows": null,
            "grid_column": null,
            "grid_gap": null,
            "grid_row": null,
            "grid_template_areas": null,
            "grid_template_columns": null,
            "grid_template_rows": null,
            "height": null,
            "justify_content": null,
            "justify_items": null,
            "left": null,
            "margin": null,
            "max_height": null,
            "max_width": null,
            "min_height": null,
            "min_width": null,
            "object_fit": null,
            "object_position": null,
            "order": null,
            "overflow": null,
            "overflow_x": null,
            "overflow_y": null,
            "padding": null,
            "right": null,
            "top": null,
            "visibility": null,
            "width": null
          }
        },
        "48ef10a6233f41ef97be234f0b9489ec": {
          "model_module": "@jupyter-widgets/base",
          "model_name": "LayoutModel",
          "model_module_version": "1.2.0",
          "state": {
            "_model_module": "@jupyter-widgets/base",
            "_model_module_version": "1.2.0",
            "_model_name": "LayoutModel",
            "_view_count": null,
            "_view_module": "@jupyter-widgets/base",
            "_view_module_version": "1.2.0",
            "_view_name": "LayoutView",
            "align_content": null,
            "align_items": null,
            "align_self": null,
            "border": null,
            "bottom": null,
            "display": null,
            "flex": null,
            "flex_flow": null,
            "grid_area": null,
            "grid_auto_columns": null,
            "grid_auto_flow": null,
            "grid_auto_rows": null,
            "grid_column": null,
            "grid_gap": null,
            "grid_row": null,
            "grid_template_areas": null,
            "grid_template_columns": null,
            "grid_template_rows": null,
            "height": null,
            "justify_content": null,
            "justify_items": null,
            "left": null,
            "margin": null,
            "max_height": null,
            "max_width": null,
            "min_height": null,
            "min_width": null,
            "object_fit": null,
            "object_position": null,
            "order": null,
            "overflow": null,
            "overflow_x": null,
            "overflow_y": null,
            "padding": null,
            "right": null,
            "top": null,
            "visibility": null,
            "width": null
          }
        },
        "0aa6b6a984f440c1b98189b3acba8990": {
          "model_module": "@jupyter-widgets/controls",
          "model_name": "DescriptionStyleModel",
          "model_module_version": "1.5.0",
          "state": {
            "_model_module": "@jupyter-widgets/controls",
            "_model_module_version": "1.5.0",
            "_model_name": "DescriptionStyleModel",
            "_view_count": null,
            "_view_module": "@jupyter-widgets/base",
            "_view_module_version": "1.2.0",
            "_view_name": "StyleView",
            "description_width": ""
          }
        },
        "b15461a5ea95456aad2a0b8c59607f4b": {
          "model_module": "@jupyter-widgets/base",
          "model_name": "LayoutModel",
          "model_module_version": "1.2.0",
          "state": {
            "_model_module": "@jupyter-widgets/base",
            "_model_module_version": "1.2.0",
            "_model_name": "LayoutModel",
            "_view_count": null,
            "_view_module": "@jupyter-widgets/base",
            "_view_module_version": "1.2.0",
            "_view_name": "LayoutView",
            "align_content": null,
            "align_items": null,
            "align_self": null,
            "border": null,
            "bottom": null,
            "display": null,
            "flex": null,
            "flex_flow": null,
            "grid_area": null,
            "grid_auto_columns": null,
            "grid_auto_flow": null,
            "grid_auto_rows": null,
            "grid_column": null,
            "grid_gap": null,
            "grid_row": null,
            "grid_template_areas": null,
            "grid_template_columns": null,
            "grid_template_rows": null,
            "height": null,
            "justify_content": null,
            "justify_items": null,
            "left": null,
            "margin": null,
            "max_height": null,
            "max_width": null,
            "min_height": null,
            "min_width": null,
            "object_fit": null,
            "object_position": null,
            "order": null,
            "overflow": null,
            "overflow_x": null,
            "overflow_y": null,
            "padding": null,
            "right": null,
            "top": null,
            "visibility": null,
            "width": null
          }
        },
        "20e19b62bff0420993e2ee4ddda7458c": {
          "model_module": "@jupyter-widgets/controls",
          "model_name": "ProgressStyleModel",
          "model_module_version": "1.5.0",
          "state": {
            "_model_module": "@jupyter-widgets/controls",
            "_model_module_version": "1.5.0",
            "_model_name": "ProgressStyleModel",
            "_view_count": null,
            "_view_module": "@jupyter-widgets/base",
            "_view_module_version": "1.2.0",
            "_view_name": "StyleView",
            "bar_color": null,
            "description_width": ""
          }
        },
        "e3ced619a85344af86abff729d8d7568": {
          "model_module": "@jupyter-widgets/base",
          "model_name": "LayoutModel",
          "model_module_version": "1.2.0",
          "state": {
            "_model_module": "@jupyter-widgets/base",
            "_model_module_version": "1.2.0",
            "_model_name": "LayoutModel",
            "_view_count": null,
            "_view_module": "@jupyter-widgets/base",
            "_view_module_version": "1.2.0",
            "_view_name": "LayoutView",
            "align_content": null,
            "align_items": null,
            "align_self": null,
            "border": null,
            "bottom": null,
            "display": null,
            "flex": null,
            "flex_flow": null,
            "grid_area": null,
            "grid_auto_columns": null,
            "grid_auto_flow": null,
            "grid_auto_rows": null,
            "grid_column": null,
            "grid_gap": null,
            "grid_row": null,
            "grid_template_areas": null,
            "grid_template_columns": null,
            "grid_template_rows": null,
            "height": null,
            "justify_content": null,
            "justify_items": null,
            "left": null,
            "margin": null,
            "max_height": null,
            "max_width": null,
            "min_height": null,
            "min_width": null,
            "object_fit": null,
            "object_position": null,
            "order": null,
            "overflow": null,
            "overflow_x": null,
            "overflow_y": null,
            "padding": null,
            "right": null,
            "top": null,
            "visibility": null,
            "width": null
          }
        },
        "e897db65ebd64564bb913787c899bb9e": {
          "model_module": "@jupyter-widgets/controls",
          "model_name": "DescriptionStyleModel",
          "model_module_version": "1.5.0",
          "state": {
            "_model_module": "@jupyter-widgets/controls",
            "_model_module_version": "1.5.0",
            "_model_name": "DescriptionStyleModel",
            "_view_count": null,
            "_view_module": "@jupyter-widgets/base",
            "_view_module_version": "1.2.0",
            "_view_name": "StyleView",
            "description_width": ""
          }
        },
        "52dda4bcb1f64d6ab7cf2bde0ce8f0ae": {
          "model_module": "@jupyter-widgets/controls",
          "model_name": "HBoxModel",
          "model_module_version": "1.5.0",
          "state": {
            "_dom_classes": [],
            "_model_module": "@jupyter-widgets/controls",
            "_model_module_version": "1.5.0",
            "_model_name": "HBoxModel",
            "_view_count": null,
            "_view_module": "@jupyter-widgets/controls",
            "_view_module_version": "1.5.0",
            "_view_name": "HBoxView",
            "box_style": "",
            "children": [
              "IPY_MODEL_c7eff69b57ac4be1a934bc6c18cc5b96",
              "IPY_MODEL_535aa86dafb942d88993756f6708a58b",
              "IPY_MODEL_18407d8cd1bf4886b49acc2d121af6bb"
            ],
            "layout": "IPY_MODEL_1d94f4bf7d6b4de38f71ce2cf2193232"
          }
        },
        "c7eff69b57ac4be1a934bc6c18cc5b96": {
          "model_module": "@jupyter-widgets/controls",
          "model_name": "HTMLModel",
          "model_module_version": "1.5.0",
          "state": {
            "_dom_classes": [],
            "_model_module": "@jupyter-widgets/controls",
            "_model_module_version": "1.5.0",
            "_model_name": "HTMLModel",
            "_view_count": null,
            "_view_module": "@jupyter-widgets/controls",
            "_view_module_version": "1.5.0",
            "_view_name": "HTMLView",
            "description": "",
            "description_tooltip": null,
            "layout": "IPY_MODEL_f0788d29cba0481e9188f4fdabd370f2",
            "placeholder": "​",
            "style": "IPY_MODEL_33f917937f964d8990cf7aa6ee386116",
            "value": "Job ID 77e7ae38-3201-49a2-a179-442c73b311f2 successfully executed: 100%"
          }
        },
        "535aa86dafb942d88993756f6708a58b": {
          "model_module": "@jupyter-widgets/controls",
          "model_name": "FloatProgressModel",
          "model_module_version": "1.5.0",
          "state": {
            "_dom_classes": [],
            "_model_module": "@jupyter-widgets/controls",
            "_model_module_version": "1.5.0",
            "_model_name": "FloatProgressModel",
            "_view_count": null,
            "_view_module": "@jupyter-widgets/controls",
            "_view_module_version": "1.5.0",
            "_view_name": "ProgressView",
            "bar_style": "success",
            "description": "",
            "description_tooltip": null,
            "layout": "IPY_MODEL_f2bdff22acd14121a38844f49d902484",
            "max": 1,
            "min": 0,
            "orientation": "horizontal",
            "style": "IPY_MODEL_2d7b93919b0244d1bb73a24c6ac5bc9b",
            "value": 1
          }
        },
        "18407d8cd1bf4886b49acc2d121af6bb": {
          "model_module": "@jupyter-widgets/controls",
          "model_name": "HTMLModel",
          "model_module_version": "1.5.0",
          "state": {
            "_dom_classes": [],
            "_model_module": "@jupyter-widgets/controls",
            "_model_module_version": "1.5.0",
            "_model_name": "HTMLModel",
            "_view_count": null,
            "_view_module": "@jupyter-widgets/controls",
            "_view_module_version": "1.5.0",
            "_view_name": "HTMLView",
            "description": "",
            "description_tooltip": null,
            "layout": "IPY_MODEL_154ffaaec8684372bcc32f47598fb2d2",
            "placeholder": "​",
            "style": "IPY_MODEL_7cd0865315264c99a72614366d0d9378",
            "value": ""
          }
        },
        "1d94f4bf7d6b4de38f71ce2cf2193232": {
          "model_module": "@jupyter-widgets/base",
          "model_name": "LayoutModel",
          "model_module_version": "1.2.0",
          "state": {
            "_model_module": "@jupyter-widgets/base",
            "_model_module_version": "1.2.0",
            "_model_name": "LayoutModel",
            "_view_count": null,
            "_view_module": "@jupyter-widgets/base",
            "_view_module_version": "1.2.0",
            "_view_name": "LayoutView",
            "align_content": null,
            "align_items": null,
            "align_self": null,
            "border": null,
            "bottom": null,
            "display": null,
            "flex": null,
            "flex_flow": null,
            "grid_area": null,
            "grid_auto_columns": null,
            "grid_auto_flow": null,
            "grid_auto_rows": null,
            "grid_column": null,
            "grid_gap": null,
            "grid_row": null,
            "grid_template_areas": null,
            "grid_template_columns": null,
            "grid_template_rows": null,
            "height": null,
            "justify_content": null,
            "justify_items": null,
            "left": null,
            "margin": null,
            "max_height": null,
            "max_width": null,
            "min_height": null,
            "min_width": null,
            "object_fit": null,
            "object_position": null,
            "order": null,
            "overflow": null,
            "overflow_x": null,
            "overflow_y": null,
            "padding": null,
            "right": null,
            "top": null,
            "visibility": null,
            "width": null
          }
        },
        "f0788d29cba0481e9188f4fdabd370f2": {
          "model_module": "@jupyter-widgets/base",
          "model_name": "LayoutModel",
          "model_module_version": "1.2.0",
          "state": {
            "_model_module": "@jupyter-widgets/base",
            "_model_module_version": "1.2.0",
            "_model_name": "LayoutModel",
            "_view_count": null,
            "_view_module": "@jupyter-widgets/base",
            "_view_module_version": "1.2.0",
            "_view_name": "LayoutView",
            "align_content": null,
            "align_items": null,
            "align_self": null,
            "border": null,
            "bottom": null,
            "display": null,
            "flex": null,
            "flex_flow": null,
            "grid_area": null,
            "grid_auto_columns": null,
            "grid_auto_flow": null,
            "grid_auto_rows": null,
            "grid_column": null,
            "grid_gap": null,
            "grid_row": null,
            "grid_template_areas": null,
            "grid_template_columns": null,
            "grid_template_rows": null,
            "height": null,
            "justify_content": null,
            "justify_items": null,
            "left": null,
            "margin": null,
            "max_height": null,
            "max_width": null,
            "min_height": null,
            "min_width": null,
            "object_fit": null,
            "object_position": null,
            "order": null,
            "overflow": null,
            "overflow_x": null,
            "overflow_y": null,
            "padding": null,
            "right": null,
            "top": null,
            "visibility": null,
            "width": null
          }
        },
        "33f917937f964d8990cf7aa6ee386116": {
          "model_module": "@jupyter-widgets/controls",
          "model_name": "DescriptionStyleModel",
          "model_module_version": "1.5.0",
          "state": {
            "_model_module": "@jupyter-widgets/controls",
            "_model_module_version": "1.5.0",
            "_model_name": "DescriptionStyleModel",
            "_view_count": null,
            "_view_module": "@jupyter-widgets/base",
            "_view_module_version": "1.2.0",
            "_view_name": "StyleView",
            "description_width": ""
          }
        },
        "f2bdff22acd14121a38844f49d902484": {
          "model_module": "@jupyter-widgets/base",
          "model_name": "LayoutModel",
          "model_module_version": "1.2.0",
          "state": {
            "_model_module": "@jupyter-widgets/base",
            "_model_module_version": "1.2.0",
            "_model_name": "LayoutModel",
            "_view_count": null,
            "_view_module": "@jupyter-widgets/base",
            "_view_module_version": "1.2.0",
            "_view_name": "LayoutView",
            "align_content": null,
            "align_items": null,
            "align_self": null,
            "border": null,
            "bottom": null,
            "display": null,
            "flex": null,
            "flex_flow": null,
            "grid_area": null,
            "grid_auto_columns": null,
            "grid_auto_flow": null,
            "grid_auto_rows": null,
            "grid_column": null,
            "grid_gap": null,
            "grid_row": null,
            "grid_template_areas": null,
            "grid_template_columns": null,
            "grid_template_rows": null,
            "height": null,
            "justify_content": null,
            "justify_items": null,
            "left": null,
            "margin": null,
            "max_height": null,
            "max_width": null,
            "min_height": null,
            "min_width": null,
            "object_fit": null,
            "object_position": null,
            "order": null,
            "overflow": null,
            "overflow_x": null,
            "overflow_y": null,
            "padding": null,
            "right": null,
            "top": null,
            "visibility": null,
            "width": null
          }
        },
        "2d7b93919b0244d1bb73a24c6ac5bc9b": {
          "model_module": "@jupyter-widgets/controls",
          "model_name": "ProgressStyleModel",
          "model_module_version": "1.5.0",
          "state": {
            "_model_module": "@jupyter-widgets/controls",
            "_model_module_version": "1.5.0",
            "_model_name": "ProgressStyleModel",
            "_view_count": null,
            "_view_module": "@jupyter-widgets/base",
            "_view_module_version": "1.2.0",
            "_view_name": "StyleView",
            "bar_color": null,
            "description_width": ""
          }
        },
        "154ffaaec8684372bcc32f47598fb2d2": {
          "model_module": "@jupyter-widgets/base",
          "model_name": "LayoutModel",
          "model_module_version": "1.2.0",
          "state": {
            "_model_module": "@jupyter-widgets/base",
            "_model_module_version": "1.2.0",
            "_model_name": "LayoutModel",
            "_view_count": null,
            "_view_module": "@jupyter-widgets/base",
            "_view_module_version": "1.2.0",
            "_view_name": "LayoutView",
            "align_content": null,
            "align_items": null,
            "align_self": null,
            "border": null,
            "bottom": null,
            "display": null,
            "flex": null,
            "flex_flow": null,
            "grid_area": null,
            "grid_auto_columns": null,
            "grid_auto_flow": null,
            "grid_auto_rows": null,
            "grid_column": null,
            "grid_gap": null,
            "grid_row": null,
            "grid_template_areas": null,
            "grid_template_columns": null,
            "grid_template_rows": null,
            "height": null,
            "justify_content": null,
            "justify_items": null,
            "left": null,
            "margin": null,
            "max_height": null,
            "max_width": null,
            "min_height": null,
            "min_width": null,
            "object_fit": null,
            "object_position": null,
            "order": null,
            "overflow": null,
            "overflow_x": null,
            "overflow_y": null,
            "padding": null,
            "right": null,
            "top": null,
            "visibility": null,
            "width": null
          }
        },
        "7cd0865315264c99a72614366d0d9378": {
          "model_module": "@jupyter-widgets/controls",
          "model_name": "DescriptionStyleModel",
          "model_module_version": "1.5.0",
          "state": {
            "_model_module": "@jupyter-widgets/controls",
            "_model_module_version": "1.5.0",
            "_model_name": "DescriptionStyleModel",
            "_view_count": null,
            "_view_module": "@jupyter-widgets/base",
            "_view_module_version": "1.2.0",
            "_view_name": "StyleView",
            "description_width": ""
          }
        }
      }
    }
  },
  "cells": [
    {
      "cell_type": "markdown",
      "source": [
        "# Process Data\n",
        "\n",
        "In this notebook we are processing data loaded in Bronze layer and utilize Bigquery AI/ML functions."
      ],
      "metadata": {
        "id": "vCe6XdgiPZh7"
      }
    },
    {
      "cell_type": "markdown",
      "source": [
        "### Setting-up Environment"
      ],
      "metadata": {
        "id": "6KH05oVmle9e"
      }
    },
    {
      "cell_type": "code",
      "source": [
        "import os\n",
        "\n",
        "PROJECT_ID = \"market-mirror-dev\"  # @param {type: \"string\", placeholder: \"[your-project-id]\", isTemplate: true}\n",
        "BUCKET_NAME = \"marke-mirror-dev-data\"  # @param {type: \"string\", placeholder: \"[your-bucket-name]\", isTemplate: true}\n",
        "LOCATION = \"US\"  # @param {type: \"string\", placeholder: \"[your-region]\", isTemplate: true}\n",
        "if not PROJECT_ID or PROJECT_ID == \"[your-project-id]\":\n",
        "    PROJECT_ID = str(os.environ.get(\"GOOGLE_CLOUD_PROJECT\"))\n",
        "\n",
        "if not LOCATION or LOCATION == \"[your-region]\":\n",
        "    LOCATION = os.environ.get(\"GOOGLE_CLOUD_REGION\", \"US\")\n"
      ],
      "metadata": {
        "id": "B2z2mOlxnJGP",
        "executionInfo": {
          "status": "ok",
          "timestamp": 1755306555687,
          "user_tz": -330,
          "elapsed": 3,
          "user": {
            "displayName": "",
            "userId": ""
          }
        }
      },
      "execution_count": 1,
      "outputs": []
    },
    {
      "cell_type": "code",
      "source": [
        "os.environ['GOOGLE_CLOUD_PROJECT'] = PROJECT_ID\n",
        "os.environ['GOOGLE_CLOUD_REGION'] = LOCATION"
      ],
      "metadata": {
        "id": "_NKRR0u7EIvW",
        "executionInfo": {
          "status": "ok",
          "timestamp": 1755306555688,
          "user_tz": -330,
          "elapsed": 4,
          "user": {
            "displayName": "",
            "userId": ""
          }
        }
      },
      "execution_count": 2,
      "outputs": []
    },
    {
      "cell_type": "code",
      "source": [
        "BQ_BRONZE_DATASET = \"APP_MARKET_BRONZE\" # @param {type: \"string\", placeholder: \"[bronze-dataset]\", isTemplate: true}\n",
        "BQ_SILVER_DATASET = \"APP_MARKET_SILVER\" # @param {type: \"string\", placeholder: \"[silver-dataset]\", isTemplate: true}\n",
        "BQ_GOLD_DATASET = \"APP_MARKET_GOLD\" # @param {type: \"string\", placeholder: \"[gold-dataset]\", isTemplate: true}"
      ],
      "metadata": {
        "id": "PzN4WPGNnL-L",
        "executionInfo": {
          "status": "ok",
          "timestamp": 1755306555688,
          "user_tz": -330,
          "elapsed": 4,
          "user": {
            "displayName": "",
            "userId": ""
          }
        }
      },
      "execution_count": 3,
      "outputs": []
    },
    {
      "cell_type": "markdown",
      "source": [
        "### Objective"
      ],
      "metadata": {
        "id": "dzMMPKXo3PTi"
      }
    },
    {
      "cell_type": "markdown",
      "source": [
        "#### Data Definitions"
      ],
      "metadata": {
        "id": "m5KA5BwJ3ZWX"
      }
    },
    {
      "cell_type": "markdown",
      "source": [
        "\n",
        "\n",
        "**We have loaded 6 Tables in BQ as Follows:**\n",
        "\n",
        "**Review Tables:**\n",
        "\n",
        "1. `{PROJECT_ID}.{BQ_BRONZE_DATASET}.multilingual_mobile_app_reviews_2025`\n",
        "\n",
        "    * This table contains user reviews of various Apps from different platforms. like Android, iOS, Windows apps. Also it contains reviewed user information like Age, Country, Gender.\n",
        "\n",
        "    * No. of columns : 15\n",
        "    * No. of Records : 2514\n",
        "\n",
        "\n",
        "**Product Information Tables:**\n",
        "\n",
        "2. `{PROJECT_ID}.{BQ_BRONZE_DATASET}.cleanapp`\n",
        "\n",
        "    * This table having all app related information from GooglePlaystore. Information include category, genre, app ratings, number of reviews, number of downloads etc.\n",
        "\n",
        "    * No. Of Columns : 29\n",
        "    * No. of Records : 11593\n",
        "\n",
        "3. `{PROJECT_ID}.{BQ_BRONZE_DATASET}.AppleStore`\n",
        "\n",
        "    * This table having all app related information from Apple Store. Information include category, genre, app ratings, size, price etc.\n",
        "\n",
        "    * No. Of Columns : 17\n",
        "    * No. of Records : 7197\n",
        "\n",
        "4. `{PROJECT_ID}.{BQ_BRONZE_DATASET}.appleStore_description`\n",
        "\n",
        "    * This table having elaborated description in various languages about the Apps available in Apple Store.\n",
        "\n",
        "    * No. Of Columns : 5\n",
        "    * No. of Records : 7197\n",
        "\n",
        "5. `{PROJECT_ID}.{BQ_BRONZE_DATASET}.windows_store`\n",
        "\n",
        "    * This table having elaborated description about the Apps available in Windows Store.\n",
        "\n",
        "    * No. Of Columns : 9\n",
        "    * No. of Records : 3960\n",
        "\n",
        "\n",
        "\n"
      ],
      "metadata": {
        "id": "Rhpg28atqEzZ"
      }
    },
    {
      "cell_type": "markdown",
      "source": [
        "#### Data Engineering"
      ],
      "metadata": {
        "id": "DINNg9Yn3d45"
      }
    },
    {
      "cell_type": "markdown",
      "source": [
        "**Review Tables**\n",
        "\n",
        "\n",
        "*   In the `multilingual_mobile_app_reviews_2025` table, we can see that `application_category` is mapped incorrectly to many apps. Same app is being mapped to irrelavant categories. We are going to update the correct category using **BigQuery AI/ML** Functions.\n",
        "\n",
        "*   Also, in the same `multilingual_mobile_app_reviews_2025` table, we can see reviews are in various languages. So we  are going to convert them to English using **BigQuery AI/ML** Functions.\n",
        "\n",
        "* Clean-up and use GenAI to improve the features.\n",
        "\n",
        "* Load the necessary column only to Silver Layer.\n",
        "\n",
        "\n",
        "**Product Information Tables**\n",
        "\n",
        "* Combine the `AppleStore` and `appleStore_description` tables into a single table.\n",
        "\n",
        "* We can see the `appleStore_description` is having various languages. Convert them into a single language.\n",
        "\n",
        "* Generate Embeddings for the App description columns to enable vector search.\n",
        "\n",
        "* Create the `cleannapp` and `windows_store` as separate tables with necessary columns."
      ],
      "metadata": {
        "id": "FPmKdQ-W3tEu"
      }
    },
    {
      "cell_type": "markdown",
      "source": [
        "#### Creating Vertex AI Remote Models"
      ],
      "metadata": {
        "id": "bL1IVNlSHIQ_"
      }
    },
    {
      "cell_type": "code",
      "source": [
        "!bq mk --connection --location=$GOOGLE_CLOUD_REGION --project_id=$GOOGLE_CLOUD_PROJECT \\\n",
        "    --connection_type=CLOUD_RESOURCE vertex-remote-models"
      ],
      "metadata": {
        "colab": {
          "base_uri": "https://localhost:8080/"
        },
        "id": "A6textaoCt6s",
        "executionInfo": {
          "status": "ok",
          "timestamp": 1755306558405,
          "user_tz": -330,
          "elapsed": 2721,
          "user": {
            "displayName": "",
            "userId": ""
          }
        },
        "outputId": "68d95088-80b3-4dc6-93f1-004e0fd1870e"
      },
      "execution_count": 4,
      "outputs": [
        {
          "output_type": "stream",
          "name": "stdout",
          "text": [
            "BigQuery error in mk operation: Already Exists: Connection\n",
            "projects/468982775008/locations/us/connections/vertex-remote-models\n"
          ]
        }
      ]
    },
    {
      "cell_type": "code",
      "source": [
        "create_embed_model = f\"\"\"\n",
        "CREATE OR REPLACE MODEL `{PROJECT_ID}.{BQ_SILVER_DATASET}.embeddings`\n",
        "REMOTE WITH CONNECTION `us.vertex-remote-models`\n",
        "OPTIONS (ENDPOINT = 'text-embedding-005');\n",
        "\"\"\"\n",
        "\n",
        "create_gen_model = f\"\"\"\n",
        "CREATE OR REPLACE MODEL `{PROJECT_ID}.{BQ_SILVER_DATASET}.gemini`\n",
        "REMOTE WITH CONNECTION `us.vertex-remote-models`\n",
        "OPTIONS (ENDPOINT = 'gemini-2.0-flash');\n",
        "\"\"\"\n"
      ],
      "metadata": {
        "id": "-nXf-uTkJXKz",
        "executionInfo": {
          "status": "ok",
          "timestamp": 1755306558405,
          "user_tz": -330,
          "elapsed": 2,
          "user": {
            "displayName": "",
            "userId": ""
          }
        }
      },
      "execution_count": 5,
      "outputs": []
    },
    {
      "cell_type": "code",
      "source": [
        "# @title Error Handling Tip\n",
        "\n",
        "'''\n",
        "If you get error while running below cells to create Remote models related to\n",
        "Service account privilge, run the below command, after replacing the\n",
        "`SERVICE_ACCOUNT_EMAIL` with the service account shown in the error.\n",
        "'''\n",
        "!gcloud projects add-iam-policy-binding $GOOGLE_CLOUD_PROJECT \\\n",
        "    --member=\"serviceAccount:SERVICE_ACCOUNT_EMAIL\" \\\n",
        "    --role=\"roles/aiplatform.user\"\n"
      ],
      "metadata": {
        "colab": {
          "base_uri": "https://localhost:8080/"
        },
        "cellView": "form",
        "id": "kCFlSsMZ_ciW",
        "executionInfo": {
          "status": "ok",
          "timestamp": 1755306560044,
          "user_tz": -330,
          "elapsed": 1641,
          "user": {
            "displayName": "",
            "userId": ""
          }
        },
        "outputId": "0addb7f2-969b-4033-9420-99b1d0f3b978"
      },
      "execution_count": 6,
      "outputs": [
        {
          "output_type": "stream",
          "name": "stdout",
          "text": [
            "ERROR: Policy modification failed. For a binding with condition, run \"gcloud alpha iam policies lint-condition\" to identify issues in condition.\n",
            "\u001b[1;31mERROR:\u001b[0m (gcloud.projects.add-iam-policy-binding) INVALID_ARGUMENT: Invalid service account (SERVICE_ACCOUNT_EMAIL).\n"
          ]
        }
      ]
    },
    {
      "cell_type": "code",
      "source": [
        "%%bigquery\n",
        "$create_embed_model"
      ],
      "metadata": {
        "colab": {
          "base_uri": "https://localhost:8080/",
          "height": 85,
          "referenced_widgets": [
            "dd93006cb4da49d2899c0adc67095c00",
            "13cc8c8d148f4706ae7da3828344e1ee",
            "9a4ae16fc83a43acb0ad9d8ac518419f",
            "2bdd43daed19489590cc0db2505c7ce3",
            "9f7b5005781b42298ab037d32a366f79",
            "48ef10a6233f41ef97be234f0b9489ec",
            "0aa6b6a984f440c1b98189b3acba8990",
            "b15461a5ea95456aad2a0b8c59607f4b",
            "20e19b62bff0420993e2ee4ddda7458c",
            "e3ced619a85344af86abff729d8d7568",
            "e897db65ebd64564bb913787c899bb9e"
          ]
        },
        "id": "R1Tvr2qsFO9V",
        "executionInfo": {
          "status": "ok",
          "timestamp": 1755306571139,
          "user_tz": -330,
          "elapsed": 11097,
          "user": {
            "displayName": "",
            "userId": ""
          }
        },
        "outputId": "e90e476b-d193-4b33-f2d3-c978e8ff4413"
      },
      "execution_count": 7,
      "outputs": [
        {
          "output_type": "display_data",
          "data": {
            "text/plain": [
              "Query is running:   0%|          |"
            ],
            "application/vnd.jupyter.widget-view+json": {
              "version_major": 2,
              "version_minor": 0,
              "model_id": "dd93006cb4da49d2899c0adc67095c00"
            }
          },
          "metadata": {}
        },
        {
          "output_type": "execute_result",
          "data": {
            "text/plain": [
              "Empty DataFrame\n",
              "Columns: []\n",
              "Index: []"
            ],
            "text/html": [
              "\n",
              "  <div id=\"df-c0d94c24-b499-431d-a814-bb07e9b95ecb\" class=\"colab-df-container\">\n",
              "    <div>\n",
              "<style scoped>\n",
              "    .dataframe tbody tr th:only-of-type {\n",
              "        vertical-align: middle;\n",
              "    }\n",
              "\n",
              "    .dataframe tbody tr th {\n",
              "        vertical-align: top;\n",
              "    }\n",
              "\n",
              "    .dataframe thead th {\n",
              "        text-align: right;\n",
              "    }\n",
              "</style>\n",
              "<table border=\"1\" class=\"dataframe\">\n",
              "  <thead>\n",
              "    <tr style=\"text-align: right;\">\n",
              "      <th></th>\n",
              "    </tr>\n",
              "  </thead>\n",
              "  <tbody>\n",
              "  </tbody>\n",
              "</table>\n",
              "</div>\n",
              "    <div class=\"colab-df-buttons\">\n",
              "\n",
              "  <div class=\"colab-df-container\">\n",
              "    <button class=\"colab-df-convert\" onclick=\"convertToInteractive('df-c0d94c24-b499-431d-a814-bb07e9b95ecb')\"\n",
              "            title=\"Convert this dataframe to an interactive table.\"\n",
              "            style=\"display:none;\">\n",
              "\n",
              "  <svg xmlns=\"http://www.w3.org/2000/svg\" height=\"24px\" viewBox=\"0 -960 960 960\">\n",
              "    <path d=\"M120-120v-720h720v720H120Zm60-500h600v-160H180v160Zm220 220h160v-160H400v160Zm0 220h160v-160H400v160ZM180-400h160v-160H180v160Zm440 0h160v-160H620v160ZM180-180h160v-160H180v160Zm440 0h160v-160H620v160Z\"/>\n",
              "  </svg>\n",
              "    </button>\n",
              "\n",
              "  <style>\n",
              "    .colab-df-container {\n",
              "      display:flex;\n",
              "      gap: 12px;\n",
              "    }\n",
              "\n",
              "    .colab-df-convert {\n",
              "      background-color: #E8F0FE;\n",
              "      border: none;\n",
              "      border-radius: 50%;\n",
              "      cursor: pointer;\n",
              "      display: none;\n",
              "      fill: #1967D2;\n",
              "      height: 32px;\n",
              "      padding: 0 0 0 0;\n",
              "      width: 32px;\n",
              "    }\n",
              "\n",
              "    .colab-df-convert:hover {\n",
              "      background-color: #E2EBFA;\n",
              "      box-shadow: 0px 1px 2px rgba(60, 64, 67, 0.3), 0px 1px 3px 1px rgba(60, 64, 67, 0.15);\n",
              "      fill: #174EA6;\n",
              "    }\n",
              "\n",
              "    .colab-df-buttons div {\n",
              "      margin-bottom: 4px;\n",
              "    }\n",
              "\n",
              "    [theme=dark] .colab-df-convert {\n",
              "      background-color: #3B4455;\n",
              "      fill: #D2E3FC;\n",
              "    }\n",
              "\n",
              "    [theme=dark] .colab-df-convert:hover {\n",
              "      background-color: #434B5C;\n",
              "      box-shadow: 0px 1px 3px 1px rgba(0, 0, 0, 0.15);\n",
              "      filter: drop-shadow(0px 1px 2px rgba(0, 0, 0, 0.3));\n",
              "      fill: #FFFFFF;\n",
              "    }\n",
              "  </style>\n",
              "\n",
              "    <script>\n",
              "      const buttonEl =\n",
              "        document.querySelector('#df-c0d94c24-b499-431d-a814-bb07e9b95ecb button.colab-df-convert');\n",
              "      buttonEl.style.display =\n",
              "        google.colab.kernel.accessAllowed ? 'block' : 'none';\n",
              "\n",
              "      async function convertToInteractive(key) {\n",
              "        const element = document.querySelector('#df-c0d94c24-b499-431d-a814-bb07e9b95ecb');\n",
              "        const dataTable =\n",
              "          await google.colab.kernel.invokeFunction('convertToInteractive',\n",
              "                                                    [key], {});\n",
              "        if (!dataTable) return;\n",
              "\n",
              "        const docLinkHtml = 'Like what you see? Visit the ' +\n",
              "          '<a target=\"_blank\" href=https://colab.research.google.com/notebooks/data_table.ipynb>data table notebook</a>'\n",
              "          + ' to learn more about interactive tables.';\n",
              "        element.innerHTML = '';\n",
              "        dataTable['output_type'] = 'display_data';\n",
              "        await google.colab.output.renderOutput(dataTable, element);\n",
              "        const docLink = document.createElement('div');\n",
              "        docLink.innerHTML = docLinkHtml;\n",
              "        element.appendChild(docLink);\n",
              "      }\n",
              "    </script>\n",
              "  </div>\n",
              "\n",
              "\n",
              "    </div>\n",
              "  </div>\n"
            ],
            "application/vnd.google.colaboratory.intrinsic+json": {
              "type": "dataframe",
              "summary": "{\n  \"name\": \"get_ipython()\",\n  \"rows\": 0,\n  \"fields\": []\n}"
            }
          },
          "metadata": {},
          "execution_count": 7
        }
      ]
    },
    {
      "cell_type": "code",
      "source": [
        "%%bigquery\n",
        "$create_gen_model"
      ],
      "metadata": {
        "colab": {
          "base_uri": "https://localhost:8080/",
          "height": 85,
          "referenced_widgets": [
            "52dda4bcb1f64d6ab7cf2bde0ce8f0ae",
            "c7eff69b57ac4be1a934bc6c18cc5b96",
            "535aa86dafb942d88993756f6708a58b",
            "18407d8cd1bf4886b49acc2d121af6bb",
            "1d94f4bf7d6b4de38f71ce2cf2193232",
            "f0788d29cba0481e9188f4fdabd370f2",
            "33f917937f964d8990cf7aa6ee386116",
            "f2bdff22acd14121a38844f49d902484",
            "2d7b93919b0244d1bb73a24c6ac5bc9b",
            "154ffaaec8684372bcc32f47598fb2d2",
            "7cd0865315264c99a72614366d0d9378"
          ]
        },
        "id": "wkqNKQKo-i0E",
        "executionInfo": {
          "status": "ok",
          "timestamp": 1755306573189,
          "user_tz": -330,
          "elapsed": 2053,
          "user": {
            "displayName": "",
            "userId": ""
          }
        },
        "outputId": "ee6559df-2ff0-41f2-ec08-341713912b4c"
      },
      "execution_count": 8,
      "outputs": [
        {
          "output_type": "display_data",
          "data": {
            "text/plain": [
              "Query is running:   0%|          |"
            ],
            "application/vnd.jupyter.widget-view+json": {
              "version_major": 2,
              "version_minor": 0,
              "model_id": "52dda4bcb1f64d6ab7cf2bde0ce8f0ae"
            }
          },
          "metadata": {}
        },
        {
          "output_type": "execute_result",
          "data": {
            "text/plain": [
              "Empty DataFrame\n",
              "Columns: []\n",
              "Index: []"
            ],
            "text/html": [
              "\n",
              "  <div id=\"df-83f958e5-6146-4535-8358-fcddb6a1e6be\" class=\"colab-df-container\">\n",
              "    <div>\n",
              "<style scoped>\n",
              "    .dataframe tbody tr th:only-of-type {\n",
              "        vertical-align: middle;\n",
              "    }\n",
              "\n",
              "    .dataframe tbody tr th {\n",
              "        vertical-align: top;\n",
              "    }\n",
              "\n",
              "    .dataframe thead th {\n",
              "        text-align: right;\n",
              "    }\n",
              "</style>\n",
              "<table border=\"1\" class=\"dataframe\">\n",
              "  <thead>\n",
              "    <tr style=\"text-align: right;\">\n",
              "      <th></th>\n",
              "    </tr>\n",
              "  </thead>\n",
              "  <tbody>\n",
              "  </tbody>\n",
              "</table>\n",
              "</div>\n",
              "    <div class=\"colab-df-buttons\">\n",
              "\n",
              "  <div class=\"colab-df-container\">\n",
              "    <button class=\"colab-df-convert\" onclick=\"convertToInteractive('df-83f958e5-6146-4535-8358-fcddb6a1e6be')\"\n",
              "            title=\"Convert this dataframe to an interactive table.\"\n",
              "            style=\"display:none;\">\n",
              "\n",
              "  <svg xmlns=\"http://www.w3.org/2000/svg\" height=\"24px\" viewBox=\"0 -960 960 960\">\n",
              "    <path d=\"M120-120v-720h720v720H120Zm60-500h600v-160H180v160Zm220 220h160v-160H400v160Zm0 220h160v-160H400v160ZM180-400h160v-160H180v160Zm440 0h160v-160H620v160ZM180-180h160v-160H180v160Zm440 0h160v-160H620v160Z\"/>\n",
              "  </svg>\n",
              "    </button>\n",
              "\n",
              "  <style>\n",
              "    .colab-df-container {\n",
              "      display:flex;\n",
              "      gap: 12px;\n",
              "    }\n",
              "\n",
              "    .colab-df-convert {\n",
              "      background-color: #E8F0FE;\n",
              "      border: none;\n",
              "      border-radius: 50%;\n",
              "      cursor: pointer;\n",
              "      display: none;\n",
              "      fill: #1967D2;\n",
              "      height: 32px;\n",
              "      padding: 0 0 0 0;\n",
              "      width: 32px;\n",
              "    }\n",
              "\n",
              "    .colab-df-convert:hover {\n",
              "      background-color: #E2EBFA;\n",
              "      box-shadow: 0px 1px 2px rgba(60, 64, 67, 0.3), 0px 1px 3px 1px rgba(60, 64, 67, 0.15);\n",
              "      fill: #174EA6;\n",
              "    }\n",
              "\n",
              "    .colab-df-buttons div {\n",
              "      margin-bottom: 4px;\n",
              "    }\n",
              "\n",
              "    [theme=dark] .colab-df-convert {\n",
              "      background-color: #3B4455;\n",
              "      fill: #D2E3FC;\n",
              "    }\n",
              "\n",
              "    [theme=dark] .colab-df-convert:hover {\n",
              "      background-color: #434B5C;\n",
              "      box-shadow: 0px 1px 3px 1px rgba(0, 0, 0, 0.15);\n",
              "      filter: drop-shadow(0px 1px 2px rgba(0, 0, 0, 0.3));\n",
              "      fill: #FFFFFF;\n",
              "    }\n",
              "  </style>\n",
              "\n",
              "    <script>\n",
              "      const buttonEl =\n",
              "        document.querySelector('#df-83f958e5-6146-4535-8358-fcddb6a1e6be button.colab-df-convert');\n",
              "      buttonEl.style.display =\n",
              "        google.colab.kernel.accessAllowed ? 'block' : 'none';\n",
              "\n",
              "      async function convertToInteractive(key) {\n",
              "        const element = document.querySelector('#df-83f958e5-6146-4535-8358-fcddb6a1e6be');\n",
              "        const dataTable =\n",
              "          await google.colab.kernel.invokeFunction('convertToInteractive',\n",
              "                                                    [key], {});\n",
              "        if (!dataTable) return;\n",
              "\n",
              "        const docLinkHtml = 'Like what you see? Visit the ' +\n",
              "          '<a target=\"_blank\" href=https://colab.research.google.com/notebooks/data_table.ipynb>data table notebook</a>'\n",
              "          + ' to learn more about interactive tables.';\n",
              "        element.innerHTML = '';\n",
              "        dataTable['output_type'] = 'display_data';\n",
              "        await google.colab.output.renderOutput(dataTable, element);\n",
              "        const docLink = document.createElement('div');\n",
              "        docLink.innerHTML = docLinkHtml;\n",
              "        element.appendChild(docLink);\n",
              "      }\n",
              "    </script>\n",
              "  </div>\n",
              "\n",
              "\n",
              "    </div>\n",
              "  </div>\n"
            ],
            "application/vnd.google.colaboratory.intrinsic+json": {
              "type": "dataframe",
              "summary": "{\n  \"name\": \"get_ipython()\",\n  \"rows\": 0,\n  \"fields\": []\n}"
            }
          },
          "metadata": {},
          "execution_count": 8
        }
      ]
    },
    {
      "cell_type": "markdown",
      "source": [
        "#### Review Table Data Processing"
      ],
      "metadata": {
        "id": "nMKPt1LdBXNx"
      }
    },
    {
      "cell_type": "code",
      "source": [
        "import bigframes.pandas as bpd\n",
        "import bigframes.bigquery as bbq\n",
        "from bigframes.ml import llm\n",
        "\n",
        "# Set BigQuery DataFrames options\n",
        "# Note: The project option is not required in all environments.\n",
        "# On BigQuery Studio, the project ID is automatically detected.\n",
        "bpd.options.bigquery.project = PROJECT_ID\n",
        "\n",
        "# Note: The location option is not required.\n",
        "# It defaults to the location of the first table or query\n",
        "# passed to read_gbq(). For APIs where a location can't be\n",
        "# auto-detected, the location defaults to the \"US\" location.\n",
        "bpd.options.bigquery.location = LOCATION"
      ],
      "metadata": {
        "id": "RDyJgy4XQHYz",
        "executionInfo": {
          "status": "ok",
          "timestamp": 1755306573190,
          "user_tz": -330,
          "elapsed": 12,
          "user": {
            "displayName": "",
            "userId": ""
          }
        }
      },
      "execution_count": 9,
      "outputs": []
    },
    {
      "cell_type": "markdown",
      "source": [
        "##### Exploring Data"
      ],
      "metadata": {
        "id": "viiYjZqQKlM4"
      }
    },
    {
      "cell_type": "code",
      "source": [
        "review_df = bpd.read_gbq(f'{PROJECT_ID}.{BQ_BRONZE_DATASET}.multilingual_mobile_app_reviews_2025')"
      ],
      "metadata": {
        "colab": {
          "base_uri": "https://localhost:8080/",
          "height": 34
        },
        "id": "MXThzWiZCS2w",
        "executionInfo": {
          "status": "ok",
          "timestamp": 1755306574053,
          "user_tz": -330,
          "elapsed": 874,
          "user": {
            "displayName": "",
            "userId": ""
          }
        },
        "outputId": "a2e7619d-606b-4c31-ce19-93ed03b9174b"
      },
      "execution_count": 10,
      "outputs": [
        {
          "output_type": "display_data",
          "data": {
            "text/plain": [
              "<IPython.core.display.HTML object>"
            ],
            "text/html": [
              "Query job c80eefff-2c33-4724-ace1-cafa109b11f5 is DONE. 0 Bytes processed. <a target=\"_blank\" href=\"https://console.cloud.google.com/bigquery?project=market-mirror-dev&j=bq:US:c80eefff-2c33-4724-ace1-cafa109b11f5&page=queryresults\">Open Job</a>"
            ]
          },
          "metadata": {}
        }
      ]
    },
    {
      "cell_type": "code",
      "source": [
        "review_df.head()"
      ],
      "metadata": {
        "colab": {
          "base_uri": "https://localhost:8080/",
          "height": 585
        },
        "id": "VDlXQ0bKDUB_",
        "executionInfo": {
          "status": "ok",
          "timestamp": 1755306579945,
          "user_tz": -330,
          "elapsed": 5893,
          "user": {
            "displayName": "",
            "userId": ""
          }
        },
        "outputId": "f22118c4-982f-41d4-a494-e550c726958d"
      },
      "execution_count": 11,
      "outputs": [
        {
          "output_type": "display_data",
          "data": {
            "text/plain": [
              "<IPython.core.display.HTML object>"
            ],
            "text/html": [
              "Query job 3f58133a-ebe8-432c-b970-f70e1a5da26c is DONE. 448.4 kB processed. <a target=\"_blank\" href=\"https://console.cloud.google.com/bigquery?project=market-mirror-dev&j=bq:US:3f58133a-ebe8-432c-b970-f70e1a5da26c&page=queryresults\">Open Job</a>"
            ]
          },
          "metadata": {}
        },
        {
          "output_type": "execute_result",
          "data": {
            "text/plain": [
              "   review_id  user_id     app_name       app_category  \\\n",
              "0        470  2402031  Google Maps  Social Networking   \n",
              "1         82  9758155        Udemy   News & Magazines   \n",
              "2       1280  5696685         eBay       Productivity   \n",
              "3       1981  3633909     LinkedIn      Entertainment   \n",
              "4       1525  1725497     WhatsApp  Social Networking   \n",
              "\n",
              "                                         review_text review_language  rating  \\\n",
              "0  Cum veritatis minima. Cumque consectetur quos ...              hi     4.7   \n",
              "1  This app is amazing! Really love the new featu...              th     2.4   \n",
              "2  This app is amazing! Really love the new featu...              hi     1.8   \n",
              "3  Possimus perferendis ducimus adipisci sequi vo...              ja     2.7   \n",
              "4                           Placeat quo consectetur.              ar     4.9   \n",
              "\n",
              "                 review_date  verified_purchase    device_type  \\\n",
              "0  2024-02-21 02:48:54+00:00              False        Android   \n",
              "1  2023-12-29 21:36:49+00:00              False  Windows Phone   \n",
              "2  2024-09-07 12:31:24+00:00               True            iOS   \n",
              "3  2024-03-08 09:07:42+00:00               True            iOS   \n",
              "4  2024-05-06 22:33:59+00:00              False  Windows Phone   \n",
              "\n",
              "   num_helpful_votes  user_age user_country        user_gender  app_version  \n",
              "0                728      75.0       France             Female  6.9.13-beta  \n",
              "1                853      24.0     Thailand               Male          1.8  \n",
              "2               1028      40.0        Japan         Non-binary       6.4.22  \n",
              "3                703      70.0        India             Female       2.4.48  \n",
              "4               1080      60.0       Russia  Prefer not to say         11.1  \n",
              "\n",
              "[5 rows x 15 columns]"
            ],
            "text/html": [
              "<div>\n",
              "<style scoped>\n",
              "    .dataframe tbody tr th:only-of-type {\n",
              "        vertical-align: middle;\n",
              "    }\n",
              "\n",
              "    .dataframe tbody tr th {\n",
              "        vertical-align: top;\n",
              "    }\n",
              "\n",
              "    .dataframe thead th {\n",
              "        text-align: right;\n",
              "    }\n",
              "</style>\n",
              "<table border=\"1\" class=\"dataframe\">\n",
              "  <thead>\n",
              "    <tr style=\"text-align: right;\">\n",
              "      <th></th>\n",
              "      <th>review_id</th>\n",
              "      <th>user_id</th>\n",
              "      <th>app_name</th>\n",
              "      <th>app_category</th>\n",
              "      <th>review_text</th>\n",
              "      <th>review_language</th>\n",
              "      <th>rating</th>\n",
              "      <th>review_date</th>\n",
              "      <th>verified_purchase</th>\n",
              "      <th>device_type</th>\n",
              "      <th>num_helpful_votes</th>\n",
              "      <th>user_age</th>\n",
              "      <th>user_country</th>\n",
              "      <th>user_gender</th>\n",
              "      <th>app_version</th>\n",
              "    </tr>\n",
              "  </thead>\n",
              "  <tbody>\n",
              "    <tr>\n",
              "      <th>0</th>\n",
              "      <td>470</td>\n",
              "      <td>2402031</td>\n",
              "      <td>Google Maps</td>\n",
              "      <td>Social Networking</td>\n",
              "      <td>Cum veritatis minima. Cumque consectetur quos ...</td>\n",
              "      <td>hi</td>\n",
              "      <td>4.7</td>\n",
              "      <td>2024-02-21 02:48:54+00:00</td>\n",
              "      <td>False</td>\n",
              "      <td>Android</td>\n",
              "      <td>728</td>\n",
              "      <td>75.0</td>\n",
              "      <td>France</td>\n",
              "      <td>Female</td>\n",
              "      <td>6.9.13-beta</td>\n",
              "    </tr>\n",
              "    <tr>\n",
              "      <th>1</th>\n",
              "      <td>82</td>\n",
              "      <td>9758155</td>\n",
              "      <td>Udemy</td>\n",
              "      <td>News &amp; Magazines</td>\n",
              "      <td>This app is amazing! Really love the new featu...</td>\n",
              "      <td>th</td>\n",
              "      <td>2.4</td>\n",
              "      <td>2023-12-29 21:36:49+00:00</td>\n",
              "      <td>False</td>\n",
              "      <td>Windows Phone</td>\n",
              "      <td>853</td>\n",
              "      <td>24.0</td>\n",
              "      <td>Thailand</td>\n",
              "      <td>Male</td>\n",
              "      <td>1.8</td>\n",
              "    </tr>\n",
              "    <tr>\n",
              "      <th>2</th>\n",
              "      <td>1280</td>\n",
              "      <td>5696685</td>\n",
              "      <td>eBay</td>\n",
              "      <td>Productivity</td>\n",
              "      <td>This app is amazing! Really love the new featu...</td>\n",
              "      <td>hi</td>\n",
              "      <td>1.8</td>\n",
              "      <td>2024-09-07 12:31:24+00:00</td>\n",
              "      <td>True</td>\n",
              "      <td>iOS</td>\n",
              "      <td>1028</td>\n",
              "      <td>40.0</td>\n",
              "      <td>Japan</td>\n",
              "      <td>Non-binary</td>\n",
              "      <td>6.4.22</td>\n",
              "    </tr>\n",
              "    <tr>\n",
              "      <th>3</th>\n",
              "      <td>1981</td>\n",
              "      <td>3633909</td>\n",
              "      <td>LinkedIn</td>\n",
              "      <td>Entertainment</td>\n",
              "      <td>Possimus perferendis ducimus adipisci sequi vo...</td>\n",
              "      <td>ja</td>\n",
              "      <td>2.7</td>\n",
              "      <td>2024-03-08 09:07:42+00:00</td>\n",
              "      <td>True</td>\n",
              "      <td>iOS</td>\n",
              "      <td>703</td>\n",
              "      <td>70.0</td>\n",
              "      <td>India</td>\n",
              "      <td>Female</td>\n",
              "      <td>2.4.48</td>\n",
              "    </tr>\n",
              "    <tr>\n",
              "      <th>4</th>\n",
              "      <td>1525</td>\n",
              "      <td>1725497</td>\n",
              "      <td>WhatsApp</td>\n",
              "      <td>Social Networking</td>\n",
              "      <td>Placeat quo consectetur.</td>\n",
              "      <td>ar</td>\n",
              "      <td>4.9</td>\n",
              "      <td>2024-05-06 22:33:59+00:00</td>\n",
              "      <td>False</td>\n",
              "      <td>Windows Phone</td>\n",
              "      <td>1080</td>\n",
              "      <td>60.0</td>\n",
              "      <td>Russia</td>\n",
              "      <td>Prefer not to say</td>\n",
              "      <td>11.1</td>\n",
              "    </tr>\n",
              "  </tbody>\n",
              "</table>\n",
              "<p>5 rows × 15 columns</p>\n",
              "</div>[5 rows x 15 columns in total]"
            ]
          },
          "metadata": {},
          "execution_count": 11
        }
      ]
    },
    {
      "cell_type": "code",
      "source": [
        "review_df.columns"
      ],
      "metadata": {
        "colab": {
          "base_uri": "https://localhost:8080/"
        },
        "id": "fbG9d4SdDqcJ",
        "executionInfo": {
          "status": "ok",
          "timestamp": 1755306579945,
          "user_tz": -330,
          "elapsed": 4,
          "user": {
            "displayName": "",
            "userId": ""
          }
        },
        "outputId": "6e3422c2-09a8-49af-cab7-c00d0fe290da"
      },
      "execution_count": 12,
      "outputs": [
        {
          "output_type": "execute_result",
          "data": {
            "text/plain": [
              "Index(['review_id', 'user_id', 'app_name', 'app_category', 'review_text',\n",
              "       'review_language', 'rating', 'review_date', 'verified_purchase',\n",
              "       'device_type', 'num_helpful_votes', 'user_age', 'user_country',\n",
              "       'user_gender', 'app_version'],\n",
              "      dtype='object')"
            ]
          },
          "metadata": {},
          "execution_count": 12
        }
      ]
    },
    {
      "cell_type": "code",
      "source": [
        "#lets keep only necessary column\n",
        "#ignoring the review language column since its looks like not relavent. Even reviews in English is having different language code.\n",
        "\n",
        "review_df_subset = review_df[['review_id', 'app_name','app_category','review_text','rating','review_date','user_age','user_country',\n",
        "                       'user_gender']]"
      ],
      "metadata": {
        "id": "Jpk7yTk5D5q4",
        "executionInfo": {
          "status": "ok",
          "timestamp": 1755306579945,
          "user_tz": -330,
          "elapsed": 4,
          "user": {
            "displayName": "",
            "userId": ""
          }
        }
      },
      "execution_count": 13,
      "outputs": []
    },
    {
      "cell_type": "code",
      "source": [
        "review_df_subset.head(5)"
      ],
      "metadata": {
        "colab": {
          "base_uri": "https://localhost:8080/",
          "height": 270
        },
        "id": "ypcYz7t1ExQi",
        "executionInfo": {
          "status": "ok",
          "timestamp": 1755306584246,
          "user_tz": -330,
          "elapsed": 4304,
          "user": {
            "displayName": "",
            "userId": ""
          }
        },
        "outputId": "cdbaac78-d9a0-4559-edb7-4bf5fed6a300"
      },
      "execution_count": 14,
      "outputs": [
        {
          "output_type": "display_data",
          "data": {
            "text/plain": [
              "<IPython.core.display.HTML object>"
            ],
            "text/html": [
              "Query job eabaa608-b021-4d9b-a69b-418825430e5e is DONE. 448.4 kB processed. <a target=\"_blank\" href=\"https://console.cloud.google.com/bigquery?project=market-mirror-dev&j=bq:US:eabaa608-b021-4d9b-a69b-418825430e5e&page=queryresults\">Open Job</a>"
            ]
          },
          "metadata": {}
        },
        {
          "output_type": "execute_result",
          "data": {
            "text/plain": [
              "   review_id     app_name       app_category  \\\n",
              "0        470  Google Maps  Social Networking   \n",
              "1         82        Udemy   News & Magazines   \n",
              "2       1280         eBay       Productivity   \n",
              "3       1981     LinkedIn      Entertainment   \n",
              "4       1525     WhatsApp  Social Networking   \n",
              "\n",
              "                                         review_text  rating  \\\n",
              "0  Cum veritatis minima. Cumque consectetur quos ...     4.7   \n",
              "1  This app is amazing! Really love the new featu...     2.4   \n",
              "2  This app is amazing! Really love the new featu...     1.8   \n",
              "3  Possimus perferendis ducimus adipisci sequi vo...     2.7   \n",
              "4                           Placeat quo consectetur.     4.9   \n",
              "\n",
              "                 review_date  user_age user_country        user_gender  \n",
              "0  2024-02-21 02:48:54+00:00      75.0       France             Female  \n",
              "1  2023-12-29 21:36:49+00:00      24.0     Thailand               Male  \n",
              "2  2024-09-07 12:31:24+00:00      40.0        Japan         Non-binary  \n",
              "3  2024-03-08 09:07:42+00:00      70.0        India             Female  \n",
              "4  2024-05-06 22:33:59+00:00      60.0       Russia  Prefer not to say  \n",
              "\n",
              "[5 rows x 9 columns]"
            ],
            "text/html": [
              "<div>\n",
              "<style scoped>\n",
              "    .dataframe tbody tr th:only-of-type {\n",
              "        vertical-align: middle;\n",
              "    }\n",
              "\n",
              "    .dataframe tbody tr th {\n",
              "        vertical-align: top;\n",
              "    }\n",
              "\n",
              "    .dataframe thead th {\n",
              "        text-align: right;\n",
              "    }\n",
              "</style>\n",
              "<table border=\"1\" class=\"dataframe\">\n",
              "  <thead>\n",
              "    <tr style=\"text-align: right;\">\n",
              "      <th></th>\n",
              "      <th>review_id</th>\n",
              "      <th>app_name</th>\n",
              "      <th>app_category</th>\n",
              "      <th>review_text</th>\n",
              "      <th>rating</th>\n",
              "      <th>review_date</th>\n",
              "      <th>user_age</th>\n",
              "      <th>user_country</th>\n",
              "      <th>user_gender</th>\n",
              "    </tr>\n",
              "  </thead>\n",
              "  <tbody>\n",
              "    <tr>\n",
              "      <th>0</th>\n",
              "      <td>470</td>\n",
              "      <td>Google Maps</td>\n",
              "      <td>Social Networking</td>\n",
              "      <td>Cum veritatis minima. Cumque consectetur quos ...</td>\n",
              "      <td>4.7</td>\n",
              "      <td>2024-02-21 02:48:54+00:00</td>\n",
              "      <td>75.0</td>\n",
              "      <td>France</td>\n",
              "      <td>Female</td>\n",
              "    </tr>\n",
              "    <tr>\n",
              "      <th>1</th>\n",
              "      <td>82</td>\n",
              "      <td>Udemy</td>\n",
              "      <td>News &amp; Magazines</td>\n",
              "      <td>This app is amazing! Really love the new featu...</td>\n",
              "      <td>2.4</td>\n",
              "      <td>2023-12-29 21:36:49+00:00</td>\n",
              "      <td>24.0</td>\n",
              "      <td>Thailand</td>\n",
              "      <td>Male</td>\n",
              "    </tr>\n",
              "    <tr>\n",
              "      <th>2</th>\n",
              "      <td>1280</td>\n",
              "      <td>eBay</td>\n",
              "      <td>Productivity</td>\n",
              "      <td>This app is amazing! Really love the new featu...</td>\n",
              "      <td>1.8</td>\n",
              "      <td>2024-09-07 12:31:24+00:00</td>\n",
              "      <td>40.0</td>\n",
              "      <td>Japan</td>\n",
              "      <td>Non-binary</td>\n",
              "    </tr>\n",
              "    <tr>\n",
              "      <th>3</th>\n",
              "      <td>1981</td>\n",
              "      <td>LinkedIn</td>\n",
              "      <td>Entertainment</td>\n",
              "      <td>Possimus perferendis ducimus adipisci sequi vo...</td>\n",
              "      <td>2.7</td>\n",
              "      <td>2024-03-08 09:07:42+00:00</td>\n",
              "      <td>70.0</td>\n",
              "      <td>India</td>\n",
              "      <td>Female</td>\n",
              "    </tr>\n",
              "    <tr>\n",
              "      <th>4</th>\n",
              "      <td>1525</td>\n",
              "      <td>WhatsApp</td>\n",
              "      <td>Social Networking</td>\n",
              "      <td>Placeat quo consectetur.</td>\n",
              "      <td>4.9</td>\n",
              "      <td>2024-05-06 22:33:59+00:00</td>\n",
              "      <td>60.0</td>\n",
              "      <td>Russia</td>\n",
              "      <td>Prefer not to say</td>\n",
              "    </tr>\n",
              "  </tbody>\n",
              "</table>\n",
              "<p>5 rows × 9 columns</p>\n",
              "</div>[5 rows x 9 columns in total]"
            ]
          },
          "metadata": {},
          "execution_count": 14
        }
      ]
    },
    {
      "cell_type": "code",
      "source": [
        "review_df_subset.info()"
      ],
      "metadata": {
        "colab": {
          "base_uri": "https://localhost:8080/"
        },
        "id": "FKKUO9I8E60e",
        "executionInfo": {
          "status": "ok",
          "timestamp": 1755306588849,
          "user_tz": -330,
          "elapsed": 4605,
          "user": {
            "displayName": "",
            "userId": ""
          }
        },
        "outputId": "652c2464-06bc-4412-e1f4-6e2c91e4bdf8"
      },
      "execution_count": 15,
      "outputs": [
        {
          "output_type": "stream",
          "name": "stdout",
          "text": [
            "<class 'bigframes.dataframe.DataFrame'>\n",
            "Index: 2514 entries, 0 to 2513\n",
            "Data columns (total 9 columns):\n",
            "  #  Column        Non-Null Count    Dtype\n",
            "---  ------------  ----------------  ------------------------------\n",
            "  0  review_id     2514 non-null     Int64\n",
            "  1  app_name      2514 non-null     string\n",
            "  2  app_category  2514 non-null     string\n",
            "  3  review_text   2455 non-null     string\n",
            "  4  rating        2477 non-null     Float64\n",
            "  5  review_date   2514 non-null     timestamp[us, tz=UTC][pyarrow]\n",
            "  6  user_age      2514 non-null     Float64\n",
            "  7  user_country  2473 non-null     string\n",
            "  8  user_gender   1927 non-null     string\n",
            "dtypes: Float64(2), Int64(1), string(5), timestamp[us, tz=UTC][pyarrow](1)\n",
            "memory usage: 201120 bytes\n"
          ]
        }
      ]
    },
    {
      "cell_type": "markdown",
      "source": [
        "##### Data Cleaning steps"
      ],
      "metadata": {
        "id": "yjqAlBXbKc2h"
      }
    },
    {
      "cell_type": "markdown",
      "source": [
        "\n",
        "\n",
        "* NULL Validation\n",
        "\n",
        "  1. review_text - without review no use of the records. Remove them.\n",
        "  2. rating      - take average rating and populate them.\n",
        "  3. user_country - update with most probable country.\n",
        "  4. user_gender - its ok to have nulls or update.\n",
        "\n",
        "* Data Validation\n",
        "\n",
        "  1. review_id\n",
        "    *   This column should not have duplicates. If so, generate our id.\n",
        "  2. app_name\n",
        "    *   Check if data is consistant\n",
        "    *   Same app should not be having multiple names with incorrect spelling/space etc.\n",
        "  3. app_category\n",
        "    * Check if each app associated with a single app category. If not fix the same with the use of `GenAI`\n",
        "    * App category values should  be consistant. Should not be having similar name with spelling  mistakes etc.\n",
        "  4. review_text\n",
        "    * Add another feature column review_language with the help of `GenAI` to identify in which language review is written.\n",
        "  5. user_age\n",
        "    * Check if the values are consistant. Values should be between acceptable human age.\n",
        "  6. user_country\n",
        "    * Check if the values are consistant.\n",
        "    * Same country should not be having multiple values with incorrect spelling.\n",
        "  7. user_gender\n",
        "    * Check if the values are consistant.\n",
        "    * Same gender should not be having multiple values with incorrect spelling.\n"
      ],
      "metadata": {
        "id": "6oRtis67GkMv"
      }
    },
    {
      "cell_type": "markdown",
      "source": [
        "##### Fixing NULL values"
      ],
      "metadata": {
        "id": "QSNq-D-YmHTV"
      }
    },
    {
      "cell_type": "code",
      "source": [
        "review_df_subset.isna().sum()\n",
        "\n",
        "review_df_subset = review_df_subset.dropna(subset=['review_text'])"
      ],
      "metadata": {
        "id": "Jo8waJOqK2np",
        "executionInfo": {
          "status": "ok",
          "timestamp": 1755306588849,
          "user_tz": -330,
          "elapsed": 6,
          "user": {
            "displayName": "",
            "userId": ""
          }
        }
      },
      "execution_count": 16,
      "outputs": []
    },
    {
      "cell_type": "code",
      "source": [
        "review_df_subset.isna().sum()"
      ],
      "metadata": {
        "colab": {
          "base_uri": "https://localhost:8080/",
          "height": 225
        },
        "id": "U7XE2nXoLTTA",
        "executionInfo": {
          "status": "ok",
          "timestamp": 1755306595091,
          "user_tz": -330,
          "elapsed": 6247,
          "user": {
            "displayName": "",
            "userId": ""
          }
        },
        "outputId": "c65de6cf-f601-4464-9388-8c5014c24f96"
      },
      "execution_count": 17,
      "outputs": [
        {
          "output_type": "display_data",
          "data": {
            "text/plain": [
              "<IPython.core.display.HTML object>"
            ],
            "text/html": [
              "Query job 339d7ca3-c3d1-4291-8d16-938ad480a438 is DONE. 345.3 kB processed. <a target=\"_blank\" href=\"https://console.cloud.google.com/bigquery?project=market-mirror-dev&j=bq:US:339d7ca3-c3d1-4291-8d16-938ad480a438&page=queryresults\">Open Job</a>"
            ]
          },
          "metadata": {}
        },
        {
          "output_type": "display_data",
          "data": {
            "text/plain": [
              "<IPython.core.display.HTML object>"
            ],
            "text/html": [
              "Query job efb5b9d4-fb5d-49a0-80c1-e19c30b975d8 is DONE. 250 Bytes processed. <a target=\"_blank\" href=\"https://console.cloud.google.com/bigquery?project=market-mirror-dev&j=bq:US:efb5b9d4-fb5d-49a0-80c1-e19c30b975d8&page=queryresults\">Open Job</a>"
            ]
          },
          "metadata": {}
        },
        {
          "output_type": "execute_result",
          "data": {
            "text/plain": [
              "review_id         0\n",
              "app_name          0\n",
              "app_category      0\n",
              "review_text       0\n",
              "rating           37\n",
              "review_date       0\n",
              "user_age          0\n",
              "user_country     41\n",
              "user_gender     578\n",
              "dtype: Int64"
            ]
          },
          "metadata": {},
          "execution_count": 17
        }
      ]
    },
    {
      "cell_type": "code",
      "source": [
        "app_with_rating_na = review_df_subset[review_df_subset['rating'].isna()]['app_name'].drop_duplicates().to_list()\n",
        "app_mean_rating = review_df_subset[review_df_subset['app_name'].isin(app_with_rating_na)][['app_name','rating']].groupby('app_name').mean()\n",
        "app_mean_rating = app_mean_rating.reset_index()\n",
        "app_mean_rating = app_mean_rating.rename(columns={'rating':'rating_mean'})\n",
        "review_df_subset = bpd.merge(review_df_subset, app_mean_rating, on='app_name', how='left')\n",
        "review_df_subset['rating'] = review_df_subset['rating'].fillna(review_df_subset.rating_mean.round(2))\n",
        "review_df_subset = review_df_subset.drop(columns=['rating_mean'])\n"
      ],
      "metadata": {
        "id": "oT-HE2h1NCxj",
        "executionInfo": {
          "status": "ok",
          "timestamp": 1755306595802,
          "user_tz": -330,
          "elapsed": 714,
          "user": {
            "displayName": "",
            "userId": ""
          }
        }
      },
      "execution_count": 18,
      "outputs": []
    },
    {
      "cell_type": "code",
      "source": [
        "review_df_subset.isna().sum()"
      ],
      "metadata": {
        "colab": {
          "base_uri": "https://localhost:8080/",
          "height": 225
        },
        "id": "ry3lw2xuRPS5",
        "executionInfo": {
          "status": "ok",
          "timestamp": 1755306608376,
          "user_tz": -330,
          "elapsed": 12576,
          "user": {
            "displayName": "",
            "userId": ""
          }
        },
        "outputId": "d9b5c4d6-d266-4ab7-c467-c604529e0f62"
      },
      "execution_count": 19,
      "outputs": [
        {
          "output_type": "display_data",
          "data": {
            "text/plain": [
              "<IPython.core.display.HTML object>"
            ],
            "text/html": [
              "Query job dc3ab0c7-615f-4701-8fd3-0516955f7472 is DONE. 345.3 kB processed. <a target=\"_blank\" href=\"https://console.cloud.google.com/bigquery?project=market-mirror-dev&j=bq:US:dc3ab0c7-615f-4701-8fd3-0516955f7472&page=queryresults\">Open Job</a>"
            ]
          },
          "metadata": {}
        },
        {
          "output_type": "display_data",
          "data": {
            "text/plain": [
              "<IPython.core.display.HTML object>"
            ],
            "text/html": [
              "Query job 23cb08bd-026b-42d4-a8a4-33dd94fc148c is DONE. 250 Bytes processed. <a target=\"_blank\" href=\"https://console.cloud.google.com/bigquery?project=market-mirror-dev&j=bq:US:23cb08bd-026b-42d4-a8a4-33dd94fc148c&page=queryresults\">Open Job</a>"
            ]
          },
          "metadata": {}
        },
        {
          "output_type": "execute_result",
          "data": {
            "text/plain": [
              "review_id         0\n",
              "app_name          0\n",
              "app_category      0\n",
              "review_text       0\n",
              "rating            0\n",
              "review_date       0\n",
              "user_age          0\n",
              "user_country     41\n",
              "user_gender     578\n",
              "dtype: Int64"
            ]
          },
          "metadata": {},
          "execution_count": 19
        }
      ]
    },
    {
      "cell_type": "code",
      "source": [
        "country_nulls = review_df_subset[review_df_subset.user_country.isna()].app_name.drop_duplicates().to_list()"
      ],
      "metadata": {
        "id": "D18xT8mRTdgT",
        "executionInfo": {
          "status": "ok",
          "timestamp": 1755308861003,
          "user_tz": -330,
          "elapsed": 825,
          "user": {
            "displayName": "",
            "userId": ""
          }
        }
      },
      "execution_count": 69,
      "outputs": []
    },
    {
      "cell_type": "code",
      "source": [
        "null_country_df = review_df_subset[review_df_subset.app_name.isin(country_nulls)][['app_name','user_country']]\n",
        "app_tot_count_df = null_country_df.groupby('app_name').count().reset_index().rename(columns={'user_country':'tot_count'})\n",
        "# group by app_name and user_country to get count for each app how many times a particular county comes\n",
        "null_country_df = null_country_df.groupby(['app_name','user_country']).size().reset_index(name='count')\n",
        "null_country_df = bpd.merge(null_country_df, app_tot_count_df, on='app_name', how='left')\n",
        "null_country_df['country_rank'] = (null_country_df['count']/null_country_df['tot_count'])*100\n",
        "\n",
        "null_country_df['rank'] = null_country_df.groupby(['app_name'])['country_rank'].rank(method='first',ascending=False)\n",
        "null_country_df = null_country_df.sort_values(by=['app_name','rank'], ascending=[True,True])\n",
        "null_country_df = null_country_df.rename(columns={'rank':'country_rank_final'})\n",
        "null_country_df = null_country_df[null_country_df.country_rank_final==1].drop(columns=['count','tot_count','country_rank','country_rank_final'])\n",
        "\n",
        "null_country_df = null_country_df.rename(columns={'user_country':'user_country_final'})\n",
        "review_df_subset = bpd.merge(review_df_subset, null_country_df, on='app_name', how='left')\n",
        "review_df_subset['user_country'] = review_df_subset['user_country'].fillna(review_df_subset.user_country_final)\n",
        "review_df_subset = review_df_subset.drop(columns=['user_country_final'])\n",
        "\n"
      ],
      "metadata": {
        "id": "gqzw2yBqUk2r",
        "executionInfo": {
          "status": "ok",
          "timestamp": 1755308866832,
          "user_tz": -330,
          "elapsed": 2,
          "user": {
            "displayName": "",
            "userId": ""
          }
        }
      },
      "execution_count": 70,
      "outputs": []
    },
    {
      "cell_type": "code",
      "source": [
        "review_df_subset.isna().sum()"
      ],
      "metadata": {
        "colab": {
          "base_uri": "https://localhost:8080/",
          "height": 225
        },
        "id": "_04Vtfr2j_n1",
        "executionInfo": {
          "status": "ok",
          "timestamp": 1755308892924,
          "user_tz": -330,
          "elapsed": 8569,
          "user": {
            "displayName": "",
            "userId": ""
          }
        },
        "outputId": "cfae3ccf-9e73-4ceb-a720-a4b328fe3b9a"
      },
      "execution_count": 72,
      "outputs": [
        {
          "output_type": "display_data",
          "data": {
            "text/plain": [
              "<IPython.core.display.HTML object>"
            ],
            "text/html": [
              "Query job b83252aa-3e2a-4cb5-a368-624e522d4014 is DONE. 341.7 kB processed. <a target=\"_blank\" href=\"https://console.cloud.google.com/bigquery?project=market-mirror-dev&j=bq:US:b83252aa-3e2a-4cb5-a368-624e522d4014&page=queryresults\">Open Job</a>"
            ]
          },
          "metadata": {}
        },
        {
          "output_type": "display_data",
          "data": {
            "text/plain": [
              "<IPython.core.display.HTML object>"
            ],
            "text/html": [
              "Query job 101ddadc-b86d-4d92-8e21-20b4a0672760 is DONE. 250 Bytes processed. <a target=\"_blank\" href=\"https://console.cloud.google.com/bigquery?project=market-mirror-dev&j=bq:US:101ddadc-b86d-4d92-8e21-20b4a0672760&page=queryresults\">Open Job</a>"
            ]
          },
          "metadata": {}
        },
        {
          "output_type": "execute_result",
          "data": {
            "text/plain": [
              "review_id         0\n",
              "app_name          0\n",
              "app_category      0\n",
              "review_text       0\n",
              "rating            0\n",
              "review_date       0\n",
              "user_age          0\n",
              "user_country      0\n",
              "user_gender     578\n",
              "dtype: Int64"
            ]
          },
          "metadata": {},
          "execution_count": 72
        }
      ]
    },
    {
      "cell_type": "code",
      "source": [
        "review_df_subset['user_gender'].value_counts()"
      ],
      "metadata": {
        "colab": {
          "base_uri": "https://localhost:8080/",
          "height": 156
        },
        "id": "b44omhgWk69z",
        "executionInfo": {
          "status": "ok",
          "timestamp": 1755309138300,
          "user_tz": -330,
          "elapsed": 9469,
          "user": {
            "displayName": "",
            "userId": ""
          }
        },
        "outputId": "96f96278-cc14-447e-d9c0-3aec2ba7a7b5"
      },
      "execution_count": 76,
      "outputs": [
        {
          "output_type": "display_data",
          "data": {
            "text/plain": [
              "<IPython.core.display.HTML object>"
            ],
            "text/html": [
              "Query job 3efd29b6-9c0f-4a0d-974d-be1f7a352497 is DONE. 21.0 kB processed. <a target=\"_blank\" href=\"https://console.cloud.google.com/bigquery?project=market-mirror-dev&j=bq:US:3efd29b6-9c0f-4a0d-974d-be1f7a352497&page=queryresults\">Open Job</a>"
            ]
          },
          "metadata": {}
        },
        {
          "output_type": "display_data",
          "data": {
            "text/plain": [
              "<IPython.core.display.HTML object>"
            ],
            "text/html": [
              "Query job 2b59bacc-ed87-4d5f-8dbe-a6bc42d3ce86 is DONE. 109 Bytes processed. <a target=\"_blank\" href=\"https://console.cloud.google.com/bigquery?project=market-mirror-dev&j=bq:US:2b59bacc-ed87-4d5f-8dbe-a6bc42d3ce86&page=queryresults\">Open Job</a>"
            ]
          },
          "metadata": {}
        },
        {
          "output_type": "execute_result",
          "data": {
            "text/plain": [
              "user_gender\n",
              "Female               483\n",
              "Non-binary           473\n",
              "Male                 468\n",
              "Prefer not to say    453\n",
              "Name: count, dtype: Int64"
            ]
          },
          "metadata": {},
          "execution_count": 76
        }
      ]
    },
    {
      "cell_type": "code",
      "source": [
        "gender_nulls = review_df_subset[review_df_subset.user_gender.isna()].app_name.drop_duplicates().to_list()"
      ],
      "metadata": {
        "id": "hg9QvnlykvRm",
        "executionInfo": {
          "status": "ok",
          "timestamp": 1755309100999,
          "user_tz": -330,
          "elapsed": 2513,
          "user": {
            "displayName": "",
            "userId": ""
          }
        }
      },
      "execution_count": 74,
      "outputs": []
    },
    {
      "cell_type": "code",
      "source": [
        "null_gender_df = review_df_subset[review_df_subset.app_name.isin(gender_nulls)][['app_name','user_gender']]\n",
        "app_tot_count_df = null_gender_df.groupby('app_name').count().reset_index().rename(columns={'user_gender':'tot_count'})\n",
        "# group by app_name and user_gender to get count for each app how many times a particular county comes\n",
        "null_gender_df = null_gender_df.groupby(['app_name','user_gender']).size().reset_index(name='count')\n",
        "null_gender_df = bpd.merge(null_gender_df, app_tot_count_df, on='app_name', how='left')\n",
        "null_gender_df['gender_rank'] = (null_gender_df['count']/null_gender_df['tot_count'])*100\n",
        "\n",
        "null_gender_df['rank'] = null_gender_df.groupby(['app_name'])['gender_rank'].rank(method='first',ascending=False)\n",
        "null_gender_df = null_gender_df.sort_values(by=['app_name','rank'], ascending=[True,True])\n",
        "null_gender_df = null_gender_df.rename(columns={'rank':'gender_rank_final'})\n",
        "null_gender_df = null_gender_df[null_gender_df.gender_rank_final==1].drop(columns=['count','tot_count','gender_rank','gender_rank_final'])\n",
        "\n",
        "null_gender_df = null_gender_df.rename(columns={'user_gender':'user_gender_final'})\n",
        "review_df_subset = bpd.merge(review_df_subset, null_gender_df, on='app_name', how='left')\n",
        "review_df_subset['user_gender'] = review_df_subset['user_gender'].fillna(review_df_subset.user_gender_final)\n",
        "review_df_subset = review_df_subset.drop(columns=['user_gender_final'])\n"
      ],
      "metadata": {
        "id": "lP5H4xLBkK_g",
        "executionInfo": {
          "status": "ok",
          "timestamp": 1755309218999,
          "user_tz": -330,
          "elapsed": 748,
          "user": {
            "displayName": "",
            "userId": ""
          }
        }
      },
      "execution_count": 77,
      "outputs": []
    },
    {
      "cell_type": "code",
      "source": [
        "review_df_subset.isna().sum()"
      ],
      "metadata": {
        "colab": {
          "base_uri": "https://localhost:8080/",
          "height": 225
        },
        "id": "eOXYBCu9lS_C",
        "executionInfo": {
          "status": "ok",
          "timestamp": 1755309266519,
          "user_tz": -330,
          "elapsed": 6977,
          "user": {
            "displayName": "",
            "userId": ""
          }
        },
        "outputId": "8d3b5582-ac8e-47d7-aebc-68a910464628"
      },
      "execution_count": 79,
      "outputs": [
        {
          "output_type": "display_data",
          "data": {
            "text/plain": [
              "<IPython.core.display.HTML object>"
            ],
            "text/html": [
              "Query job 3ab45de5-75b8-4027-9007-dfc9aa400fd6 is DONE. 348.5 kB processed. <a target=\"_blank\" href=\"https://console.cloud.google.com/bigquery?project=market-mirror-dev&j=bq:US:3ab45de5-75b8-4027-9007-dfc9aa400fd6&page=queryresults\">Open Job</a>"
            ]
          },
          "metadata": {}
        },
        {
          "output_type": "display_data",
          "data": {
            "text/plain": [
              "<IPython.core.display.HTML object>"
            ],
            "text/html": [
              "Query job 5a15aeaa-4965-4279-a198-a19986d2c661 is DONE. 250 Bytes processed. <a target=\"_blank\" href=\"https://console.cloud.google.com/bigquery?project=market-mirror-dev&j=bq:US:5a15aeaa-4965-4279-a198-a19986d2c661&page=queryresults\">Open Job</a>"
            ]
          },
          "metadata": {}
        },
        {
          "output_type": "execute_result",
          "data": {
            "text/plain": [
              "review_id       0\n",
              "app_name        0\n",
              "app_category    0\n",
              "review_text     0\n",
              "rating          0\n",
              "review_date     0\n",
              "user_age        0\n",
              "user_country    0\n",
              "user_gender     0\n",
              "dtype: Int64"
            ]
          },
          "metadata": {},
          "execution_count": 79
        }
      ]
    },
    {
      "cell_type": "code",
      "source": [
        "#Write data to BQ\n",
        "review_df_subset.to_gbq(destination_table=f'{PROJECT_ID}.{BQ_SILVER_DATASET}.T_APP_REVIEWS',if_exists='replace')"
      ],
      "metadata": {
        "colab": {
          "base_uri": "https://localhost:8080/",
          "height": 53
        },
        "id": "tLT9lfZ8o1pj",
        "executionInfo": {
          "status": "ok",
          "timestamp": 1755310351159,
          "user_tz": -330,
          "elapsed": 3627,
          "user": {
            "displayName": "",
            "userId": ""
          }
        },
        "outputId": "843cf305-a2d7-4850-d439-e28923bd48aa"
      },
      "execution_count": 83,
      "outputs": [
        {
          "output_type": "display_data",
          "data": {
            "text/plain": [
              "<IPython.core.display.HTML object>"
            ],
            "text/html": [
              "Query job 26142aa0-677d-44ab-b8fb-4ed3d286e049 is DONE. 697.0 kB processed. <a target=\"_blank\" href=\"https://console.cloud.google.com/bigquery?project=market-mirror-dev&j=bq:US:26142aa0-677d-44ab-b8fb-4ed3d286e049&page=queryresults\">Open Job</a>"
            ]
          },
          "metadata": {}
        },
        {
          "output_type": "execute_result",
          "data": {
            "text/plain": [
              "'market-mirror-dev.APP_MARKET_SILVER.T_APP_REVIEWS'"
            ],
            "application/vnd.google.colaboratory.intrinsic+json": {
              "type": "string"
            }
          },
          "metadata": {},
          "execution_count": 83
        }
      ]
    },
    {
      "cell_type": "markdown",
      "source": [
        "##### Fixing Inconsistant Data"
      ],
      "metadata": {
        "id": "XJ-uh7YZmdMP"
      }
    },
    {
      "cell_type": "code",
      "source": [
        "app_reviews_df = bpd.read_gbq(f'{PROJECT_ID}.{BQ_SILVER_DATASET}.T_APP_REVIEWS')"
      ],
      "metadata": {
        "id": "Wf3scbQEo8tp",
        "executionInfo": {
          "status": "ok",
          "timestamp": 1755310351160,
          "user_tz": -330,
          "elapsed": 4,
          "user": {
            "displayName": "",
            "userId": ""
          }
        }
      },
      "execution_count": 84,
      "outputs": []
    },
    {
      "cell_type": "code",
      "source": [
        "#Checking review_id having unique values.\n",
        "app_reviews_df.review_id.nunique() # same as the total count so, review_id having unique values"
      ],
      "metadata": {
        "colab": {
          "base_uri": "https://localhost:8080/"
        },
        "id": "6o8tmq-fn59S",
        "executionInfo": {
          "status": "ok",
          "timestamp": 1755310398324,
          "user_tz": -330,
          "elapsed": 727,
          "user": {
            "displayName": "",
            "userId": ""
          }
        },
        "outputId": "e4011e4b-65dc-483c-aa77-dc37998f6203"
      },
      "execution_count": 86,
      "outputs": [
        {
          "output_type": "execute_result",
          "data": {
            "text/plain": [
              "np.int64(2455)"
            ]
          },
          "metadata": {},
          "execution_count": 86
        }
      ]
    },
    {
      "cell_type": "code",
      "source": [
        "#Checking app_name column having consistent values\n",
        "app_reviews_df.app_name.value_counts()"
      ],
      "metadata": {
        "colab": {
          "base_uri": "https://localhost:8080/",
          "height": 520
        },
        "id": "XXcf1pDct6zH",
        "executionInfo": {
          "status": "ok",
          "timestamp": 1755311506159,
          "user_tz": -330,
          "elapsed": 6412,
          "user": {
            "displayName": "",
            "userId": ""
          }
        },
        "outputId": "9b3a70fa-5c19-4e26-d410-11c5d41a46af"
      },
      "execution_count": 95,
      "outputs": [
        {
          "output_type": "display_data",
          "data": {
            "text/plain": [
              "<IPython.core.display.HTML object>"
            ],
            "text/html": [
              "Query job 609d2487-74b7-4606-b46d-8f7d3fc4e067 is DONE. 23.5 kB processed. <a target=\"_blank\" href=\"https://console.cloud.google.com/bigquery?project=market-mirror-dev&j=bq:US:609d2487-74b7-4606-b46d-8f7d3fc4e067&page=queryresults\">Open Job</a>"
            ]
          },
          "metadata": {}
        },
        {
          "output_type": "display_data",
          "data": {
            "text/plain": [
              "<IPython.core.display.HTML object>"
            ],
            "text/html": [
              "Query job a4b519bc-7677-490f-a87e-a3f50073419f is DONE. 1.0 kB processed. <a target=\"_blank\" href=\"https://console.cloud.google.com/bigquery?project=market-mirror-dev&j=bq:US:a4b519bc-7677-490f-a87e-a3f50073419f&page=queryresults\">Open Job</a>"
            ]
          },
          "metadata": {}
        },
        {
          "output_type": "execute_result",
          "data": {
            "text/plain": [
              "app_name\n",
              "Pinterest           78\n",
              "Reddit              78\n",
              "Google Drive        74\n",
              "OneDrive            74\n",
              "Instagram           71\n",
              "Dropbox             67\n",
              "MX Player           67\n",
              "Microsoft Office    67\n",
              "Telegram            67\n",
              "Grammarly           66\n",
              "Adobe Photoshop     64\n",
              "Uber                64\n",
              "Waze                64\n",
              "YouTube             64\n",
              "Airbnb              63\n",
              "Booking.com         62\n",
              "TikTok              62\n",
              "Tinder              62\n",
              "Netflix             61\n",
              "Google Maps         59\n",
              "PayPal              59\n",
              "Zoom                59\n",
              "Coursera            57\n",
              "Duolingo            57\n",
              "Canva               56\n",
              "Name: count, dtype: Int64"
            ]
          },
          "metadata": {},
          "execution_count": 95
        }
      ]
    },
    {
      "cell_type": "code",
      "source": [
        "#Checking user_age column having consistent values\n",
        "app_reviews_df.user_age.plot.hist()"
      ],
      "metadata": {
        "colab": {
          "base_uri": "https://localhost:8080/",
          "height": 447
        },
        "id": "OztwWNPjqBgh",
        "executionInfo": {
          "status": "ok",
          "timestamp": 1755311429062,
          "user_tz": -330,
          "elapsed": 1468,
          "user": {
            "displayName": "",
            "userId": ""
          }
        },
        "outputId": "faa9e910-c2fe-4e54-fdba-e4a788ee5715"
      },
      "execution_count": 94,
      "outputs": [
        {
          "output_type": "execute_result",
          "data": {
            "text/plain": [
              "<Axes: ylabel='Frequency'>"
            ]
          },
          "metadata": {},
          "execution_count": 94
        },
        {
          "output_type": "display_data",
          "data": {
            "text/plain": [
              "<Figure size 640x480 with 1 Axes>"
            ],
            "image/png": "[encoded data removed]"
          },
          "metadata": {}
        }
      ]
    },
    {
      "cell_type": "code",
      "source": [
        "#Checking user_country column having consistent values\n",
        "app_reviews_df.user_country.value_counts()"
      ],
      "metadata": {
        "colab": {
          "base_uri": "https://localhost:8080/",
          "height": 503
        },
        "id": "XR5YrYP_uE_y",
        "executionInfo": {
          "status": "ok",
          "timestamp": 1755311552695,
          "user_tz": -330,
          "elapsed": 16719,
          "user": {
            "displayName": "",
            "userId": ""
          }
        },
        "outputId": "8efebff2-b715-4814-9cc8-ecba398c7ca0"
      },
      "execution_count": 96,
      "outputs": [
        {
          "output_type": "display_data",
          "data": {
            "text/plain": [
              "<IPython.core.display.HTML object>"
            ],
            "text/html": [
              "Query job 1310301e-ac0b-4a1d-ad95-38937d00836b is DONE. 23.6 kB processed. <a target=\"_blank\" href=\"https://console.cloud.google.com/bigquery?project=market-mirror-dev&j=bq:US:1310301e-ac0b-4a1d-ad95-38937d00836b&page=queryresults\">Open Job</a>"
            ]
          },
          "metadata": {}
        },
        {
          "output_type": "display_data",
          "data": {
            "text/plain": [
              "<IPython.core.display.HTML object>"
            ],
            "text/html": [
              "Query job 2d3e3f6f-c0a3-44df-9d3b-6f9a9f719d77 is DONE. 615 Bytes processed. <a target=\"_blank\" href=\"https://console.cloud.google.com/bigquery?project=market-mirror-dev&j=bq:US:2d3e3f6f-c0a3-44df-9d3b-6f9a9f719d77&page=queryresults\">Open Job</a>"
            ]
          },
          "metadata": {}
        },
        {
          "output_type": "execute_result",
          "data": {
            "text/plain": [
              "user_country\n",
              "Australia         136\n",
              "Germany           119\n",
              "Indonesia         117\n",
              "Turkey            113\n",
              "Italy             109\n",
              "Malaysia          109\n",
              "India             107\n",
              "United Kingdom    107\n",
              "Japan             105\n",
              "Mexico            105\n",
              "Vietnam           105\n",
              "Nigeria           103\n",
              "Brazil            100\n",
              "Spain              99\n",
              "China              97\n",
              "Russia             96\n",
              "Bangladesh         95\n",
              "Pakistan           94\n",
              "South Korea        93\n",
              "France             92\n",
              "Thailand           90\n",
              "United States      89\n",
              "Philippines        88\n",
              "Canada             87\n",
              "Name: count, dtype: Int64"
            ]
          },
          "metadata": {},
          "execution_count": 96
        }
      ]
    },
    {
      "cell_type": "code",
      "source": [
        "#Checking user_gender column having consistent values\n",
        "app_reviews_df.user_gender.value_counts()"
      ],
      "metadata": {
        "colab": {
          "base_uri": "https://localhost:8080/",
          "height": 156
        },
        "id": "FMtFFzWvuQiE",
        "executionInfo": {
          "status": "ok",
          "timestamp": 1755311593838,
          "user_tz": -330,
          "elapsed": 8388,
          "user": {
            "displayName": "",
            "userId": ""
          }
        },
        "outputId": "8baeb2a2-a883-415e-e58f-11f129b294c4"
      },
      "execution_count": 97,
      "outputs": [
        {
          "output_type": "display_data",
          "data": {
            "text/plain": [
              "<IPython.core.display.HTML object>"
            ],
            "text/html": [
              "Query job 1eefaba6-d2d3-481e-8012-baaf62b8722d is DONE. 27.8 kB processed. <a target=\"_blank\" href=\"https://console.cloud.google.com/bigquery?project=market-mirror-dev&j=bq:US:1eefaba6-d2d3-481e-8012-baaf62b8722d&page=queryresults\">Open Job</a>"
            ]
          },
          "metadata": {}
        },
        {
          "output_type": "display_data",
          "data": {
            "text/plain": [
              "<IPython.core.display.HTML object>"
            ],
            "text/html": [
              "Query job a8b9e2c0-5c4b-441e-b000-01f6b374ed06 is DONE. 109 Bytes processed. <a target=\"_blank\" href=\"https://console.cloud.google.com/bigquery?project=market-mirror-dev&j=bq:US:a8b9e2c0-5c4b-441e-b000-01f6b374ed06&page=queryresults\">Open Job</a>"
            ]
          },
          "metadata": {}
        },
        {
          "output_type": "execute_result",
          "data": {
            "text/plain": [
              "user_gender\n",
              "Female               648\n",
              "Prefer not to say    631\n",
              "Non-binary           589\n",
              "Male                 587\n",
              "Name: count, dtype: Int64"
            ]
          },
          "metadata": {},
          "execution_count": 97
        }
      ]
    },
    {
      "cell_type": "code",
      "source": [
        "# same app mapped to multiple incorrect app_categories\n",
        "unique_app_cat_df = app_reviews_df[['app_name','app_category']].drop_duplicates().sort_values(by='app_name')"
      ],
      "metadata": {
        "id": "gxixUDh5qirr",
        "executionInfo": {
          "status": "ok",
          "timestamp": 1755312031458,
          "user_tz": -330,
          "elapsed": 670,
          "user": {
            "displayName": "",
            "userId": ""
          }
        }
      },
      "execution_count": 100,
      "outputs": []
    },
    {
      "cell_type": "code",
      "source": [
        "unique_app_cat_df = bbq.array_agg(unique_app_cat_df.groupby('app_name')).reset_index()"
      ],
      "metadata": {
        "id": "UaAUwpnfwBML",
        "executionInfo": {
          "status": "ok",
          "timestamp": 1755312637170,
          "user_tz": -330,
          "elapsed": 3,
          "user": {
            "displayName": "",
            "userId": ""
          }
        }
      },
      "execution_count": 110,
      "outputs": []
    },
    {
      "cell_type": "code",
      "source": [
        "unique_app_cat_df.head()"
      ],
      "metadata": {
        "colab": {
          "base_uri": "https://localhost:8080/",
          "height": 270
        },
        "id": "oLhZTXqoyU_c",
        "executionInfo": {
          "status": "ok",
          "timestamp": 1755312699226,
          "user_tz": -330,
          "elapsed": 3346,
          "user": {
            "displayName": "",
            "userId": ""
          }
        },
        "outputId": "b9365bfd-4cc2-4656-90e9-cebf054cd353"
      },
      "execution_count": 113,
      "outputs": [
        {
          "output_type": "display_data",
          "data": {
            "text/plain": [
              "<IPython.core.display.HTML object>"
            ],
            "text/html": [
              "Query job 040cf8af-91ac-4780-b123-8b31836142ea is DONE. 10.8 kB processed. <a target=\"_blank\" href=\"https://console.cloud.google.com/bigquery?project=market-mirror-dev&j=bq:US:040cf8af-91ac-4780-b123-8b31836142ea&page=queryresults\">Open Job</a>"
            ]
          },
          "metadata": {}
        },
        {
          "output_type": "execute_result",
          "data": {
            "text/plain": [
              "          app_name                                       app_category\n",
              "0  Adobe Photoshop  ['Music & Audio' 'Utilities' 'Social Networkin...\n",
              "1           Airbnb  ['Business' 'Photography' 'Navigation' 'Utilit...\n",
              "2           Amazon  ['Business' 'Communication' 'Productivity' 'Da...\n",
              "3      Booking.com  ['Health & Fitness' 'Music & Audio' 'Games' 'S...\n",
              "4           Bumble  ['Entertainment' 'Utilities' 'Music & Audio' '...\n",
              "\n",
              "[5 rows x 2 columns]"
            ],
            "text/html": [
              "<div>\n",
              "<style scoped>\n",
              "    .dataframe tbody tr th:only-of-type {\n",
              "        vertical-align: middle;\n",
              "    }\n",
              "\n",
              "    .dataframe tbody tr th {\n",
              "        vertical-align: top;\n",
              "    }\n",
              "\n",
              "    .dataframe thead th {\n",
              "        text-align: right;\n",
              "    }\n",
              "</style>\n",
              "<table border=\"1\" class=\"dataframe\">\n",
              "  <thead>\n",
              "    <tr style=\"text-align: right;\">\n",
              "      <th></th>\n",
              "      <th>app_name</th>\n",
              "      <th>app_category</th>\n",
              "    </tr>\n",
              "  </thead>\n",
              "  <tbody>\n",
              "    <tr>\n",
              "      <th>0</th>\n",
              "      <td>Adobe Photoshop</td>\n",
              "      <td>['Music &amp; Audio' 'Utilities' 'Social Networkin...</td>\n",
              "    </tr>\n",
              "    <tr>\n",
              "      <th>1</th>\n",
              "      <td>Airbnb</td>\n",
              "      <td>['Business' 'Photography' 'Navigation' 'Utilit...</td>\n",
              "    </tr>\n",
              "    <tr>\n",
              "      <th>2</th>\n",
              "      <td>Amazon</td>\n",
              "      <td>['Business' 'Communication' 'Productivity' 'Da...</td>\n",
              "    </tr>\n",
              "    <tr>\n",
              "      <th>3</th>\n",
              "      <td>Booking.com</td>\n",
              "      <td>['Health &amp; Fitness' 'Music &amp; Audio' 'Games' 'S...</td>\n",
              "    </tr>\n",
              "    <tr>\n",
              "      <th>4</th>\n",
              "      <td>Bumble</td>\n",
              "      <td>['Entertainment' 'Utilities' 'Music &amp; Audio' '...</td>\n",
              "    </tr>\n",
              "  </tbody>\n",
              "</table>\n",
              "<p>5 rows × 2 columns</p>\n",
              "</div>[5 rows x 2 columns in total]"
            ]
          },
          "metadata": {},
          "execution_count": 113
        }
      ]
    },
    {
      "cell_type": "code",
      "source": [
        "unique_app_cat_df['app_category_str'] = bbq.array_to_string(unique_app_cat_df.app_category,',')\n",
        "unique_app_cat_df = unique_app_cat_df.drop(columns='app_category')\n"
      ],
      "metadata": {
        "id": "8oaGsoAoXjRi",
        "executionInfo": {
          "status": "ok",
          "timestamp": 1755322524258,
          "user_tz": -330,
          "elapsed": 670,
          "user": {
            "displayName": "",
            "userId": ""
          }
        }
      },
      "execution_count": 138,
      "outputs": []
    },
    {
      "cell_type": "code",
      "source": [
        "unique_app_cat_df.head()"
      ],
      "metadata": {
        "colab": {
          "base_uri": "https://localhost:8080/",
          "height": 270
        },
        "id": "9YEtAwaRYDkG",
        "executionInfo": {
          "status": "ok",
          "timestamp": 1755323395626,
          "user_tz": -330,
          "elapsed": 4413,
          "user": {
            "displayName": "",
            "userId": ""
          }
        },
        "outputId": "e6fec46a-75d7-4464-e9da-cce99e6349db"
      },
      "execution_count": 158,
      "outputs": [
        {
          "output_type": "display_data",
          "data": {
            "text/plain": [
              "<IPython.core.display.HTML object>"
            ],
            "text/html": [
              "Query job 0bd35d3e-4516-4f2d-8671-90f83f702a13 is DONE. 10.2 kB processed. <a target=\"_blank\" href=\"https://console.cloud.google.com/bigquery?project=market-mirror-dev&j=bq:US:0bd35d3e-4516-4f2d-8671-90f83f702a13&page=queryresults\">Open Job</a>"
            ]
          },
          "metadata": {}
        },
        {
          "output_type": "execute_result",
          "data": {
            "text/plain": [
              "          app_name                                   app_category_str  \\\n",
              "0  Adobe Photoshop  Music & Audio,Utilities,Social Networking,Comm...   \n",
              "1           Airbnb  Business,Photography,Navigation,Utilities,Heal...   \n",
              "2           Amazon  Business,Communication,Productivity,Dating,Sho...   \n",
              "3      Booking.com  Health & Fitness,Music & Audio,Games,Social Ne...   \n",
              "4           Bumble  Entertainment,Utilities,Music & Audio,Dating,V...   \n",
              "\n",
              "                                              prompt  \n",
              "0  I have app_name and app_category columns.     ...  \n",
              "1  I have app_name and app_category columns.     ...  \n",
              "2  I have app_name and app_category columns.     ...  \n",
              "3  I have app_name and app_category columns.     ...  \n",
              "4  I have app_name and app_category columns.     ...  \n",
              "\n",
              "[5 rows x 3 columns]"
            ],
            "text/html": [
              "<div>\n",
              "<style scoped>\n",
              "    .dataframe tbody tr th:only-of-type {\n",
              "        vertical-align: middle;\n",
              "    }\n",
              "\n",
              "    .dataframe tbody tr th {\n",
              "        vertical-align: top;\n",
              "    }\n",
              "\n",
              "    .dataframe thead th {\n",
              "        text-align: right;\n",
              "    }\n",
              "</style>\n",
              "<table border=\"1\" class=\"dataframe\">\n",
              "  <thead>\n",
              "    <tr style=\"text-align: right;\">\n",
              "      <th></th>\n",
              "      <th>app_name</th>\n",
              "      <th>app_category_str</th>\n",
              "      <th>prompt</th>\n",
              "    </tr>\n",
              "  </thead>\n",
              "  <tbody>\n",
              "    <tr>\n",
              "      <th>0</th>\n",
              "      <td>Adobe Photoshop</td>\n",
              "      <td>Music &amp; Audio,Utilities,Social Networking,Comm...</td>\n",
              "      <td>I have app_name and app_category columns.     ...</td>\n",
              "    </tr>\n",
              "    <tr>\n",
              "      <th>1</th>\n",
              "      <td>Airbnb</td>\n",
              "      <td>Business,Photography,Navigation,Utilities,Heal...</td>\n",
              "      <td>I have app_name and app_category columns.     ...</td>\n",
              "    </tr>\n",
              "    <tr>\n",
              "      <th>2</th>\n",
              "      <td>Amazon</td>\n",
              "      <td>Business,Communication,Productivity,Dating,Sho...</td>\n",
              "      <td>I have app_name and app_category columns.     ...</td>\n",
              "    </tr>\n",
              "    <tr>\n",
              "      <th>3</th>\n",
              "      <td>Booking.com</td>\n",
              "      <td>Health &amp; Fitness,Music &amp; Audio,Games,Social Ne...</td>\n",
              "      <td>I have app_name and app_category columns.     ...</td>\n",
              "    </tr>\n",
              "    <tr>\n",
              "      <th>4</th>\n",
              "      <td>Bumble</td>\n",
              "      <td>Entertainment,Utilities,Music &amp; Audio,Dating,V...</td>\n",
              "      <td>I have app_name and app_category columns.     ...</td>\n",
              "    </tr>\n",
              "  </tbody>\n",
              "</table>\n",
              "<p>5 rows × 3 columns</p>\n",
              "</div>[5 rows x 3 columns in total]"
            ]
          },
          "metadata": {},
          "execution_count": 158
        }
      ]
    },
    {
      "cell_type": "code",
      "source": [
        "model = llm.GeminiTextGenerator(model_name='gemini-2.0-flash',connection_name='us.vertex-remote-models')"
      ],
      "metadata": {
        "colab": {
          "base_uri": "https://localhost:8080/",
          "height": 173
        },
        "id": "zAWfo3nHylSr",
        "executionInfo": {
          "status": "ok",
          "timestamp": 1755312934861,
          "user_tz": -330,
          "elapsed": 3048,
          "user": {
            "displayName": "",
            "userId": ""
          }
        },
        "outputId": "b339af8e-e810-404b-9c31-0515d457962b"
      },
      "execution_count": 115,
      "outputs": [
        {
          "output_type": "stream",
          "name": "stderr",
          "text": [
            "/usr/local/lib/python3.11/dist-packages/bigframes/ml/llm.py:508: UserWarning: Model name 'gemini-2.0-flash' is not supported. We are currently aware\n",
            "of the following models: gemini-1.5-pro-preview-0514,\n",
            "gemini-1.5-flash-preview-0514, gemini-1.5-pro-001, gemini-1.5-pro-002,\n",
            "gemini-1.5-flash-001, gemini-1.5-flash-002, gemini-2.0-flash-exp,\n",
            "gemini-2.0-flash-001, gemini-2.0-flash-lite-001. However, model names\n",
            "can change, and the supported models may be outdated. You should use\n",
            "this model name only if you are sure that it is supported in BigQuery.\n",
            "  warnings.warn(msg)\n"
          ]
        },
        {
          "output_type": "display_data",
          "data": {
            "text/plain": [
              "<IPython.core.display.HTML object>"
            ],
            "text/html": [
              "Query job 279a4fed-9c30-4c50-8e38-7b995826108d is DONE. 0 Bytes processed. <a target=\"_blank\" href=\"https://console.cloud.google.com/bigquery?project=market-mirror-dev&j=bq:US:279a4fed-9c30-4c50-8e38-7b995826108d&page=queryresults\">Open Job</a>"
            ]
          },
          "metadata": {}
        }
      ]
    },
    {
      "cell_type": "code",
      "source": [
        "unique_app_cat_df['prompt'] = 'I have app_name and app_category columns. \\\n",
        "              In the app_category column can you choose the correct category suitable for the app based? \\\n",
        "              answer with only the correct app_category. app_name : ' + unique_app_cat_df.app_name + ' app_category list : '+ unique_app_cat_df.app_category_str"
      ],
      "metadata": {
        "id": "cYBuP68H6gSM",
        "executionInfo": {
          "status": "ok",
          "timestamp": 1755322720102,
          "user_tz": -330,
          "elapsed": 632,
          "user": {
            "displayName": "",
            "userId": ""
          }
        }
      },
      "execution_count": 141,
      "outputs": []
    },
    {
      "cell_type": "code",
      "source": [
        "df = model.predict(X=unique_app_cat_df\n",
        "              ,temperature=0.1\n",
        "              )"
      ],
      "metadata": {
        "colab": {
          "base_uri": "https://localhost:8080/",
          "height": 86
        },
        "id": "NqTM5I0Ozd3d",
        "executionInfo": {
          "status": "ok",
          "timestamp": 1755323050270,
          "user_tz": -330,
          "elapsed": 6188,
          "user": {
            "displayName": "",
            "userId": ""
          }
        },
        "outputId": "f56f78ce-7b57-4a55-ef76-5e9d427aa18d"
      },
      "execution_count": 149,
      "outputs": [
        {
          "output_type": "display_data",
          "data": {
            "text/plain": [
              "<IPython.core.display.HTML object>"
            ],
            "text/html": [
              "Query job a650c918-1ee0-481e-b52f-16a6f8fca524 is DONE. 9.8 kB processed. <a target=\"_blank\" href=\"https://console.cloud.google.com/bigquery?project=market-mirror-dev&j=bq:US:a650c918-1ee0-481e-b52f-16a6f8fca524&page=queryresults\">Open Job</a>"
            ]
          },
          "metadata": {}
        },
        {
          "output_type": "stream",
          "name": "stderr",
          "text": [
            "/usr/local/lib/python3.11/dist-packages/bigframes/core/array_value.py:108: PreviewWarning: JSON column interpretation as a custom PyArrow extention in\n",
            "`db_dtypes` is a preview feature and subject to change.\n",
            "  warnings.warn(msg, bfe.PreviewWarning)\n"
          ]
        }
      ]
    },
    {
      "cell_type": "code",
      "source": [
        "llm_response_df = df[['app_name','ml_generate_text_llm_result']]"
      ],
      "metadata": {
        "id": "JRzkJQAe4x_P",
        "executionInfo": {
          "status": "ok",
          "timestamp": 1755323100815,
          "user_tz": -330,
          "elapsed": 732,
          "user": {
            "displayName": "",
            "userId": ""
          }
        }
      },
      "execution_count": 151,
      "outputs": []
    },
    {
      "cell_type": "code",
      "source": [
        "llm_response_df = llm_response_df.rename(columns={'ml_generate_text_llm_result':'correct_app_category'})"
      ],
      "metadata": {
        "id": "ETB9o7ssaPup",
        "executionInfo": {
          "status": "ok",
          "timestamp": 1755323139312,
          "user_tz": -330,
          "elapsed": 817,
          "user": {
            "displayName": "",
            "userId": ""
          }
        }
      },
      "execution_count": 152,
      "outputs": []
    },
    {
      "cell_type": "code",
      "source": [
        "app_reviews_df = bpd.merge(app_reviews_df, llm_response_df, on='app_name', how='left')\n",
        "app_reviews_df['app_category'] = app_reviews_df['correct_app_category']\n",
        "app_reviews_df = app_reviews_df.drop(columns=['correct_app_category'])"
      ],
      "metadata": {
        "id": "ZiGCkYVYad5x",
        "executionInfo": {
          "status": "ok",
          "timestamp": 1755323190478,
          "user_tz": -330,
          "elapsed": 963,
          "user": {
            "displayName": "",
            "userId": ""
          }
        }
      },
      "execution_count": 153,
      "outputs": []
    },
    {
      "cell_type": "code",
      "source": [
        "app_reviews_df.to_gbq(destination_table=f'{PROJECT_ID}.{BQ_SILVER_DATASET}.T_APP_REVIEWS',if_exists='replace')"
      ],
      "metadata": {
        "colab": {
          "base_uri": "https://localhost:8080/",
          "height": 53
        },
        "id": "zRyUaGYkaqiZ",
        "executionInfo": {
          "status": "ok",
          "timestamp": 1755323475101,
          "user_tz": -330,
          "elapsed": 6679,
          "user": {
            "displayName": "",
            "userId": ""
          }
        },
        "outputId": "c1dd5e49-aa82-48c2-f0b7-33f5d900c467"
      },
      "execution_count": 159,
      "outputs": [
        {
          "output_type": "display_data",
          "data": {
            "text/plain": [
              "<IPython.core.display.HTML object>"
            ],
            "text/html": [
              "Query job 02cd9e73-8b88-4658-81fe-a7c5f71c1699 is DONE. 664.0 kB processed. <a target=\"_blank\" href=\"https://console.cloud.google.com/bigquery?project=market-mirror-dev&j=bq:US:02cd9e73-8b88-4658-81fe-a7c5f71c1699&page=queryresults\">Open Job</a>"
            ]
          },
          "metadata": {}
        },
        {
          "output_type": "execute_result",
          "data": {
            "text/plain": [
              "'market-mirror-dev.APP_MARKET_SILVER.T_APP_REVIEWS'"
            ],
            "application/vnd.google.colaboratory.intrinsic+json": {
              "type": "string"
            }
          },
          "metadata": {},
          "execution_count": 159
        }
      ]
    },
    {
      "cell_type": "code",
      "source": [
        "translation_df = app_reviews_df[['review_id','review_text']]"
      ],
      "metadata": {
        "id": "1L0PVz6_d7WJ",
        "executionInfo": {
          "status": "ok",
          "timestamp": 1755324140171,
          "user_tz": -330,
          "elapsed": 809,
          "user": {
            "displayName": "",
            "userId": ""
          }
        }
      },
      "execution_count": 164,
      "outputs": []
    },
    {
      "cell_type": "code",
      "source": [
        "translation_df['prompt'] = '''can you identify what language the given text is written in and give English translation of the same?\n",
        "if the given text is already in english you just give language output. No need to provide traslation.\n",
        "Text : ''' + translation_df.review_text"
      ],
      "metadata": {
        "id": "-luR5yH5eNxe",
        "executionInfo": {
          "status": "ok",
          "timestamp": 1755325600766,
          "user_tz": -330,
          "elapsed": 4,
          "user": {
            "displayName": "",
            "userId": ""
          }
        }
      },
      "execution_count": 175,
      "outputs": []
    },
    {
      "cell_type": "code",
      "source": [
        "translation_df[0:10]"
      ],
      "metadata": {
        "colab": {
          "base_uri": "https://localhost:8080/",
          "height": 427
        },
        "id": "XbOrVOTyejbB",
        "executionInfo": {
          "status": "ok",
          "timestamp": 1755324269961,
          "user_tz": -330,
          "elapsed": 7980,
          "user": {
            "displayName": "",
            "userId": ""
          }
        },
        "outputId": "b774158f-3356-48b6-edaf-b2ceaf25f43f"
      },
      "execution_count": 166,
      "outputs": [
        {
          "output_type": "display_data",
          "data": {
            "text/plain": [
              "<IPython.core.display.HTML object>"
            ],
            "text/html": [
              "Query job 2ab21ff4-a326-4c2a-a9f8-89da80811273 is DONE. 224.7 kB processed. <a target=\"_blank\" href=\"https://console.cloud.google.com/bigquery?project=market-mirror-dev&j=bq:US:2ab21ff4-a326-4c2a-a9f8-89da80811273&page=queryresults\">Open Job</a>"
            ]
          },
          "metadata": {}
        },
        {
          "output_type": "execute_result",
          "data": {
            "text/plain": [
              "   review_id                                        review_text  \\\n",
              "0       1091  Sonne oder Herr. Gott halten Haare rot Finger ...   \n",
              "1       1978  Great app but too many ads, consider premium v...   \n",
              "2        876  Excellent customer support and regular feature...   \n",
              "3        766  Great app but too many ads, consider premium v...   \n",
              "4        361                 再現する電池ピックニュース月。 差別するトーンブラケット仕上げ必要。   \n",
              "5       1348  Perfect for daily use, highly recommend to eve...   \n",
              "6       1855  This app is amazing! Really love the new featu...   \n",
              "7       2238  Deleniti sed quidem dolorem. Odio nihil nobis ...   \n",
              "8       1741  Crashes too often, needs improvement in stabil...   \n",
              "9        214  The interface could be better but overall good...   \n",
              "\n",
              "                                              prompt  \n",
              "0  can you identify what language the given text ...  \n",
              "1  can you identify what language the given text ...  \n",
              "2  can you identify what language the given text ...  \n",
              "3  can you identify what language the given text ...  \n",
              "4  can you identify what language the given text ...  \n",
              "5  can you identify what language the given text ...  \n",
              "6  can you identify what language the given text ...  \n",
              "7  can you identify what language the given text ...  \n",
              "8  can you identify what language the given text ...  \n",
              "9  can you identify what language the given text ...  \n",
              "\n",
              "[10 rows x 3 columns]"
            ],
            "text/html": [
              "<div>\n",
              "<style scoped>\n",
              "    .dataframe tbody tr th:only-of-type {\n",
              "        vertical-align: middle;\n",
              "    }\n",
              "\n",
              "    .dataframe tbody tr th {\n",
              "        vertical-align: top;\n",
              "    }\n",
              "\n",
              "    .dataframe thead th {\n",
              "        text-align: right;\n",
              "    }\n",
              "</style>\n",
              "<table border=\"1\" class=\"dataframe\">\n",
              "  <thead>\n",
              "    <tr style=\"text-align: right;\">\n",
              "      <th></th>\n",
              "      <th>review_id</th>\n",
              "      <th>review_text</th>\n",
              "      <th>prompt</th>\n",
              "    </tr>\n",
              "  </thead>\n",
              "  <tbody>\n",
              "    <tr>\n",
              "      <th>0</th>\n",
              "      <td>1091</td>\n",
              "      <td>Sonne oder Herr. Gott halten Haare rot Finger ...</td>\n",
              "      <td>can you identify what language the given text ...</td>\n",
              "    </tr>\n",
              "    <tr>\n",
              "      <th>1</th>\n",
              "      <td>1978</td>\n",
              "      <td>Great app but too many ads, consider premium v...</td>\n",
              "      <td>can you identify what language the given text ...</td>\n",
              "    </tr>\n",
              "    <tr>\n",
              "      <th>2</th>\n",
              "      <td>876</td>\n",
              "      <td>Excellent customer support and regular feature...</td>\n",
              "      <td>can you identify what language the given text ...</td>\n",
              "    </tr>\n",
              "    <tr>\n",
              "      <th>3</th>\n",
              "      <td>766</td>\n",
              "      <td>Great app but too many ads, consider premium v...</td>\n",
              "      <td>can you identify what language the given text ...</td>\n",
              "    </tr>\n",
              "    <tr>\n",
              "      <th>4</th>\n",
              "      <td>361</td>\n",
              "      <td>再現する電池ピックニュース月。 差別するトーンブラケット仕上げ必要。</td>\n",
              "      <td>can you identify what language the given text ...</td>\n",
              "    </tr>\n",
              "    <tr>\n",
              "      <th>5</th>\n",
              "      <td>1348</td>\n",
              "      <td>Perfect for daily use, highly recommend to eve...</td>\n",
              "      <td>can you identify what language the given text ...</td>\n",
              "    </tr>\n",
              "    <tr>\n",
              "      <th>6</th>\n",
              "      <td>1855</td>\n",
              "      <td>This app is amazing! Really love the new featu...</td>\n",
              "      <td>can you identify what language the given text ...</td>\n",
              "    </tr>\n",
              "    <tr>\n",
              "      <th>7</th>\n",
              "      <td>2238</td>\n",
              "      <td>Deleniti sed quidem dolorem. Odio nihil nobis ...</td>\n",
              "      <td>can you identify what language the given text ...</td>\n",
              "    </tr>\n",
              "    <tr>\n",
              "      <th>8</th>\n",
              "      <td>1741</td>\n",
              "      <td>Crashes too often, needs improvement in stabil...</td>\n",
              "      <td>can you identify what language the given text ...</td>\n",
              "    </tr>\n",
              "    <tr>\n",
              "      <th>9</th>\n",
              "      <td>214</td>\n",
              "      <td>The interface could be better but overall good...</td>\n",
              "      <td>can you identify what language the given text ...</td>\n",
              "    </tr>\n",
              "  </tbody>\n",
              "</table>\n",
              "<p>10 rows × 3 columns</p>\n",
              "</div>[10 rows x 3 columns in total]"
            ]
          },
          "metadata": {},
          "execution_count": 166
        }
      ]
    },
    {
      "cell_type": "code",
      "source": [
        "{'language':{'type':'STRING'},\n",
        "  'translated_review':{'type':'STRING'}}"
      ],
      "metadata": {
        "colab": {
          "base_uri": "https://localhost:8080/"
        },
        "id": "h-R0u8wEhntc",
        "executionInfo": {
          "status": "ok",
          "timestamp": 1755325328991,
          "user_tz": -330,
          "elapsed": 673,
          "user": {
            "displayName": "",
            "userId": ""
          }
        },
        "outputId": "7a404a27-3d2a-4590-a109-09b534baac9e"
      },
      "execution_count": 171,
      "outputs": [
        {
          "output_type": "execute_result",
          "data": {
            "text/plain": [
              "{'language': {'type': 'STRING'}, 'translated_review': {'type': 'STRING'}}"
            ]
          },
          "metadata": {},
          "execution_count": 171
        }
      ]
    },
    {
      "cell_type": "code",
      "source": [
        "llm_output = model.predict(X=translation_df\n",
        "              ,temperature=0.1\n",
        "              ,output_schema={'language':'STRING','translated_review':'STRING'}\n",
        "              )"
      ],
      "metadata": {
        "colab": {
          "base_uri": "https://localhost:8080/",
          "height": 86
        },
        "id": "KXpwDUj6j2AE",
        "executionInfo": {
          "status": "ok",
          "timestamp": 1755326282175,
          "user_tz": -330,
          "elapsed": 550554,
          "user": {
            "displayName": "",
            "userId": ""
          }
        },
        "outputId": "07203713-48ca-455c-86c4-d3c4b6f3a605"
      },
      "execution_count": 178,
      "outputs": [
        {
          "output_type": "display_data",
          "data": {
            "text/plain": [
              "<IPython.core.display.HTML object>"
            ],
            "text/html": [
              "Query job da0ee7b1-65c2-4e61-bb7e-de7e0f366ef5 is DONE. 200.5 kB processed. <a target=\"_blank\" href=\"https://console.cloud.google.com/bigquery?project=market-mirror-dev&j=bq:US:da0ee7b1-65c2-4e61-bb7e-de7e0f366ef5&page=queryresults\">Open Job</a>"
            ]
          },
          "metadata": {}
        },
        {
          "output_type": "stream",
          "name": "stderr",
          "text": [
            "/usr/local/lib/python3.11/dist-packages/bigframes/core/array_value.py:108: PreviewWarning: JSON column interpretation as a custom PyArrow extention in\n",
            "`db_dtypes` is a preview feature and subject to change.\n",
            "  warnings.warn(msg, bfe.PreviewWarning)\n"
          ]
        }
      ]
    },
    {
      "cell_type": "code",
      "source": [
        "english_translated_review_df = llm_output[['review_id','language','translated_review']]"
      ],
      "metadata": {
        "id": "jd4CUDYojbTn",
        "executionInfo": {
          "status": "ok",
          "timestamp": 1755326389289,
          "user_tz": -330,
          "elapsed": 704,
          "user": {
            "displayName": "",
            "userId": ""
          }
        }
      },
      "execution_count": 180,
      "outputs": []
    },
    {
      "cell_type": "code",
      "source": [
        "app_reviews_df = bpd.merge(app_reviews_df, english_translated_review_df, on='review_id', how='left')"
      ],
      "metadata": {
        "id": "IJK4JkZDm3_b",
        "executionInfo": {
          "status": "ok",
          "timestamp": 1755326436615,
          "user_tz": -330,
          "elapsed": 717,
          "user": {
            "displayName": "",
            "userId": ""
          }
        }
      },
      "execution_count": 181,
      "outputs": []
    },
    {
      "cell_type": "code",
      "source": [
        "app_reviews_df['translated_review'] = app_reviews_df['translated_review'].fillna(app_reviews_df.review_text)"
      ],
      "metadata": {
        "id": "qILyHuMcm--Y",
        "executionInfo": {
          "status": "ok",
          "timestamp": 1755326514080,
          "user_tz": -330,
          "elapsed": 711,
          "user": {
            "displayName": "",
            "userId": ""
          }
        }
      },
      "execution_count": 183,
      "outputs": []
    },
    {
      "cell_type": "code",
      "source": [
        "app_reviews_df.to_gbq(destination_table=f'{PROJECT_ID}.{BQ_SILVER_DATASET}.T_APP_REVIEWS',if_exists='replace')"
      ],
      "metadata": {
        "colab": {
          "base_uri": "https://localhost:8080/",
          "height": 53
        },
        "id": "H2Gt2eV7nTqs",
        "executionInfo": {
          "status": "ok",
          "timestamp": 1755326540980,
          "user_tz": -330,
          "elapsed": 3670,
          "user": {
            "displayName": "",
            "userId": ""
          }
        },
        "outputId": "733d09ba-7a18-4fa7-906a-bae209cd1326"
      },
      "execution_count": 184,
      "outputs": [
        {
          "output_type": "display_data",
          "data": {
            "text/plain": [
              "<IPython.core.display.HTML object>"
            ],
            "text/html": [
              "Query job f139a777-bebd-449c-a412-854c507476a9 is DONE. 453.8 kB processed. <a target=\"_blank\" href=\"https://console.cloud.google.com/bigquery?project=market-mirror-dev&j=bq:US:f139a777-bebd-449c-a412-854c507476a9&page=queryresults\">Open Job</a>"
            ]
          },
          "metadata": {}
        },
        {
          "output_type": "execute_result",
          "data": {
            "text/plain": [
              "'market-mirror-dev.APP_MARKET_SILVER.T_APP_REVIEWS'"
            ],
            "application/vnd.google.colaboratory.intrinsic+json": {
              "type": "string"
            }
          },
          "metadata": {},
          "execution_count": 184
        }
      ]
    }
  ]
}