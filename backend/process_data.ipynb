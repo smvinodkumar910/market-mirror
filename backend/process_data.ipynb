{
  "nbformat": 4,
  "nbformat_minor": 0,
  "metadata": {
    "colab": {
      "name": "backend/process_data.ipynb",
      "cell_execution_strategy": "setup",
      "provenance": []
    },
    "kernelspec": {
      "name": "python3",
      "display_name": "Python 3"
    },
    "language_info": {
      "name": "python"
    }
  },
  "cells": [
    {
      "cell_type": "markdown",
      "source": [
        "# Process Data\n",
        "\n",
        "In this notebook we are processing data loaded in Bronze layer and utilize Bigquery AI/ML functions."
      ],
      "metadata": {
        "id": "vCe6XdgiPZh7"
      }
    },
    {
      "cell_type": "markdown",
      "source": [
        "### Setting-up Environment"
      ],
      "metadata": {
        "id": "6KH05oVmle9e"
      }
    },
    {
      "cell_type": "code",
      "source": [
        "import os\n",
        "\n",
        "PROJECT_ID = \"market-mirror-dev\"  # @param {type: \"string\", placeholder: \"[your-project-id]\", isTemplate: true}\n",
        "BUCKET_NAME = \"marke-mirror-dev-data\"  # @param {type: \"string\", placeholder: \"[your-bucket-name]\", isTemplate: true}\n",
        "LOCATION = \"US\"  # @param {type: \"string\", placeholder: \"[your-region]\", isTemplate: true}\n",
        "if not PROJECT_ID or PROJECT_ID == \"[your-project-id]\":\n",
        "    PROJECT_ID = str(os.environ.get(\"GOOGLE_CLOUD_PROJECT\"))\n",
        "\n",
        "if not LOCATION or LOCATION == \"[your-region]\":\n",
        "    LOCATION = os.environ.get(\"GOOGLE_CLOUD_REGION\", \"US\")\n"
      ],
      "metadata": {
        "id": "B2z2mOlxnJGP",
        "executionInfo": {
          "status": "ok",
          "timestamp": 1755260859835,
          "user_tz": -330,
          "elapsed": 2,
          "user": {
            "displayName": "",
            "userId": ""
          }
        }
      },
      "execution_count": 20,
      "outputs": []
    },
    {
      "cell_type": "code",
      "source": [
        "os.environ['GOOGLE_CLOUD_PROJECT'] = PROJECT_ID\n",
        "os.environ['GOOGLE_CLOUD_REGION'] = LOCATION"
      ],
      "metadata": {
        "id": "_NKRR0u7EIvW",
        "executionInfo": {
          "status": "ok",
          "timestamp": 1755267023551,
          "user_tz": -330,
          "elapsed": 817,
          "user": {
            "displayName": "",
            "userId": ""
          }
        }
      },
      "execution_count": 37,
      "outputs": []
    },
    {
      "cell_type": "code",
      "source": [
        "BQ_BRONZE_DATASET = \"APP_MARKET_BRONZE\" # @param {type: \"string\", placeholder: \"[bronze-dataset]\", isTemplate: true}\n",
        "BQ_SILVER_DATASET = \"APP_MARKET_SILVER\" # @param {type: \"string\", placeholder: \"[silver-dataset]\", isTemplate: true}\n",
        "BQ_GOLD_DATASET = \"APP_MARKET_GOLD\" # @param {type: \"string\", placeholder: \"[gold-dataset]\", isTemplate: true}"
      ],
      "metadata": {
        "id": "PzN4WPGNnL-L",
        "executionInfo": {
          "status": "ok",
          "timestamp": 1755259687458,
          "user_tz": -330,
          "elapsed": 751,
          "user": {
            "displayName": "",
            "userId": ""
          }
        }
      },
      "execution_count": 10,
      "outputs": []
    },
    {
      "cell_type": "markdown",
      "source": [
        "### Objective"
      ],
      "metadata": {
        "id": "dzMMPKXo3PTi"
      }
    },
    {
      "cell_type": "markdown",
      "source": [
        "#### Data Definitions"
      ],
      "metadata": {
        "id": "m5KA5BwJ3ZWX"
      }
    },
    {
      "cell_type": "markdown",
      "source": [
        "\n",
        "\n",
        "**We have loaded 6 Tables in BQ as Follows:**\n",
        "\n",
        "**Review Tables:**\n",
        "\n",
        "1. `{PROJECT_ID}.{BQ_BRONZE_DATASET}.multilingual_mobile_app_reviews_2025`\n",
        "\n",
        "    * This table contains user reviews of various Apps from different platforms. like Android, iOS, Windows apps. Also it contains reviewed user information like Age, Country, Gender.\n",
        "\n",
        "    * No. of columns : 15\n",
        "    * No. of Records : 2514\n",
        "\n",
        "2. `{PROJECT_ID}.{BQ_BRONZE_DATASET}.googleplaystore_user_reviews`\n",
        "\n",
        "    * This table having reviews only from GooglePlayStore, along with Sentiment analysis.\n",
        "\n",
        "    * No. Of Columns : 5\n",
        "    * No. of Records : 64292\n",
        "\n",
        "\n",
        "**Product Information Tables:**\n",
        "\n",
        "3. `{PROJECT_ID}.{BQ_BRONZE_DATASET}.googleplaystore`\n",
        "\n",
        "    * This table having all app related information from GooglePlaystore. Information include category, genre, app ratings, numbe rof reviews, number of downloads etc.\n",
        "\n",
        "    * No. Of Columns : 13\n",
        "    * No. of Records : 10841\n",
        "\n",
        "4. `{PROJECT_ID}.{BQ_BRONZE_DATASET}.AppleStore`\n",
        "\n",
        "    * This table having all app related information from Apple Store. Information include category, genre, app ratings, size, price etc.\n",
        "\n",
        "    * No. Of Columns : 17\n",
        "    * No. of Records : 7197\n",
        "\n",
        "5. `{PROJECT_ID}.{BQ_BRONZE_DATASET}.appleStore_description`\n",
        "\n",
        "    * This table having elaborated description in various languages about the Apps available in Apple Store.\n",
        "\n",
        "    * No. Of Columns : 5\n",
        "    * No. of Records : 7197\n",
        "\n",
        "6. `{PROJECT_ID}.{BQ_BRONZE_DATASET}.windows_store`\n",
        "\n",
        "    * This table having elaborated description about the Apps available in Windows Store.\n",
        "\n",
        "    * No. Of Columns : 9\n",
        "    * No. of Records : 3960\n",
        "\n",
        "\n",
        "\n"
      ],
      "metadata": {
        "id": "Rhpg28atqEzZ"
      }
    },
    {
      "cell_type": "markdown",
      "source": [
        "#### Data Engineering"
      ],
      "metadata": {
        "id": "DINNg9Yn3d45"
      }
    },
    {
      "cell_type": "markdown",
      "source": [
        "**Review Tables**\n",
        "\n",
        "\n",
        "*   In the `multilingual_mobile_app_reviews_2025` table, we can see that `application_category` is mapped incorrectly to many apps. Same app is being mapped to irrelavant categories. We are going to update the correct category using **BigQuery AI/ML** Functions.\n",
        "\n",
        "*   Also, in the same `multilingual_mobile_app_reviews_2025` table, we can see reviews are in various languages. So we  are going to convert them to English using **BigQuery AI/ML** Functions.\n",
        "\n",
        "* Clean-up and then Combine both the review tables into a single table in Silver layer.\n",
        "\n",
        "* Load the necessary column only to Silver Layer.\n",
        "\n",
        "\n",
        "**Product Information Tables**\n",
        "\n",
        "* Combine the `AppleStore` and `appleStore_description` tables into a single table.\n",
        "\n",
        "* We can see the `appleStore_description` is having various languages. Convert them into a single language.\n",
        "\n",
        "* Generate Embeddings for the App description columns to enable vector search.\n",
        "\n",
        "* Create the `googleplaystore` and `windows_store` as separate tables with necessary columns."
      ],
      "metadata": {
        "id": "FPmKdQ-W3tEu"
      }
    },
    {
      "cell_type": "markdown",
      "source": [
        "#### Creating Vertex AI Remote Models"
      ],
      "metadata": {
        "id": "bL1IVNlSHIQ_"
      }
    },
    {
      "cell_type": "code",
      "source": [
        "!bq mk --connection --location=$GOOGLE_CLOUD_REGION --project_id=$GOOGLE_CLOUD_PROJECT \\\n",
        "    --connection_type=CLOUD_RESOURCE vertex-remote-models"
      ],
      "metadata": {
        "colab": {
          "base_uri": "https://localhost:8080/"
        },
        "id": "A6textaoCt6s",
        "executionInfo": {
          "status": "ok",
          "timestamp": 1755267074139,
          "user_tz": -330,
          "elapsed": 3078,
          "user": {
            "displayName": "",
            "userId": ""
          }
        },
        "outputId": "5d3f3dde-9b8b-4506-beb4-f339e542e188"
      },
      "execution_count": 38,
      "outputs": [
        {
          "output_type": "stream",
          "name": "stdout",
          "text": [
            "Connection 468982775008.us.vertex-remote-models successfully created\n"
          ]
        }
      ]
    },
    {
      "cell_type": "code",
      "source": [
        "%%bigquery\n",
        "CREATE OR REPLACE MODEL `{BQ_SILVER_DATASET}.embeddings`\n",
        "REMOTE WITH CONNECTION `us.vertex-remote-models`\n",
        "OPTIONS (ENDPOINT = 'text-embedding-005');"
      ],
      "metadata": {
        "colab": {
          "base_uri": "https://localhost:8080/"
        },
        "id": "R1Tvr2qsFO9V",
        "executionInfo": {
          "status": "ok",
          "timestamp": 1755267380932,
          "user_tz": -330,
          "elapsed": 824,
          "user": {
            "displayName": "",
            "userId": ""
          }
        },
        "outputId": "797d9f23-4e01-4c05-a8fd-cfd75f0bfd91"
      },
      "execution_count": 40,
      "outputs": [
        {
          "output_type": "stream",
          "name": "stdout",
          "text": [
            "Executing query with job ID: df82fefb-da63-492d-b297-b8018f6f6e6e\n",
            "\rQuery executing: 0.23s"
          ]
        },
        {
          "output_type": "stream",
          "name": "stderr",
          "text": [
            "\n",
            "ERROR:\n",
            " 400 Invalid dataset ID \"{{BQ_SILVER_DATASET}}\". Dataset IDs must be alphanumeric (plus underscores and dashes) and must be at most 1024 characters long.; reason: invalid, location: {{BQ_SILVER_DATASET}}.embeddings, message: Invalid dataset ID \"{{BQ_SILVER_DATASET}}\". Dataset IDs must be alphanumeric (plus underscores and dashes) and must be at most 1024 characters long.\n",
            "\n",
            "Location: US\n",
            "Job ID: df82fefb-da63-492d-b297-b8018f6f6e6e\n",
            "\n"
          ]
        }
      ]
    },
    {
      "cell_type": "code",
      "source": [
        "import bigframes.pandas as bpd\n",
        "\n",
        "# Set BigQuery DataFrames options\n",
        "# Note: The project option is not required in all environments.\n",
        "# On BigQuery Studio, the project ID is automatically detected.\n",
        "bpd.options.bigquery.project = PROJECT_ID\n",
        "\n",
        "# Note: The location option is not required.\n",
        "# It defaults to the location of the first table or query\n",
        "# passed to read_gbq(). For APIs where a location can't be\n",
        "# auto-detected, the location defaults to the \"US\" location.\n",
        "bpd.options.bigquery.location = LOCATION"
      ],
      "metadata": {
        "id": "RDyJgy4XQHYz",
        "executionInfo": {
          "status": "ok",
          "timestamp": 1755259849456,
          "user_tz": -330,
          "elapsed": 673,
          "user": {
            "displayName": "",
            "userId": ""
          }
        }
      },
      "execution_count": 14,
      "outputs": []
    },
    {
      "cell_type": "code",
      "source": [
        "df = bpd.read_gbq_table('APP_MARKET_BRONZE.multilingual_mobile_app_reviews_2025')\n",
        "\n"
      ],
      "metadata": {
        "colab": {
          "base_uri": "https://localhost:8080/"
        },
        "id": "iuWwgQaJnmGz",
        "executionInfo": {
          "status": "ok",
          "timestamp": 1755261478176,
          "user_tz": -330,
          "elapsed": 793,
          "user": {
            "displayName": "",
            "userId": ""
          }
        },
        "outputId": "30b370ae-94e3-4e11-b8b4-24abb275a0b4"
      },
      "execution_count": 23,
      "outputs": [
        {
          "output_type": "stream",
          "name": "stderr",
          "text": [
            "/usr/local/lib/python3.11/dist-packages/bigframes/core/log_adapter.py:175: UserWarning: Reading cached table from 2025-08-15 12:10:54.243504+00:00 to avoid\n",
            "incompatibilies with previous reads of this table. To read the latest\n",
            "version, set `use_cache=False` or close the current session with\n",
            "Session.close() or bigframes.pandas.close_session().\n",
            "  return method(*args, **kwargs)\n"
          ]
        }
      ]
    },
    {
      "cell_type": "code",
      "source": [],
      "metadata": {
        "id": "WJy-Q9kUCs88"
      },
      "execution_count": null,
      "outputs": []
    },
    {
      "cell_type": "code",
      "source": [
        "df.count()"
      ],
      "metadata": {
        "colab": {
          "base_uri": "https://localhost:8080/",
          "height": 329
        },
        "id": "QaqYy42NvMAK",
        "executionInfo": {
          "status": "ok",
          "timestamp": 1755261498937,
          "user_tz": -330,
          "elapsed": 10450,
          "user": {
            "displayName": "",
            "userId": ""
          }
        },
        "outputId": "a205460a-693d-4061-d9c2-81fe0f156041"
      },
      "execution_count": 24,
      "outputs": [
        {
          "output_type": "display_data",
          "data": {
            "text/plain": [
              "<IPython.core.display.HTML object>"
            ],
            "text/html": [
              "Query job 53a9e100-f2b0-4281-9a14-4a4182ae3a5c is DONE. 448.4 kB processed. <a target=\"_blank\" href=\"https://console.cloud.google.com/bigquery?project=market-mirror-dev&j=bq:US:53a9e100-f2b0-4281-9a14-4a4182ae3a5c&page=queryresults\">Open Job</a>"
            ]
          },
          "metadata": {}
        },
        {
          "output_type": "display_data",
          "data": {
            "text/plain": [
              "<IPython.core.display.HTML object>"
            ],
            "text/html": [
              "Query job 7b6eaeae-ea5b-4e2f-9da8-ef581c4d1b82 is DONE. 436 Bytes processed. <a target=\"_blank\" href=\"https://console.cloud.google.com/bigquery?project=market-mirror-dev&j=bq:US:7b6eaeae-ea5b-4e2f-9da8-ef581c4d1b82&page=queryresults\">Open Job</a>"
            ]
          },
          "metadata": {}
        },
        {
          "output_type": "execute_result",
          "data": {
            "text/plain": [
              "review_id            2514\n",
              "user_id              2514\n",
              "app_name             2514\n",
              "app_category         2514\n",
              "review_text          2455\n",
              "review_language      2514\n",
              "rating               2477\n",
              "review_date          2514\n",
              "verified_purchase    2514\n",
              "device_type          2514\n",
              "num_helpful_votes    2514\n",
              "user_age             2514\n",
              "user_country         2473\n",
              "user_gender          1927\n",
              "app_version          2484\n",
              "dtype: Int64"
            ]
          },
          "metadata": {},
          "execution_count": 24
        }
      ]
    },
    {
      "cell_type": "code",
      "source": [
        "df.head(5)"
      ],
      "metadata": {
        "colab": {
          "base_uri": "https://localhost:8080/",
          "height": 585
        },
        "id": "gjcmP50jo_7Y",
        "executionInfo": {
          "status": "ok",
          "timestamp": 1755259874890,
          "user_tz": -330,
          "elapsed": 6607,
          "user": {
            "displayName": "",
            "userId": ""
          }
        },
        "outputId": "376c1a21-7b6f-43ce-af9b-b210247431c7"
      },
      "execution_count": 16,
      "outputs": [
        {
          "output_type": "display_data",
          "data": {
            "text/plain": [
              "<IPython.core.display.HTML object>"
            ],
            "text/html": [
              "Query job 4cfec474-e4a5-4603-a760-24543ce2d036 is DONE. 448.4 kB processed. <a target=\"_blank\" href=\"https://console.cloud.google.com/bigquery?project=market-mirror-dev&j=bq:US:4cfec474-e4a5-4603-a760-24543ce2d036&page=queryresults\">Open Job</a>"
            ]
          },
          "metadata": {}
        },
        {
          "output_type": "execute_result",
          "data": {
            "text/plain": [
              "   review_id  user_id     app_name       app_category  \\\n",
              "0        470  2402031  Google Maps  Social Networking   \n",
              "1         82  9758155        Udemy   News & Magazines   \n",
              "2       1280  5696685         eBay       Productivity   \n",
              "3       1981  3633909     LinkedIn      Entertainment   \n",
              "4       1525  1725497     WhatsApp  Social Networking   \n",
              "\n",
              "                                         review_text review_language  rating  \\\n",
              "0  Cum veritatis minima. Cumque consectetur quos ...              hi     4.7   \n",
              "1  This app is amazing! Really love the new featu...              th     2.4   \n",
              "2  This app is amazing! Really love the new featu...              hi     1.8   \n",
              "3  Possimus perferendis ducimus adipisci sequi vo...              ja     2.7   \n",
              "4                           Placeat quo consectetur.              ar     4.9   \n",
              "\n",
              "                 review_date  verified_purchase    device_type  \\\n",
              "0  2024-02-21 02:48:54+00:00              False        Android   \n",
              "1  2023-12-29 21:36:49+00:00              False  Windows Phone   \n",
              "2  2024-09-07 12:31:24+00:00               True            iOS   \n",
              "3  2024-03-08 09:07:42+00:00               True            iOS   \n",
              "4  2024-05-06 22:33:59+00:00              False  Windows Phone   \n",
              "\n",
              "   num_helpful_votes  user_age user_country        user_gender  app_version  \n",
              "0                728      75.0       France             Female  6.9.13-beta  \n",
              "1                853      24.0     Thailand               Male          1.8  \n",
              "2               1028      40.0        Japan         Non-binary       6.4.22  \n",
              "3                703      70.0        India             Female       2.4.48  \n",
              "4               1080      60.0       Russia  Prefer not to say         11.1  \n",
              "\n",
              "[5 rows x 15 columns]"
            ],
            "text/html": [
              "<div>\n",
              "<style scoped>\n",
              "    .dataframe tbody tr th:only-of-type {\n",
              "        vertical-align: middle;\n",
              "    }\n",
              "\n",
              "    .dataframe tbody tr th {\n",
              "        vertical-align: top;\n",
              "    }\n",
              "\n",
              "    .dataframe thead th {\n",
              "        text-align: right;\n",
              "    }\n",
              "</style>\n",
              "<table border=\"1\" class=\"dataframe\">\n",
              "  <thead>\n",
              "    <tr style=\"text-align: right;\">\n",
              "      <th></th>\n",
              "      <th>review_id</th>\n",
              "      <th>user_id</th>\n",
              "      <th>app_name</th>\n",
              "      <th>app_category</th>\n",
              "      <th>review_text</th>\n",
              "      <th>review_language</th>\n",
              "      <th>rating</th>\n",
              "      <th>review_date</th>\n",
              "      <th>verified_purchase</th>\n",
              "      <th>device_type</th>\n",
              "      <th>num_helpful_votes</th>\n",
              "      <th>user_age</th>\n",
              "      <th>user_country</th>\n",
              "      <th>user_gender</th>\n",
              "      <th>app_version</th>\n",
              "    </tr>\n",
              "  </thead>\n",
              "  <tbody>\n",
              "    <tr>\n",
              "      <th>0</th>\n",
              "      <td>470</td>\n",
              "      <td>2402031</td>\n",
              "      <td>Google Maps</td>\n",
              "      <td>Social Networking</td>\n",
              "      <td>Cum veritatis minima. Cumque consectetur quos ...</td>\n",
              "      <td>hi</td>\n",
              "      <td>4.7</td>\n",
              "      <td>2024-02-21 02:48:54+00:00</td>\n",
              "      <td>False</td>\n",
              "      <td>Android</td>\n",
              "      <td>728</td>\n",
              "      <td>75.0</td>\n",
              "      <td>France</td>\n",
              "      <td>Female</td>\n",
              "      <td>6.9.13-beta</td>\n",
              "    </tr>\n",
              "    <tr>\n",
              "      <th>1</th>\n",
              "      <td>82</td>\n",
              "      <td>9758155</td>\n",
              "      <td>Udemy</td>\n",
              "      <td>News &amp; Magazines</td>\n",
              "      <td>This app is amazing! Really love the new featu...</td>\n",
              "      <td>th</td>\n",
              "      <td>2.4</td>\n",
              "      <td>2023-12-29 21:36:49+00:00</td>\n",
              "      <td>False</td>\n",
              "      <td>Windows Phone</td>\n",
              "      <td>853</td>\n",
              "      <td>24.0</td>\n",
              "      <td>Thailand</td>\n",
              "      <td>Male</td>\n",
              "      <td>1.8</td>\n",
              "    </tr>\n",
              "    <tr>\n",
              "      <th>2</th>\n",
              "      <td>1280</td>\n",
              "      <td>5696685</td>\n",
              "      <td>eBay</td>\n",
              "      <td>Productivity</td>\n",
              "      <td>This app is amazing! Really love the new featu...</td>\n",
              "      <td>hi</td>\n",
              "      <td>1.8</td>\n",
              "      <td>2024-09-07 12:31:24+00:00</td>\n",
              "      <td>True</td>\n",
              "      <td>iOS</td>\n",
              "      <td>1028</td>\n",
              "      <td>40.0</td>\n",
              "      <td>Japan</td>\n",
              "      <td>Non-binary</td>\n",
              "      <td>6.4.22</td>\n",
              "    </tr>\n",
              "    <tr>\n",
              "      <th>3</th>\n",
              "      <td>1981</td>\n",
              "      <td>3633909</td>\n",
              "      <td>LinkedIn</td>\n",
              "      <td>Entertainment</td>\n",
              "      <td>Possimus perferendis ducimus adipisci sequi vo...</td>\n",
              "      <td>ja</td>\n",
              "      <td>2.7</td>\n",
              "      <td>2024-03-08 09:07:42+00:00</td>\n",
              "      <td>True</td>\n",
              "      <td>iOS</td>\n",
              "      <td>703</td>\n",
              "      <td>70.0</td>\n",
              "      <td>India</td>\n",
              "      <td>Female</td>\n",
              "      <td>2.4.48</td>\n",
              "    </tr>\n",
              "    <tr>\n",
              "      <th>4</th>\n",
              "      <td>1525</td>\n",
              "      <td>1725497</td>\n",
              "      <td>WhatsApp</td>\n",
              "      <td>Social Networking</td>\n",
              "      <td>Placeat quo consectetur.</td>\n",
              "      <td>ar</td>\n",
              "      <td>4.9</td>\n",
              "      <td>2024-05-06 22:33:59+00:00</td>\n",
              "      <td>False</td>\n",
              "      <td>Windows Phone</td>\n",
              "      <td>1080</td>\n",
              "      <td>60.0</td>\n",
              "      <td>Russia</td>\n",
              "      <td>Prefer not to say</td>\n",
              "      <td>11.1</td>\n",
              "    </tr>\n",
              "  </tbody>\n",
              "</table>\n",
              "<p>5 rows × 15 columns</p>\n",
              "</div>[5 rows x 15 columns in total]"
            ]
          },
          "metadata": {},
          "execution_count": 16
        }
      ]
    },
    {
      "cell_type": "code",
      "source": [
        "df.describe()"
      ],
      "metadata": {
        "colab": {
          "base_uri": "https://localhost:8080/",
          "height": 364
        },
        "id": "NH3PkRGhrSEg",
        "executionInfo": {
          "status": "ok",
          "timestamp": 1755260610616,
          "user_tz": -330,
          "elapsed": 4765,
          "user": {
            "displayName": "",
            "userId": ""
          }
        },
        "outputId": "98ee45a6-d07f-41d6-fa9b-a71a206fb2d7"
      },
      "execution_count": 19,
      "outputs": [
        {
          "output_type": "display_data",
          "data": {
            "text/plain": [
              "<IPython.core.display.HTML object>"
            ],
            "text/html": [
              "Query job 04a4207b-8060-40f6-86da-6bf73a89a8e8 is DONE. 120.4 kB processed. <a target=\"_blank\" href=\"https://console.cloud.google.com/bigquery?project=market-mirror-dev&j=bq:US:04a4207b-8060-40f6-86da-6bf73a89a8e8&page=queryresults\">Open Job</a>"
            ]
          },
          "metadata": {}
        },
        {
          "output_type": "execute_result",
          "data": {
            "text/plain": [
              "        review_id         user_id    rating  review_date  num_helpful_votes  \\\n",
              "count      2514.0          2514.0    2477.0         2514             2514.0   \n",
              "mean       1257.5  5080736.584328  3.021034         <NA>         616.704057   \n",
              "std    725.873612  2846939.152732  1.149955         <NA>         363.745326   \n",
              "min           1.0        100599.0       1.0         <NA>                0.0   \n",
              "25%         622.0       2586379.0       2.0         <NA>              286.0   \n",
              "50%        1255.0       5050084.0       3.0         <NA>              622.0   \n",
              "75%        1888.0       7550817.0       4.0         <NA>              921.0   \n",
              "max        2514.0       9995027.0       5.0         <NA>             1249.0   \n",
              "\n",
              "        user_age  \n",
              "count     2514.0  \n",
              "mean   44.247812  \n",
              "std     18.37229  \n",
              "min         13.0  \n",
              "25%         28.0  \n",
              "50%         44.0  \n",
              "75%         60.0  \n",
              "max         75.0  \n",
              "\n",
              "[8 rows x 6 columns]"
            ],
            "text/html": [
              "<div>\n",
              "<style scoped>\n",
              "    .dataframe tbody tr th:only-of-type {\n",
              "        vertical-align: middle;\n",
              "    }\n",
              "\n",
              "    .dataframe tbody tr th {\n",
              "        vertical-align: top;\n",
              "    }\n",
              "\n",
              "    .dataframe thead th {\n",
              "        text-align: right;\n",
              "    }\n",
              "</style>\n",
              "<table border=\"1\" class=\"dataframe\">\n",
              "  <thead>\n",
              "    <tr style=\"text-align: right;\">\n",
              "      <th></th>\n",
              "      <th>review_id</th>\n",
              "      <th>user_id</th>\n",
              "      <th>rating</th>\n",
              "      <th>review_date</th>\n",
              "      <th>num_helpful_votes</th>\n",
              "      <th>user_age</th>\n",
              "    </tr>\n",
              "  </thead>\n",
              "  <tbody>\n",
              "    <tr>\n",
              "      <th>count</th>\n",
              "      <td>2514.0</td>\n",
              "      <td>2514.0</td>\n",
              "      <td>2477.0</td>\n",
              "      <td>2514</td>\n",
              "      <td>2514.0</td>\n",
              "      <td>2514.0</td>\n",
              "    </tr>\n",
              "    <tr>\n",
              "      <th>mean</th>\n",
              "      <td>1257.5</td>\n",
              "      <td>5080736.584328</td>\n",
              "      <td>3.021034</td>\n",
              "      <td>&lt;NA&gt;</td>\n",
              "      <td>616.704057</td>\n",
              "      <td>44.247812</td>\n",
              "    </tr>\n",
              "    <tr>\n",
              "      <th>std</th>\n",
              "      <td>725.873612</td>\n",
              "      <td>2846939.152732</td>\n",
              "      <td>1.149955</td>\n",
              "      <td>&lt;NA&gt;</td>\n",
              "      <td>363.745326</td>\n",
              "      <td>18.37229</td>\n",
              "    </tr>\n",
              "    <tr>\n",
              "      <th>min</th>\n",
              "      <td>1.0</td>\n",
              "      <td>100599.0</td>\n",
              "      <td>1.0</td>\n",
              "      <td>&lt;NA&gt;</td>\n",
              "      <td>0.0</td>\n",
              "      <td>13.0</td>\n",
              "    </tr>\n",
              "    <tr>\n",
              "      <th>25%</th>\n",
              "      <td>622.0</td>\n",
              "      <td>2586379.0</td>\n",
              "      <td>2.0</td>\n",
              "      <td>&lt;NA&gt;</td>\n",
              "      <td>286.0</td>\n",
              "      <td>28.0</td>\n",
              "    </tr>\n",
              "    <tr>\n",
              "      <th>50%</th>\n",
              "      <td>1255.0</td>\n",
              "      <td>5050084.0</td>\n",
              "      <td>3.0</td>\n",
              "      <td>&lt;NA&gt;</td>\n",
              "      <td>622.0</td>\n",
              "      <td>44.0</td>\n",
              "    </tr>\n",
              "    <tr>\n",
              "      <th>75%</th>\n",
              "      <td>1888.0</td>\n",
              "      <td>7550817.0</td>\n",
              "      <td>4.0</td>\n",
              "      <td>&lt;NA&gt;</td>\n",
              "      <td>921.0</td>\n",
              "      <td>60.0</td>\n",
              "    </tr>\n",
              "    <tr>\n",
              "      <th>max</th>\n",
              "      <td>2514.0</td>\n",
              "      <td>9995027.0</td>\n",
              "      <td>5.0</td>\n",
              "      <td>&lt;NA&gt;</td>\n",
              "      <td>1249.0</td>\n",
              "      <td>75.0</td>\n",
              "    </tr>\n",
              "  </tbody>\n",
              "</table>\n",
              "<p>8 rows × 6 columns</p>\n",
              "</div>[8 rows x 6 columns in total]"
            ]
          },
          "metadata": {},
          "execution_count": 19
        }
      ]
    },
    {
      "cell_type": "code",
      "source": [
        "df = bpd.read_gbq_table('APP_MARKET_BRONZE.windows_store')\n",
        "\n",
        "df.head(5)"
      ],
      "metadata": {
        "colab": {
          "base_uri": "https://localhost:8080/",
          "height": 620
        },
        "id": "8w8FxthhuOCO",
        "executionInfo": {
          "status": "ok",
          "timestamp": 1755263212545,
          "user_tz": -330,
          "elapsed": 5438,
          "user": {
            "displayName": "",
            "userId": ""
          }
        },
        "outputId": "b9a021a1-b731-40e5-ed0e-086b7eacf574"
      },
      "execution_count": 31,
      "outputs": [
        {
          "output_type": "display_data",
          "data": {
            "text/plain": [
              "<IPython.core.display.HTML object>"
            ],
            "text/html": [
              "Query job 54527254-0fd4-49ad-ae1a-ca2609fabf65 is DONE. 5.4 MB processed. <a target=\"_blank\" href=\"https://console.cloud.google.com/bigquery?project=market-mirror-dev&j=bq:US:54527254-0fd4-49ad-ae1a-ca2609fabf65&page=queryresults\">Open Job</a>"
            ]
          },
          "metadata": {}
        },
        {
          "output_type": "execute_result",
          "data": {
            "text/plain": [
              "                            Name                                       Price  \\\n",
              "0                  3D Chess Game                                        Free   \n",
              "1  Edge of Reality: Mark of Fate                                    ₹ 549.00   \n",
              "2                     Demolition                                        Free   \n",
              "3     Lonely Mountains: Downhill  Included\n",
              "            \n",
              "\n",
              "\n",
              "+\n",
              " with  Game Pass   \n",
              "4   Screen Recorder by Animotica                                  ₹ 1,099.00   \n",
              "\n",
              "                                         Description              Publisher  \\\n",
              "0  Play against the right A.I. level for you, in ...   A Trillion Games Ltd   \n",
              "1  Big Fish Editor's Choice! This title was selec...         Big Fish Games   \n",
              "2  Explore, admire, then destroy works of archite...        Khor Chin Heong   \n",
              "3  Key Features:\n",
              "• Travel to the Lonely Mountains...  Thunderful Publishing   \n",
              "4  Screen Recorder by Animotica brings you an eas...            Mixilab LLC   \n",
              "\n",
              "  Date_of_Release            Category       Size          Age_Rating  \\\n",
              "0      06-02-2014        Card & board    45.6 MB   For ages 3 and up   \n",
              "1      18-01-2020  Action & adventure  892.71 MB  For ages 16 and up   \n",
              "2      11-05-2015          Simulation    2.49 GB   For ages 3 and up   \n",
              "3      23-10-2019  Action & adventure       <NA>   For ages 3 and up   \n",
              "4      03-11-2020        Productivity   24.02 MB   For ages 3 and up   \n",
              "\n",
              "               Languages  \n",
              "0  English(UnitedStates)  \n",
              "1  English(UnitedStates)  \n",
              "2  English(UnitedStates)  \n",
              "3  English(UnitedStates)  \n",
              "4  English(UnitedStates)  \n",
              "\n",
              "[5 rows x 9 columns]"
            ],
            "text/html": [
              "<div>\n",
              "<style scoped>\n",
              "    .dataframe tbody tr th:only-of-type {\n",
              "        vertical-align: middle;\n",
              "    }\n",
              "\n",
              "    .dataframe tbody tr th {\n",
              "        vertical-align: top;\n",
              "    }\n",
              "\n",
              "    .dataframe thead th {\n",
              "        text-align: right;\n",
              "    }\n",
              "</style>\n",
              "<table border=\"1\" class=\"dataframe\">\n",
              "  <thead>\n",
              "    <tr style=\"text-align: right;\">\n",
              "      <th></th>\n",
              "      <th>Name</th>\n",
              "      <th>Price</th>\n",
              "      <th>Description</th>\n",
              "      <th>Publisher</th>\n",
              "      <th>Date_of_Release</th>\n",
              "      <th>Category</th>\n",
              "      <th>Size</th>\n",
              "      <th>Age_Rating</th>\n",
              "      <th>Languages</th>\n",
              "    </tr>\n",
              "  </thead>\n",
              "  <tbody>\n",
              "    <tr>\n",
              "      <th>0</th>\n",
              "      <td>3D Chess Game</td>\n",
              "      <td>Free</td>\n",
              "      <td>Play against the right A.I. level for you, in ...</td>\n",
              "      <td>A Trillion Games Ltd</td>\n",
              "      <td>06-02-2014</td>\n",
              "      <td>Card &amp; board</td>\n",
              "      <td>45.6 MB</td>\n",
              "      <td>For ages 3 and up</td>\n",
              "      <td>English(UnitedStates)</td>\n",
              "    </tr>\n",
              "    <tr>\n",
              "      <th>1</th>\n",
              "      <td>Edge of Reality: Mark of Fate</td>\n",
              "      <td>₹ 549.00</td>\n",
              "      <td>Big Fish Editor's Choice! This title was selec...</td>\n",
              "      <td>Big Fish Games</td>\n",
              "      <td>18-01-2020</td>\n",
              "      <td>Action &amp; adventure</td>\n",
              "      <td>892.71 MB</td>\n",
              "      <td>For ages 16 and up</td>\n",
              "      <td>English(UnitedStates)</td>\n",
              "    </tr>\n",
              "    <tr>\n",
              "      <th>2</th>\n",
              "      <td>Demolition</td>\n",
              "      <td>Free</td>\n",
              "      <td>Explore, admire, then destroy works of archite...</td>\n",
              "      <td>Khor Chin Heong</td>\n",
              "      <td>11-05-2015</td>\n",
              "      <td>Simulation</td>\n",
              "      <td>2.49 GB</td>\n",
              "      <td>For ages 3 and up</td>\n",
              "      <td>English(UnitedStates)</td>\n",
              "    </tr>\n",
              "    <tr>\n",
              "      <th>3</th>\n",
              "      <td>Lonely Mountains: Downhill</td>\n",
              "      <td>Included\n",
              "            \n",
              "\n",
              "\n",
              "+\n",
              " with  Game Pass</td>\n",
              "      <td>Key Features:\n",
              "• Travel to the Lonely Mountains...</td>\n",
              "      <td>Thunderful Publishing</td>\n",
              "      <td>23-10-2019</td>\n",
              "      <td>Action &amp; adventure</td>\n",
              "      <td>&lt;NA&gt;</td>\n",
              "      <td>For ages 3 and up</td>\n",
              "      <td>English(UnitedStates)</td>\n",
              "    </tr>\n",
              "    <tr>\n",
              "      <th>4</th>\n",
              "      <td>Screen Recorder by Animotica</td>\n",
              "      <td>₹ 1,099.00</td>\n",
              "      <td>Screen Recorder by Animotica brings you an eas...</td>\n",
              "      <td>Mixilab LLC</td>\n",
              "      <td>03-11-2020</td>\n",
              "      <td>Productivity</td>\n",
              "      <td>24.02 MB</td>\n",
              "      <td>For ages 3 and up</td>\n",
              "      <td>English(UnitedStates)</td>\n",
              "    </tr>\n",
              "  </tbody>\n",
              "</table>\n",
              "<p>5 rows × 9 columns</p>\n",
              "</div>[5 rows x 9 columns in total]"
            ]
          },
          "metadata": {},
          "execution_count": 31
        }
      ]
    },
    {
      "cell_type": "code",
      "source": [
        "df.count()"
      ],
      "metadata": {
        "colab": {
          "base_uri": "https://localhost:8080/",
          "height": 225
        },
        "id": "oH2tobFku6cO",
        "executionInfo": {
          "status": "ok",
          "timestamp": 1755263294194,
          "user_tz": -330,
          "elapsed": 8515,
          "user": {
            "displayName": "",
            "userId": ""
          }
        },
        "outputId": "d41607a3-7416-4fb4-838d-0a937223d945"
      },
      "execution_count": 32,
      "outputs": [
        {
          "output_type": "display_data",
          "data": {
            "text/plain": [
              "<IPython.core.display.HTML object>"
            ],
            "text/html": [
              "Query job fc278b80-1ced-4ed8-81b4-6dc0b9ac4588 is DONE. 5.4 MB processed. <a target=\"_blank\" href=\"https://console.cloud.google.com/bigquery?project=market-mirror-dev&j=bq:US:fc278b80-1ced-4ed8-81b4-6dc0b9ac4588&page=queryresults\">Open Job</a>"
            ]
          },
          "metadata": {}
        },
        {
          "output_type": "display_data",
          "data": {
            "text/plain": [
              "<IPython.core.display.HTML object>"
            ],
            "text/html": [
              "Query job 9d473af7-c120-4f69-9fd3-ee75ef712cc1 is DONE. 237 Bytes processed. <a target=\"_blank\" href=\"https://console.cloud.google.com/bigquery?project=market-mirror-dev&j=bq:US:9d473af7-c120-4f69-9fd3-ee75ef712cc1&page=queryresults\">Open Job</a>"
            ]
          },
          "metadata": {}
        },
        {
          "output_type": "execute_result",
          "data": {
            "text/plain": [
              "Name               3960\n",
              "Price              3960\n",
              "Description        3960\n",
              "Publisher          3960\n",
              "Date_of_Release    3954\n",
              "Category           3960\n",
              "Size               3642\n",
              "Age_Rating         3960\n",
              "Languages          3908\n",
              "dtype: Int64"
            ]
          },
          "metadata": {},
          "execution_count": 32
        }
      ]
    }
  ]
}