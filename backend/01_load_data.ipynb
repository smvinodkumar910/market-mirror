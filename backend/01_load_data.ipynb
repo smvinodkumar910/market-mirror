{
  "nbformat": 4,
  "nbformat_minor": 0,
  "metadata": {
    "colab": {
      "cell_execution_strategy": "setup",
      "provenance": [],
      "name": "backend/01_load_data.ipynb"
    },
    "kernelspec": {
      "name": "python3",
      "display_name": "Python 3"
    },
    "language_info": {
      "name": "python"
    }
  },
  "cells": [
    {
      "cell_type": "markdown",
      "source": [
        "## **Loading Data to BigQuery**"
      ],
      "metadata": {
        "id": "wfzOMyCyjfKL"
      }
    },
    {
      "cell_type": "markdown",
      "source": [
        "\n",
        "<table align=\"left\">\n",
        "  <td style=\"text-align: center\">\n",
        "    <a href=\"https://github.com/smvinodkumar910/market-mirror/blob/dev/load_data.ipynb\">\n",
        "      <img width=\"32px\" src=\"https://www.gstatic.com/pantheon/images/bigquery/welcome_page/colab-logo.svg\" alt=\"Google Colaboratory logo\"><br> Run in Colab\n",
        "    </a>\n",
        "  </td>\n",
        "  <td style=\"text-align: center\">\n",
        "    <a href=\"https://console.cloud.google.com/vertex-ai/colab/import/https:%2F%2Fraw.githubusercontent.com%2FGoogleCloudPlatform%2Fgenerative-ai%2Fmain%2Fvision%2Fgetting-started%2Fimagen3_customization.ipynb\">\n",
        "      <img width=\"32px\" src=\"https://lh3.googleusercontent.com/JmcxdQi-qOpctIvWKgPtrzZdJJK-J3sWE1RsfjZNwshCFgE_9fULcNpuXYTilIR2hjwN\" alt=\"Google Cloud Colab Enterprise logo\"><br> Run in Colab Enterprise\n",
        "    </a>\n",
        "  </td>\n",
        "  <td style=\"text-align: center\">\n",
        "    <a href=\"https://console.cloud.google.com/vertex-ai/workbench/deploy-notebook?download_url=https://raw.githubusercontent.com/smvinodkumar910/market-mirror/blob/dev/load_data.ipynb\">\n",
        "      <img src=\"https://lh3.googleusercontent.com/UiNooY4LUgW_oTvpsNhPpQzsstV5W8F7rYgxgGBD85cWJoLmrOzhVs_ksK_vgx40SHs7jCqkTkCk=e14-rj-sc0xffffff-h130-w32\" alt=\"Vertex AI logo\"><br> Open in Vertex AI Workbench\n",
        "    </a>\n",
        "  </td>    \n",
        "  <td style=\"text-align: center\">\n",
        "    <a href=\"https://github.com/smvinodkumar910/market-mirror/blob/dev/load_data.ipynb\">\n",
        "      <img width=\"32px\" src=\"https://www.svgrepo.com/download/217753/github.svg\" alt=\"GitHub logo\"><br> View on GitHub\n",
        "    </a>\n",
        "  </td>\n",
        "</table>"
      ],
      "metadata": {
        "id": "Fs11SlAmizlg"
      }
    },
    {
      "cell_type": "markdown",
      "source": [
        "### Authenticate your notebook environment (Colab only)\n",
        "\n",
        "If you are running this notebook on Google Colab, run the following cell to authenticate your environment.\n"
      ],
      "metadata": {
        "id": "cNsd-fI3mYHM"
      }
    },
    {
      "cell_type": "code",
      "source": [
        "import sys\n",
        "\n",
        "if \"google.colab\" in sys.modules:\n",
        "    # Support for third party widgets\n",
        "    from google.colab import auth, output\n",
        "\n",
        "    auth.authenticate_user()\n",
        "    output.enable_custom_widget_manager()"
      ],
      "metadata": {
        "id": "QBdSXkfcmc9c",
        "colab": {
          "base_uri": "https://localhost:8080/"
        },
        "executionInfo": {
          "status": "ok",
          "timestamp": 1755451447798,
          "user_tz": -330,
          "elapsed": 773,
          "user": {
            "displayName": "",
            "userId": ""
          }
        },
        "outputId": "1bc63eb4-c6d6-4c57-c196-0cbaf1d0e8ae"
      },
      "execution_count": 1,
      "outputs": [
        {
          "output_type": "stream",
          "name": "stdout",
          "text": [
            "WARNING: google.colab.auth.authenticate_user() is not supported in Colab Enterprise.\n"
          ]
        }
      ]
    },
    {
      "cell_type": "markdown",
      "source": [
        "### Setting-up Environment"
      ],
      "metadata": {
        "id": "ckhjHdl0VxvZ"
      }
    },
    {
      "cell_type": "code",
      "source": [
        "import os\n",
        "\n",
        "PROJECT_ID = \"market-mirror-dev\"  # @param {type: \"string\", placeholder: \"[your-project-id]\", isTemplate: true}\n",
        "BUCKET_NAME = \"marke-mirror-dev-data\"  # @param {type: \"string\", placeholder: \"[your-bucket-name]\", isTemplate: true}\n",
        "LOCATION = \"us-central1\"  # @param {type: \"string\", placeholder: \"[your-region]\", isTemplate: true}\n",
        "if not PROJECT_ID or PROJECT_ID == \"[your-project-id]\":\n",
        "    PROJECT_ID = str(os.environ.get(\"GOOGLE_CLOUD_PROJECT\"))\n",
        "\n",
        "if not LOCATION or LOCATION == \"[your-region]\":\n",
        "    LOCATION = os.environ.get(\"GOOGLE_CLOUD_REGION\", \"us-central1\")\n"
      ],
      "metadata": {
        "id": "L02uxb6fwRz5",
        "executionInfo": {
          "status": "ok",
          "timestamp": 1755451448518,
          "user_tz": -330,
          "elapsed": 6,
          "user": {
            "displayName": "",
            "userId": ""
          }
        }
      },
      "execution_count": 2,
      "outputs": []
    },
    {
      "cell_type": "code",
      "source": [
        "BQ_BRONZE_DATASET = \"APP_MARKET_BRONZE\" # @param {type: \"string\", placeholder: \"[bronze-dataset]\", isTemplate: true}\n",
        "BQ_SILVER_DATASET = \"APP_MARKET_SILVER\" # @param {type: \"string\", placeholder: \"[silver-dataset]\", isTemplate: true}\n",
        "BQ_GOLD_DATASET = \"APP_MARKET_GOLD\" # @param {type: \"string\", placeholder: \"[gold-dataset]\", isTemplate: true}"
      ],
      "metadata": {
        "id": "Ae8j4N0ulv0Z",
        "executionInfo": {
          "status": "ok",
          "timestamp": 1755451448518,
          "user_tz": -330,
          "elapsed": 5,
          "user": {
            "displayName": "",
            "userId": ""
          }
        }
      },
      "execution_count": 3,
      "outputs": []
    },
    {
      "cell_type": "markdown",
      "source": [
        "#### Prepare GCS"
      ],
      "metadata": {
        "id": "DUsRjtqymYR1"
      }
    },
    {
      "cell_type": "code",
      "source": [
        "from google.cloud import storage\n",
        "from google.cloud.exceptions import NotFound\n",
        "\n",
        "gcs_client = storage.Client(\n",
        "    project=PROJECT_ID\n",
        ")\n",
        "\n",
        "try:\n",
        "  databucket = gcs_client.get_bucket(BUCKET_NAME)\n",
        "  bucket_exists = True\n",
        "except NotFound:\n",
        "  databucket = gcs_client.create_bucket(BUCKET_NAME, project=PROJECT_ID)\n",
        "  bucket_exists = True"
      ],
      "metadata": {
        "id": "hP-bc_WVmW1P",
        "executionInfo": {
          "status": "ok",
          "timestamp": 1755451448518,
          "user_tz": -330,
          "elapsed": 5,
          "user": {
            "displayName": "",
            "userId": ""
          }
        }
      },
      "execution_count": 4,
      "outputs": []
    },
    {
      "cell_type": "markdown",
      "source": [
        "#### Prepare BigQuery Datasets"
      ],
      "metadata": {
        "id": "oGJaRb78XdLf"
      }
    },
    {
      "cell_type": "code",
      "source": [
        "from google.cloud import bigquery\n",
        "\n",
        "bq_client = bigquery.Client(project=PROJECT_ID)\n",
        "\n",
        "bq_client.create_dataset(BQ_BRONZE_DATASET,exists_ok=True)\n",
        "bq_client.create_dataset(BQ_SILVER_DATASET,exists_ok=True)\n",
        "bq_client.create_dataset(BQ_GOLD_DATASET,exists_ok=True)"
      ],
      "metadata": {
        "colab": {
          "base_uri": "https://localhost:8080/"
        },
        "id": "6umLktvxCItU",
        "executionInfo": {
          "status": "ok",
          "timestamp": 1755451450050,
          "user_tz": -330,
          "elapsed": 1536,
          "user": {
            "displayName": "",
            "userId": ""
          }
        },
        "outputId": "31b14936-8f9f-4f0c-a076-9420d09c9831"
      },
      "execution_count": 5,
      "outputs": [
        {
          "output_type": "execute_result",
          "data": {
            "text/plain": [
              "Dataset(DatasetReference('market-mirror-dev', 'APP_MARKET_GOLD'))"
            ]
          },
          "metadata": {},
          "execution_count": 5
        }
      ]
    },
    {
      "cell_type": "markdown",
      "source": [
        "### Data Load Steps"
      ],
      "metadata": {
        "id": "WXzmyv-mV-zw"
      }
    },
    {
      "cell_type": "markdown",
      "source": [
        "#### Data Definitions\n",
        "\n",
        "We are going to use 4 Kaggle Datasets for this project.\n",
        "\n",
        "1. https://www.kaggle.com/datasets/pratyushpuri/multilingual-mobile-app-reviews-dataset-2025\n",
        "2. https://www.kaggle.com/datasets/lava18/google-play-store-apps\n",
        "3. https://www.kaggle.com/datasets/ramamet4/app-store-apple-data-set-10k-apps\n",
        "4. https://www.kaggle.com/datasets/quadeer15sh/mwindows-store-top-apps-games"
      ],
      "metadata": {
        "id": "fRcHOFmDkxEr"
      }
    },
    {
      "cell_type": "markdown",
      "source": [
        "#### Download Data from Kaggle"
      ],
      "metadata": {
        "id": "VXvIfXeSW6Y5"
      }
    },
    {
      "cell_type": "code",
      "source": [
        "import kagglehub\n",
        "import os, glob\n",
        "\n",
        "product_datasets_list = [\n",
        "'https://www.kaggle.com/datasets/maryamsayagh1/google-play-store-apps',\n",
        "'https://www.kaggle.com/datasets/ramamet4/app-store-apple-data-set-10k-apps',\n",
        "'https://www.kaggle.com/datasets/quadeer15sh/windows-store-top-apps-games']\n",
        "\n",
        "\n",
        "reviews_datasets_list = ['https://www.kaggle.com/datasets/lava18/google-play-store-apps',\n",
        "'https://www.kaggle.com/datasets/marianna13/google-play-reviews']"
      ],
      "metadata": {
        "id": "rCWjjAKmp1ph",
        "executionInfo": {
          "status": "ok",
          "timestamp": 1755451450774,
          "user_tz": -330,
          "elapsed": 727,
          "user": {
            "displayName": "",
            "userId": ""
          }
        }
      },
      "execution_count": 6,
      "outputs": []
    },
    {
      "cell_type": "code",
      "source": [
        "review_local_paths = []\n",
        "for dataset in reviews_datasets_list:\n",
        "  dataset_path = dataset.replace('https://www.kaggle.com/datasets/','')\n",
        "  dataset_name = dataset.split('/')[-1]\n",
        "  path = kagglehub.dataset_download(dataset_path)\n",
        "  files_path = glob.glob(pathname=os.path.join(path,'*'))\n",
        "  review_local_paths.append({'dataset_name': dataset_name, 'path':files_path})"
      ],
      "metadata": {
        "id": "hdUAaI73qGo2",
        "executionInfo": {
          "status": "ok",
          "timestamp": 1755451454341,
          "user_tz": -330,
          "elapsed": 3569,
          "user": {
            "displayName": "",
            "userId": ""
          }
        }
      },
      "execution_count": 7,
      "outputs": []
    },
    {
      "cell_type": "code",
      "source": [
        "product_local_paths = []\n",
        "for dataset in product_datasets_list:\n",
        "  dataset_path = dataset.replace('https://www.kaggle.com/datasets/','')\n",
        "  dataset_name = dataset.split('/')[-1]\n",
        "  path = kagglehub.dataset_download(dataset_path)\n",
        "  files_path = glob.glob(pathname=os.path.join(path,'*'))\n",
        "  product_local_paths.append({'dataset_name': dataset_name, 'path':files_path})"
      ],
      "metadata": {
        "id": "vnYbtLldMsvQ",
        "executionInfo": {
          "status": "ok",
          "timestamp": 1755451460453,
          "user_tz": -330,
          "elapsed": 6117,
          "user": {
            "displayName": "",
            "userId": ""
          }
        }
      },
      "execution_count": 8,
      "outputs": []
    },
    {
      "cell_type": "markdown",
      "source": [
        "#### Upload Data to GCS"
      ],
      "metadata": {
        "id": "QVygYUjmXMND"
      }
    },
    {
      "cell_type": "code",
      "source": [
        "#Uploading reivew datasets\n",
        "review_gcs_files = []\n",
        "if bucket_exists:\n",
        "  for file in review_local_paths:\n",
        "    dataset_name = file.get('dataset_name')\n",
        "    paths = file.get('path')\n",
        "    for path in paths:\n",
        "      file_name = path.split('/')[-1]\n",
        "      destination_blob_name = os.path.join('review_dataset',dataset_name,file_name)\n",
        "      destination_blob = databucket.blob(destination_blob_name)\n",
        "      destination_blob.upload_from_filename(path)\n",
        "      review_gcs_files.append(f\"gs://{BUCKET_NAME}/{destination_blob_name}\")\n",
        "      print(\n",
        "          f\"File {path} uploaded to gs://{BUCKET_NAME}/{destination_blob_name}.\"\n",
        "      )"
      ],
      "metadata": {
        "colab": {
          "base_uri": "https://localhost:8080/"
        },
        "id": "KlVuhiJmNKQd",
        "executionInfo": {
          "status": "ok",
          "timestamp": 1755451461196,
          "user_tz": -330,
          "elapsed": 747,
          "user": {
            "displayName": "",
            "userId": ""
          }
        },
        "outputId": "4748afb7-5f6c-4fad-f3a1-20e2a2def3e9"
      },
      "execution_count": 9,
      "outputs": [
        {
          "output_type": "stream",
          "name": "stdout",
          "text": [
            "File /root/.cache/kagglehub/datasets/lava18/google-play-store-apps/versions/6/googleplaystore_user_reviews.csv uploaded to gs://marke-mirror-dev-data/review_dataset/google-play-store-apps/googleplaystore_user_reviews.csv.\n",
            "File /root/.cache/kagglehub/datasets/lava18/google-play-store-apps/versions/6/googleplaystore.csv uploaded to gs://marke-mirror-dev-data/review_dataset/google-play-store-apps/googleplaystore.csv.\n",
            "File /root/.cache/kagglehub/datasets/lava18/google-play-store-apps/versions/6/license.txt uploaded to gs://marke-mirror-dev-data/review_dataset/google-play-store-apps/license.txt.\n",
            "File /root/.cache/kagglehub/datasets/marianna13/google-play-reviews/versions/1/google_play_reviews.csv uploaded to gs://marke-mirror-dev-data/review_dataset/google-play-reviews/google_play_reviews.csv.\n"
          ]
        }
      ]
    },
    {
      "cell_type": "code",
      "source": [
        "#Uploading product datasets\n",
        "product_gcs_files = []\n",
        "if bucket_exists:\n",
        "  for file in product_local_paths:\n",
        "    dataset_name = file.get('dataset_name')\n",
        "    paths = file.get('path')\n",
        "    for path in paths:\n",
        "      file_name = path.split('/')[-1]\n",
        "      destination_blob_name = os.path.join('product_dataset',dataset_name,file_name)\n",
        "      destination_blob = databucket.blob(destination_blob_name)\n",
        "      destination_blob.upload_from_filename(path)\n",
        "      product_gcs_files.append(f\"gs://{BUCKET_NAME}/{destination_blob_name}\")\n",
        "      print(\n",
        "          f\"File {path} uploaded to gs://{BUCKET_NAME}/{destination_blob_name}.\"\n",
        "      )"
      ],
      "metadata": {
        "id": "6fXhJhwtxt0m",
        "executionInfo": {
          "status": "ok",
          "timestamp": 1755451463535,
          "user_tz": -330,
          "elapsed": 2340,
          "user": {
            "displayName": "",
            "userId": ""
          }
        },
        "colab": {
          "base_uri": "https://localhost:8080/"
        },
        "outputId": "844bb806-ace4-4478-ce19-11b791e08bcd"
      },
      "execution_count": 10,
      "outputs": [
        {
          "output_type": "stream",
          "name": "stdout",
          "text": [
            "File /root/.cache/kagglehub/datasets/maryamsayagh1/google-play-store-apps/versions/1/cleanapp.csv uploaded to gs://marke-mirror-dev-data/product_dataset/google-play-store-apps/cleanapp.csv.\n",
            "File /root/.cache/kagglehub/datasets/ramamet4/app-store-apple-data-set-10k-apps/versions/7/AppleStore.csv uploaded to gs://marke-mirror-dev-data/product_dataset/app-store-apple-data-set-10k-apps/AppleStore.csv.\n",
            "File /root/.cache/kagglehub/datasets/ramamet4/app-store-apple-data-set-10k-apps/versions/7/appleStore_description.csv uploaded to gs://marke-mirror-dev-data/product_dataset/app-store-apple-data-set-10k-apps/appleStore_description.csv.\n",
            "File /root/.cache/kagglehub/datasets/quadeer15sh/windows-store-top-apps-games/versions/1/windows_store.csv uploaded to gs://marke-mirror-dev-data/product_dataset/windows-store-top-apps-games/windows_store.csv.\n"
          ]
        }
      ]
    },
    {
      "cell_type": "markdown",
      "source": [
        "#### Write Data to BigQuery Bronze Layer"
      ],
      "metadata": {
        "id": "nmhD9RXCXnED"
      }
    },
    {
      "cell_type": "code",
      "source": [
        "import bigframes.pandas as bpd\n",
        "\n",
        "bpd.options.bigquery.project = PROJECT_ID\n",
        "bpd.options.bigquery.dataset = BQ_BRONZE_DATASET"
      ],
      "metadata": {
        "id": "CdJtbuXjRbxy",
        "executionInfo": {
          "status": "ok",
          "timestamp": 1755451464290,
          "user_tz": -330,
          "elapsed": 758,
          "user": {
            "displayName": "",
            "userId": ""
          }
        }
      },
      "execution_count": 11,
      "outputs": []
    },
    {
      "cell_type": "code",
      "source": [
        "review_gcs_files_filtered = [{'file_name':file.split('/')[-1].split('.')[0], 'gcs_path': file} for file in review_gcs_files if (file.endswith('.csv')  and 'review' in file.split('/')[-1].split('.')[0] ) ]"
      ],
      "metadata": {
        "id": "cymvlmMISFbP",
        "executionInfo": {
          "status": "ok",
          "timestamp": 1755451464290,
          "user_tz": -330,
          "elapsed": 9,
          "user": {
            "displayName": "",
            "userId": ""
          }
        }
      },
      "execution_count": 12,
      "outputs": []
    },
    {
      "cell_type": "code",
      "source": [
        "review_gcs_files_filtered"
      ],
      "metadata": {
        "colab": {
          "base_uri": "https://localhost:8080/"
        },
        "id": "MJzOiY5vRpqJ",
        "executionInfo": {
          "status": "ok",
          "timestamp": 1755451464290,
          "user_tz": -330,
          "elapsed": 8,
          "user": {
            "displayName": "",
            "userId": ""
          }
        },
        "outputId": "06e33b6f-4cd9-48d4-c79f-059f95b4f504"
      },
      "execution_count": 13,
      "outputs": [
        {
          "output_type": "execute_result",
          "data": {
            "text/plain": [
              "[{'file_name': 'googleplaystore_user_reviews',\n",
              "  'gcs_path': 'gs://marke-mirror-dev-data/review_dataset/google-play-store-apps/googleplaystore_user_reviews.csv'},\n",
              " {'file_name': 'googleplaystore',\n",
              "  'gcs_path': 'gs://marke-mirror-dev-data/review_dataset/google-play-store-apps/googleplaystore.csv'},\n",
              " {'file_name': 'google_play_reviews',\n",
              "  'gcs_path': 'gs://marke-mirror-dev-data/review_dataset/google-play-reviews/google_play_reviews.csv'}]"
            ]
          },
          "metadata": {},
          "execution_count": 13
        }
      ]
    },
    {
      "cell_type": "code",
      "source": [
        "#start processing files\n",
        "for file_dtl in review_gcs_files_filtered:\n",
        "  df = bpd.read_csv(file_dtl.get('gcs_path'))\n",
        "  df.to_gbq(f'{BQ_BRONZE_DATASET}.{file_dtl.get(\"file_name\")}', if_exists='replace')\n"
      ],
      "metadata": {
        "colab": {
          "base_uri": "https://localhost:8080/",
          "height": 193
        },
        "id": "vygSxhJMFyyg",
        "executionInfo": {
          "status": "ok",
          "timestamp": 1755451487374,
          "user_tz": -330,
          "elapsed": 23090,
          "user": {
            "displayName": "",
            "userId": ""
          }
        },
        "outputId": "ccc1fd5e-efa9-4424-9421-a9490a5c781c"
      },
      "execution_count": 14,
      "outputs": [
        {
          "output_type": "stream",
          "name": "stderr",
          "text": [
            "/usr/local/lib/python3.11/dist-packages/bigframes/core/global_session.py:103: DefaultLocationWarning: No explicit location is set, so using location US for the session.\n",
            "  _global_session = bigframes.session.connect(\n"
          ]
        },
        {
          "output_type": "display_data",
          "data": {
            "text/plain": [
              "<IPython.core.display.HTML object>"
            ],
            "text/html": [
              "Query job 46c4fdeb-423c-48dd-a3de-ebf498cab386 is DONE. 0 Bytes processed. <a target=\"_blank\" href=\"https://console.cloud.google.com/bigquery?project=market-mirror-dev&j=bq:US:46c4fdeb-423c-48dd-a3de-ebf498cab386&page=queryresults\">Open Job</a>"
            ]
          },
          "metadata": {}
        },
        {
          "output_type": "display_data",
          "data": {
            "text/plain": [
              "<IPython.core.display.HTML object>"
            ],
            "text/html": [
              "Load job ecea6371-c1b4-4616-add0-292e3253b5a4 is DONE. <a target=\"_blank\" href=\"https://console.cloud.google.com/bigquery?project=market-mirror-dev&j=bq:US:ecea6371-c1b4-4616-add0-292e3253b5a4&page=queryresults\">Open Job</a>"
            ]
          },
          "metadata": {}
        },
        {
          "output_type": "display_data",
          "data": {
            "text/plain": [
              "<IPython.core.display.HTML object>"
            ],
            "text/html": [
              "Query job 1095395c-ce67-49d4-83b7-1052063966f3 is DONE. 14.0 MB processed. <a target=\"_blank\" href=\"https://console.cloud.google.com/bigquery?project=market-mirror-dev&j=bq:US:1095395c-ce67-49d4-83b7-1052063966f3&page=queryresults\">Open Job</a>"
            ]
          },
          "metadata": {}
        },
        {
          "output_type": "display_data",
          "data": {
            "text/plain": [
              "<IPython.core.display.HTML object>"
            ],
            "text/html": [
              "Load job e7c68d68-32f7-4e28-bbed-9463327da250 is DONE. <a target=\"_blank\" href=\"https://console.cloud.google.com/bigquery?project=market-mirror-dev&j=bq:US:e7c68d68-32f7-4e28-bbed-9463327da250&page=queryresults\">Open Job</a>"
            ]
          },
          "metadata": {}
        },
        {
          "output_type": "display_data",
          "data": {
            "text/plain": [
              "<IPython.core.display.HTML object>"
            ],
            "text/html": [
              "Query job c77e37be-c08c-44e9-a61b-fdfe9f44ecf6 is DONE. 1.5 MB processed. <a target=\"_blank\" href=\"https://console.cloud.google.com/bigquery?project=market-mirror-dev&j=bq:US:c77e37be-c08c-44e9-a61b-fdfe9f44ecf6&page=queryresults\">Open Job</a>"
            ]
          },
          "metadata": {}
        },
        {
          "output_type": "display_data",
          "data": {
            "text/plain": [
              "<IPython.core.display.HTML object>"
            ],
            "text/html": [
              "Load job 71c3552a-a354-43f6-961b-2fd319ff0def is DONE. <a target=\"_blank\" href=\"https://console.cloud.google.com/bigquery?project=market-mirror-dev&j=bq:US:71c3552a-a354-43f6-961b-2fd319ff0def&page=queryresults\">Open Job</a>"
            ]
          },
          "metadata": {}
        },
        {
          "output_type": "display_data",
          "data": {
            "text/plain": [
              "<IPython.core.display.HTML object>"
            ],
            "text/html": [
              "Query job bbd4e6fd-83e0-4653-b56b-c7ba50a591e4 is DONE. 2.2 MB processed. <a target=\"_blank\" href=\"https://console.cloud.google.com/bigquery?project=market-mirror-dev&j=bq:US:bbd4e6fd-83e0-4653-b56b-c7ba50a591e4&page=queryresults\">Open Job</a>"
            ]
          },
          "metadata": {}
        }
      ]
    },
    {
      "cell_type": "code",
      "source": [
        "product_gcs_files"
      ],
      "metadata": {
        "colab": {
          "base_uri": "https://localhost:8080/"
        },
        "id": "5Tl0ASZiRemO",
        "executionInfo": {
          "status": "ok",
          "timestamp": 1755436208914,
          "user_tz": -330,
          "elapsed": 3,
          "user": {
            "displayName": "",
            "userId": ""
          }
        },
        "outputId": "5a7addd8-4ff4-427b-c06a-646bd637c620"
      },
      "execution_count": null,
      "outputs": [
        {
          "output_type": "execute_result",
          "data": {
            "text/plain": [
              "['gs://marke-mirror-dev-data/product_dataset/google-play-store-apps/cleanapp.csv',\n",
              " 'gs://marke-mirror-dev-data/product_dataset/app-store-apple-data-set-10k-apps/AppleStore.csv',\n",
              " 'gs://marke-mirror-dev-data/product_dataset/app-store-apple-data-set-10k-apps/appleStore_description.csv',\n",
              " 'gs://marke-mirror-dev-data/product_dataset/windows-store-top-apps-games/windows_store.csv']"
            ]
          },
          "metadata": {},
          "execution_count": 51
        }
      ]
    },
    {
      "cell_type": "code",
      "source": [
        "product_gcs_files_filtered = [{'file_name':file.split('/')[-1].split('.')[0], 'gcs_path': file} for file in product_gcs_files if file.endswith('.csv') ]"
      ],
      "metadata": {
        "id": "Ct5KwMi8KDTi"
      },
      "execution_count": null,
      "outputs": []
    },
    {
      "cell_type": "code",
      "source": [
        "from google.cloud.dataproc_spark_connect import DataprocSparkSession\n",
        "from google.cloud.dataproc_v1 import Session\n",
        "\n",
        "\n",
        "# This will create a default Spark session\n",
        "spark = DataprocSparkSession.builder.getOrCreate()\n"
      ],
      "metadata": {
        "colab": {
          "base_uri": "https://localhost:8080/",
          "height": 171
        },
        "id": "B4-r8OEaKgJl",
        "executionInfo": {
          "status": "ok",
          "timestamp": 1755436539195,
          "user_tz": -330,
          "elapsed": 113748,
          "user": {
            "displayName": "",
            "userId": ""
          }
        },
        "outputId": "dfdec412-6014-438e-c897-37408f5d68e3"
      },
      "execution_count": null,
      "outputs": [
        {
          "output_type": "stream",
          "name": "stderr",
          "text": [
            "Warning while processing notebook ID: Notebook ID 'load_data.ipynb' is not compliant with label value format. Only lowercase letters, numbers, and dashes are allowed. The value must start with lowercase letter or number and end with a lowercase letter or number. Maximum length is 63 characters. Skipping notebook ID label.\n"
          ]
        },
        {
          "output_type": "display_data",
          "data": {
            "text/plain": [
              "<IPython.core.display.HTML object>"
            ],
            "text/html": [
              "\n",
              "                <div>\n",
              "                    <p>Creating Dataproc Spark Session<p>\n",
              "                    <p><a href=\"https://console.cloud.google.com/dataproc/interactive/us-central1/sc-20250817-131349-pfoovh?project=market-mirror-dev\">Dataproc Session</a></p>\n",
              "                </div>\n",
              "            "
            ]
          },
          "metadata": {}
        },
        {
          "output_type": "stream",
          "name": "stderr",
          "text": [
            "██████████████████████████████████████████████████████████▋                     "
          ]
        },
        {
          "output_type": "stream",
          "name": "stdout",
          "text": [
            "\n"
          ]
        },
        {
          "output_type": "stream",
          "name": "stderr",
          "text": [
            "\n"
          ]
        },
        {
          "output_type": "display_data",
          "data": {
            "text/plain": [
              "<IPython.core.display.HTML object>"
            ],
            "text/html": [
              "<div><p>Dataproc Session was successfully created</p></div>"
            ]
          },
          "metadata": {}
        }
      ]
    },
    {
      "cell_type": "code",
      "source": [
        "for file in product_gcs_files_filtered:\n",
        "  table_name = file.get('file_name')\n",
        "  print(table_name)\n",
        "  df = spark.read\\\n",
        "  .option(\"multiLine\", \"true\")\\\n",
        "  .option(\"quote\", \"\\\"\")\\\n",
        "  .option(\"escape\", '\"')\\\n",
        "  .csv(file.get('gcs_path'),\n",
        "        inferSchema=True,\n",
        "        header=True)\n",
        "  col_rename = [{f\"{column}\":f\"{column.replace(' ','_').replace('.','_')}\"} for column in df.columns]\n",
        "  all_col_rename = dict()\n",
        "  for a in col_rename:\n",
        "    all_col_rename.update(a)\n",
        "  df = df.withColumnsRenamed(all_col_rename)\n",
        "  df.write.mode(\"overwrite\").format('bigquery').save(f'{PROJECT_ID}.{BQ_BRONZE_DATASET}.{table_name}')\n"
      ],
      "metadata": {
        "colab": {
          "base_uri": "https://localhost:8080/",
          "height": 204
        },
        "id": "jBjMXsfUD6O6",
        "executionInfo": {
          "status": "ok",
          "timestamp": 1755436675875,
          "user_tz": -330,
          "elapsed": 71071,
          "user": {
            "displayName": "",
            "userId": ""
          }
        },
        "outputId": "1186d5a0-bf90-489a-a0fe-5230d489d513"
      },
      "execution_count": null,
      "outputs": [
        {
          "output_type": "stream",
          "name": "stdout",
          "text": [
            "cleanapp\n"
          ]
        },
        {
          "output_type": "display_data",
          "data": {
            "text/plain": [
              "<IPython.core.display.HTML object>"
            ],
            "text/html": [
              "\n",
              "              <div>\n",
              "                  <p><a href=\"https://console.cloud.google.com/dataproc/interactive/us-central1/sc-20250817-131349-pfoovh/sparkApplications/application;associatedSqlOperationId=b99c552a-0bcf-4210-9190-682296da4cf0?project=market-mirror-dev\">Spark Query</a> (Operation: b99c552a-0bcf-4210-9190-682296da4cf0)</p>\n",
              "              </div>\n",
              "              "
            ]
          },
          "metadata": {}
        },
        {
          "output_type": "stream",
          "name": "stdout",
          "text": [
            "AppleStore\n"
          ]
        },
        {
          "output_type": "display_data",
          "data": {
            "text/plain": [
              "<IPython.core.display.HTML object>"
            ],
            "text/html": [
              "\n",
              "              <div>\n",
              "                  <p><a href=\"https://console.cloud.google.com/dataproc/interactive/us-central1/sc-20250817-131349-pfoovh/sparkApplications/application;associatedSqlOperationId=205ef9b7-eb52-42ae-b117-e8ed605d4881?project=market-mirror-dev\">Spark Query</a> (Operation: 205ef9b7-eb52-42ae-b117-e8ed605d4881)</p>\n",
              "              </div>\n",
              "              "
            ]
          },
          "metadata": {}
        },
        {
          "output_type": "stream",
          "name": "stdout",
          "text": [
            "appleStore_description\n"
          ]
        },
        {
          "output_type": "display_data",
          "data": {
            "text/plain": [
              "<IPython.core.display.HTML object>"
            ],
            "text/html": [
              "\n",
              "              <div>\n",
              "                  <p><a href=\"https://console.cloud.google.com/dataproc/interactive/us-central1/sc-20250817-131349-pfoovh/sparkApplications/application;associatedSqlOperationId=50fa4871-ce89-4527-8dce-9525daf94a6b?project=market-mirror-dev\">Spark Query</a> (Operation: 50fa4871-ce89-4527-8dce-9525daf94a6b)</p>\n",
              "              </div>\n",
              "              "
            ]
          },
          "metadata": {}
        },
        {
          "output_type": "stream",
          "name": "stdout",
          "text": [
            "windows_store\n"
          ]
        },
        {
          "output_type": "display_data",
          "data": {
            "text/plain": [
              "<IPython.core.display.HTML object>"
            ],
            "text/html": [
              "\n",
              "              <div>\n",
              "                  <p><a href=\"https://console.cloud.google.com/dataproc/interactive/us-central1/sc-20250817-131349-pfoovh/sparkApplications/application;associatedSqlOperationId=8e4b2115-77b0-4cf1-b740-32d8f6b5d00b?project=market-mirror-dev\">Spark Query</a> (Operation: 8e4b2115-77b0-4cf1-b740-32d8f6b5d00b)</p>\n",
              "              </div>\n",
              "              "
            ]
          },
          "metadata": {}
        }
      ]
    }
  ]
}