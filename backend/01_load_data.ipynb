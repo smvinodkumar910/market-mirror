{
 "cells": [
  {
   "cell_type": "markdown",
   "metadata": {
    "id": "wfzOMyCyjfKL"
   },
   "source": [
    "## **Loading Data to BigQuery**"
   ]
  },
  {
   "cell_type": "markdown",
   "metadata": {
    "id": "Fs11SlAmizlg"
   },
   "source": [
    "\n",
    "<table align=\"left\">\n",
    "  <td style=\"text-align: center\">\n",
    "    <a href=\"https://colab.research.google.com/github/smvinodkumar910/market-mirror/blob/main/backend/01_load_data.ipynb\">\n",
    "      <img width=\"32px\" src=\"https://www.gstatic.com/pantheon/images/bigquery/welcome_page/colab-logo.svg\" alt=\"Google Colaboratory logo\"><br> Run in Colab\n",
    "    </a>\n",
    "  </td>\n",
    "  <td style=\"text-align: center\">\n",
    "    <a href=\"https://console.cloud.google.com/vertex-ai/colab/import/https:%2F%2Fraw.githubusercontent.com%2Fsmvinodkumar910%2Fmarket-mirror%2Frefs%2Fheads%2Fmain%2Fbackend%2F01_load_data.ipynb\">\n",
    "      <img width=\"32px\" src=\"https://lh3.googleusercontent.com/JmcxdQi-qOpctIvWKgPtrzZdJJK-J3sWE1RsfjZNwshCFgE_9fULcNpuXYTilIR2hjwN\" alt=\"Google Cloud Colab Enterprise logo\"><br> Run in Colab Enterprise\n",
    "    </a>\n",
    "  </td>\n",
    "  <td style=\"text-align: center\">\n",
    "    <a href=\"https://console.cloud.google.com/vertex-ai/workbench/deploy-notebook?download_url=https://raw.githubusercontent.com/smvinodkumar910/market-mirror/refs/heads/main/backend/01_load_data.ipynb\">\n",
    "      <img src=\"https://www.gstatic.com/images/branding/gcpiconscolors/vertexai/v1/32px.svg\" alt=\"Vertex AI logo\"><br> Open in Vertex AI Workbench\n",
    "    </a>\n",
    "  </td>    \n",
    "  <td style=\"text-align: center\">\n",
    "    <a href=\"https://github.com/smvinodkumar910/market-mirror/blob/dev/backend/01_load_data.ipynb\">\n",
    "      <img width=\"32px\" src=\"https://www.svgrepo.com/download/475654/github-color.svg\" alt=\"GitHub logo\"><br> View on GitHub\n",
    "    </a>\n",
    "  </td>\n",
    "</table>"
   ]
  },
  {
   "cell_type": "markdown",
   "metadata": {
    "id": "cNsd-fI3mYHM"
   },
   "source": [
    "### Authenticate your notebook environment (Colab only)\n",
    "\n",
    "If you are running this notebook on Google Colab, run the following cell to authenticate your environment.\n"
   ]
  },
  {
   "cell_type": "code",
   "execution_count": 1,
   "metadata": {
    "colab": {
     "base_uri": "https://localhost:8080/"
    },
    "executionInfo": {
     "elapsed": 773,
     "status": "ok",
     "timestamp": 1755451447798,
     "user": {
      "displayName": "",
      "userId": ""
     },
     "user_tz": -330
    },
    "id": "QBdSXkfcmc9c",
    "outputId": "1bc63eb4-c6d6-4c57-c196-0cbaf1d0e8ae"
   },
   "outputs": [
    {
     "name": "stdout",
     "output_type": "stream",
     "text": [
      "WARNING: google.colab.auth.authenticate_user() is not supported in Colab Enterprise.\n"
     ]
    }
   ],
   "source": [
    "import sys\n",
    "\n",
    "if \"google.colab\" in sys.modules:\n",
    "    # Support for third party widgets\n",
    "    from google.colab import auth, output\n",
    "\n",
    "    auth.authenticate_user()\n",
    "    output.enable_custom_widget_manager()"
   ]
  },
  {
   "cell_type": "markdown",
   "metadata": {
    "id": "ckhjHdl0VxvZ"
   },
   "source": [
    "### Setting-up Environment"
   ]
  },
  {
   "cell_type": "code",
   "execution_count": 2,
   "metadata": {
    "executionInfo": {
     "elapsed": 6,
     "status": "ok",
     "timestamp": 1755451448518,
     "user": {
      "displayName": "",
      "userId": ""
     },
     "user_tz": -330
    },
    "id": "L02uxb6fwRz5"
   },
   "outputs": [],
   "source": [
    "import os\n",
    "\n",
    "PROJECT_ID = \"market-mirror-dev\"  # @param {type: \"string\", placeholder: \"[your-project-id]\", isTemplate: true}\n",
    "BUCKET_NAME = \"marke-mirror-dev-data\"  # @param {type: \"string\", placeholder: \"[your-bucket-name]\", isTemplate: true}\n",
    "LOCATION = \"us-central1\"  # @param {type: \"string\", placeholder: \"[your-region]\", isTemplate: true}\n",
    "if not PROJECT_ID or PROJECT_ID == \"[your-project-id]\":\n",
    "    PROJECT_ID = str(os.environ.get(\"GOOGLE_CLOUD_PROJECT\"))\n",
    "\n",
    "if not LOCATION or LOCATION == \"[your-region]\":\n",
    "    LOCATION = os.environ.get(\"GOOGLE_CLOUD_REGION\", \"us-central1\")\n"
   ]
  },
  {
   "cell_type": "code",
   "execution_count": 3,
   "metadata": {
    "executionInfo": {
     "elapsed": 5,
     "status": "ok",
     "timestamp": 1755451448518,
     "user": {
      "displayName": "",
      "userId": ""
     },
     "user_tz": -330
    },
    "id": "Ae8j4N0ulv0Z"
   },
   "outputs": [],
   "source": [
    "BQ_BRONZE_DATASET = \"APP_MARKET_BRONZE\" # @param {type: \"string\", placeholder: \"[bronze-dataset]\", isTemplate: true}\n",
    "BQ_SILVER_DATASET = \"APP_MARKET_SILVER\" # @param {type: \"string\", placeholder: \"[silver-dataset]\", isTemplate: true}\n",
    "BQ_GOLD_DATASET = \"APP_MARKET_GOLD\" # @param {type: \"string\", placeholder: \"[gold-dataset]\", isTemplate: true}"
   ]
  },
  {
   "cell_type": "markdown",
   "metadata": {
    "id": "DUsRjtqymYR1"
   },
   "source": [
    "#### Prepare GCS"
   ]
  },
  {
   "cell_type": "code",
   "execution_count": 4,
   "metadata": {
    "executionInfo": {
     "elapsed": 5,
     "status": "ok",
     "timestamp": 1755451448518,
     "user": {
      "displayName": "",
      "userId": ""
     },
     "user_tz": -330
    },
    "id": "hP-bc_WVmW1P"
   },
   "outputs": [],
   "source": [
    "from google.cloud import storage\n",
    "from google.cloud.exceptions import NotFound\n",
    "\n",
    "gcs_client = storage.Client(\n",
    "    project=PROJECT_ID\n",
    ")\n",
    "\n",
    "try:\n",
    "  databucket = gcs_client.get_bucket(BUCKET_NAME)\n",
    "  bucket_exists = True\n",
    "except NotFound:\n",
    "  databucket = gcs_client.create_bucket(BUCKET_NAME, project=PROJECT_ID)\n",
    "  bucket_exists = True"
   ]
  },
  {
   "cell_type": "markdown",
   "metadata": {
    "id": "oGJaRb78XdLf"
   },
   "source": [
    "#### Prepare BigQuery Datasets"
   ]
  },
  {
   "cell_type": "code",
   "execution_count": 5,
   "metadata": {
    "colab": {
     "base_uri": "https://localhost:8080/"
    },
    "executionInfo": {
     "elapsed": 1536,
     "status": "ok",
     "timestamp": 1755451450050,
     "user": {
      "displayName": "",
      "userId": ""
     },
     "user_tz": -330
    },
    "id": "6umLktvxCItU",
    "outputId": "31b14936-8f9f-4f0c-a076-9420d09c9831"
   },
   "outputs": [
    {
     "data": {
      "text/plain": [
       "Dataset(DatasetReference('market-mirror-dev', 'APP_MARKET_GOLD'))"
      ]
     },
     "execution_count": 5,
     "metadata": {},
     "output_type": "execute_result"
    }
   ],
   "source": [
    "from google.cloud import bigquery\n",
    "\n",
    "bq_client = bigquery.Client(project=PROJECT_ID)\n",
    "\n",
    "bq_client.create_dataset(BQ_BRONZE_DATASET,exists_ok=True)\n",
    "bq_client.create_dataset(BQ_SILVER_DATASET,exists_ok=True)\n",
    "bq_client.create_dataset(BQ_GOLD_DATASET,exists_ok=True)"
   ]
  },
  {
   "cell_type": "markdown",
   "metadata": {
    "id": "WXzmyv-mV-zw"
   },
   "source": [
    "### Data Load Steps"
   ]
  },
  {
   "cell_type": "markdown",
   "metadata": {
    "id": "fRcHOFmDkxEr"
   },
   "source": [
    "#### Data Definitions\n",
    "\n",
    "We are going to use 4 Kaggle Datasets for this project.\n",
    "\n",
    "1. https://www.kaggle.com/datasets/pratyushpuri/multilingual-mobile-app-reviews-dataset-2025\n",
    "2. https://www.kaggle.com/datasets/lava18/google-play-store-apps\n",
    "3. https://www.kaggle.com/datasets/ramamet4/app-store-apple-data-set-10k-apps\n",
    "4. https://www.kaggle.com/datasets/quadeer15sh/mwindows-store-top-apps-games"
   ]
  },
  {
   "cell_type": "markdown",
   "metadata": {
    "id": "VXvIfXeSW6Y5"
   },
   "source": [
    "#### Download Data from Kaggle"
   ]
  },
  {
   "cell_type": "code",
   "execution_count": 6,
   "metadata": {
    "executionInfo": {
     "elapsed": 727,
     "status": "ok",
     "timestamp": 1755451450774,
     "user": {
      "displayName": "",
      "userId": ""
     },
     "user_tz": -330
    },
    "id": "rCWjjAKmp1ph"
   },
   "outputs": [],
   "source": [
    "import kagglehub\n",
    "import os, glob\n",
    "\n",
    "product_datasets_list = [\n",
    "'https://www.kaggle.com/datasets/maryamsayagh1/google-play-store-apps',\n",
    "'https://www.kaggle.com/datasets/ramamet4/app-store-apple-data-set-10k-apps',\n",
    "'https://www.kaggle.com/datasets/quadeer15sh/windows-store-top-apps-games']\n",
    "\n",
    "\n",
    "reviews_datasets_list = ['https://www.kaggle.com/datasets/lava18/google-play-store-apps',\n",
    "'https://www.kaggle.com/datasets/marianna13/google-play-reviews']"
   ]
  },
  {
   "cell_type": "code",
   "execution_count": 7,
   "metadata": {
    "executionInfo": {
     "elapsed": 3569,
     "status": "ok",
     "timestamp": 1755451454341,
     "user": {
      "displayName": "",
      "userId": ""
     },
     "user_tz": -330
    },
    "id": "hdUAaI73qGo2"
   },
   "outputs": [],
   "source": [
    "review_local_paths = []\n",
    "for dataset in reviews_datasets_list:\n",
    "  dataset_path = dataset.replace('https://www.kaggle.com/datasets/','')\n",
    "  dataset_name = dataset.split('/')[-1]\n",
    "  path = kagglehub.dataset_download(dataset_path)\n",
    "  files_path = glob.glob(pathname=os.path.join(path,'*'))\n",
    "  review_local_paths.append({'dataset_name': dataset_name, 'path':files_path})"
   ]
  },
  {
   "cell_type": "code",
   "execution_count": 8,
   "metadata": {
    "executionInfo": {
     "elapsed": 6117,
     "status": "ok",
     "timestamp": 1755451460453,
     "user": {
      "displayName": "",
      "userId": ""
     },
     "user_tz": -330
    },
    "id": "vnYbtLldMsvQ"
   },
   "outputs": [],
   "source": [
    "product_local_paths = []\n",
    "for dataset in product_datasets_list:\n",
    "  dataset_path = dataset.replace('https://www.kaggle.com/datasets/','')\n",
    "  dataset_name = dataset.split('/')[-1]\n",
    "  path = kagglehub.dataset_download(dataset_path)\n",
    "  files_path = glob.glob(pathname=os.path.join(path,'*'))\n",
    "  product_local_paths.append({'dataset_name': dataset_name, 'path':files_path})"
   ]
  },
  {
   "cell_type": "markdown",
   "metadata": {
    "id": "QVygYUjmXMND"
   },
   "source": [
    "#### Upload Data to GCS"
   ]
  },
  {
   "cell_type": "code",
   "execution_count": 9,
   "metadata": {
    "colab": {
     "base_uri": "https://localhost:8080/"
    },
    "executionInfo": {
     "elapsed": 747,
     "status": "ok",
     "timestamp": 1755451461196,
     "user": {
      "displayName": "",
      "userId": ""
     },
     "user_tz": -330
    },
    "id": "KlVuhiJmNKQd",
    "outputId": "4748afb7-5f6c-4fad-f3a1-20e2a2def3e9"
   },
   "outputs": [
    {
     "name": "stdout",
     "output_type": "stream",
     "text": [
      "File /root/.cache/kagglehub/datasets/lava18/google-play-store-apps/versions/6/googleplaystore_user_reviews.csv uploaded to gs://marke-mirror-dev-data/review_dataset/google-play-store-apps/googleplaystore_user_reviews.csv.\n",
      "File /root/.cache/kagglehub/datasets/lava18/google-play-store-apps/versions/6/googleplaystore.csv uploaded to gs://marke-mirror-dev-data/review_dataset/google-play-store-apps/googleplaystore.csv.\n",
      "File /root/.cache/kagglehub/datasets/lava18/google-play-store-apps/versions/6/license.txt uploaded to gs://marke-mirror-dev-data/review_dataset/google-play-store-apps/license.txt.\n",
      "File /root/.cache/kagglehub/datasets/marianna13/google-play-reviews/versions/1/google_play_reviews.csv uploaded to gs://marke-mirror-dev-data/review_dataset/google-play-reviews/google_play_reviews.csv.\n"
     ]
    }
   ],
   "source": [
    "#Uploading reivew datasets\n",
    "review_gcs_files = []\n",
    "if bucket_exists:\n",
    "  for file in review_local_paths:\n",
    "    dataset_name = file.get('dataset_name')\n",
    "    paths = file.get('path')\n",
    "    for path in paths:\n",
    "      file_name = path.split('/')[-1]\n",
    "      destination_blob_name = os.path.join('review_dataset',dataset_name,file_name)\n",
    "      destination_blob = databucket.blob(destination_blob_name)\n",
    "      destination_blob.upload_from_filename(path)\n",
    "      review_gcs_files.append(f\"gs://{BUCKET_NAME}/{destination_blob_name}\")\n",
    "      print(\n",
    "          f\"File {path} uploaded to gs://{BUCKET_NAME}/{destination_blob_name}.\"\n",
    "      )"
   ]
  },
  {
   "cell_type": "code",
   "execution_count": 10,
   "metadata": {
    "colab": {
     "base_uri": "https://localhost:8080/"
    },
    "executionInfo": {
     "elapsed": 2340,
     "status": "ok",
     "timestamp": 1755451463535,
     "user": {
      "displayName": "",
      "userId": ""
     },
     "user_tz": -330
    },
    "id": "6fXhJhwtxt0m",
    "outputId": "844bb806-ace4-4478-ce19-11b791e08bcd"
   },
   "outputs": [
    {
     "name": "stdout",
     "output_type": "stream",
     "text": [
      "File /root/.cache/kagglehub/datasets/maryamsayagh1/google-play-store-apps/versions/1/cleanapp.csv uploaded to gs://marke-mirror-dev-data/product_dataset/google-play-store-apps/cleanapp.csv.\n",
      "File /root/.cache/kagglehub/datasets/ramamet4/app-store-apple-data-set-10k-apps/versions/7/AppleStore.csv uploaded to gs://marke-mirror-dev-data/product_dataset/app-store-apple-data-set-10k-apps/AppleStore.csv.\n",
      "File /root/.cache/kagglehub/datasets/ramamet4/app-store-apple-data-set-10k-apps/versions/7/appleStore_description.csv uploaded to gs://marke-mirror-dev-data/product_dataset/app-store-apple-data-set-10k-apps/appleStore_description.csv.\n",
      "File /root/.cache/kagglehub/datasets/quadeer15sh/windows-store-top-apps-games/versions/1/windows_store.csv uploaded to gs://marke-mirror-dev-data/product_dataset/windows-store-top-apps-games/windows_store.csv.\n"
     ]
    }
   ],
   "source": [
    "#Uploading product datasets\n",
    "product_gcs_files = []\n",
    "if bucket_exists:\n",
    "  for file in product_local_paths:\n",
    "    dataset_name = file.get('dataset_name')\n",
    "    paths = file.get('path')\n",
    "    for path in paths:\n",
    "      file_name = path.split('/')[-1]\n",
    "      destination_blob_name = os.path.join('product_dataset',dataset_name,file_name)\n",
    "      destination_blob = databucket.blob(destination_blob_name)\n",
    "      destination_blob.upload_from_filename(path)\n",
    "      product_gcs_files.append(f\"gs://{BUCKET_NAME}/{destination_blob_name}\")\n",
    "      print(\n",
    "          f\"File {path} uploaded to gs://{BUCKET_NAME}/{destination_blob_name}.\"\n",
    "      )"
   ]
  },
  {
   "cell_type": "markdown",
   "metadata": {
    "id": "nmhD9RXCXnED"
   },
   "source": [
    "#### Write Data to BigQuery Bronze Layer"
   ]
  },
  {
   "cell_type": "code",
   "execution_count": 11,
   "metadata": {
    "executionInfo": {
     "elapsed": 758,
     "status": "ok",
     "timestamp": 1755451464290,
     "user": {
      "displayName": "",
      "userId": ""
     },
     "user_tz": -330
    },
    "id": "CdJtbuXjRbxy"
   },
   "outputs": [],
   "source": [
    "import bigframes.pandas as bpd\n",
    "\n",
    "bpd.options.bigquery.project = PROJECT_ID\n",
    "bpd.options.bigquery.dataset = BQ_BRONZE_DATASET"
   ]
  },
  {
   "cell_type": "code",
   "execution_count": 12,
   "metadata": {
    "executionInfo": {
     "elapsed": 9,
     "status": "ok",
     "timestamp": 1755451464290,
     "user": {
      "displayName": "",
      "userId": ""
     },
     "user_tz": -330
    },
    "id": "cymvlmMISFbP"
   },
   "outputs": [],
   "source": [
    "review_gcs_files_filtered = [{'file_name':file.split('/')[-1].split('.')[0], 'gcs_path': file} for file in review_gcs_files if (file.endswith('.csv')  and 'review' in file.split('/')[-1].split('.')[0] ) ]"
   ]
  },
  {
   "cell_type": "code",
   "execution_count": 13,
   "metadata": {
    "colab": {
     "base_uri": "https://localhost:8080/"
    },
    "executionInfo": {
     "elapsed": 8,
     "status": "ok",
     "timestamp": 1755451464290,
     "user": {
      "displayName": "",
      "userId": ""
     },
     "user_tz": -330
    },
    "id": "MJzOiY5vRpqJ",
    "outputId": "06e33b6f-4cd9-48d4-c79f-059f95b4f504"
   },
   "outputs": [
    {
     "data": {
      "text/plain": [
       "[{'file_name': 'googleplaystore_user_reviews',\n",
       "  'gcs_path': 'gs://marke-mirror-dev-data/review_dataset/google-play-store-apps/googleplaystore_user_reviews.csv'},\n",
       " {'file_name': 'googleplaystore',\n",
       "  'gcs_path': 'gs://marke-mirror-dev-data/review_dataset/google-play-store-apps/googleplaystore.csv'},\n",
       " {'file_name': 'google_play_reviews',\n",
       "  'gcs_path': 'gs://marke-mirror-dev-data/review_dataset/google-play-reviews/google_play_reviews.csv'}]"
      ]
     },
     "execution_count": 13,
     "metadata": {},
     "output_type": "execute_result"
    }
   ],
   "source": [
    "review_gcs_files_filtered"
   ]
  },
  {
   "cell_type": "code",
   "execution_count": 14,
   "metadata": {
    "colab": {
     "base_uri": "https://localhost:8080/",
     "height": 193
    },
    "executionInfo": {
     "elapsed": 23090,
     "status": "ok",
     "timestamp": 1755451487374,
     "user": {
      "displayName": "",
      "userId": ""
     },
     "user_tz": -330
    },
    "id": "vygSxhJMFyyg",
    "outputId": "ccc1fd5e-efa9-4424-9421-a9490a5c781c"
   },
   "outputs": [
    {
     "name": "stderr",
     "output_type": "stream",
     "text": [
      "/usr/local/lib/python3.11/dist-packages/bigframes/core/global_session.py:103: DefaultLocationWarning: No explicit location is set, so using location US for the session.\n",
      "  _global_session = bigframes.session.connect(\n"
     ]
    },
    {
     "data": {
      "text/html": [
       "Query job 46c4fdeb-423c-48dd-a3de-ebf498cab386 is DONE. 0 Bytes processed. <a target=\"_blank\" href=\"https://console.cloud.google.com/bigquery?project=market-mirror-dev&j=bq:US:46c4fdeb-423c-48dd-a3de-ebf498cab386&page=queryresults\">Open Job</a>"
      ],
      "text/plain": [
       "<IPython.core.display.HTML object>"
      ]
     },
     "metadata": {},
     "output_type": "display_data"
    },
    {
     "data": {
      "text/html": [
       "Load job ecea6371-c1b4-4616-add0-292e3253b5a4 is DONE. <a target=\"_blank\" href=\"https://console.cloud.google.com/bigquery?project=market-mirror-dev&j=bq:US:ecea6371-c1b4-4616-add0-292e3253b5a4&page=queryresults\">Open Job</a>"
      ],
      "text/plain": [
       "<IPython.core.display.HTML object>"
      ]
     },
     "metadata": {},
     "output_type": "display_data"
    },
    {
     "data": {
      "text/html": [
       "Query job 1095395c-ce67-49d4-83b7-1052063966f3 is DONE. 14.0 MB processed. <a target=\"_blank\" href=\"https://console.cloud.google.com/bigquery?project=market-mirror-dev&j=bq:US:1095395c-ce67-49d4-83b7-1052063966f3&page=queryresults\">Open Job</a>"
      ],
      "text/plain": [
       "<IPython.core.display.HTML object>"
      ]
     },
     "metadata": {},
     "output_type": "display_data"
    },
    {
     "data": {
      "text/html": [
       "Load job e7c68d68-32f7-4e28-bbed-9463327da250 is DONE. <a target=\"_blank\" href=\"https://console.cloud.google.com/bigquery?project=market-mirror-dev&j=bq:US:e7c68d68-32f7-4e28-bbed-9463327da250&page=queryresults\">Open Job</a>"
      ],
      "text/plain": [
       "<IPython.core.display.HTML object>"
      ]
     },
     "metadata": {},
     "output_type": "display_data"
    },
    {
     "data": {
      "text/html": [
       "Query job c77e37be-c08c-44e9-a61b-fdfe9f44ecf6 is DONE. 1.5 MB processed. <a target=\"_blank\" href=\"https://console.cloud.google.com/bigquery?project=market-mirror-dev&j=bq:US:c77e37be-c08c-44e9-a61b-fdfe9f44ecf6&page=queryresults\">Open Job</a>"
      ],
      "text/plain": [
       "<IPython.core.display.HTML object>"
      ]
     },
     "metadata": {},
     "output_type": "display_data"
    },
    {
     "data": {
      "text/html": [
       "Load job 71c3552a-a354-43f6-961b-2fd319ff0def is DONE. <a target=\"_blank\" href=\"https://console.cloud.google.com/bigquery?project=market-mirror-dev&j=bq:US:71c3552a-a354-43f6-961b-2fd319ff0def&page=queryresults\">Open Job</a>"
      ],
      "text/plain": [
       "<IPython.core.display.HTML object>"
      ]
     },
     "metadata": {},
     "output_type": "display_data"
    },
    {
     "data": {
      "text/html": [
       "Query job bbd4e6fd-83e0-4653-b56b-c7ba50a591e4 is DONE. 2.2 MB processed. <a target=\"_blank\" href=\"https://console.cloud.google.com/bigquery?project=market-mirror-dev&j=bq:US:bbd4e6fd-83e0-4653-b56b-c7ba50a591e4&page=queryresults\">Open Job</a>"
      ],
      "text/plain": [
       "<IPython.core.display.HTML object>"
      ]
     },
     "metadata": {},
     "output_type": "display_data"
    }
   ],
   "source": [
    "#start processing files\n",
    "for file_dtl in review_gcs_files_filtered:\n",
    "  df = bpd.read_csv(file_dtl.get('gcs_path'))\n",
    "  df.to_gbq(f'{BQ_BRONZE_DATASET}.{file_dtl.get(\"file_name\")}', if_exists='replace')\n"
   ]
  },
  {
   "cell_type": "code",
   "execution_count": null,
   "metadata": {
    "colab": {
     "base_uri": "https://localhost:8080/"
    },
    "executionInfo": {
     "elapsed": 3,
     "status": "ok",
     "timestamp": 1755436208914,
     "user": {
      "displayName": "",
      "userId": ""
     },
     "user_tz": -330
    },
    "id": "5Tl0ASZiRemO",
    "outputId": "5a7addd8-4ff4-427b-c06a-646bd637c620"
   },
   "outputs": [
    {
     "data": {
      "text/plain": [
       "['gs://marke-mirror-dev-data/product_dataset/google-play-store-apps/cleanapp.csv',\n",
       " 'gs://marke-mirror-dev-data/product_dataset/app-store-apple-data-set-10k-apps/AppleStore.csv',\n",
       " 'gs://marke-mirror-dev-data/product_dataset/app-store-apple-data-set-10k-apps/appleStore_description.csv',\n",
       " 'gs://marke-mirror-dev-data/product_dataset/windows-store-top-apps-games/windows_store.csv']"
      ]
     },
     "execution_count": 51,
     "metadata": {},
     "output_type": "execute_result"
    }
   ],
   "source": [
    "product_gcs_files"
   ]
  },
  {
   "cell_type": "code",
   "execution_count": null,
   "metadata": {
    "id": "Ct5KwMi8KDTi"
   },
   "outputs": [],
   "source": [
    "product_gcs_files_filtered = [{'file_name':file.split('/')[-1].split('.')[0], 'gcs_path': file} for file in product_gcs_files if file.endswith('.csv') ]"
   ]
  },
  {
   "cell_type": "code",
   "execution_count": null,
   "metadata": {
    "colab": {
     "base_uri": "https://localhost:8080/",
     "height": 171
    },
    "executionInfo": {
     "elapsed": 113748,
     "status": "ok",
     "timestamp": 1755436539195,
     "user": {
      "displayName": "",
      "userId": ""
     },
     "user_tz": -330
    },
    "id": "B4-r8OEaKgJl",
    "outputId": "dfdec412-6014-438e-c897-37408f5d68e3"
   },
   "outputs": [
    {
     "name": "stderr",
     "output_type": "stream",
     "text": [
      "Warning while processing notebook ID: Notebook ID 'load_data.ipynb' is not compliant with label value format. Only lowercase letters, numbers, and dashes are allowed. The value must start with lowercase letter or number and end with a lowercase letter or number. Maximum length is 63 characters. Skipping notebook ID label.\n"
     ]
    },
    {
     "data": {
      "text/html": [
       "\n",
       "                <div>\n",
       "                    <p>Creating Dataproc Spark Session<p>\n",
       "                    <p><a href=\"https://console.cloud.google.com/dataproc/interactive/us-central1/sc-20250817-131349-pfoovh?project=market-mirror-dev\">Dataproc Session</a></p>\n",
       "                </div>\n",
       "            "
      ],
      "text/plain": [
       "<IPython.core.display.HTML object>"
      ]
     },
     "metadata": {},
     "output_type": "display_data"
    },
    {
     "name": "stderr",
     "output_type": "stream",
     "text": [
      "██████████████████████████████████████████████████████████▋                     "
     ]
    },
    {
     "name": "stdout",
     "output_type": "stream",
     "text": [
      "\n"
     ]
    },
    {
     "name": "stderr",
     "output_type": "stream",
     "text": [
      "\n"
     ]
    },
    {
     "data": {
      "text/html": [
       "<div><p>Dataproc Session was successfully created</p></div>"
      ],
      "text/plain": [
       "<IPython.core.display.HTML object>"
      ]
     },
     "metadata": {},
     "output_type": "display_data"
    }
   ],
   "source": [
    "from google.cloud.dataproc_spark_connect import DataprocSparkSession\n",
    "from google.cloud.dataproc_v1 import Session\n",
    "\n",
    "\n",
    "# This will create a default Spark session\n",
    "spark = DataprocSparkSession.builder.getOrCreate()\n"
   ]
  },
  {
   "cell_type": "code",
   "execution_count": null,
   "metadata": {
    "colab": {
     "base_uri": "https://localhost:8080/",
     "height": 204
    },
    "executionInfo": {
     "elapsed": 71071,
     "status": "ok",
     "timestamp": 1755436675875,
     "user": {
      "displayName": "",
      "userId": ""
     },
     "user_tz": -330
    },
    "id": "jBjMXsfUD6O6",
    "outputId": "1186d5a0-bf90-489a-a0fe-5230d489d513"
   },
   "outputs": [
    {
     "name": "stdout",
     "output_type": "stream",
     "text": [
      "cleanapp\n"
     ]
    },
    {
     "data": {
      "text/html": [
       "\n",
       "              <div>\n",
       "                  <p><a href=\"https://console.cloud.google.com/dataproc/interactive/us-central1/sc-20250817-131349-pfoovh/sparkApplications/application;associatedSqlOperationId=b99c552a-0bcf-4210-9190-682296da4cf0?project=market-mirror-dev\">Spark Query</a> (Operation: b99c552a-0bcf-4210-9190-682296da4cf0)</p>\n",
       "              </div>\n",
       "              "
      ],
      "text/plain": [
       "<IPython.core.display.HTML object>"
      ]
     },
     "metadata": {},
     "output_type": "display_data"
    },
    {
     "name": "stdout",
     "output_type": "stream",
     "text": [
      "AppleStore\n"
     ]
    },
    {
     "data": {
      "text/html": [
       "\n",
       "              <div>\n",
       "                  <p><a href=\"https://console.cloud.google.com/dataproc/interactive/us-central1/sc-20250817-131349-pfoovh/sparkApplications/application;associatedSqlOperationId=205ef9b7-eb52-42ae-b117-e8ed605d4881?project=market-mirror-dev\">Spark Query</a> (Operation: 205ef9b7-eb52-42ae-b117-e8ed605d4881)</p>\n",
       "              </div>\n",
       "              "
      ],
      "text/plain": [
       "<IPython.core.display.HTML object>"
      ]
     },
     "metadata": {},
     "output_type": "display_data"
    },
    {
     "name": "stdout",
     "output_type": "stream",
     "text": [
      "appleStore_description\n"
     ]
    },
    {
     "data": {
      "text/html": [
       "\n",
       "              <div>\n",
       "                  <p><a href=\"https://console.cloud.google.com/dataproc/interactive/us-central1/sc-20250817-131349-pfoovh/sparkApplications/application;associatedSqlOperationId=50fa4871-ce89-4527-8dce-9525daf94a6b?project=market-mirror-dev\">Spark Query</a> (Operation: 50fa4871-ce89-4527-8dce-9525daf94a6b)</p>\n",
       "              </div>\n",
       "              "
      ],
      "text/plain": [
       "<IPython.core.display.HTML object>"
      ]
     },
     "metadata": {},
     "output_type": "display_data"
    },
    {
     "name": "stdout",
     "output_type": "stream",
     "text": [
      "windows_store\n"
     ]
    },
    {
     "data": {
      "text/html": [
       "\n",
       "              <div>\n",
       "                  <p><a href=\"https://console.cloud.google.com/dataproc/interactive/us-central1/sc-20250817-131349-pfoovh/sparkApplications/application;associatedSqlOperationId=8e4b2115-77b0-4cf1-b740-32d8f6b5d00b?project=market-mirror-dev\">Spark Query</a> (Operation: 8e4b2115-77b0-4cf1-b740-32d8f6b5d00b)</p>\n",
       "              </div>\n",
       "              "
      ],
      "text/plain": [
       "<IPython.core.display.HTML object>"
      ]
     },
     "metadata": {},
     "output_type": "display_data"
    }
   ],
   "source": [
    "for file in product_gcs_files_filtered:\n",
    "  table_name = file.get('file_name')\n",
    "  print(table_name)\n",
    "  df = spark.read\\\n",
    "  .option(\"multiLine\", \"true\")\\\n",
    "  .option(\"quote\", \"\\\"\")\\\n",
    "  .option(\"escape\", '\"')\\\n",
    "  .csv(file.get('gcs_path'),\n",
    "        inferSchema=True,\n",
    "        header=True)\n",
    "  col_rename = [{f\"{column}\":f\"{column.replace(' ','_').replace('.','_')}\"} for column in df.columns]\n",
    "  all_col_rename = dict()\n",
    "  for a in col_rename:\n",
    "    all_col_rename.update(a)\n",
    "  df = df.withColumnsRenamed(all_col_rename)\n",
    "  df.write.mode(\"overwrite\").format('bigquery').save(f'{PROJECT_ID}.{BQ_BRONZE_DATASET}.{table_name}')\n"
   ]
  }
 ],
 "metadata": {
  "colab": {
   "cell_execution_strategy": "setup",
   "name": "backend/01_load_data.ipynb",
   "provenance": []
  },
  "kernelspec": {
   "display_name": ".myenv",
   "language": "python",
   "name": "python3"
  },
  "language_info": {
   "name": "python",
   "version": "3.11.10"
  }
 },
 "nbformat": 4,
 "nbformat_minor": 0
}
