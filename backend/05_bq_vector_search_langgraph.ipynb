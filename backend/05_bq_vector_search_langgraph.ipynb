{
  "cells": [
    {
      "cell_type": "markdown",
      "metadata": {
        "id": "DBroNy5h3k9Y"
      },
      "source": [
        "## BigQuery Vector Search\n",
        "\n",
        "* In this notebook, we are utilizing BigQuery Vector search to look for apps providing similar functionalities across all platforms - google, windows, apple.\n",
        "\n",
        "* The search result is then submitted to the LLM to evaluate and provide improvement plans / Recommandations for our own Apps / Products to stand a market leader."
      ]
    },
    {
      "cell_type": "markdown",
      "metadata": {
        "id": "LTi01vAw3k9Z"
      },
      "source": [
        "\n",
        "<table align=\"left\">\n",
        "  <td style=\"text-align: center\">\n",
        "    <a href=\"https://colab.research.google.com/github/smvinodkumar910/market-mirror/blob/main/backend/05_competitor_apps.ipynb\">\n",
        "      <img width=\"32px\" src=\"https://www.gstatic.com/pantheon/images/bigquery/welcome_page/colab-logo.svg\" alt=\"Google Colaboratory logo\"><br> Run in Colab\n",
        "    </a>\n",
        "  </td>\n",
        "  <td style=\"text-align: center\">\n",
        "    <a href=\"https://console.cloud.google.com/vertex-ai/colab/import/https:%2F%2Fraw.githubusercontent.com%2Fsmvinodkumar910%2Fmarket-mirror%2Frefs%2Fheads%2Fmain%2Fbackend%2F05_competitor_apps.ipynb\">\n",
        "      <img width=\"32px\" src=\"https://lh3.googleusercontent.com/JmcxdQi-qOpctIvWKgPtrzZdJJK-J3sWE1RsfjZNwshCFgE_9fULcNpuXYTilIR2hjwN\" alt=\"Google Cloud Colab Enterprise logo\"><br> Run in Colab Enterprise\n",
        "    </a>\n",
        "  </td>\n",
        "  <td style=\"text-align: center\">\n",
        "    <a href=\"https://console.cloud.google.com/vertex-ai/workbench/deploy-notebook?download_url=https://raw.githubusercontent.com/smvinodkumar910/market-mirror/refs/heads/main/backend/05_competitor_apps.ipynb\">\n",
        "      <img src=\"https://www.gstatic.com/images/branding/gcpiconscolors/vertexai/v1/32px.svg\" alt=\"Vertex AI logo\"><br> Open in Vertex AI Workbench\n",
        "    </a>\n",
        "  </td>    \n",
        "  <td style=\"text-align: center\">\n",
        "    <a href=\"https://github.com/smvinodkumar910/market-mirror/blob/main/backend/05_competitor_apps.ipynb\">\n",
        "      <img width=\"32px\" src=\"https://www.svgrepo.com/download/475654/github-color.svg\" alt=\"GitHub logo\"><br> View on GitHub\n",
        "    </a>\n",
        "  </td>\n",
        "</table>"
      ]
    },
    {
      "cell_type": "markdown",
      "metadata": {
        "id": "T1wwmWvk3k9Z"
      },
      "source": [
        "### Authenticate your notebook environment (Colab only)\n",
        "\n",
        "If you are running this notebook on Google Colab, run the following cell to authenticate your environment."
      ]
    },
    {
      "cell_type": "code",
      "execution_count": 2,
      "metadata": {
        "colab": {
          "base_uri": "https://localhost:8080/"
        },
        "id": "FA_S7tIo3k9Z",
        "executionInfo": {
          "status": "ok",
          "timestamp": 1758417966961,
          "user_tz": -330,
          "elapsed": 3,
          "user": {
            "displayName": "",
            "userId": ""
          }
        },
        "outputId": "9cad2667-dcb0-4500-c738-e565fbaa08c0"
      },
      "outputs": [
        {
          "output_type": "stream",
          "name": "stdout",
          "text": [
            "WARNING: google.colab.auth.authenticate_user() is not supported in Colab Enterprise.\n"
          ]
        }
      ],
      "source": [
        "import sys\n",
        "\n",
        "if \"google.colab\" in sys.modules:\n",
        "    # Support for third party widgets\n",
        "    from google.colab import auth, output\n",
        "\n",
        "    auth.authenticate_user()\n",
        "    output.enable_custom_widget_manager()"
      ]
    },
    {
      "cell_type": "markdown",
      "metadata": {
        "id": "JlGEkixD3k9Z"
      },
      "source": [
        "### Setting-up Environment"
      ]
    },
    {
      "cell_type": "markdown",
      "metadata": {
        "id": "AezZrSki3k9a"
      },
      "source": [
        "* Please change the variables `PROJECT_ID`, `BUCKET_NAME`, `LOCATION` details to your own project as required."
      ]
    },
    {
      "cell_type": "code",
      "execution_count": 3,
      "metadata": {
        "executionInfo": {
          "elapsed": 2,
          "status": "ok",
          "timestamp": 1758417966961,
          "user": {
            "displayName": "",
            "userId": ""
          },
          "user_tz": -330
        },
        "id": "o0UT1QENXLsj"
      },
      "outputs": [],
      "source": [
        "import os\n",
        "\n",
        "PROJECT_ID = \"market-mirror-dev\"  # @param {type: \"string\", placeholder: \"[your-project-id]\", isTemplate: true}\n",
        "BUCKET_NAME = \"marke-mirror-dev-data\"  # @param {type: \"string\", placeholder: \"[your-bucket-name]\", isTemplate: true}\n",
        "LOCATION = \"US\"  # @param {type: \"string\", placeholder: \"[your-region]\", isTemplate: true}\n",
        "if not PROJECT_ID or PROJECT_ID == \"[your-project-id]\":\n",
        "    PROJECT_ID = str(os.environ.get(\"GOOGLE_CLOUD_PROJECT\"))\n",
        "\n",
        "if not LOCATION or LOCATION == \"[your-region]\":\n",
        "    LOCATION = os.environ.get(\"GOOGLE_CLOUD_REGION\", \"US\")\n"
      ]
    },
    {
      "cell_type": "code",
      "execution_count": 4,
      "metadata": {
        "executionInfo": {
          "elapsed": 2,
          "status": "ok",
          "timestamp": 1758417970847,
          "user": {
            "displayName": "",
            "userId": ""
          },
          "user_tz": -330
        },
        "id": "E9VezY76XUa2"
      },
      "outputs": [],
      "source": [
        "os.environ['GOOGLE_CLOUD_PROJECT'] = PROJECT_ID\n",
        "os.environ['GOOGLE_CLOUD_REGION'] = LOCATION\n",
        "\n",
        "os.environ[\"GOOGLE_GENAI_USE_VERTEXAI\"]=\"true\"\n",
        "os.environ[\"GOOGLE_GENAI_LOCATION\"] = LOCATION"
      ]
    },
    {
      "cell_type": "code",
      "execution_count": 5,
      "metadata": {
        "executionInfo": {
          "elapsed": 2,
          "status": "ok",
          "timestamp": 1758417976375,
          "user": {
            "displayName": "",
            "userId": ""
          },
          "user_tz": -330
        },
        "id": "-gzeJfn7XWiv"
      },
      "outputs": [],
      "source": [
        "BQ_BRONZE_DATASET = \"APP_MARKET_BRONZE\" # @param {type: \"string\", placeholder: \"[bronze-dataset]\", isTemplate: true}\n",
        "BQ_SILVER_DATASET = \"APP_MARKET_SILVER\" # @param {type: \"string\", placeholder: \"[silver-dataset]\", isTemplate: true}\n",
        "BQ_GOLD_DATASET = \"APP_MARKET_GOLD\" # @param {type: \"string\", placeholder: \"[gold-dataset]\", isTemplate: true}"
      ]
    },
    {
      "cell_type": "code",
      "execution_count": 6,
      "metadata": {
        "executionInfo": {
          "elapsed": 891,
          "status": "ok",
          "timestamp": 1758417981173,
          "user": {
            "displayName": "",
            "userId": ""
          },
          "user_tz": -330
        },
        "id": "ecw2gk5DZ48t"
      },
      "outputs": [],
      "source": [
        "google_apps_embed_tb = 'T_GOOGLE_APP_DESC_EMBEDDED'\n",
        "apple_apps_embed_tb = 'T_APPLE_APP_DESC_EMBEDDED'\n",
        "windows_apps_embed_tb = 'T_WINDOWS_APP_DESC_EMBEDDED'"
      ]
    },
    {
      "cell_type": "code",
      "source": [
        "from langchain_google_vertexai import ChatVertexAI"
      ],
      "metadata": {
        "id": "N-vzx83e5wje",
        "executionInfo": {
          "status": "ok",
          "timestamp": 1758418451412,
          "user_tz": -330,
          "elapsed": 816,
          "user": {
            "displayName": "",
            "userId": ""
          }
        }
      },
      "execution_count": 11,
      "outputs": []
    },
    {
      "cell_type": "code",
      "source": [
        "llm = ChatVertexAI(model='gemini-2.0-flash-001')"
      ],
      "metadata": {
        "id": "YKfxVWX36EAa",
        "executionInfo": {
          "status": "ok",
          "timestamp": 1758418545215,
          "user_tz": -330,
          "elapsed": 726,
          "user": {
            "displayName": "",
            "userId": ""
          }
        }
      },
      "execution_count": 12,
      "outputs": []
    },
    {
      "cell_type": "code",
      "source": [
        "llm.invoke('Hi, how are you, my  name is Vinod')"
      ],
      "metadata": {
        "colab": {
          "base_uri": "https://localhost:8080/"
        },
        "id": "6OaheccW6cSn",
        "executionInfo": {
          "status": "ok",
          "timestamp": 1758418611499,
          "user_tz": -330,
          "elapsed": 656,
          "user": {
            "displayName": "",
            "userId": ""
          }
        },
        "outputId": "f1f57a6a-565e-4d11-eec9-47b64504036b"
      },
      "execution_count": 14,
      "outputs": [
        {
          "output_type": "execute_result",
          "data": {
            "text/plain": [
              "AIMessage(content=\"Hi Vinod, I'm doing well, thank you for asking! It's nice to meet you. How can I help you today?\\n\", additional_kwargs={}, response_metadata={'is_blocked': False, 'safety_ratings': [], 'usage_metadata': {'prompt_token_count': 12, 'candidates_token_count': 31, 'total_token_count': 43, 'prompt_tokens_details': [{'modality': 1, 'token_count': 12}], 'candidates_tokens_details': [{'modality': 1, 'token_count': 31}], 'thoughts_token_count': 0, 'cached_content_token_count': 0, 'cache_tokens_details': []}, 'finish_reason': 'STOP', 'avg_logprobs': -0.1867169410951676, 'model_name': 'gemini-2.0-flash-001'}, id='run--fd8f9b31-44e7-46d5-a347-e82b7fadcdba-0', usage_metadata={'input_tokens': 12, 'output_tokens': 31, 'total_tokens': 43, 'input_token_details': {'cache_read': 0}})"
            ]
          },
          "metadata": {},
          "execution_count": 14
        }
      ]
    },
    {
      "cell_type": "code",
      "execution_count": 15,
      "metadata": {
        "colab": {
          "base_uri": "https://localhost:8080/"
        },
        "executionInfo": {
          "elapsed": 5230,
          "status": "ok",
          "timestamp": 1758418870435,
          "user": {
            "displayName": "",
            "userId": ""
          },
          "user_tz": -330
        },
        "id": "Q7fnx7u1W97t",
        "outputId": "916eefda-7d0c-4f25-e2a2-e25a3bb01408"
      },
      "outputs": [
        {
          "output_type": "stream",
          "name": "stderr",
          "text": [
            "/usr/local/lib/python3.11/dist-packages/vertexai/_model_garden/_model_garden_models.py:278: UserWarning: This feature is deprecated as of June 24, 2025 and will be removed on June 24, 2026. For details, see https://cloud.google.com/vertex-ai/generative-ai/docs/deprecations/genai-vertexai-sdk.\n",
            "  warning_logs.show_deprecation_warning()\n",
            "INFO:langchain_google_community.bq_storage_vectorstores._base:BigQuery table market-mirror-dev.APP_MARKET_GOLD.T_GOOGLE_APP_DESC_EMBEDDED initialized/validated as persistent storage. Access via BigQuery console:\n",
            " https://console.cloud.google.com/bigquery?project=market-mirror-dev&ws=!1m5!1m4!4m3!1smarket-mirror-dev!2sAPP_MARKET_GOLD!3sT_GOOGLE_APP_DESC_EMBEDDED\n",
            "INFO:langchain_google_community.bq_storage_vectorstores._base:BigQuery table market-mirror-dev.APP_MARKET_GOLD.T_APPLE_APP_DESC_EMBEDDED initialized/validated as persistent storage. Access via BigQuery console:\n",
            " https://console.cloud.google.com/bigquery?project=market-mirror-dev&ws=!1m5!1m4!4m3!1smarket-mirror-dev!2sAPP_MARKET_GOLD!3sT_APPLE_APP_DESC_EMBEDDED\n",
            "INFO:langchain_google_community.bq_storage_vectorstores._base:BigQuery table market-mirror-dev.APP_MARKET_GOLD.T_WINDOWS_APP_DESC_EMBEDDED initialized/validated as persistent storage. Access via BigQuery console:\n",
            " https://console.cloud.google.com/bigquery?project=market-mirror-dev&ws=!1m5!1m4!4m3!1smarket-mirror-dev!2sAPP_MARKET_GOLD!3sT_WINDOWS_APP_DESC_EMBEDDED\n"
          ]
        }
      ],
      "source": [
        "from langchain_google_vertexai import VertexAIEmbeddings\n",
        "from langchain_google_community import BigQueryVectorStore\n",
        "from google.cloud import bigquery\n",
        "from langchain_google_vertexai import ChatVertexAI\n",
        "\n",
        "\n",
        "from langgraph.graph import START, StateGraph, END\n",
        "from langgraph.graph.message import add_messages\n",
        "\n",
        "from pydantic import BaseModel\n",
        "\n",
        "#Creating llm object\n",
        "llm = ChatVertexAI(model='gemini-2.0-flash-001')\n",
        "\n",
        "# Defining a custom state object to hold\n",
        "class CustomState(BaseModel):\n",
        "    messages: str\n",
        "    query_vector: list | None = []\n",
        "    top_k: int | None = 3\n",
        "    google_apps_list: str | None = ''\n",
        "    windows_apps_list: str | None = ''\n",
        "    apple_apps_list: str | None = ''\n",
        "    google_app_desc: list[dict] | None = []\n",
        "    windows_app_desc: list[dict] | None = []\n",
        "    apple_app_desc: list[dict] | None = []\n",
        "    summary: str | None = ''\n",
        "\n",
        "\n",
        "#creating embedding object\n",
        "embedding = VertexAIEmbeddings(\n",
        "    model_name=\"text-embedding-005\", project=PROJECT_ID\n",
        ")\n",
        "\n",
        "#Createing BigQueryVectorStore for each table separately\n",
        "#Google vector store\n",
        "google_apps_vector_store = BigQueryVectorStore(\n",
        "    project_id=PROJECT_ID,\n",
        "    dataset_name=BQ_GOLD_DATASET,\n",
        "    table_name=google_apps_embed_tb,\n",
        "    location=LOCATION,\n",
        "    embedding=embedding,\n",
        ")\n",
        "\n",
        "#Apple vector store\n",
        "apple_apps_vector_store = BigQueryVectorStore(\n",
        "    project_id=PROJECT_ID,\n",
        "    dataset_name=BQ_GOLD_DATASET,\n",
        "    table_name=apple_apps_embed_tb,\n",
        "    location=LOCATION,\n",
        "    embedding=embedding,\n",
        ")\n",
        "\n",
        "#Windows vector store\n",
        "windows_apps_vector_store = BigQueryVectorStore(\n",
        "    project_id=PROJECT_ID,\n",
        "    dataset_name=BQ_GOLD_DATASET,\n",
        "    table_name=windows_apps_embed_tb,\n",
        "    location=LOCATION,\n",
        "    embedding=embedding,\n",
        ")\n",
        "\n",
        "\n",
        "def generate_embeddings(state: CustomState):\n",
        "  embeddings_list = embedding.embed_query(state.messages)\n",
        "  return {'query_vector': embeddings_list}\n",
        "\n",
        "\n",
        "def make_vector_search(store,platform):\n",
        "  def get_similar_apps(state: CustomState):\n",
        "    top_k = state.top_k\n",
        "    query_vector = state.query_vector\n",
        "    docs = store.similarity_search_by_vector(embedding=query_vector, k=top_k)\n",
        "    similar_apps = []\n",
        "    for doc in docs:\n",
        "      similar_apps.append(doc.page_content)\n",
        "    apps_list_str = \",\".join([f\"'{app}'\" for app in similar_apps])\n",
        "    return {f'{platform}_apps_list':apps_list_str}\n",
        "  return get_similar_apps\n",
        "\n",
        "google_apps_search = make_vector_search(google_apps_vector_store,'google')\n",
        "apple_apps_search = make_vector_search(apple_apps_vector_store,'apple')\n",
        "windows_apps_search = make_vector_search(windows_apps_vector_store,'windows')\n",
        "\n",
        "\n",
        "def make_app_desc_function(table_id,platform):\n",
        "  client = bigquery.Client(project=PROJECT_ID)\n",
        "  def get_app_desc(state: CustomState):\n",
        "    list_of_apps=''\n",
        "    if platform == 'google':\n",
        "      list_of_apps = state.google_apps_list\n",
        "    elif platform == 'windows':\n",
        "      list_of_apps = state.windows_apps_list\n",
        "    elif platform == 'apple':\n",
        "      list_of_apps = state.apple_apps_list\n",
        "    else:\n",
        "      raise ValueError('Invalid platform')\n",
        "\n",
        "    sql_query = f\"\"\"select * from {table_id} where app_name in ({list_of_apps})\"\"\"\n",
        "\n",
        "    df = client.query(sql_query).to_dataframe()\n",
        "    output = {f'{platform}_app_desc' : df.to_dict('records')}\n",
        "    return output\n",
        "  return get_app_desc\n",
        "\n",
        "get_apple_app_desc = make_app_desc_function('market-mirror-dev.APP_MARKET_GOLD.T_APPLE_APP_DETAIL_FINAL','apple')\n",
        "get_windows_app_desc = make_app_desc_function('market-mirror-dev.APP_MARKET_GOLD.T_WINDOWS_APP_DETAIL_FINAL','windows')\n",
        "get_google_app_desc = make_app_desc_function('market-mirror-dev.APP_MARKET_GOLD.T_GOOGLE_APP_DETAIL_FINAL','google')\n",
        "\n",
        "\n",
        "def get_comparison_summary(state: CustomState):\n",
        "\n",
        "  template = f\"\"\"\n",
        "    You are a market research analyst.\n",
        "    You will be provided with app details from 3 platforms - google, apple and windows.\n",
        "    You have to evaluate the features of the apps, summarize them in bullet points for each app in each platform.\n",
        "\n",
        "    Google App Details : {state.google_app_desc}\n",
        "    Windows App Details : {state.windows_app_desc}\n",
        "    Apple App Details : {state.apple_app_desc}\n",
        "    \"\"\"\n",
        "\n",
        "\n",
        "  output = llm.invoke(template)\n",
        "\n",
        "  print(output)\n",
        "  return {\"summary\":output}\n",
        "\n",
        "\n",
        "\n",
        "# Define a new graph\n",
        "workflow = StateGraph(state_schema=CustomState)\n",
        "\n",
        "#Create nodes\n",
        "workflow.add_node(\"generate_query_embedding\", generate_embeddings)\n",
        "\n",
        "workflow.add_node(\"google_apps_search\", google_apps_search)\n",
        "workflow.add_node(\"windows_apps_search\", windows_apps_search)\n",
        "workflow.add_node(\"apple_apps_search\", apple_apps_search)\n",
        "\n",
        "workflow.add_node(\"get_google_app_desc\", get_google_app_desc)\n",
        "workflow.add_node(\"get_windows_app_desc\", get_windows_app_desc)\n",
        "workflow.add_node(\"get_apple_app_desc\", get_apple_app_desc)\n",
        "\n",
        "workflow.add_node(\"get_comparison_summary\", get_comparison_summary)\n",
        "\n",
        "#Create Edges\n",
        "workflow.add_edge(START, \"generate_query_embedding\")\n",
        "\n",
        "workflow.add_edge(\"generate_query_embedding\", \"google_apps_search\")\n",
        "workflow.add_edge(\"generate_query_embedding\", \"windows_apps_search\")\n",
        "workflow.add_edge(\"generate_query_embedding\", \"apple_apps_search\")\n",
        "\n",
        "workflow.add_edge(\"google_apps_search\", \"get_google_app_desc\")\n",
        "workflow.add_edge(\"windows_apps_search\", \"get_windows_app_desc\")\n",
        "workflow.add_edge(\"apple_apps_search\", \"get_apple_app_desc\")\n",
        "\n",
        "workflow.add_edge(\"get_google_app_desc\",\"get_comparison_summary\")\n",
        "workflow.add_edge(\"get_windows_app_desc\",\"get_comparison_summary\")\n",
        "workflow.add_edge(\"get_apple_app_desc\",\"get_comparison_summary\")\n",
        "\n",
        "workflow.add_edge(\"get_comparison_summary\", END)\n",
        "\n",
        "app = workflow.compile()\n",
        "\n"
      ]
    },
    {
      "cell_type": "code",
      "execution_count": 16,
      "metadata": {
        "colab": {
          "base_uri": "https://localhost:8080/",
          "height": 548
        },
        "executionInfo": {
          "elapsed": 829,
          "status": "ok",
          "timestamp": 1758418875458,
          "user": {
            "displayName": "",
            "userId": ""
          },
          "user_tz": -330
        },
        "id": "94r__H1q3hfJ",
        "outputId": "91607cc7-e0fa-4457-c165-fe12f3bc7e04"
      },
      "outputs": [
        {
          "output_type": "display_data",
          "data": {
            "image/png": "[encoded data removed]",
            "text/plain": [
              "<IPython.core.display.Image object>"
            ]
          },
          "metadata": {}
        }
      ],
      "source": [
        "from IPython.display import Image, Markdown, display\n",
        "\n",
        "display(Image(app.get_graph().draw_mermaid_png()))\n",
        "#"
      ]
    },
    {
      "cell_type": "code",
      "execution_count": 17,
      "metadata": {
        "colab": {
          "base_uri": "https://localhost:8080/"
        },
        "executionInfo": {
          "elapsed": 9627,
          "status": "ok",
          "timestamp": 1758418891730,
          "user": {
            "displayName": "",
            "userId": ""
          },
          "user_tz": -330
        },
        "id": "T-Q1-Mbq485g",
        "outputId": "63f37084-cd6a-4994-996a-98104767f968"
      },
      "outputs": [
        {
          "output_type": "stream",
          "name": "stdout",
          "text": [
            "content='Okay, here\\'s a breakdown of the app features, summarized by platform and app:\\n\\n**Google Play Store Apps**\\n\\n*   **Snoonu - Fastest Delivery (Food & Drink)**\\n\\n    *   Fastest delivery service in Qatar (24/7)\\n    *   Offers food, groceries, retail items\\n    *   Partners with restaurants for diverse cuisine options\\n    *   Grocery delivery from multiple stores (Almeera, Megamart, SPAR, Snoomart)\\n    *   Online shopping for pharmacy, electronics, toys, flowers, etc.\\n    *   \"Snoosend\" point-to-point delivery service for packages\\n    *   Offers & discounts\\n    *   Easy in-app navigation\\n    *   Real-time delivery tracking\\n    *   Multiple payment methods (Apple Pay, Google Pay, Cash, Cards)\\n    *   Save multiple delivery addresses\\n    *   Order history & reordering\\n    *   Customer support\\n\\n*   **Takeaway.com - Order Food (Food & Drink)**\\n\\n    *   Online food ordering from restaurants.\\n    *   Wide variety of cuisines.\\n    *   Easy ordering process.\\n    *   Secure payment options (Credit Card, PayPal).\\n    *   Option to pick up food.\\n    *   Food Tracker for order updates.\\n    *   Reordering in two steps.\\n    *   Filters for restaurant selection (reviews, distance, price, etc.)\\n    *   Map view for restaurant locations.\\n\\n*   **OurShopee - Online Shopping (Shopping)**\\n\\n    *   Online shopping across UAE, Oman, Qatar, Kuwait, and Bahrain\\n    *   Buy now pay later with Tabby (4 installments, no interest)\\n    *   Wide range of products including home, fashion, electronics, toys.\\n    *   Payment on delivery option\\n    *   7-day return service\\n    *   Customer support\\n\\n**Windows Store Apps**\\n\\n*   **Free Online Invoicing & Billing App - Moon Invoice (Business > Accounting & finance)**\\n\\n    *   Invoice maker\\n    *   Free accounting solution for small and medium businesses\\n    *   Customized invoices with business logo\\n    *   End-to-end invoicing solutions (estimates, payments, track time, reports)\\n    *   Print or send online documents\\n    *   Manage multiple businesses\\n    *   Create unlimited invoices\\n\\n*   **Flipkart (Shopping)**\\n\\n    *   Online shopping app for Fashion, Electronics, Books, Mobiles and other categories.\\n    *   Easy Returns, 100% Buyer Protection\\n    *   Cash on Delivery, Credit/Debit Card, EMI, NetBanking, PayZippy\\n    *   Smart Search\\n    *   Sort and multi-filter function\\n    *   Personalized Alerts\\n    *   Product Suggestions\\n    *   One-touch Wishlist\\n    *   Offline browsing\\n    *   Share with Friends\\n\\n*   **Dell Digital Delivery (Utilities & tools)**\\n\\n    *   Download applications purchased directly from www.dell.com.\\n    *   Track the progress\\n    *   Launch the installer.\\n\\n**Apple App Store Apps**\\n\\n*   **DaWanda - The marketplace for unique products (Shopping)**\\n\\n    *   Marketplace for handmade, DIY, and design products\\n    *   Browse products without registration\\n    *   Categories: Fashion, Jewelry, Home & Living, Baby, Vintage\\n    *   Curated themes and seasonal inspiration\\n    *   Messaging functionality for buyer-seller communication\\n    *   Improved product lists & categories\\n    *   Detailed product presentation with high-resolution images\\n    *   Secure shopping with payment methods like PayPal\\n\\n*   **Walmart: Free 2-Day Shipping,* Easy Store Shopping (Shopping)**\\n\\n    *   Free 2-Day Shipping on eligible items ($35+ order)\\n    *   Pickup Discount (order online, pick up in-store)\\n    *   Easy reordering of essential items\\n    *   Walmart Pay (in-store mobile payments)\\n    *   Prescription ordering, transfer, and tracking\\n    *   Faster in-store pickup with mobile check-in\\n    *   Notifications for weekly ads and Rollbacks\\n    *   Find locations, in-store inventory, aisle locations, and store hours.\\n\\n*   **AliExpress Shopping App (Shopping)**\\n\\n    *   Shop trending products across many categories (home, health, tech, fashion)\\n    *   Easy search functionality\\n    *   Coupons, discounts, flash deals\\n    *   Free shipping on most products\\n    *   Order management and shipment notifications\\n    *   Buyer Protection\\n    *   Personalized product feeds\\n    *   Multiple language and currency support\\n\\nHope this is helpful!\\n' additional_kwargs={} response_metadata={'is_blocked': False, 'safety_ratings': [], 'usage_metadata': {'prompt_token_count': 5447, 'candidates_token_count': 995, 'total_token_count': 6442, 'prompt_tokens_details': [{'modality': 1, 'token_count': 5447}], 'candidates_tokens_details': [{'modality': 1, 'token_count': 995}], 'thoughts_token_count': 0, 'cached_content_token_count': 0, 'cache_tokens_details': []}, 'finish_reason': 'STOP', 'avg_logprobs': -0.22860975409272927, 'model_name': 'gemini-2.0-flash-001'} id='run--5a7adb90-9e9d-4ac6-bfbe-3199e52875f5-0' usage_metadata={'input_tokens': 5447, 'output_tokens': 995, 'total_tokens': 6442, 'input_token_details': {'cache_read': 0}}\n"
          ]
        }
      ],
      "source": [
        "output = app.invoke(input={\"messages\": \"app for online purchasing, fast delivery with less cost\"})"
      ]
    },
    {
      "cell_type": "code",
      "source": [
        "from IPython import display\n",
        "display.Markdown(output['summary'].content)\n"
      ],
      "metadata": {
        "colab": {
          "base_uri": "https://localhost:8080/",
          "height": 1000
        },
        "id": "x3mAWrIK7ylJ",
        "executionInfo": {
          "status": "ok",
          "timestamp": 1758419007870,
          "user_tz": -330,
          "elapsed": 635,
          "user": {
            "displayName": "",
            "userId": ""
          }
        },
        "outputId": "44a2d888-03a1-4b0d-ccc9-83335938e4ff"
      },
      "execution_count": 23,
      "outputs": [
        {
          "output_type": "execute_result",
          "data": {
            "text/plain": [
              "<IPython.core.display.Markdown object>"
            ],
            "text/markdown": "Okay, here's a breakdown of the app features, summarized by platform and app:\n\n**Google Play Store Apps**\n\n*   **Snoonu - Fastest Delivery (Food & Drink)**\n\n    *   Fastest delivery service in Qatar (24/7)\n    *   Offers food, groceries, retail items\n    *   Partners with restaurants for diverse cuisine options\n    *   Grocery delivery from multiple stores (Almeera, Megamart, SPAR, Snoomart)\n    *   Online shopping for pharmacy, electronics, toys, flowers, etc.\n    *   \"Snoosend\" point-to-point delivery service for packages\n    *   Offers & discounts\n    *   Easy in-app navigation\n    *   Real-time delivery tracking\n    *   Multiple payment methods (Apple Pay, Google Pay, Cash, Cards)\n    *   Save multiple delivery addresses\n    *   Order history & reordering\n    *   Customer support\n\n*   **Takeaway.com - Order Food (Food & Drink)**\n\n    *   Online food ordering from restaurants.\n    *   Wide variety of cuisines.\n    *   Easy ordering process.\n    *   Secure payment options (Credit Card, PayPal).\n    *   Option to pick up food.\n    *   Food Tracker for order updates.\n    *   Reordering in two steps.\n    *   Filters for restaurant selection (reviews, distance, price, etc.)\n    *   Map view for restaurant locations.\n\n*   **OurShopee - Online Shopping (Shopping)**\n\n    *   Online shopping across UAE, Oman, Qatar, Kuwait, and Bahrain\n    *   Buy now pay later with Tabby (4 installments, no interest)\n    *   Wide range of products including home, fashion, electronics, toys.\n    *   Payment on delivery option\n    *   7-day return service\n    *   Customer support\n\n**Windows Store Apps**\n\n*   **Free Online Invoicing & Billing App - Moon Invoice (Business > Accounting & finance)**\n\n    *   Invoice maker\n    *   Free accounting solution for small and medium businesses\n    *   Customized invoices with business logo\n    *   End-to-end invoicing solutions (estimates, payments, track time, reports)\n    *   Print or send online documents\n    *   Manage multiple businesses\n    *   Create unlimited invoices\n\n*   **Flipkart (Shopping)**\n\n    *   Online shopping app for Fashion, Electronics, Books, Mobiles and other categories.\n    *   Easy Returns, 100% Buyer Protection\n    *   Cash on Delivery, Credit/Debit Card, EMI, NetBanking, PayZippy\n    *   Smart Search\n    *   Sort and multi-filter function\n    *   Personalized Alerts\n    *   Product Suggestions\n    *   One-touch Wishlist\n    *   Offline browsing\n    *   Share with Friends\n\n*   **Dell Digital Delivery (Utilities & tools)**\n\n    *   Download applications purchased directly from www.dell.com.\n    *   Track the progress\n    *   Launch the installer.\n\n**Apple App Store Apps**\n\n*   **DaWanda - The marketplace for unique products (Shopping)**\n\n    *   Marketplace for handmade, DIY, and design products\n    *   Browse products without registration\n    *   Categories: Fashion, Jewelry, Home & Living, Baby, Vintage\n    *   Curated themes and seasonal inspiration\n    *   Messaging functionality for buyer-seller communication\n    *   Improved product lists & categories\n    *   Detailed product presentation with high-resolution images\n    *   Secure shopping with payment methods like PayPal\n\n*   **Walmart: Free 2-Day Shipping,* Easy Store Shopping (Shopping)**\n\n    *   Free 2-Day Shipping on eligible items ($35+ order)\n    *   Pickup Discount (order online, pick up in-store)\n    *   Easy reordering of essential items\n    *   Walmart Pay (in-store mobile payments)\n    *   Prescription ordering, transfer, and tracking\n    *   Faster in-store pickup with mobile check-in\n    *   Notifications for weekly ads and Rollbacks\n    *   Find locations, in-store inventory, aisle locations, and store hours.\n\n*   **AliExpress Shopping App (Shopping)**\n\n    *   Shop trending products across many categories (home, health, tech, fashion)\n    *   Easy search functionality\n    *   Coupons, discounts, flash deals\n    *   Free shipping on most products\n    *   Order management and shipment notifications\n    *   Buyer Protection\n    *   Personalized product feeds\n    *   Multiple language and currency support\n\nHope this is helpful!\n"
          },
          "metadata": {},
          "execution_count": 23
        }
      ]
    }
  ],
  "metadata": {
    "colab": {
      "cell_execution_strategy": "setup",
      "name": "backend/05_bq_vector_search_langgraph.ipynb",
      "provenance": []
    },
    "kernelspec": {
      "display_name": ".myenv",
      "language": "python",
      "name": "python3"
    },
    "language_info": {
      "name": "python",
      "version": "3.12.3"
    }
  },
  "nbformat": 4,
  "nbformat_minor": 0
}