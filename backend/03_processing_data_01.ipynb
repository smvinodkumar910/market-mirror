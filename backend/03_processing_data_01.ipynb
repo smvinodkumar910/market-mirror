{
  "nbformat": 4,
  "nbformat_minor": 0,
  "metadata": {
    "colab": {
      "name": "backend/03_processing_data_01.ipynb",
      "cell_execution_strategy": "setup",
      "provenance": []
    },
    "kernelspec": {
      "name": "python3",
      "display_name": "Python 3"
    },
    "language_info": {
      "name": "python"
    }
  },
  "cells": [
    {
      "cell_type": "markdown",
      "source": [
        "## Process Data"
      ],
      "metadata": {
        "id": "CkmL8sCZ62lt"
      }
    },
    {
      "cell_type": "markdown",
      "source": [
        "### Setting-up Environment"
      ],
      "metadata": {
        "id": "3ndNfYIQ67sc"
      }
    },
    {
      "cell_type": "code",
      "source": [
        "import os\n",
        "\n",
        "PROJECT_ID = \"market-mirror-dev\"  # @param {type: \"string\", placeholder: \"[your-project-id]\", isTemplate: true}\n",
        "BUCKET_NAME = \"marke-mirror-dev-data\"  # @param {type: \"string\", placeholder: \"[your-bucket-name]\", isTemplate: true}\n",
        "LOCATION = \"US\"  # @param {type: \"string\", placeholder: \"[your-region]\", isTemplate: true}\n",
        "if not PROJECT_ID or PROJECT_ID == \"[your-project-id]\":\n",
        "    PROJECT_ID = str(os.environ.get(\"GOOGLE_CLOUD_PROJECT\"))\n",
        "\n",
        "if not LOCATION or LOCATION == \"[your-region]\":\n",
        "    LOCATION = os.environ.get(\"GOOGLE_CLOUD_REGION\", \"US\")\n"
      ],
      "metadata": {
        "id": "X_Bg5Xjl6as8"
      },
      "execution_count": null,
      "outputs": []
    },
    {
      "cell_type": "code",
      "source": [
        "os.environ['GOOGLE_CLOUD_PROJECT'] = PROJECT_ID\n",
        "os.environ['GOOGLE_CLOUD_REGION'] = LOCATION"
      ],
      "metadata": {
        "id": "n5u2Bm4R6vLz"
      },
      "execution_count": null,
      "outputs": []
    },
    {
      "cell_type": "code",
      "source": [
        "BQ_BRONZE_DATASET = \"APP_MARKET_BRONZE\" # @param {type: \"string\", placeholder: \"[bronze-dataset]\", isTemplate: true}\n",
        "BQ_SILVER_DATASET = \"APP_MARKET_SILVER\" # @param {type: \"string\", placeholder: \"[silver-dataset]\", isTemplate: true}\n",
        "BQ_GOLD_DATASET = \"APP_MARKET_GOLD\" # @param {type: \"string\", placeholder: \"[gold-dataset]\", isTemplate: true}"
      ],
      "metadata": {
        "id": "iU9p4kPj6xdN"
      },
      "execution_count": null,
      "outputs": []
    },
    {
      "cell_type": "code",
      "source": [
        "import bigframes.pandas as bpd\n",
        "import bigframes.bigquery as bbq\n",
        "from bigframes.ml import llm\n",
        "\n",
        "bpd.options.bigquery.project = PROJECT_ID\n",
        "bpd.options.bigquery.location = LOCATION"
      ],
      "metadata": {
        "id": "Dl2HPVoJ7BSn"
      },
      "execution_count": null,
      "outputs": []
    },
    {
      "cell_type": "code",
      "source": [
        "review_df = bpd.read_gbq(f'{PROJECT_ID}.{BQ_SILVER_DATASET}.T_APP_REVIEWS')"
      ],
      "metadata": {
        "colab": {
          "base_uri": "https://localhost:8080/",
          "height": 34
        },
        "id": "xYrZy7K0LE4P",
        "executionInfo": {
          "status": "ok",
          "timestamp": 1755594090911,
          "user_tz": -330,
          "elapsed": 1791,
          "user": {
            "displayName": "",
            "userId": ""
          }
        },
        "outputId": "7ea5733e-4624-4915-e403-69d7478f0a1a"
      },
      "execution_count": null,
      "outputs": [
        {
          "output_type": "display_data",
          "data": {
            "text/plain": [
              "<IPython.core.display.HTML object>"
            ],
            "text/html": [
              "Query job 5ece1552-87ff-4480-a13f-02a4aa3185ba is DONE. 0 Bytes processed. <a target=\"_blank\" href=\"https://console.cloud.google.com/bigquery?project=market-mirror-dev&j=bq:US:5ece1552-87ff-4480-a13f-02a4aa3185ba&page=queryresults\">Open Job</a>"
            ]
          },
          "metadata": {}
        }
      ]
    },
    {
      "cell_type": "code",
      "source": [
        "review_df.info()"
      ],
      "metadata": {
        "colab": {
          "base_uri": "https://localhost:8080/"
        },
        "id": "acJVuhAMLV4o",
        "executionInfo": {
          "status": "ok",
          "timestamp": 1755594094892,
          "user_tz": -330,
          "elapsed": 3983,
          "user": {
            "displayName": "",
            "userId": ""
          }
        },
        "outputId": "83ddb61e-eb59-46cb-a873-510bf9c6e695"
      },
      "execution_count": null,
      "outputs": [
        {
          "output_type": "stream",
          "name": "stdout",
          "text": [
            "<class 'bigframes.dataframe.DataFrame'>\n",
            "Index: 69183 entries, 0 to 69182\n",
            "Data columns (total 6 columns):\n",
            "  #  Column       Non-Null Count    Dtype\n",
            "---  -----------  ----------------  -------\n",
            "  0  id           4888 non-null     Int64\n",
            "  1  app_name     69183 non-null    string\n",
            "  2  app_genre    3018 non-null     string\n",
            "  3  review_text  42315 non-null    string\n",
            "  4  rating       4888 non-null     Int64\n",
            "  5  sentiment    37432 non-null    string\n",
            "dtypes: Int64(2), string(4)\n",
            "memory usage: 3874248 bytes\n"
          ]
        }
      ]
    },
    {
      "cell_type": "code",
      "source": [
        "review_df.isna().sum()"
      ],
      "metadata": {
        "colab": {
          "base_uri": "https://localhost:8080/",
          "height": 178
        },
        "id": "Ol6Vi7kxL7Ws",
        "executionInfo": {
          "status": "ok",
          "timestamp": 1755594104562,
          "user_tz": -330,
          "elapsed": 9675,
          "user": {
            "displayName": "",
            "userId": ""
          }
        },
        "outputId": "a8325b03-5b3a-475f-934f-7953b02df1f6"
      },
      "execution_count": null,
      "outputs": [
        {
          "output_type": "display_data",
          "data": {
            "text/plain": [
              "<IPython.core.display.HTML object>"
            ],
            "text/html": [
              "Query job 52863081-6e42-47f9-9131-47d6d9cf328d is DONE. 8.3 MB processed. <a target=\"_blank\" href=\"https://console.cloud.google.com/bigquery?project=market-mirror-dev&j=bq:US:52863081-6e42-47f9-9131-47d6d9cf328d&page=queryresults\">Open Job</a>"
            ]
          },
          "metadata": {}
        },
        {
          "output_type": "display_data",
          "data": {
            "text/plain": [
              "<IPython.core.display.HTML object>"
            ],
            "text/html": [
              "Query job 51383744-60ea-49ee-be98-f3e534079ff3 is DONE. 153 Bytes processed. <a target=\"_blank\" href=\"https://console.cloud.google.com/bigquery?project=market-mirror-dev&j=bq:US:51383744-60ea-49ee-be98-f3e534079ff3&page=queryresults\">Open Job</a>"
            ]
          },
          "metadata": {}
        },
        {
          "output_type": "execute_result",
          "data": {
            "text/plain": [
              "id             64295\n",
              "app_name           0\n",
              "app_genre      66165\n",
              "review_text    26868\n",
              "rating         64295\n",
              "sentiment      31751\n",
              "dtype: Int64"
            ]
          },
          "metadata": {},
          "execution_count": 7
        }
      ]
    },
    {
      "cell_type": "code",
      "source": [
        "review_df_removed_null_review = review_df[~review_df['review_text'].isna()]"
      ],
      "metadata": {
        "id": "Dmx-51IRMolS"
      },
      "execution_count": null,
      "outputs": []
    },
    {
      "cell_type": "code",
      "source": [
        "review_df_removed_null_review.isna().sum()"
      ],
      "metadata": {
        "colab": {
          "base_uri": "https://localhost:8080/",
          "height": 178
        },
        "id": "X-4tVq2JM5oS",
        "executionInfo": {
          "status": "ok",
          "timestamp": 1755594115928,
          "user_tz": -330,
          "elapsed": 11376,
          "user": {
            "displayName": "",
            "userId": ""
          }
        },
        "outputId": "1cafc274-5ca6-4d4c-fb35-d4fe2a2b44e8"
      },
      "execution_count": null,
      "outputs": [
        {
          "output_type": "display_data",
          "data": {
            "text/plain": [
              "<IPython.core.display.HTML object>"
            ],
            "text/html": [
              "Query job 838ac208-c85c-457e-a8bd-4987e2776743 is DONE. 8.3 MB processed. <a target=\"_blank\" href=\"https://console.cloud.google.com/bigquery?project=market-mirror-dev&j=bq:US:838ac208-c85c-457e-a8bd-4987e2776743&page=queryresults\">Open Job</a>"
            ]
          },
          "metadata": {}
        },
        {
          "output_type": "display_data",
          "data": {
            "text/plain": [
              "<IPython.core.display.HTML object>"
            ],
            "text/html": [
              "Query job ee178d17-d614-4e60-b22c-cfc3172692b8 is DONE. 153 Bytes processed. <a target=\"_blank\" href=\"https://console.cloud.google.com/bigquery?project=market-mirror-dev&j=bq:US:ee178d17-d614-4e60-b22c-cfc3172692b8&page=queryresults\">Open Job</a>"
            ]
          },
          "metadata": {}
        },
        {
          "output_type": "execute_result",
          "data": {
            "text/plain": [
              "id             37427\n",
              "app_name           0\n",
              "app_genre      39297\n",
              "review_text        0\n",
              "rating         37427\n",
              "sentiment       4888\n",
              "dtype: Int64"
            ]
          },
          "metadata": {},
          "execution_count": 9
        }
      ]
    },
    {
      "cell_type": "code",
      "source": [
        "google_apps_df = bpd.read_gbq(f'{PROJECT_ID}.{BQ_SILVER_DATASET}.T_GOOGLE_APP_DETAILS',\n",
        "                              columns=['title','genre']).drop_duplicates()"
      ],
      "metadata": {
        "id": "Ye8fHidnNowp"
      },
      "execution_count": null,
      "outputs": []
    },
    {
      "cell_type": "code",
      "source": [
        "review_df_removed_null_review['join']= review_df_removed_null_review.app_name.str.strip().str.lower()\n",
        "google_apps_df['join']= google_apps_df.title.str.strip().str.lower()\n",
        "merged_review_df = bpd.merge(review_df_removed_null_review, google_apps_df, on='join', how='left')"
      ],
      "metadata": {
        "id": "v09Hf5t5ORkU"
      },
      "execution_count": null,
      "outputs": []
    },
    {
      "cell_type": "code",
      "source": [
        "merged_review_df['app_genre'] = merged_review_df['app_genre'].fillna(merged_review_df['genre'])"
      ],
      "metadata": {
        "id": "MO8VrrKnPdua"
      },
      "execution_count": null,
      "outputs": []
    },
    {
      "cell_type": "code",
      "source": [
        "merged_review_df.isna().sum()"
      ],
      "metadata": {
        "colab": {
          "base_uri": "https://localhost:8080/",
          "height": 233
        },
        "id": "ou3quvPUP0Mn",
        "executionInfo": {
          "status": "ok",
          "timestamp": 1755594123583,
          "user_tz": -330,
          "elapsed": 7665,
          "user": {
            "displayName": "",
            "userId": ""
          }
        },
        "outputId": "8fd80eea-12d4-4636-a167-19fb0d7e1fd4"
      },
      "execution_count": null,
      "outputs": [
        {
          "output_type": "display_data",
          "data": {
            "text/plain": [
              "<IPython.core.display.HTML object>"
            ],
            "text/html": [
              "Query job 7a4002f1-4952-4bff-82b0-efd5d3d5b30c is DONE. 8.8 MB processed. <a target=\"_blank\" href=\"https://console.cloud.google.com/bigquery?project=market-mirror-dev&j=bq:US:7a4002f1-4952-4bff-82b0-efd5d3d5b30c&page=queryresults\">Open Job</a>"
            ]
          },
          "metadata": {}
        },
        {
          "output_type": "display_data",
          "data": {
            "text/plain": [
              "<IPython.core.display.HTML object>"
            ],
            "text/html": [
              "Query job 17a66be0-8ace-404f-8c87-2b584f391367 is DONE. 221 Bytes processed. <a target=\"_blank\" href=\"https://console.cloud.google.com/bigquery?project=market-mirror-dev&j=bq:US:17a66be0-8ace-404f-8c87-2b584f391367&page=queryresults\">Open Job</a>"
            ]
          },
          "metadata": {}
        },
        {
          "output_type": "execute_result",
          "data": {
            "text/plain": [
              "id             37581\n",
              "app_name           0\n",
              "app_genre      38535\n",
              "review_text        0\n",
              "rating         37581\n",
              "sentiment       4891\n",
              "join               0\n",
              "title          41406\n",
              "genre          41406\n",
              "dtype: Int64"
            ]
          },
          "metadata": {},
          "execution_count": 13
        }
      ]
    },
    {
      "cell_type": "code",
      "source": [
        "genre_list = google_apps_df.genre.drop_duplicates().to_list()"
      ],
      "metadata": {
        "id": "ePpN-xrS6GqL"
      },
      "execution_count": null,
      "outputs": []
    },
    {
      "cell_type": "code",
      "source": [
        "genre_list.extend(merged_review_df[~merged_review_df.app_genre.isna()].app_genre.drop_duplicates().to_list())"
      ],
      "metadata": {
        "id": "R8vRKKf061CM"
      },
      "execution_count": null,
      "outputs": []
    },
    {
      "cell_type": "code",
      "source": [
        "genre_list = list(set(genre_list))"
      ],
      "metadata": {
        "id": "6axMTEIv6_JM"
      },
      "execution_count": null,
      "outputs": []
    },
    {
      "cell_type": "code",
      "source": [
        "len(genre_list)"
      ],
      "metadata": {
        "colab": {
          "base_uri": "https://localhost:8080/"
        },
        "id": "3O8dXvXm7Qh4",
        "executionInfo": {
          "status": "ok",
          "timestamp": 1755594129400,
          "user_tz": -330,
          "elapsed": 19,
          "user": {
            "displayName": "",
            "userId": ""
          }
        },
        "outputId": "383bab39-d4f1-4d6f-f275-2548b9cb2ede"
      },
      "execution_count": null,
      "outputs": [
        {
          "output_type": "execute_result",
          "data": {
            "text/plain": [
              "49"
            ]
          },
          "metadata": {},
          "execution_count": 17
        }
      ]
    },
    {
      "cell_type": "code",
      "source": [
        "genre_list_concat = ','.join(genre_list)"
      ],
      "metadata": {
        "id": "TAO3DnruBAw3"
      },
      "execution_count": null,
      "outputs": []
    },
    {
      "cell_type": "code",
      "source": [
        "unique_apps_without_genre = merged_review_df[merged_review_df.app_genre.isna()].app_name.drop_duplicates().to_frame(name='app_name')"
      ],
      "metadata": {
        "id": "3NhoPnxJkT9_"
      },
      "execution_count": null,
      "outputs": []
    },
    {
      "cell_type": "code",
      "source": [
        "unique_apps_without_genre['prompt'] =\"\"\"predict which genre the given app belongs to.\n",
        "app_name = \"\"\"+ unique_apps_without_genre.app_name + \"\"\"\n",
        "Reply with just the genre predicted for the given app name.\"\"\""
      ],
      "metadata": {
        "id": "TjU9hyCREdIn"
      },
      "execution_count": null,
      "outputs": []
    },
    {
      "cell_type": "code",
      "source": [
        "unique_apps_without_genre.shape"
      ],
      "metadata": {
        "colab": {
          "base_uri": "https://localhost:8080/"
        },
        "id": "H-DwY35OlxOM",
        "executionInfo": {
          "status": "ok",
          "timestamp": 1755594566312,
          "user_tz": -330,
          "elapsed": 4,
          "user": {
            "displayName": "",
            "userId": ""
          }
        },
        "outputId": "dbb6b56a-b432-4580-9a70-515ef3c42f0d"
      },
      "execution_count": null,
      "outputs": [
        {
          "output_type": "execute_result",
          "data": {
            "text/plain": [
              "(1395, 2)"
            ]
          },
          "metadata": {},
          "execution_count": 30
        }
      ]
    },
    {
      "cell_type": "code",
      "source": [
        "model = llm.GeminiTextGenerator(model_name='gemini-2.0-flash', connection_name='us.vertex-remote-models')"
      ],
      "metadata": {
        "colab": {
          "base_uri": "https://localhost:8080/",
          "height": 199
        },
        "id": "wsuxZXDr8_YS",
        "executionInfo": {
          "status": "ok",
          "timestamp": 1755594351883,
          "user_tz": -330,
          "elapsed": 3679,
          "user": {
            "displayName": "",
            "userId": ""
          }
        },
        "outputId": "bc9ff6b3-fa4a-4969-9ac4-a77b610fa5b3"
      },
      "execution_count": null,
      "outputs": [
        {
          "output_type": "stream",
          "name": "stderr",
          "text": [
            "/usr/local/lib/python3.11/dist-packages/bigframes/ml/llm.py:508: UserWarning: Model name 'gemini-2.0-flash' is not supported. We are currently aware\n",
            "of the following models: gemini-1.5-pro-preview-0514,\n",
            "gemini-1.5-flash-preview-0514, gemini-1.5-pro-001, gemini-1.5-pro-002,\n",
            "gemini-1.5-flash-001, gemini-1.5-flash-002, gemini-2.0-flash-exp,\n",
            "gemini-2.0-flash-001, gemini-2.0-flash-lite-001. However, model names\n",
            "can change, and the supported models may be outdated. You should use\n",
            "this model name only if you are sure that it is supported in BigQuery.\n",
            "  warnings.warn(msg)\n"
          ]
        },
        {
          "output_type": "display_data",
          "data": {
            "text/plain": [
              "<IPython.core.display.HTML object>"
            ],
            "text/html": [
              "Query job 0df77756-3697-4e4e-82a6-db8171b4050a is DONE. 0 Bytes processed. <a target=\"_blank\" href=\"https://console.cloud.google.com/bigquery?project=market-mirror-dev&j=bq:US:0df77756-3697-4e4e-82a6-db8171b4050a&page=queryresults\">Open Job</a>"
            ]
          },
          "metadata": {}
        }
      ]
    },
    {
      "cell_type": "code",
      "source": [
        "llm_response = model.predict(X=unique_apps_without_genre,\n",
        "              prompt=[\"the genre can be any one from the following list - genre_list:\"+ genre_list_concat ],\n",
        "              ground_with_google_search=False,\n",
        "              output_schema={'app': 'string', 'app_genre': 'string'})\n"
      ],
      "metadata": {
        "colab": {
          "base_uri": "https://localhost:8080/",
          "height": 272
        },
        "id": "mw11U9YG9eeG",
        "executionInfo": {
          "status": "ok",
          "timestamp": 1755594887810,
          "user_tz": -330,
          "elapsed": 280993,
          "user": {
            "displayName": "",
            "userId": ""
          }
        },
        "outputId": "0dcddf53-cf81-480b-838d-7269461b7094"
      },
      "execution_count": null,
      "outputs": [
        {
          "output_type": "stream",
          "name": "stderr",
          "text": [
            "/usr/local/lib/python3.11/dist-packages/bigframes/ml/llm.py:698: UserWarning: The model 'gemini-2.0-flash' may not be fully supported by\n",
            "GeminiTextGenerator for Multimodal prompts. GeminiTextGenerator is\n",
            "known to support the following models for Multimodal prompts:\n",
            "gemini-1.5-pro-001, gemini-1.5-pro-002, gemini-1.5-flash-001,\n",
            "gemini-1.5-flash-002, gemini-2.0-flash-exp, gemini-2.0-flash-001,\n",
            "gemini-2.0-flash-lite-001. If you proceed with 'gemini-2.0-flash', it\n",
            "might not work as expected or could lead to errors with multimodal\n",
            "inputs.\n",
            "  warnings.warn(msg)\n"
          ]
        },
        {
          "output_type": "display_data",
          "data": {
            "text/plain": [
              "<IPython.core.display.HTML object>"
            ],
            "text/html": [
              "Query job e6c6e2a0-3171-40d9-a88a-b8834524d291 is DONE. 48.7 kB processed. <a target=\"_blank\" href=\"https://console.cloud.google.com/bigquery?project=market-mirror-dev&j=bq:US:e6c6e2a0-3171-40d9-a88a-b8834524d291&page=queryresults\">Open Job</a>"
            ]
          },
          "metadata": {}
        },
        {
          "output_type": "stream",
          "name": "stderr",
          "text": [
            "/usr/local/lib/python3.11/dist-packages/bigframes/core/array_value.py:108: PreviewWarning: JSON column interpretation as a custom PyArrow extention in\n",
            "`db_dtypes` is a preview feature and subject to change.\n",
            "  warnings.warn(msg, bfe.PreviewWarning)\n"
          ]
        }
      ]
    },
    {
      "cell_type": "code",
      "source": [
        "llm_response.head(5)"
      ],
      "metadata": {
        "colab": {
          "base_uri": "https://localhost:8080/",
          "height": 374
        },
        "id": "PDKAnMnVnEWe",
        "executionInfo": {
          "status": "ok",
          "timestamp": 1755594918245,
          "user_tz": -330,
          "elapsed": 4209,
          "user": {
            "displayName": "",
            "userId": ""
          }
        },
        "outputId": "eba2b8a8-140b-41a6-e10b-803ec7f5686a"
      },
      "execution_count": null,
      "outputs": [
        {
          "output_type": "display_data",
          "data": {
            "text/plain": [
              "<IPython.core.display.HTML object>"
            ],
            "text/html": [
              "Query job e7dfbe37-b3c4-4006-9dec-525eb25f6a21 is DONE. 1.2 MB processed. <a target=\"_blank\" href=\"https://console.cloud.google.com/bigquery?project=market-mirror-dev&j=bq:US:e7dfbe37-b3c4-4006-9dec-525eb25f6a21&page=queryresults\">Open Job</a>"
            ]
          },
          "metadata": {}
        },
        {
          "output_type": "execute_result",
          "data": {
            "text/plain": [
              "    app app_genre                                      full_response status  \\\n",
              "0  <NA>    Puzzle  {\"candidates\":[{\"avg_logprobs\":-0.072641881612...          \n",
              "1  <NA>  Strategy  {\"candidates\":[{\"avg_logprobs\":-0.078300393544...          \n",
              "2  <NA>  Strategy  {\"candidates\":[{\"avg_logprobs\":-0.126589692555...          \n",
              "4  <NA>  Strategy  {\"candidates\":[{\"avg_logprobs\":-0.103402623763...          \n",
              "5  <NA>    Puzzle  {\"candidates\":[{\"avg_logprobs\":-0.055890564735...          \n",
              "\n",
              "                                            app_name  \\\n",
              "0                                    BEST CAR SOUNDS   \n",
              "1                           BeyondMenu Food Delivery   \n",
              "2  591房屋交易-租屋、中古屋、新建案、實價登錄、別墅透天、公寓套房、捷運、買房賣房行情、房價...   \n",
              "4                     Calorie Counter & Diet Tracker   \n",
              "5                         Foursquare Swarm: Check In   \n",
              "\n",
              "                                              prompt  \n",
              "0  {'input_0': 'the genre can be any one from the...  \n",
              "1  {'input_0': 'the genre can be any one from the...  \n",
              "2  {'input_0': 'the genre can be any one from the...  \n",
              "4  {'input_0': 'the genre can be any one from the...  \n",
              "5  {'input_0': 'the genre can be any one from the...  \n",
              "\n",
              "[5 rows x 6 columns]"
            ],
            "text/html": [
              "<div>\n",
              "<style scoped>\n",
              "    .dataframe tbody tr th:only-of-type {\n",
              "        vertical-align: middle;\n",
              "    }\n",
              "\n",
              "    .dataframe tbody tr th {\n",
              "        vertical-align: top;\n",
              "    }\n",
              "\n",
              "    .dataframe thead th {\n",
              "        text-align: right;\n",
              "    }\n",
              "</style>\n",
              "<table border=\"1\" class=\"dataframe\">\n",
              "  <thead>\n",
              "    <tr style=\"text-align: right;\">\n",
              "      <th></th>\n",
              "      <th>app</th>\n",
              "      <th>app_genre</th>\n",
              "      <th>full_response</th>\n",
              "      <th>status</th>\n",
              "      <th>app_name</th>\n",
              "      <th>prompt</th>\n",
              "    </tr>\n",
              "  </thead>\n",
              "  <tbody>\n",
              "    <tr>\n",
              "      <th>0</th>\n",
              "      <td>&lt;NA&gt;</td>\n",
              "      <td>Puzzle</td>\n",
              "      <td>{\"candidates\":[{\"avg_logprobs\":-0.072641881612...</td>\n",
              "      <td></td>\n",
              "      <td>BEST CAR SOUNDS</td>\n",
              "      <td>{'input_0': 'the genre can be any one from the...</td>\n",
              "    </tr>\n",
              "    <tr>\n",
              "      <th>1</th>\n",
              "      <td>&lt;NA&gt;</td>\n",
              "      <td>Strategy</td>\n",
              "      <td>{\"candidates\":[{\"avg_logprobs\":-0.078300393544...</td>\n",
              "      <td></td>\n",
              "      <td>BeyondMenu Food Delivery</td>\n",
              "      <td>{'input_0': 'the genre can be any one from the...</td>\n",
              "    </tr>\n",
              "    <tr>\n",
              "      <th>2</th>\n",
              "      <td>&lt;NA&gt;</td>\n",
              "      <td>Strategy</td>\n",
              "      <td>{\"candidates\":[{\"avg_logprobs\":-0.126589692555...</td>\n",
              "      <td></td>\n",
              "      <td>591房屋交易-租屋、中古屋、新建案、實價登錄、別墅透天、公寓套房、捷運、買房賣房行情、房價...</td>\n",
              "      <td>{'input_0': 'the genre can be any one from the...</td>\n",
              "    </tr>\n",
              "    <tr>\n",
              "      <th>4</th>\n",
              "      <td>&lt;NA&gt;</td>\n",
              "      <td>Strategy</td>\n",
              "      <td>{\"candidates\":[{\"avg_logprobs\":-0.103402623763...</td>\n",
              "      <td></td>\n",
              "      <td>Calorie Counter &amp; Diet Tracker</td>\n",
              "      <td>{'input_0': 'the genre can be any one from the...</td>\n",
              "    </tr>\n",
              "    <tr>\n",
              "      <th>5</th>\n",
              "      <td>&lt;NA&gt;</td>\n",
              "      <td>Puzzle</td>\n",
              "      <td>{\"candidates\":[{\"avg_logprobs\":-0.055890564735...</td>\n",
              "      <td></td>\n",
              "      <td>Foursquare Swarm: Check In</td>\n",
              "      <td>{'input_0': 'the genre can be any one from the...</td>\n",
              "    </tr>\n",
              "  </tbody>\n",
              "</table>\n",
              "<p>5 rows × 6 columns</p>\n",
              "</div>[5 rows x 6 columns in total]"
            ]
          },
          "metadata": {},
          "execution_count": 33
        }
      ]
    },
    {
      "cell_type": "code",
      "source": [
        "llm_response_subset = llm_response[['app_name','app_genre']]\n",
        "llm_response_subset = llm_response_subset.rename(columns={'app_genre':'app_genre_llm'})"
      ],
      "metadata": {
        "id": "fhPsZBvfnNCv"
      },
      "execution_count": null,
      "outputs": []
    },
    {
      "cell_type": "code",
      "source": [
        "merged_review_df_with_genre = bpd.merge(merged_review_df,llm_response_subset,on='app_name',how='left')\n"
      ],
      "metadata": {
        "id": "Sxsu7a19nXaR"
      },
      "execution_count": null,
      "outputs": []
    },
    {
      "cell_type": "code",
      "source": [
        "merged_review_df_with_genre['app_genre'] = merged_review_df_with_genre['app_genre'].fillna(merged_review_df_with_genre['app_genre_llm'])"
      ],
      "metadata": {
        "id": "Sixi6kC6oTGa"
      },
      "execution_count": null,
      "outputs": []
    },
    {
      "cell_type": "code",
      "source": [
        "merged_review_df_with_genre.isna().sum()"
      ],
      "metadata": {
        "colab": {
          "base_uri": "https://localhost:8080/",
          "height": 251
        },
        "id": "AgkMP0Y-npCU",
        "executionInfo": {
          "status": "ok",
          "timestamp": 1755595241173,
          "user_tz": -330,
          "elapsed": 8044,
          "user": {
            "displayName": "",
            "userId": ""
          }
        },
        "outputId": "99391083-42b0-40fe-8871-b9c8ab45139f"
      },
      "execution_count": null,
      "outputs": [
        {
          "output_type": "display_data",
          "data": {
            "text/plain": [
              "<IPython.core.display.HTML object>"
            ],
            "text/html": [
              "Query job 9fda1079-c002-48b7-92bf-7e2c5dcdc0f9 is DONE. 8.8 MB processed. <a target=\"_blank\" href=\"https://console.cloud.google.com/bigquery?project=market-mirror-dev&j=bq:US:9fda1079-c002-48b7-92bf-7e2c5dcdc0f9&page=queryresults\">Open Job</a>"
            ]
          },
          "metadata": {}
        },
        {
          "output_type": "display_data",
          "data": {
            "text/plain": [
              "<IPython.core.display.HTML object>"
            ],
            "text/html": [
              "Query job 54c5592e-3e6a-4c8a-aae1-0898241d7d54 is DONE. 252 Bytes processed. <a target=\"_blank\" href=\"https://console.cloud.google.com/bigquery?project=market-mirror-dev&j=bq:US:54c5592e-3e6a-4c8a-aae1-0898241d7d54&page=queryresults\">Open Job</a>"
            ]
          },
          "metadata": {}
        },
        {
          "output_type": "execute_result",
          "data": {
            "text/plain": [
              "id               37581\n",
              "app_name             0\n",
              "app_genre            0\n",
              "review_text          0\n",
              "rating           37581\n",
              "sentiment         4891\n",
              "join                 0\n",
              "title            41406\n",
              "genre            41406\n",
              "app_genre_llm     3850\n",
              "dtype: Int64"
            ]
          },
          "metadata": {},
          "execution_count": 42
        }
      ]
    },
    {
      "cell_type": "code",
      "source": [
        "merged_review_df_with_genre.drop(columns=['join','title','genre','app_genre_llm']).to_gbq(destination_table=f\"{PROJECT_ID}.{BQ_SILVER_DATASET}.T_APP_REVIEWS_CLEANED\")"
      ],
      "metadata": {
        "colab": {
          "base_uri": "https://localhost:8080/",
          "height": 53
        },
        "id": "mq7BhepCoftF",
        "executionInfo": {
          "status": "ok",
          "timestamp": 1755595425618,
          "user_tz": -330,
          "elapsed": 4933,
          "user": {
            "displayName": "",
            "userId": ""
          }
        },
        "outputId": "5e232d32-0a8e-473f-c6f2-18cf3dab95b4"
      },
      "execution_count": null,
      "outputs": [
        {
          "output_type": "display_data",
          "data": {
            "text/plain": [
              "<IPython.core.display.HTML object>"
            ],
            "text/html": [
              "Query job 1e21dcd9-adc4-4a8c-b977-1df15eb948fb is DONE. 8.8 MB processed. <a target=\"_blank\" href=\"https://console.cloud.google.com/bigquery?project=market-mirror-dev&j=bq:US:1e21dcd9-adc4-4a8c-b977-1df15eb948fb&page=queryresults\">Open Job</a>"
            ]
          },
          "metadata": {}
        },
        {
          "output_type": "execute_result",
          "data": {
            "text/plain": [
              "'market-mirror-dev.APP_MARKET_SILVER.T_APP_REVIEWS_CLEANED'"
            ],
            "application/vnd.google.colaboratory.intrinsic+json": {
              "type": "string"
            }
          },
          "metadata": {},
          "execution_count": 43
        }
      ]
    },
    {
      "cell_type": "code",
      "source": [
        "## use genAI to predict app_genre\n",
        "## add additional column on language of the review_text with GenAI\n",
        "## update sentiment analysis for the records with null\n"
      ],
      "metadata": {
        "id": "PantBBH6QgnV"
      },
      "execution_count": null,
      "outputs": []
    },
    {
      "cell_type": "code",
      "source": [
        "merged_review_df_with_genre = merged_review_df_with_genre.drop(columns=['join','title','genre','app_genre_llm'])"
      ],
      "metadata": {
        "id": "coBzT8q65s3O"
      },
      "execution_count": null,
      "outputs": []
    },
    {
      "cell_type": "code",
      "source": [
        "merged_review_df_with_genre.isna().sum()"
      ],
      "metadata": {
        "colab": {
          "base_uri": "https://localhost:8080/",
          "height": 178
        },
        "id": "gUt3On4Rpulx",
        "executionInfo": {
          "status": "ok",
          "timestamp": 1755595616444,
          "user_tz": -330,
          "elapsed": 8489,
          "user": {
            "displayName": "",
            "userId": ""
          }
        },
        "outputId": "ef561a01-882c-4b3d-ce94-c54186de4589"
      },
      "execution_count": null,
      "outputs": [
        {
          "output_type": "display_data",
          "data": {
            "text/plain": [
              "<IPython.core.display.HTML object>"
            ],
            "text/html": [
              "Query job 20db1111-e73a-442b-af98-3eaf4daf6282 is DONE. 8.8 MB processed. <a target=\"_blank\" href=\"https://console.cloud.google.com/bigquery?project=market-mirror-dev&j=bq:US:20db1111-e73a-442b-af98-3eaf4daf6282&page=queryresults\">Open Job</a>"
            ]
          },
          "metadata": {}
        },
        {
          "output_type": "display_data",
          "data": {
            "text/plain": [
              "<IPython.core.display.HTML object>"
            ],
            "text/html": [
              "Query job acca7d1d-10e7-448e-8ea0-c0e083c01f9c is DONE. 153 Bytes processed. <a target=\"_blank\" href=\"https://console.cloud.google.com/bigquery?project=market-mirror-dev&j=bq:US:acca7d1d-10e7-448e-8ea0-c0e083c01f9c&page=queryresults\">Open Job</a>"
            ]
          },
          "metadata": {}
        },
        {
          "output_type": "execute_result",
          "data": {
            "text/plain": [
              "id             37581\n",
              "app_name           0\n",
              "app_genre          0\n",
              "review_text        0\n",
              "rating         37581\n",
              "sentiment       4891\n",
              "dtype: Int64"
            ]
          },
          "metadata": {},
          "execution_count": 47
        }
      ]
    },
    {
      "cell_type": "code",
      "source": [
        "merged_review_df_with_genre.shape"
      ],
      "metadata": {
        "colab": {
          "base_uri": "https://localhost:8080/"
        },
        "id": "Z0JekZybpxpV",
        "executionInfo": {
          "status": "ok",
          "timestamp": 1755595619033,
          "user_tz": -330,
          "elapsed": 750,
          "user": {
            "displayName": "",
            "userId": ""
          }
        },
        "outputId": "8f604592-e6ee-4179-8162-c1a6eca09bc0"
      },
      "execution_count": null,
      "outputs": [
        {
          "output_type": "execute_result",
          "data": {
            "text/plain": [
              "(42472, 6)"
            ]
          },
          "metadata": {},
          "execution_count": 48
        }
      ]
    },
    {
      "cell_type": "code",
      "source": [
        "merged_review_df_with_genre = merged_review_df_with_genre.reset_index()"
      ],
      "metadata": {
        "id": "W1NU3pCCwCi4"
      },
      "execution_count": null,
      "outputs": []
    },
    {
      "cell_type": "code",
      "source": [
        "merged_review_df_with_genre = merged_review_df_with_genre.drop(columns=['id']).rename(columns={'index':'id'})"
      ],
      "metadata": {
        "id": "rrwwnLVfwIP7"
      },
      "execution_count": null,
      "outputs": []
    },
    {
      "cell_type": "code",
      "source": [
        "merged_review_df_with_genre.to_gbq(destination_table=f\"{PROJECT_ID}.{BQ_SILVER_DATASET}.T_APP_REVIEWS_CLEANED\", if_exists='replace')"
      ],
      "metadata": {
        "colab": {
          "base_uri": "https://localhost:8080/",
          "height": 53
        },
        "id": "49ahiRRFwVRe",
        "executionInfo": {
          "status": "ok",
          "timestamp": 1755597411996,
          "user_tz": -330,
          "elapsed": 5405,
          "user": {
            "displayName": "",
            "userId": ""
          }
        },
        "outputId": "13b1be0a-1fd1-4984-9d08-01d74f96aaff"
      },
      "execution_count": null,
      "outputs": [
        {
          "output_type": "display_data",
          "data": {
            "text/plain": [
              "<IPython.core.display.HTML object>"
            ],
            "text/html": [
              "Query job 283808e0-8161-4257-8ada-c23bf9fa3b52 is DONE. 16.8 MB processed. <a target=\"_blank\" href=\"https://console.cloud.google.com/bigquery?project=market-mirror-dev&j=bq:US:283808e0-8161-4257-8ada-c23bf9fa3b52&page=queryresults\">Open Job</a>"
            ]
          },
          "metadata": {}
        },
        {
          "output_type": "execute_result",
          "data": {
            "text/plain": [
              "'market-mirror-dev.APP_MARKET_SILVER.T_APP_REVIEWS_CLEANED'"
            ],
            "application/vnd.google.colaboratory.intrinsic+json": {
              "type": "string"
            }
          },
          "metadata": {},
          "execution_count": 55
        }
      ]
    },
    {
      "cell_type": "code",
      "source": [
        "merged_review_df_with_genre.sentiment.value_counts()"
      ],
      "metadata": {
        "colab": {
          "base_uri": "https://localhost:8080/",
          "height": 142
        },
        "id": "CBmAFejqueVV",
        "executionInfo": {
          "status": "ok",
          "timestamp": 1755596860011,
          "user_tz": -330,
          "elapsed": 7793,
          "user": {
            "displayName": "",
            "userId": ""
          }
        },
        "outputId": "fcc61c80-9b96-49fd-b752-ac99efc65292"
      },
      "execution_count": null,
      "outputs": [
        {
          "output_type": "display_data",
          "data": {
            "text/plain": [
              "<IPython.core.display.HTML object>"
            ],
            "text/html": [
              "Query job 80ac0b99-7c2b-4576-aa36-546c2e21dc36 is DONE. 8.7 MB processed. <a target=\"_blank\" href=\"https://console.cloud.google.com/bigquery?project=market-mirror-dev&j=bq:US:80ac0b99-7c2b-4576-aa36-546c2e21dc36&page=queryresults\">Open Job</a>"
            ]
          },
          "metadata": {}
        },
        {
          "output_type": "display_data",
          "data": {
            "text/plain": [
              "<IPython.core.display.HTML object>"
            ],
            "text/html": [
              "Query job 0de8a20a-5a03-451c-918b-714c90b622fe is DONE. 77 Bytes processed. <a target=\"_blank\" href=\"https://console.cloud.google.com/bigquery?project=market-mirror-dev&j=bq:US:0de8a20a-5a03-451c-918b-714c90b622fe&page=queryresults\">Open Job</a>"
            ]
          },
          "metadata": {}
        },
        {
          "output_type": "execute_result",
          "data": {
            "text/plain": [
              "sentiment\n",
              "Positive    24081\n",
              "Negative     8342\n",
              "Neutral      5158\n",
              "Name: count, dtype: Int64"
            ]
          },
          "metadata": {},
          "execution_count": 49
        }
      ]
    },
    {
      "cell_type": "code",
      "source": [
        "%%bigquery\n",
        "# create or replace table `market-mirror-dev.APP_MARKET_SILVER.T_APP_REVIEWS_SENTIMENTS`\n",
        "# AS\n",
        "# select id, app_name, review_text,\n",
        "# AI.GENERATE(prompt=>concat('check the sentiment of the user review for the app and give me answer in just one word on whether the review is [Positive   Negative or Neutral app_name: ', app_name, '\\r\\n review_text : ', review_text ),\n",
        "# connection_id => 'us.vertex-remote-models',\n",
        "# endpoint => 'gemini-2.5-flash'\n",
        "# ).result\n",
        "#  from `market-mirror-dev.APP_MARKET_SILVER.T_APP_REVIEWS_CLEANED`\n",
        "# where sentiment is null --and id in (27394, 27294, 41092)\n",
        "# ;\n",
        "\n",
        "\n",
        "update `market-mirror-dev.APP_MARKET_SILVER.T_APP_REVIEWS_CLEANED` tgt\n",
        "set tgt.sentiment = src.result\n",
        "from `market-mirror-dev.APP_MARKET_SILVER.T_APP_REVIEWS_SENTIMENTS` src\n",
        "where tgt.id = src.id\n",
        "and tgt.sentiment is null;\n"
      ],
      "metadata": {
        "id": "8S7SjqpyzvyG"
      },
      "execution_count": null,
      "outputs": []
    }
  ]
}