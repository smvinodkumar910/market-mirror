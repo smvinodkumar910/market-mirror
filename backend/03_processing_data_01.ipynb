{
  "cells": [
    {
      "cell_type": "markdown",
      "metadata": {
        "id": "CkmL8sCZ62lt"
      },
      "source": [
        "## Process Data"
      ]
    },
    {
      "cell_type": "markdown",
      "metadata": {},
      "source": [
        "\n",
        "<table align=\"left\">\n",
        "  <td style=\"text-align: center\">\n",
        "    <a href=\"https://colab.research.google.com/github/smvinodkumar910/market-mirror/blob/main/backend/03_processing_data_01.ipynb\">\n",
        "      <img width=\"32px\" src=\"https://www.gstatic.com/pantheon/images/bigquery/welcome_page/colab-logo.svg\" alt=\"Google Colaboratory logo\"><br> Run in Colab\n",
        "    </a>\n",
        "  </td>\n",
        "  <td style=\"text-align: center\">\n",
        "    <a href=\"https://console.cloud.google.com/vertex-ai/colab/import/https:%2F%2Fraw.githubusercontent.com%2Fsmvinodkumar910%2Fmarket-mirror%2Frefs%2Fheads%2Fmain%2Fbackend%2F03_processing_data_01.ipynb\">\n",
        "      <img width=\"32px\" src=\"https://lh3.googleusercontent.com/JmcxdQi-qOpctIvWKgPtrzZdJJK-J3sWE1RsfjZNwshCFgE_9fULcNpuXYTilIR2hjwN\" alt=\"Google Cloud Colab Enterprise logo\"><br> Run in Colab Enterprise\n",
        "    </a>\n",
        "  </td>\n",
        "  <td style=\"text-align: center\">\n",
        "    <a href=\"https://console.cloud.google.com/vertex-ai/workbench/deploy-notebook?download_url=https://raw.githubusercontent.com/smvinodkumar910/market-mirror/refs/heads/main/backend/03_processing_data_01.ipynb\">\n",
        "      <img src=\"https://www.gstatic.com/images/branding/gcpiconscolors/vertexai/v1/32px.svg\" alt=\"Vertex AI logo\"><br> Open in Vertex AI Workbench\n",
        "    </a>\n",
        "  </td>    \n",
        "  <td style=\"text-align: center\">\n",
        "    <a href=\"https://github.com/smvinodkumar910/market-mirror/blob/main/backend/03_processing_data_01.ipynb\">\n",
        "      <img width=\"32px\" src=\"https://www.svgrepo.com/download/475654/github-color.svg\" alt=\"GitHub logo\"><br> View on GitHub\n",
        "    </a>\n",
        "  </td>\n",
        "</table>"
      ]
    },
    {
      "cell_type": "markdown",
      "metadata": {},
      "source": [
        "### Authenticate your notebook environment (Colab only)\n",
        "\n",
        "If you are running this notebook on Google Colab, run the following cell to authenticate your environment."
      ]
    },
    {
      "cell_type": "code",
      "execution_count": null,
      "metadata": {},
      "outputs": [],
      "source": [
        "import sys\n",
        "\n",
        "if \"google.colab\" in sys.modules:\n",
        "    # Support for third party widgets\n",
        "    from google.colab import auth, output\n",
        "\n",
        "    auth.authenticate_user()\n",
        "    output.enable_custom_widget_manager()"
      ]
    },
    {
      "cell_type": "markdown",
      "metadata": {
        "id": "3ndNfYIQ67sc"
      },
      "source": [
        "### Setting-up Environment"
      ]
    },
    {
      "cell_type": "markdown",
      "metadata": {},
      "source": [
        "* Please change the variables `PROJECT_ID`, `BUCKET_NAME`, `LOCATION` details to your own project as required."
      ]
    },
    {
      "cell_type": "code",
      "execution_count": 1,
      "metadata": {
        "executionInfo": {
          "elapsed": 7,
          "status": "ok",
          "timestamp": 1755632316363,
          "user": {
            "displayName": "",
            "userId": ""
          },
          "user_tz": -330
        },
        "id": "X_Bg5Xjl6as8"
      },
      "outputs": [],
      "source": [
        "import os\n",
        "\n",
        "PROJECT_ID = \"market-mirror-dev\"  # @param {type: \"string\", placeholder: \"[your-project-id]\", isTemplate: true}\n",
        "BUCKET_NAME = \"marke-mirror-dev-data\"  # @param {type: \"string\", placeholder: \"[your-bucket-name]\", isTemplate: true}\n",
        "LOCATION = \"US\"  # @param {type: \"string\", placeholder: \"[your-region]\", isTemplate: true}\n",
        "if not PROJECT_ID or PROJECT_ID == \"[your-project-id]\":\n",
        "    PROJECT_ID = str(os.environ.get(\"GOOGLE_CLOUD_PROJECT\"))\n",
        "\n",
        "if not LOCATION or LOCATION == \"[your-region]\":\n",
        "    LOCATION = os.environ.get(\"GOOGLE_CLOUD_REGION\", \"US\")\n"
      ]
    },
    {
      "cell_type": "code",
      "execution_count": 2,
      "metadata": {
        "executionInfo": {
          "elapsed": 6,
          "status": "ok",
          "timestamp": 1755632316363,
          "user": {
            "displayName": "",
            "userId": ""
          },
          "user_tz": -330
        },
        "id": "n5u2Bm4R6vLz"
      },
      "outputs": [],
      "source": [
        "os.environ['GOOGLE_CLOUD_PROJECT'] = PROJECT_ID\n",
        "os.environ['GOOGLE_CLOUD_REGION'] = LOCATION"
      ]
    },
    {
      "cell_type": "code",
      "execution_count": 3,
      "metadata": {
        "executionInfo": {
          "elapsed": 6,
          "status": "ok",
          "timestamp": 1755632316363,
          "user": {
            "displayName": "",
            "userId": ""
          },
          "user_tz": -330
        },
        "id": "iU9p4kPj6xdN"
      },
      "outputs": [],
      "source": [
        "BQ_BRONZE_DATASET = \"APP_MARKET_BRONZE\" # @param {type: \"string\", placeholder: \"[bronze-dataset]\", isTemplate: true}\n",
        "BQ_SILVER_DATASET = \"APP_MARKET_SILVER\" # @param {type: \"string\", placeholder: \"[silver-dataset]\", isTemplate: true}\n",
        "BQ_GOLD_DATASET = \"APP_MARKET_GOLD\" # @param {type: \"string\", placeholder: \"[gold-dataset]\", isTemplate: true}"
      ]
    },
    {
      "cell_type": "code",
      "execution_count": null,
      "metadata": {
        "executionInfo": {
          "elapsed": 4967,
          "status": "ok",
          "timestamp": 1755632321324,
          "user": {
            "displayName": "",
            "userId": ""
          },
          "user_tz": -330
        },
        "id": "Dl2HPVoJ7BSn"
      },
      "outputs": [],
      "source": [
        "import bigframes.pandas as bpd\n",
        "import bigframes.bigquery as bbq\n",
        "from bigframes.ml import llm\n",
        "\n",
        "bpd.options.bigquery.project = PROJECT_ID\n",
        "bpd.options.bigquery.location = LOCATION"
      ]
    },
    {
      "cell_type": "code",
      "execution_count": null,
      "metadata": {
        "colab": {
          "base_uri": "https://localhost:8080/",
          "height": 34
        },
        "executionInfo": {
          "elapsed": 1987,
          "status": "ok",
          "timestamp": 1755632323307,
          "user": {
            "displayName": "",
            "userId": ""
          },
          "user_tz": -330
        },
        "id": "xYrZy7K0LE4P",
        "outputId": "5f180747-8c4c-4016-fbd6-2ec2c39065a9"
      },
      "outputs": [
        {
          "data": {
            "text/html": [
              "Query job 569e2901-e8d1-4a3b-b3b4-bd5be3c612e0 is DONE. 0 Bytes processed. <a target=\"_blank\" href=\"https://console.cloud.google.com/bigquery?project=market-mirror-dev&j=bq:US:569e2901-e8d1-4a3b-b3b4-bd5be3c612e0&page=queryresults\">Open Job</a>"
            ],
            "text/plain": [
              "<IPython.core.display.HTML object>"
            ]
          },
          "metadata": {},
          "output_type": "display_data"
        }
      ],
      "source": [
        "# Read reviews table from SILVER layer\n",
        "review_df = bpd.read_gbq(f'{PROJECT_ID}.{BQ_SILVER_DATASET}.T_APP_REVIEWS')"
      ]
    },
    {
      "cell_type": "code",
      "execution_count": 6,
      "metadata": {
        "colab": {
          "base_uri": "https://localhost:8080/"
        },
        "executionInfo": {
          "elapsed": 3082,
          "status": "ok",
          "timestamp": 1755632326386,
          "user": {
            "displayName": "",
            "userId": ""
          },
          "user_tz": -330
        },
        "id": "acJVuhAMLV4o",
        "outputId": "629c247b-12b3-4a90-9463-dee90177060f"
      },
      "outputs": [
        {
          "name": "stdout",
          "output_type": "stream",
          "text": [
            "<class 'bigframes.dataframe.DataFrame'>\n",
            "Index: 69183 entries, 0 to 69182\n",
            "Data columns (total 6 columns):\n",
            "  #  Column       Non-Null Count    Dtype\n",
            "---  -----------  ----------------  -------\n",
            "  0  id           4888 non-null     Int64\n",
            "  1  app_name     69183 non-null    string\n",
            "  2  app_genre    3018 non-null     string\n",
            "  3  review_text  42315 non-null    string\n",
            "  4  rating       4888 non-null     Int64\n",
            "  5  sentiment    37432 non-null    string\n",
            "dtypes: Int64(2), string(4)\n",
            "memory usage: 3874248 bytes\n"
          ]
        }
      ],
      "source": [
        "review_df.info()"
      ]
    },
    {
      "cell_type": "code",
      "execution_count": 7,
      "metadata": {
        "colab": {
          "base_uri": "https://localhost:8080/",
          "height": 173
        },
        "executionInfo": {
          "elapsed": 8145,
          "status": "ok",
          "timestamp": 1755632334529,
          "user": {
            "displayName": "",
            "userId": ""
          },
          "user_tz": -330
        },
        "id": "Ol6Vi7kxL7Ws",
        "outputId": "28676b1b-e80e-4ad0-985c-53c9783c2dee"
      },
      "outputs": [
        {
          "data": {
            "text/html": [
              "Query job 71eaf200-8fcc-4f59-9484-6cb4536a60e0 is DONE. 8.3 MB processed. <a target=\"_blank\" href=\"https://console.cloud.google.com/bigquery?project=market-mirror-dev&j=bq:US:71eaf200-8fcc-4f59-9484-6cb4536a60e0&page=queryresults\">Open Job</a>"
            ],
            "text/plain": [
              "<IPython.core.display.HTML object>"
            ]
          },
          "metadata": {},
          "output_type": "display_data"
        },
        {
          "data": {
            "text/html": [
              "Query job 35823b35-02ed-4b32-a1ae-4aa1eab64352 is DONE. 153 Bytes processed. <a target=\"_blank\" href=\"https://console.cloud.google.com/bigquery?project=market-mirror-dev&j=bq:US:35823b35-02ed-4b32-a1ae-4aa1eab64352&page=queryresults\">Open Job</a>"
            ],
            "text/plain": [
              "<IPython.core.display.HTML object>"
            ]
          },
          "metadata": {},
          "output_type": "display_data"
        },
        {
          "data": {
            "text/plain": [
              "id             64295\n",
              "app_name           0\n",
              "app_genre      66165\n",
              "review_text    26868\n",
              "rating         64295\n",
              "sentiment      31751\n",
              "dtype: Int64"
            ]
          },
          "execution_count": 7,
          "metadata": {},
          "output_type": "execute_result"
        }
      ],
      "source": [
        "review_df.isna().sum()"
      ]
    },
    {
      "cell_type": "markdown",
      "metadata": {},
      "source": [
        "* Above details  shows that `app_name` column only not null. All other column have null. We need to fix these by,\n",
        "\n",
        "1. `id` - we can generate owr own unique id.\n",
        "2. `app_genre`- we can get `app_genre` from the Goole Product details table we have in SILVER layer\n",
        "    We can use Bigquery GenAI functions to predict `app_genre` based on app description or app name.\n",
        "3. `review_text` - The whole point of having this table is to understand users sentiment. records having Null review_text is useless for us. We can remove these records.\n",
        "4. ratings - \n",
        "5. sentiment - we can utilize Bigquery GenAI functions to generate Sentiment of the review."
      ]
    },
    {
      "cell_type": "code",
      "execution_count": null,
      "metadata": {
        "executionInfo": {
          "elapsed": 5,
          "status": "ok",
          "timestamp": 1755632334529,
          "user": {
            "displayName": "",
            "userId": ""
          },
          "user_tz": -330
        },
        "id": "Dmx-51IRMolS"
      },
      "outputs": [],
      "source": [
        "# Removing the records where review_text is null.\n",
        "review_df_removed_null_review = review_df[~review_df['review_text'].isna()]"
      ]
    },
    {
      "cell_type": "code",
      "execution_count": 9,
      "metadata": {
        "colab": {
          "base_uri": "https://localhost:8080/",
          "height": 173
        },
        "executionInfo": {
          "elapsed": 7913,
          "status": "ok",
          "timestamp": 1755632342439,
          "user": {
            "displayName": "",
            "userId": ""
          },
          "user_tz": -330
        },
        "id": "X-4tVq2JM5oS",
        "outputId": "1376eca3-61cb-47d1-a034-0e6374ecb8bd"
      },
      "outputs": [
        {
          "data": {
            "text/html": [
              "Query job ae1ffb2c-a695-459b-9228-06b9a6cb7367 is DONE. 8.3 MB processed. <a target=\"_blank\" href=\"https://console.cloud.google.com/bigquery?project=market-mirror-dev&j=bq:US:ae1ffb2c-a695-459b-9228-06b9a6cb7367&page=queryresults\">Open Job</a>"
            ],
            "text/plain": [
              "<IPython.core.display.HTML object>"
            ]
          },
          "metadata": {},
          "output_type": "display_data"
        },
        {
          "data": {
            "text/html": [
              "Query job a409312a-7610-452b-8f00-31ba5068b505 is DONE. 153 Bytes processed. <a target=\"_blank\" href=\"https://console.cloud.google.com/bigquery?project=market-mirror-dev&j=bq:US:a409312a-7610-452b-8f00-31ba5068b505&page=queryresults\">Open Job</a>"
            ],
            "text/plain": [
              "<IPython.core.display.HTML object>"
            ]
          },
          "metadata": {},
          "output_type": "display_data"
        },
        {
          "data": {
            "text/plain": [
              "id             37427\n",
              "app_name           0\n",
              "app_genre      39297\n",
              "review_text        0\n",
              "rating         37427\n",
              "sentiment       4888\n",
              "dtype: Int64"
            ]
          },
          "execution_count": 9,
          "metadata": {},
          "output_type": "execute_result"
        }
      ],
      "source": [
        "review_df_removed_null_review.isna().sum()"
      ]
    },
    {
      "cell_type": "markdown",
      "metadata": {},
      "source": [
        "* Fixing the `app_genre` column"
      ]
    },
    {
      "cell_type": "code",
      "execution_count": null,
      "metadata": {
        "executionInfo": {
          "elapsed": 998,
          "status": "ok",
          "timestamp": 1755632343434,
          "user": {
            "displayName": "",
            "userId": ""
          },
          "user_tz": -330
        },
        "id": "Ye8fHidnNowp"
      },
      "outputs": [],
      "source": [
        "#Reading Google app details table from SILVER layer\n",
        "google_apps_df = bpd.read_gbq(f'{PROJECT_ID}.{BQ_SILVER_DATASET}.T_GOOGLE_APP_DETAILS',\n",
        "                              columns=['title','genre']).drop_duplicates()"
      ]
    },
    {
      "cell_type": "code",
      "execution_count": null,
      "metadata": {
        "executionInfo": {
          "elapsed": 3,
          "status": "ok",
          "timestamp": 1755632343434,
          "user": {
            "displayName": "",
            "userId": ""
          },
          "user_tz": -330
        },
        "id": "v09Hf5t5ORkU"
      },
      "outputs": [],
      "source": [
        "#left join the review table and product details table \n",
        "review_df_removed_null_review['join']= review_df_removed_null_review.app_name.str.strip().str.lower()\n",
        "google_apps_df['join']= google_apps_df.title.str.strip().str.lower()\n",
        "merged_review_df = bpd.merge(review_df_removed_null_review, google_apps_df, on='join', how='left')"
      ]
    },
    {
      "cell_type": "code",
      "execution_count": null,
      "metadata": {
        "executionInfo": {
          "elapsed": 2,
          "status": "ok",
          "timestamp": 1755632343434,
          "user": {
            "displayName": "",
            "userId": ""
          },
          "user_tz": -330
        },
        "id": "MO8VrrKnPdua"
      },
      "outputs": [],
      "source": [
        "# Update the `app_genre` field with the `genre` column from the Goole app details dataset\n",
        "merged_review_df['app_genre'] = merged_review_df['app_genre'].fillna(merged_review_df['genre'])"
      ]
    },
    {
      "cell_type": "code",
      "execution_count": 13,
      "metadata": {
        "colab": {
          "base_uri": "https://localhost:8080/",
          "height": 225
        },
        "executionInfo": {
          "elapsed": 8163,
          "status": "ok",
          "timestamp": 1755632351595,
          "user": {
            "displayName": "",
            "userId": ""
          },
          "user_tz": -330
        },
        "id": "ou3quvPUP0Mn",
        "outputId": "052a1b85-4ec1-4c71-c539-c065b3d0d015"
      },
      "outputs": [
        {
          "data": {
            "text/html": [
              "Query job 40d59edf-762b-424d-bbf5-25c89ef3b29c is DONE. 8.8 MB processed. <a target=\"_blank\" href=\"https://console.cloud.google.com/bigquery?project=market-mirror-dev&j=bq:US:40d59edf-762b-424d-bbf5-25c89ef3b29c&page=queryresults\">Open Job</a>"
            ],
            "text/plain": [
              "<IPython.core.display.HTML object>"
            ]
          },
          "metadata": {},
          "output_type": "display_data"
        },
        {
          "data": {
            "text/html": [
              "Query job c626b670-041b-43bf-9de3-fec49fca102a is DONE. 221 Bytes processed. <a target=\"_blank\" href=\"https://console.cloud.google.com/bigquery?project=market-mirror-dev&j=bq:US:c626b670-041b-43bf-9de3-fec49fca102a&page=queryresults\">Open Job</a>"
            ],
            "text/plain": [
              "<IPython.core.display.HTML object>"
            ]
          },
          "metadata": {},
          "output_type": "display_data"
        },
        {
          "data": {
            "text/plain": [
              "id             37581\n",
              "app_name           0\n",
              "app_genre      38535\n",
              "review_text        0\n",
              "rating         37581\n",
              "sentiment       4891\n",
              "join               0\n",
              "title          41406\n",
              "genre          41406\n",
              "dtype: Int64"
            ]
          },
          "execution_count": 13,
          "metadata": {},
          "output_type": "execute_result"
        }
      ],
      "source": [
        "merged_review_df.isna().sum()"
      ]
    },
    {
      "cell_type": "markdown",
      "metadata": {},
      "source": [
        "* Even after updating based on App_name, we can see that still 38k+ records having null `app_genre`\n",
        "* We can utilize the ML Functions in Bigquery to enrich the dataset."
      ]
    },
    {
      "cell_type": "code",
      "execution_count": null,
      "metadata": {
        "executionInfo": {
          "elapsed": 867,
          "status": "ok",
          "timestamp": 1755632352459,
          "user": {
            "displayName": "",
            "userId": ""
          },
          "user_tz": -330
        },
        "id": "ePpN-xrS6GqL"
      },
      "outputs": [],
      "source": [
        "# collecting the unique list of genres available from google app details dataseet\n",
        "genre_list = google_apps_df.genre.drop_duplicates().to_list()"
      ]
    },
    {
      "cell_type": "code",
      "execution_count": 15,
      "metadata": {
        "executionInfo": {
          "elapsed": 2483,
          "status": "ok",
          "timestamp": 1755632354940,
          "user": {
            "displayName": "",
            "userId": ""
          },
          "user_tz": -330
        },
        "id": "R8vRKKf061CM"
      },
      "outputs": [],
      "source": [
        "genre_list.extend(merged_review_df[~merged_review_df.app_genre.isna()].app_genre.drop_duplicates().to_list())"
      ]
    },
    {
      "cell_type": "code",
      "execution_count": 16,
      "metadata": {
        "executionInfo": {
          "elapsed": 6,
          "status": "ok",
          "timestamp": 1755632354941,
          "user": {
            "displayName": "",
            "userId": ""
          },
          "user_tz": -330
        },
        "id": "6axMTEIv6_JM"
      },
      "outputs": [],
      "source": [
        "genre_list = list(set(genre_list))"
      ]
    },
    {
      "cell_type": "code",
      "execution_count": null,
      "metadata": {
        "colab": {
          "base_uri": "https://localhost:8080/"
        },
        "executionInfo": {
          "elapsed": 6,
          "status": "ok",
          "timestamp": 1755632354941,
          "user": {
            "displayName": "",
            "userId": ""
          },
          "user_tz": -330
        },
        "id": "3O8dXvXm7Qh4",
        "outputId": "4ae3fc88-8e6d-4fae-a63f-38c54d2cacc1"
      },
      "outputs": [
        {
          "data": {
            "text/plain": [
              "49"
            ]
          },
          "execution_count": 17,
          "metadata": {},
          "output_type": "execute_result"
        }
      ],
      "source": [
        "# We have 49 unique genere available\n",
        "len(genre_list)"
      ]
    },
    {
      "cell_type": "code",
      "execution_count": null,
      "metadata": {
        "executionInfo": {
          "elapsed": 5,
          "status": "ok",
          "timestamp": 1755632354941,
          "user": {
            "displayName": "",
            "userId": ""
          },
          "user_tz": -330
        },
        "id": "TAO3DnruBAw3"
      },
      "outputs": [],
      "source": [
        "# converting the list of Genre into a String joined by ','\n",
        "genre_list_concat = ','.join(genre_list)"
      ]
    },
    {
      "cell_type": "code",
      "execution_count": null,
      "metadata": {
        "executionInfo": {
          "elapsed": 4,
          "status": "ok",
          "timestamp": 1755632354941,
          "user": {
            "displayName": "",
            "userId": ""
          },
          "user_tz": -330
        },
        "id": "3NhoPnxJkT9_"
      },
      "outputs": [],
      "source": [
        "# Getting the unique list of APPs without genre informationn in the review table\n",
        "unique_apps_without_genre = merged_review_df[merged_review_df.app_genre.isna()].app_name.drop_duplicates().to_frame(name='app_name')"
      ]
    },
    {
      "cell_type": "code",
      "execution_count": null,
      "metadata": {
        "executionInfo": {
          "elapsed": 812,
          "status": "ok",
          "timestamp": 1755633003243,
          "user": {
            "displayName": "",
            "userId": ""
          },
          "user_tz": -330
        },
        "id": "TjU9hyCREdIn"
      },
      "outputs": [],
      "source": [
        "# Creating a prompt column in the dataframe for GenAI processing\n",
        "unique_apps_without_genre['prompt'] =\"\"\"predict which genre the given app belongs to.Pick the most possible genre.\n",
        "app_name : \"\"\"+ unique_apps_without_genre.app_name + \"\"\"\n",
        "Reply with just the genre predicted for the given app name. genre can be any one from the following list - genre_list:\"\"\" + genre_list_concat"
      ]
    },
    {
      "cell_type": "code",
      "execution_count": null,
      "metadata": {
        "colab": {
          "base_uri": "https://localhost:8080/",
          "height": 357
        },
        "executionInfo": {
          "elapsed": 5672,
          "status": "ok",
          "timestamp": 1755632440200,
          "user": {
            "displayName": "",
            "userId": ""
          },
          "user_tz": -330
        },
        "id": "H-DwY35OlxOM",
        "outputId": "4e3645b2-0592-40fc-da2f-4c371b8149df"
      },
      "outputs": [
        {
          "data": {
            "text/html": [
              "Query job 80bb8c44-ec76-4532-851b-1930e7feb12e is DONE. 8.8 MB processed. <a target=\"_blank\" href=\"https://console.cloud.google.com/bigquery?project=market-mirror-dev&j=bq:US:80bb8c44-ec76-4532-851b-1930e7feb12e&page=queryresults\">Open Job</a>"
            ],
            "text/plain": [
              "<IPython.core.display.HTML object>"
            ]
          },
          "metadata": {},
          "output_type": "display_data"
        },
        {
          "data": {
            "text/html": [
              "<div>\n",
              "<style scoped>\n",
              "    .dataframe tbody tr th:only-of-type {\n",
              "        vertical-align: middle;\n",
              "    }\n",
              "\n",
              "    .dataframe tbody tr th {\n",
              "        vertical-align: top;\n",
              "    }\n",
              "\n",
              "    .dataframe thead th {\n",
              "        text-align: right;\n",
              "    }\n",
              "</style>\n",
              "<table border=\"1\" class=\"dataframe\">\n",
              "  <thead>\n",
              "    <tr style=\"text-align: right;\">\n",
              "      <th></th>\n",
              "      <th>app_name</th>\n",
              "      <th>prompt</th>\n",
              "    </tr>\n",
              "  </thead>\n",
              "  <tbody>\n",
              "    <tr>\n",
              "      <th>0</th>\n",
              "      <td>BEST CAR SOUNDS</td>\n",
              "      <td>predict which genre the given app belongs to.\n",
              "...</td>\n",
              "    </tr>\n",
              "    <tr>\n",
              "      <th>1</th>\n",
              "      <td>BeyondMenu Food Delivery</td>\n",
              "      <td>predict which genre the given app belongs to.\n",
              "...</td>\n",
              "    </tr>\n",
              "    <tr>\n",
              "      <th>2</th>\n",
              "      <td>591房屋交易-租屋、中古屋、新建案、實價登錄、別墅透天、公寓套房、捷運、買房賣房行情、房價...</td>\n",
              "      <td>predict which genre the given app belongs to.\n",
              "...</td>\n",
              "    </tr>\n",
              "    <tr>\n",
              "      <th>4</th>\n",
              "      <td>Calorie Counter &amp; Diet Tracker</td>\n",
              "      <td>predict which genre the given app belongs to.\n",
              "...</td>\n",
              "    </tr>\n",
              "    <tr>\n",
              "      <th>5</th>\n",
              "      <td>Foursquare Swarm: Check In</td>\n",
              "      <td>predict which genre the given app belongs to.\n",
              "...</td>\n",
              "    </tr>\n",
              "  </tbody>\n",
              "</table>\n",
              "<p>5 rows × 2 columns</p>\n",
              "</div>[5 rows x 2 columns in total]"
            ],
            "text/plain": [
              "                                            app_name  \\\n",
              "0                                    BEST CAR SOUNDS   \n",
              "1                           BeyondMenu Food Delivery   \n",
              "2  591房屋交易-租屋、中古屋、新建案、實價登錄、別墅透天、公寓套房、捷運、買房賣房行情、房價...   \n",
              "4                     Calorie Counter & Diet Tracker   \n",
              "5                         Foursquare Swarm: Check In   \n",
              "\n",
              "                                              prompt  \n",
              "0  predict which genre the given app belongs to.\n",
              "...  \n",
              "1  predict which genre the given app belongs to.\n",
              "...  \n",
              "2  predict which genre the given app belongs to.\n",
              "...  \n",
              "4  predict which genre the given app belongs to.\n",
              "...  \n",
              "5  predict which genre the given app belongs to.\n",
              "...  \n",
              "\n",
              "[5 rows x 2 columns]"
            ]
          },
          "execution_count": 22,
          "metadata": {},
          "output_type": "execute_result"
        }
      ],
      "source": [
        "# view some sample data\n",
        "unique_apps_without_genre[0:5]"
      ]
    },
    {
      "cell_type": "code",
      "execution_count": null,
      "metadata": {
        "colab": {
          "base_uri": "https://localhost:8080/",
          "height": 34
        },
        "executionInfo": {
          "elapsed": 3826,
          "status": "ok",
          "timestamp": 1755632690819,
          "user": {
            "displayName": "",
            "userId": ""
          },
          "user_tz": -330
        },
        "id": "wsuxZXDr8_YS",
        "outputId": "475e11bf-f142-4b7c-94e1-8d7a54e394ee"
      },
      "outputs": [
        {
          "data": {
            "text/html": [
              "Query job cab89e2f-90e7-4215-b496-b0a35b805daa is DONE. 0 Bytes processed. <a target=\"_blank\" href=\"https://console.cloud.google.com/bigquery?project=market-mirror-dev&j=bq:US:cab89e2f-90e7-4215-b496-b0a35b805daa&page=queryresults\">Open Job</a>"
            ],
            "text/plain": [
              "<IPython.core.display.HTML object>"
            ]
          },
          "metadata": {},
          "output_type": "display_data"
        }
      ],
      "source": [
        "# create a model object using llm.GeminiTextGenerator() using the connection we have created already in previous notebook\n",
        "model = llm.GeminiTextGenerator(model_name='gemini-2.0-flash-001', connection_name='us.vertex-remote-models')"
      ]
    },
    {
      "cell_type": "code",
      "execution_count": null,
      "metadata": {
        "colab": {
          "base_uri": "https://localhost:8080/",
          "height": 106
        },
        "executionInfo": {
          "elapsed": 287667,
          "status": "ok",
          "timestamp": 1755633308780,
          "user": {
            "displayName": "",
            "userId": ""
          },
          "user_tz": -330
        },
        "id": "mw11U9YG9eeG",
        "outputId": "7ed21bfd-a1d4-43d9-f3fb-08b9d849b1bd"
      },
      "outputs": [
        {
          "data": {
            "text/html": [
              "Query job 214edbf2-d5c2-430d-8326-71bbfea25c66 is DONE. 8.8 MB processed. <a target=\"_blank\" href=\"https://console.cloud.google.com/bigquery?project=market-mirror-dev&j=bq:US:214edbf2-d5c2-430d-8326-71bbfea25c66&page=queryresults\">Open Job</a>"
            ],
            "text/plain": [
              "<IPython.core.display.HTML object>"
            ]
          },
          "metadata": {},
          "output_type": "display_data"
        },
        {
          "name": "stderr",
          "output_type": "stream",
          "text": [
            "/usr/local/lib/python3.11/dist-packages/bigframes/core/array_value.py:108: PreviewWarning: JSON column interpretation as a custom PyArrow extention in\n",
            "`db_dtypes` is a preview feature and subject to change.\n",
            "  warnings.warn(msg, bfe.PreviewWarning)\n"
          ]
        }
      ],
      "source": [
        "# Executing the model.predict() method with desired output schema to enrich the data with correct app_genre\n",
        "llm_response = model.predict(X=unique_apps_without_genre,\n",
        "              output_schema={'app': 'string', 'app_genre': 'string'})\n"
      ]
    },
    {
      "cell_type": "code",
      "execution_count": null,
      "metadata": {
        "colab": {
          "base_uri": "https://localhost:8080/",
          "height": 530
        },
        "executionInfo": {
          "elapsed": 9910,
          "status": "ok",
          "timestamp": 1755633325847,
          "user": {
            "displayName": "",
            "userId": ""
          },
          "user_tz": -330
        },
        "id": "PDKAnMnVnEWe",
        "outputId": "6c69d2ad-5286-423e-a042-acd9b8125758"
      },
      "outputs": [
        {
          "data": {
            "text/html": [
              "Query job 738d7d22-5457-479d-9c77-4c8686d8d366 is DONE. 1.5 MB processed. <a target=\"_blank\" href=\"https://console.cloud.google.com/bigquery?project=market-mirror-dev&j=bq:US:738d7d22-5457-479d-9c77-4c8686d8d366&page=queryresults\">Open Job</a>"
            ],
            "text/plain": [
              "<IPython.core.display.HTML object>"
            ]
          },
          "metadata": {},
          "output_type": "display_data"
        },
        {
          "data": {
            "text/html": [
              "<div>\n",
              "<style scoped>\n",
              "    .dataframe tbody tr th:only-of-type {\n",
              "        vertical-align: middle;\n",
              "    }\n",
              "\n",
              "    .dataframe tbody tr th {\n",
              "        vertical-align: top;\n",
              "    }\n",
              "\n",
              "    .dataframe thead th {\n",
              "        text-align: right;\n",
              "    }\n",
              "</style>\n",
              "<table border=\"1\" class=\"dataframe\">\n",
              "  <thead>\n",
              "    <tr style=\"text-align: right;\">\n",
              "      <th></th>\n",
              "      <th>app</th>\n",
              "      <th>app_genre</th>\n",
              "      <th>full_response</th>\n",
              "      <th>status</th>\n",
              "      <th>app_name</th>\n",
              "      <th>prompt</th>\n",
              "    </tr>\n",
              "  </thead>\n",
              "  <tbody>\n",
              "    <tr>\n",
              "      <th>0</th>\n",
              "      <td>BEST CAR SOUNDS</td>\n",
              "      <td>Auto &amp; Vehicles</td>\n",
              "      <td>{\"candidates\":[{\"avg_logprobs\":-0.005561906557...</td>\n",
              "      <td></td>\n",
              "      <td>BEST CAR SOUNDS</td>\n",
              "      <td>predict which genre the given app belongs to.P...</td>\n",
              "    </tr>\n",
              "    <tr>\n",
              "      <th>1</th>\n",
              "      <td>BeyondMenu Food Delivery</td>\n",
              "      <td>Food &amp; Drink</td>\n",
              "      <td>{\"candidates\":[{\"avg_logprobs\":-0.000159307383...</td>\n",
              "      <td></td>\n",
              "      <td>BeyondMenu Food Delivery</td>\n",
              "      <td>predict which genre the given app belongs to.P...</td>\n",
              "    </tr>\n",
              "    <tr>\n",
              "      <th>2</th>\n",
              "      <td>591房屋交易-租屋、中古屋、新建案、實價登錄、別墅透天、公寓套房、捷運、買房賣房行情、房價...</td>\n",
              "      <td>House &amp; Home</td>\n",
              "      <td>{\"candidates\":[{\"avg_logprobs\":-1.609029255412...</td>\n",
              "      <td></td>\n",
              "      <td>591房屋交易-租屋、中古屋、新建案、實價登錄、別墅透天、公寓套房、捷運、買房賣房行情、房價...</td>\n",
              "      <td>predict which genre the given app belongs to.P...</td>\n",
              "    </tr>\n",
              "    <tr>\n",
              "      <th>4</th>\n",
              "      <td>&lt;NA&gt;</td>\n",
              "      <td>Health &amp; Fitness</td>\n",
              "      <td>{\"candidates\":[{\"avg_logprobs\":-0.011345310012...</td>\n",
              "      <td></td>\n",
              "      <td>Calorie Counter &amp; Diet Tracker</td>\n",
              "      <td>predict which genre the given app belongs to.P...</td>\n",
              "    </tr>\n",
              "    <tr>\n",
              "      <th>5</th>\n",
              "      <td>Foursquare Swarm: Check In</td>\n",
              "      <td>Social</td>\n",
              "      <td>{\"candidates\":[{\"avg_logprobs\":-0.005781240761...</td>\n",
              "      <td></td>\n",
              "      <td>Foursquare Swarm: Check In</td>\n",
              "      <td>predict which genre the given app belongs to.P...</td>\n",
              "    </tr>\n",
              "  </tbody>\n",
              "</table>\n",
              "<p>5 rows × 6 columns</p>\n",
              "</div>[5 rows x 6 columns in total]"
            ],
            "text/plain": [
              "                                                 app         app_genre  \\\n",
              "0                                    BEST CAR SOUNDS   Auto & Vehicles   \n",
              "1                           BeyondMenu Food Delivery      Food & Drink   \n",
              "2  591房屋交易-租屋、中古屋、新建案、實價登錄、別墅透天、公寓套房、捷運、買房賣房行情、房價...      House & Home   \n",
              "4                                               <NA>  Health & Fitness   \n",
              "5                         Foursquare Swarm: Check In            Social   \n",
              "\n",
              "                                       full_response status  \\\n",
              "0  {\"candidates\":[{\"avg_logprobs\":-0.005561906557...          \n",
              "1  {\"candidates\":[{\"avg_logprobs\":-0.000159307383...          \n",
              "2  {\"candidates\":[{\"avg_logprobs\":-1.609029255412...          \n",
              "4  {\"candidates\":[{\"avg_logprobs\":-0.011345310012...          \n",
              "5  {\"candidates\":[{\"avg_logprobs\":-0.005781240761...          \n",
              "\n",
              "                                            app_name  \\\n",
              "0                                    BEST CAR SOUNDS   \n",
              "1                           BeyondMenu Food Delivery   \n",
              "2  591房屋交易-租屋、中古屋、新建案、實價登錄、別墅透天、公寓套房、捷運、買房賣房行情、房價...   \n",
              "4                     Calorie Counter & Diet Tracker   \n",
              "5                         Foursquare Swarm: Check In   \n",
              "\n",
              "                                              prompt  \n",
              "0  predict which genre the given app belongs to.P...  \n",
              "1  predict which genre the given app belongs to.P...  \n",
              "2  predict which genre the given app belongs to.P...  \n",
              "4  predict which genre the given app belongs to.P...  \n",
              "5  predict which genre the given app belongs to.P...  \n",
              "\n",
              "[5 rows x 6 columns]"
            ]
          },
          "execution_count": 33,
          "metadata": {},
          "output_type": "execute_result"
        }
      ],
      "source": [
        "# view the sample response generated\n",
        "llm_response.head()"
      ]
    },
    {
      "cell_type": "code",
      "execution_count": null,
      "metadata": {
        "executionInfo": {
          "elapsed": 2,
          "status": "ok",
          "timestamp": 1755633348093,
          "user": {
            "displayName": "",
            "userId": ""
          },
          "user_tz": -330
        },
        "id": "fhPsZBvfnNCv"
      },
      "outputs": [],
      "source": [
        "# Extract the output information from llm response as a dataframe\n",
        "llm_response_subset = llm_response[['app_name','app_genre']]\n",
        "llm_response_subset = llm_response_subset.rename(columns={'app_genre':'app_genre_llm'})"
      ]
    },
    {
      "cell_type": "code",
      "execution_count": null,
      "metadata": {
        "executionInfo": {
          "elapsed": 752,
          "status": "ok",
          "timestamp": 1755633743861,
          "user": {
            "displayName": "",
            "userId": ""
          },
          "user_tz": -330
        },
        "id": "Sxsu7a19nXaR"
      },
      "outputs": [],
      "source": [
        "# join the response provided by llm with the review dataframe\n",
        "merged_review_df_with_genre = bpd.merge(merged_review_df,llm_response_subset,on='app_name',how='left')\n"
      ]
    },
    {
      "cell_type": "code",
      "execution_count": null,
      "metadata": {
        "executionInfo": {
          "elapsed": 2,
          "status": "ok",
          "timestamp": 1755633747753,
          "user": {
            "displayName": "",
            "userId": ""
          },
          "user_tz": -330
        },
        "id": "Sixi6kC6oTGa"
      },
      "outputs": [],
      "source": [
        "# Update the `app_genre` field where its null using the app_genre provided by llm\n",
        "merged_review_df_with_genre['app_genre'] = merged_review_df_with_genre['app_genre'].fillna(merged_review_df_with_genre['app_genre_llm'])"
      ]
    },
    {
      "cell_type": "code",
      "execution_count": 50,
      "metadata": {
        "colab": {
          "base_uri": "https://localhost:8080/",
          "height": 243
        },
        "executionInfo": {
          "elapsed": 9109,
          "status": "ok",
          "timestamp": 1755633764653,
          "user": {
            "displayName": "",
            "userId": ""
          },
          "user_tz": -330
        },
        "id": "AgkMP0Y-npCU",
        "outputId": "c3478fa5-a2fd-4399-acff-45438745da2c"
      },
      "outputs": [
        {
          "data": {
            "text/html": [
              "Query job c04f18db-4b76-4d44-971d-64e08f025fab is DONE. 8.8 MB processed. <a target=\"_blank\" href=\"https://console.cloud.google.com/bigquery?project=market-mirror-dev&j=bq:US:c04f18db-4b76-4d44-971d-64e08f025fab&page=queryresults\">Open Job</a>"
            ],
            "text/plain": [
              "<IPython.core.display.HTML object>"
            ]
          },
          "metadata": {},
          "output_type": "display_data"
        },
        {
          "data": {
            "text/html": [
              "Query job ae5b6fa3-33cc-4de9-9a9b-251d2b8a2a82 is DONE. 252 Bytes processed. <a target=\"_blank\" href=\"https://console.cloud.google.com/bigquery?project=market-mirror-dev&j=bq:US:ae5b6fa3-33cc-4de9-9a9b-251d2b8a2a82&page=queryresults\">Open Job</a>"
            ],
            "text/plain": [
              "<IPython.core.display.HTML object>"
            ]
          },
          "metadata": {},
          "output_type": "display_data"
        },
        {
          "data": {
            "text/plain": [
              "id               37581\n",
              "app_name             0\n",
              "app_genre            0\n",
              "review_text          0\n",
              "rating           37581\n",
              "sentiment         4891\n",
              "join                 0\n",
              "title            41406\n",
              "genre            41406\n",
              "app_genre_llm     3850\n",
              "dtype: Int64"
            ]
          },
          "execution_count": 50,
          "metadata": {},
          "output_type": "execute_result"
        }
      ],
      "source": [
        "merged_review_df_with_genre.isna().sum()"
      ]
    },
    {
      "cell_type": "code",
      "execution_count": null,
      "metadata": {
        "executionInfo": {
          "elapsed": 762,
          "status": "ok",
          "timestamp": 1755633773357,
          "user": {
            "displayName": "",
            "userId": ""
          },
          "user_tz": -330
        },
        "id": "mq7BhepCoftF"
      },
      "outputs": [],
      "source": [
        "# Finallly we can see `app_genre` field is fixed, without any null records\n",
        "# Now we can remove unnecessary columns from the dataframe\n",
        "merged_review_df_with_genre = merged_review_df_with_genre.drop(columns=['rating','join','title','genre','app_genre_llm'])\n",
        "\n"
      ]
    },
    {
      "cell_type": "code",
      "execution_count": null,
      "metadata": {
        "colab": {
          "base_uri": "https://localhost:8080/",
          "height": 53
        },
        "executionInfo": {
          "elapsed": 4540,
          "status": "ok",
          "timestamp": 1755633785029,
          "user": {
            "displayName": "",
            "userId": ""
          },
          "user_tz": -330
        },
        "id": "BPC-rTBi6ElY",
        "outputId": "2fb1bad0-25ca-4984-9db9-bb86b49c60e5"
      },
      "outputs": [
        {
          "data": {
            "text/html": [
              "Query job e8ca80ee-4318-4342-aacc-6f6d3268d7bb is DONE. 8.8 MB processed. <a target=\"_blank\" href=\"https://console.cloud.google.com/bigquery?project=market-mirror-dev&j=bq:US:e8ca80ee-4318-4342-aacc-6f6d3268d7bb&page=queryresults\">Open Job</a>"
            ],
            "text/plain": [
              "<IPython.core.display.HTML object>"
            ]
          },
          "metadata": {},
          "output_type": "display_data"
        },
        {
          "data": {
            "application/vnd.google.colaboratory.intrinsic+json": {
              "type": "string"
            },
            "text/plain": [
              "'market-mirror-dev.APP_MARKET_SILVER.T_APP_REVIEWS_CLEANED'"
            ]
          },
          "execution_count": 52,
          "metadata": {},
          "output_type": "execute_result"
        }
      ],
      "source": [
        "#Write the cleaned app_review table to BQ SILVER layer with prefixed _CLEANED \n",
        "merged_review_df_with_genre.to_gbq(destination_table=f\"{PROJECT_ID}.{BQ_SILVER_DATASET}.T_APP_REVIEWS_CLEANED\",if_exists='replace')"
      ]
    },
    {
      "cell_type": "code",
      "execution_count": 53,
      "metadata": {
        "colab": {
          "base_uri": "https://localhost:8080/",
          "height": 156
        },
        "executionInfo": {
          "elapsed": 8460,
          "status": "ok",
          "timestamp": 1755633799470,
          "user": {
            "displayName": "",
            "userId": ""
          },
          "user_tz": -330
        },
        "id": "gUt3On4Rpulx",
        "outputId": "f24b419c-179a-4ebf-a7f0-82bb399c5f3b"
      },
      "outputs": [
        {
          "data": {
            "text/html": [
              "Query job 8f9026af-3052-4070-a4eb-49cd26c41ecd is DONE. 8.8 MB processed. <a target=\"_blank\" href=\"https://console.cloud.google.com/bigquery?project=market-mirror-dev&j=bq:US:8f9026af-3052-4070-a4eb-49cd26c41ecd&page=queryresults\">Open Job</a>"
            ],
            "text/plain": [
              "<IPython.core.display.HTML object>"
            ]
          },
          "metadata": {},
          "output_type": "display_data"
        },
        {
          "data": {
            "text/html": [
              "Query job 2ef19d9c-7cad-40e2-ab95-d50338309875 is DONE. 129 Bytes processed. <a target=\"_blank\" href=\"https://console.cloud.google.com/bigquery?project=market-mirror-dev&j=bq:US:2ef19d9c-7cad-40e2-ab95-d50338309875&page=queryresults\">Open Job</a>"
            ],
            "text/plain": [
              "<IPython.core.display.HTML object>"
            ]
          },
          "metadata": {},
          "output_type": "display_data"
        },
        {
          "data": {
            "text/plain": [
              "id             37581\n",
              "app_name           0\n",
              "app_genre          0\n",
              "review_text        0\n",
              "sentiment       4891\n",
              "dtype: Int64"
            ]
          },
          "execution_count": 53,
          "metadata": {},
          "output_type": "execute_result"
        }
      ],
      "source": [
        "merged_review_df_with_genre.isna().sum()"
      ]
    },
    {
      "cell_type": "markdown",
      "metadata": {},
      "source": [
        "* With the above results, we can see that, sentiment is null for 4k+ records. We need to utilize BQ Ml functions to get sentiment for those reviews.\n",
        "* Also, the id column is null, for 37k+ records, we can genreate out id for the same."
      ]
    },
    {
      "cell_type": "code",
      "execution_count": null,
      "metadata": {
        "executionInfo": {
          "elapsed": 4,
          "status": "ok",
          "timestamp": 1755633828198,
          "user": {
            "displayName": "",
            "userId": ""
          },
          "user_tz": -330
        },
        "id": "W1NU3pCCwCi4"
      },
      "outputs": [],
      "source": [
        "# reset index to apply to the `id` column\n",
        "merged_review_df_with_genre = merged_review_df_with_genre.reset_index()\n",
        "merged_review_df_with_genre = merged_review_df_with_genre.drop(columns=['id']).rename(columns={'index':'id'})"
      ]
    },
    {
      "cell_type": "code",
      "execution_count": null,
      "metadata": {
        "colab": {
          "base_uri": "https://localhost:8080/",
          "height": 53
        },
        "executionInfo": {
          "elapsed": 6213,
          "status": "ok",
          "timestamp": 1755633842747,
          "user": {
            "displayName": "",
            "userId": ""
          },
          "user_tz": -330
        },
        "id": "49ahiRRFwVRe",
        "outputId": "af61fed4-ee86-4879-ad05-e18c960ae5d9"
      },
      "outputs": [
        {
          "data": {
            "text/html": [
              "Query job 78bba642-1d0f-4b50-b963-56a47372b44c is DONE. 16.9 MB processed. <a target=\"_blank\" href=\"https://console.cloud.google.com/bigquery?project=market-mirror-dev&j=bq:US:78bba642-1d0f-4b50-b963-56a47372b44c&page=queryresults\">Open Job</a>"
            ],
            "text/plain": [
              "<IPython.core.display.HTML object>"
            ]
          },
          "metadata": {},
          "output_type": "display_data"
        },
        {
          "data": {
            "application/vnd.google.colaboratory.intrinsic+json": {
              "type": "string"
            },
            "text/plain": [
              "'market-mirror-dev.APP_MARKET_SILVER.T_APP_REVIEWS_CLEANED'"
            ]
          },
          "execution_count": 55,
          "metadata": {},
          "output_type": "execute_result"
        }
      ],
      "source": [
        "# Write the results to BQ silver layer\n",
        "merged_review_df_with_genre.to_gbq(destination_table=f\"{PROJECT_ID}.{BQ_SILVER_DATASET}.T_APP_REVIEWS_CLEANED\", if_exists='replace')"
      ]
    },
    {
      "cell_type": "code",
      "execution_count": 47,
      "metadata": {
        "colab": {
          "base_uri": "https://localhost:8080/",
          "height": 138
        },
        "executionInfo": {
          "elapsed": 8557,
          "status": "ok",
          "timestamp": 1755633543895,
          "user": {
            "displayName": "",
            "userId": ""
          },
          "user_tz": -330
        },
        "id": "CBmAFejqueVV",
        "outputId": "63c3b393-6822-4d9c-b8a3-c8afa338e88f"
      },
      "outputs": [
        {
          "data": {
            "text/html": [
              "Query job b7304445-3a02-4e3b-8419-0d4fe45e0a9f is DONE. 8.7 MB processed. <a target=\"_blank\" href=\"https://console.cloud.google.com/bigquery?project=market-mirror-dev&j=bq:US:b7304445-3a02-4e3b-8419-0d4fe45e0a9f&page=queryresults\">Open Job</a>"
            ],
            "text/plain": [
              "<IPython.core.display.HTML object>"
            ]
          },
          "metadata": {},
          "output_type": "display_data"
        },
        {
          "data": {
            "text/html": [
              "Query job 3ace2027-3f43-4046-9b55-b2e8d93ed1ff is DONE. 77 Bytes processed. <a target=\"_blank\" href=\"https://console.cloud.google.com/bigquery?project=market-mirror-dev&j=bq:US:3ace2027-3f43-4046-9b55-b2e8d93ed1ff&page=queryresults\">Open Job</a>"
            ],
            "text/plain": [
              "<IPython.core.display.HTML object>"
            ]
          },
          "metadata": {},
          "output_type": "display_data"
        },
        {
          "data": {
            "text/plain": [
              "sentiment\n",
              "Positive    24081\n",
              "Negative     8342\n",
              "Neutral      5158\n",
              "Name: count, dtype: Int64"
            ]
          },
          "execution_count": 47,
          "metadata": {},
          "output_type": "execute_result"
        }
      ],
      "source": [
        "merged_review_df_with_genre.sentiment.value_counts()"
      ]
    },
    {
      "cell_type": "markdown",
      "metadata": {},
      "source": [
        "* In the below step we are executing a Bigquery SQL, to invoke the `AI.GENERATE` function to generate Sentiment for each review and storing it in a separarate table called `T_APP_REVIEWS_SENTIMENTS` \n",
        "\n",
        "**Please make sure the PROJECT_NAME field here is replaced with your project_id and correct SILVER dataset name is given.**"
      ]
    },
    {
      "cell_type": "code",
      "execution_count": null,
      "metadata": {
        "colab": {
          "base_uri": "https://localhost:8080/",
          "height": 85,
          "referenced_widgets": [
            "8a1f19107356459aa959c2dd56cd5ed5",
            "48a1183df08549c7aac950bfe12b2777",
            "a1d94c6ac0f44a168a35e06eb00ff50d",
            "4fc74fa5c09b4f8a9950831f9c532599",
            "01b25e4ff9bc4e68b24fee8ec20a03b0",
            "c70730cd9843403e8fe073a1910a4ed9",
            "9c7336dd09e042a58e66ad4b56673c0d",
            "a813bf36c72e4b89b6d7ccdf0928fe9d",
            "fb01453ebd824b3898d36f98fb53f30d",
            "2647bdc1d2144be8bd6b6b56965c0386",
            "604f056c334040c48a30d97a86cbf60b"
          ]
        },
        "executionInfo": {
          "elapsed": 981903,
          "status": "ok",
          "timestamp": 1755634879945,
          "user": {
            "displayName": "",
            "userId": ""
          },
          "user_tz": -330
        },
        "id": "8S7SjqpyzvyG",
        "outputId": "559a3786-2adb-4ed3-cd2d-7cbdc2569876"
      },
      "outputs": [],
      "source": [
        "%%bigquery\n",
        "create or replace table `PROJECT_NAME.APP_MARKET_SILVER.T_APP_REVIEWS_SENTIMENTS`\n",
        "AS\n",
        "select id, app_name, review_text,\n",
        "AI.GENERATE(prompt=>concat('check the sentiment of the user review for the app and give me answer in just one word on whether the review is [Positive   Negative or Neutral app_name: ', app_name, '\\r\\n review_text : ', review_text ),\n",
        "connection_id => 'us.vertex-remote-models',\n",
        "endpoint => 'gemini-2.5-flash'\n",
        ").result\n",
        " from `PROJECT_NAME.APP_MARKET_SILVER.T_APP_REVIEWS_CLEANED`\n",
        "where sentiment is null --and id in (27394, 27294, 41092)\n",
        ";\n",
        "\n"
      ]
    },
    {
      "cell_type": "markdown",
      "metadata": {},
      "source": [
        "* In the below cell we are updating the `sentiment` column in `T_APP_REVIEWS_CLEANED` table with the sentiments provided by the LLM.\n",
        "\n",
        "**Please make sure the PROJECT_NAME is replaced with your project_id**"
      ]
    },
    {
      "cell_type": "code",
      "execution_count": null,
      "metadata": {
        "colab": {
          "base_uri": "https://localhost:8080/",
          "height": 85,
          "referenced_widgets": [
            "08e5f71aeb314de7b35b47c84501828b",
            "e3aa7e66a17342a188a3940375307284",
            "d5ff364127d7490ea118d8a83adf4640",
            "41c5dd91f7ad4e38b084ad5a83a3c2d8",
            "1ea542fd33c14cc18397d03f64ed696f",
            "63e074e25e0d4705a0d1abe9e654282d",
            "c10fc3944efd4b3d97c639ec19141387",
            "81619aeaf4c34a04bde1a46b970270ab",
            "3193848fd038428697d0f872fb7103d8",
            "8e912cf06eb54e4abac3e772025b5741",
            "c75c26eeced24b1b93b734df70cc92cd"
          ]
        },
        "executionInfo": {
          "elapsed": 3593,
          "status": "ok",
          "timestamp": 1755635041121,
          "user": {
            "displayName": "",
            "userId": ""
          },
          "user_tz": -330
        },
        "id": "bDiuuFT17yF9",
        "outputId": "9e86d894-4f0f-46b1-e1f5-0c302f94aa25"
      },
      "outputs": [],
      "source": [
        "%%bigquery\n",
        "update `PROJECT_NAME.APP_MARKET_SILVER.T_APP_REVIEWS_CLEANED` tgt\n",
        "set tgt.sentiment = src.result\n",
        "from `PROJECT_NAME.APP_MARKET_SILVER.T_APP_REVIEWS_SENTIMENTS` src\n",
        "where tgt.id = src.id\n",
        "and tgt.sentiment is null;\n"
      ]
    },
    {
      "cell_type": "code",
      "execution_count": null,
      "metadata": {
        "executionInfo": {
          "elapsed": 739,
          "status": "ok",
          "timestamp": 1755635090618,
          "user": {
            "displayName": "",
            "userId": ""
          },
          "user_tz": -330
        },
        "id": "EN0B7SurAWxH"
      },
      "outputs": [],
      "source": [
        "# Reading the table again from SILVER Dataset\n",
        "review_df = bpd.read_gbq(f\"{PROJECT_ID}.{BQ_SILVER_DATASET}.T_APP_REVIEWS_CLEANED\")"
      ]
    },
    {
      "cell_type": "code",
      "execution_count": 59,
      "metadata": {
        "colab": {
          "base_uri": "https://localhost:8080/",
          "height": 156
        },
        "executionInfo": {
          "elapsed": 8806,
          "status": "ok",
          "timestamp": 1755635107893,
          "user": {
            "displayName": "",
            "userId": ""
          },
          "user_tz": -330
        },
        "id": "eS3GLs5lAZSg",
        "outputId": "86e9fab8-5070-4b5d-f8fe-a5d6212cba42"
      },
      "outputs": [
        {
          "data": {
            "text/html": [
              "Query job 8d9151ba-8e88-4006-9e97-12128d4ccf29 is DONE. 8.4 MB processed. <a target=\"_blank\" href=\"https://console.cloud.google.com/bigquery?project=market-mirror-dev&j=bq:US:8d9151ba-8e88-4006-9e97-12128d4ccf29&page=queryresults\">Open Job</a>"
            ],
            "text/plain": [
              "<IPython.core.display.HTML object>"
            ]
          },
          "metadata": {},
          "output_type": "display_data"
        },
        {
          "data": {
            "text/html": [
              "Query job 21c8f89f-21c6-40ed-b31a-8a9a46f4e66b is DONE. 129 Bytes processed. <a target=\"_blank\" href=\"https://console.cloud.google.com/bigquery?project=market-mirror-dev&j=bq:US:21c8f89f-21c6-40ed-b31a-8a9a46f4e66b&page=queryresults\">Open Job</a>"
            ],
            "text/plain": [
              "<IPython.core.display.HTML object>"
            ]
          },
          "metadata": {},
          "output_type": "display_data"
        },
        {
          "data": {
            "text/plain": [
              "id             0\n",
              "app_name       0\n",
              "app_genre      0\n",
              "review_text    0\n",
              "sentiment      0\n",
              "dtype: Int64"
            ]
          },
          "execution_count": 59,
          "metadata": {},
          "output_type": "execute_result"
        }
      ],
      "source": [
        "review_df.isna().sum()"
      ]
    },
    {
      "cell_type": "markdown",
      "metadata": {},
      "source": [
        "* With the above results we can see that the Review table is perfectly clean for further use.\n",
        "* One issue is the sentiment column having a in-Appropriate value '[Negative]' which is fixed in below cell.\n",
        "\n",
        "**Please make sure the PROJECT_NAME is replaced with your project_id before executing the below cell**"
      ]
    },
    {
      "cell_type": "code",
      "execution_count": null,
      "metadata": {
        "colab": {
          "base_uri": "https://localhost:8080/",
          "height": 170,
          "referenced_widgets": [
            "59de303649154828a3ead4d5a65a6b54",
            "ef7d0e1c4524403891319fd7d11f4e17",
            "d6ad436891fa46d7b61532db8f3e63c1",
            "3ffc22c7f9a745c4b69b409ab6d17538",
            "0237bb22f0b84acaae26228f552ec531",
            "2fd8e204f3ea43599fb854f593dac3eb",
            "af78634f2d864bd790a5cc2395dff47e",
            "cb889408b6c548daab3c7dbede2d8f3b",
            "f163fd5ec5d74287a16668bc810ee8ed",
            "b51dd65ddf98494db393023bddc81095",
            "e5b7c222d7d944ba93bd99c164a016c0"
          ]
        },
        "executionInfo": {
          "elapsed": 2452,
          "status": "ok",
          "timestamp": 1755635211991,
          "user": {
            "displayName": "",
            "userId": ""
          },
          "user_tz": -330
        },
        "id": "KTROrj67AtsQ",
        "outputId": "d5a23f30-e7dc-480b-b95f-8eff04f3935a"
      },
      "outputs": [],
      "source": [
        "%%bigquery\n",
        "update `PROJECT_NAME.APP_MARKET_SILVER.T_APP_REVIEWS_CLEANED` set\n",
        "sentiment='Negative' where sentiment='[Negative]';"
      ]
    }
  ],
  "metadata": {
    "colab": {
      "cell_execution_strategy": "setup",
      "name": "backend/03_processing_data_01.ipynb",
      "provenance": []
    },
    "kernelspec": {
      "display_name": "Python 3",
      "name": "python3"
    },
    "language_info": {
      "name": "python"
    },
    "widgets": {
      "application/vnd.jupyter.widget-state+json": {
        "01b25e4ff9bc4e68b24fee8ec20a03b0": {
          "model_module": "@jupyter-widgets/base",
          "model_module_version": "1.2.0",
          "model_name": "LayoutModel",
          "state": {
            "_model_module": "@jupyter-widgets/base",
            "_model_module_version": "1.2.0",
            "_model_name": "LayoutModel",
            "_view_count": null,
            "_view_module": "@jupyter-widgets/base",
            "_view_module_version": "1.2.0",
            "_view_name": "LayoutView",
            "align_content": null,
            "align_items": null,
            "align_self": null,
            "border": null,
            "bottom": null,
            "display": null,
            "flex": null,
            "flex_flow": null,
            "grid_area": null,
            "grid_auto_columns": null,
            "grid_auto_flow": null,
            "grid_auto_rows": null,
            "grid_column": null,
            "grid_gap": null,
            "grid_row": null,
            "grid_template_areas": null,
            "grid_template_columns": null,
            "grid_template_rows": null,
            "height": null,
            "justify_content": null,
            "justify_items": null,
            "left": null,
            "margin": null,
            "max_height": null,
            "max_width": null,
            "min_height": null,
            "min_width": null,
            "object_fit": null,
            "object_position": null,
            "order": null,
            "overflow": null,
            "overflow_x": null,
            "overflow_y": null,
            "padding": null,
            "right": null,
            "top": null,
            "visibility": null,
            "width": null
          }
        },
        "0237bb22f0b84acaae26228f552ec531": {
          "model_module": "@jupyter-widgets/base",
          "model_module_version": "1.2.0",
          "model_name": "LayoutModel",
          "state": {
            "_model_module": "@jupyter-widgets/base",
            "_model_module_version": "1.2.0",
            "_model_name": "LayoutModel",
            "_view_count": null,
            "_view_module": "@jupyter-widgets/base",
            "_view_module_version": "1.2.0",
            "_view_name": "LayoutView",
            "align_content": null,
            "align_items": null,
            "align_self": null,
            "border": null,
            "bottom": null,
            "display": null,
            "flex": null,
            "flex_flow": null,
            "grid_area": null,
            "grid_auto_columns": null,
            "grid_auto_flow": null,
            "grid_auto_rows": null,
            "grid_column": null,
            "grid_gap": null,
            "grid_row": null,
            "grid_template_areas": null,
            "grid_template_columns": null,
            "grid_template_rows": null,
            "height": null,
            "justify_content": null,
            "justify_items": null,
            "left": null,
            "margin": null,
            "max_height": null,
            "max_width": null,
            "min_height": null,
            "min_width": null,
            "object_fit": null,
            "object_position": null,
            "order": null,
            "overflow": null,
            "overflow_x": null,
            "overflow_y": null,
            "padding": null,
            "right": null,
            "top": null,
            "visibility": null,
            "width": null
          }
        },
        "08e5f71aeb314de7b35b47c84501828b": {
          "model_module": "@jupyter-widgets/controls",
          "model_module_version": "1.5.0",
          "model_name": "HBoxModel",
          "state": {
            "_dom_classes": [],
            "_model_module": "@jupyter-widgets/controls",
            "_model_module_version": "1.5.0",
            "_model_name": "HBoxModel",
            "_view_count": null,
            "_view_module": "@jupyter-widgets/controls",
            "_view_module_version": "1.5.0",
            "_view_name": "HBoxView",
            "box_style": "",
            "children": [
              "IPY_MODEL_e3aa7e66a17342a188a3940375307284",
              "IPY_MODEL_d5ff364127d7490ea118d8a83adf4640",
              "IPY_MODEL_41c5dd91f7ad4e38b084ad5a83a3c2d8"
            ],
            "layout": "IPY_MODEL_1ea542fd33c14cc18397d03f64ed696f"
          }
        },
        "1ea542fd33c14cc18397d03f64ed696f": {
          "model_module": "@jupyter-widgets/base",
          "model_module_version": "1.2.0",
          "model_name": "LayoutModel",
          "state": {
            "_model_module": "@jupyter-widgets/base",
            "_model_module_version": "1.2.0",
            "_model_name": "LayoutModel",
            "_view_count": null,
            "_view_module": "@jupyter-widgets/base",
            "_view_module_version": "1.2.0",
            "_view_name": "LayoutView",
            "align_content": null,
            "align_items": null,
            "align_self": null,
            "border": null,
            "bottom": null,
            "display": null,
            "flex": null,
            "flex_flow": null,
            "grid_area": null,
            "grid_auto_columns": null,
            "grid_auto_flow": null,
            "grid_auto_rows": null,
            "grid_column": null,
            "grid_gap": null,
            "grid_row": null,
            "grid_template_areas": null,
            "grid_template_columns": null,
            "grid_template_rows": null,
            "height": null,
            "justify_content": null,
            "justify_items": null,
            "left": null,
            "margin": null,
            "max_height": null,
            "max_width": null,
            "min_height": null,
            "min_width": null,
            "object_fit": null,
            "object_position": null,
            "order": null,
            "overflow": null,
            "overflow_x": null,
            "overflow_y": null,
            "padding": null,
            "right": null,
            "top": null,
            "visibility": null,
            "width": null
          }
        },
        "2647bdc1d2144be8bd6b6b56965c0386": {
          "model_module": "@jupyter-widgets/base",
          "model_module_version": "1.2.0",
          "model_name": "LayoutModel",
          "state": {
            "_model_module": "@jupyter-widgets/base",
            "_model_module_version": "1.2.0",
            "_model_name": "LayoutModel",
            "_view_count": null,
            "_view_module": "@jupyter-widgets/base",
            "_view_module_version": "1.2.0",
            "_view_name": "LayoutView",
            "align_content": null,
            "align_items": null,
            "align_self": null,
            "border": null,
            "bottom": null,
            "display": null,
            "flex": null,
            "flex_flow": null,
            "grid_area": null,
            "grid_auto_columns": null,
            "grid_auto_flow": null,
            "grid_auto_rows": null,
            "grid_column": null,
            "grid_gap": null,
            "grid_row": null,
            "grid_template_areas": null,
            "grid_template_columns": null,
            "grid_template_rows": null,
            "height": null,
            "justify_content": null,
            "justify_items": null,
            "left": null,
            "margin": null,
            "max_height": null,
            "max_width": null,
            "min_height": null,
            "min_width": null,
            "object_fit": null,
            "object_position": null,
            "order": null,
            "overflow": null,
            "overflow_x": null,
            "overflow_y": null,
            "padding": null,
            "right": null,
            "top": null,
            "visibility": null,
            "width": null
          }
        },
        "2fd8e204f3ea43599fb854f593dac3eb": {
          "model_module": "@jupyter-widgets/base",
          "model_module_version": "1.2.0",
          "model_name": "LayoutModel",
          "state": {
            "_model_module": "@jupyter-widgets/base",
            "_model_module_version": "1.2.0",
            "_model_name": "LayoutModel",
            "_view_count": null,
            "_view_module": "@jupyter-widgets/base",
            "_view_module_version": "1.2.0",
            "_view_name": "LayoutView",
            "align_content": null,
            "align_items": null,
            "align_self": null,
            "border": null,
            "bottom": null,
            "display": null,
            "flex": null,
            "flex_flow": null,
            "grid_area": null,
            "grid_auto_columns": null,
            "grid_auto_flow": null,
            "grid_auto_rows": null,
            "grid_column": null,
            "grid_gap": null,
            "grid_row": null,
            "grid_template_areas": null,
            "grid_template_columns": null,
            "grid_template_rows": null,
            "height": null,
            "justify_content": null,
            "justify_items": null,
            "left": null,
            "margin": null,
            "max_height": null,
            "max_width": null,
            "min_height": null,
            "min_width": null,
            "object_fit": null,
            "object_position": null,
            "order": null,
            "overflow": null,
            "overflow_x": null,
            "overflow_y": null,
            "padding": null,
            "right": null,
            "top": null,
            "visibility": null,
            "width": null
          }
        },
        "3193848fd038428697d0f872fb7103d8": {
          "model_module": "@jupyter-widgets/controls",
          "model_module_version": "1.5.0",
          "model_name": "ProgressStyleModel",
          "state": {
            "_model_module": "@jupyter-widgets/controls",
            "_model_module_version": "1.5.0",
            "_model_name": "ProgressStyleModel",
            "_view_count": null,
            "_view_module": "@jupyter-widgets/base",
            "_view_module_version": "1.2.0",
            "_view_name": "StyleView",
            "bar_color": null,
            "description_width": ""
          }
        },
        "3ffc22c7f9a745c4b69b409ab6d17538": {
          "model_module": "@jupyter-widgets/controls",
          "model_module_version": "1.5.0",
          "model_name": "HTMLModel",
          "state": {
            "_dom_classes": [],
            "_model_module": "@jupyter-widgets/controls",
            "_model_module_version": "1.5.0",
            "_model_name": "HTMLModel",
            "_view_count": null,
            "_view_module": "@jupyter-widgets/controls",
            "_view_module_version": "1.5.0",
            "_view_name": "HTMLView",
            "description": "",
            "description_tooltip": null,
            "layout": "IPY_MODEL_b51dd65ddf98494db393023bddc81095",
            "placeholder": "​",
            "style": "IPY_MODEL_e5b7c222d7d944ba93bd99c164a016c0",
            "value": ""
          }
        },
        "41c5dd91f7ad4e38b084ad5a83a3c2d8": {
          "model_module": "@jupyter-widgets/controls",
          "model_module_version": "1.5.0",
          "model_name": "HTMLModel",
          "state": {
            "_dom_classes": [],
            "_model_module": "@jupyter-widgets/controls",
            "_model_module_version": "1.5.0",
            "_model_name": "HTMLModel",
            "_view_count": null,
            "_view_module": "@jupyter-widgets/controls",
            "_view_module_version": "1.5.0",
            "_view_name": "HTMLView",
            "description": "",
            "description_tooltip": null,
            "layout": "IPY_MODEL_8e912cf06eb54e4abac3e772025b5741",
            "placeholder": "​",
            "style": "IPY_MODEL_c75c26eeced24b1b93b734df70cc92cd",
            "value": ""
          }
        },
        "48a1183df08549c7aac950bfe12b2777": {
          "model_module": "@jupyter-widgets/controls",
          "model_module_version": "1.5.0",
          "model_name": "HTMLModel",
          "state": {
            "_dom_classes": [],
            "_model_module": "@jupyter-widgets/controls",
            "_model_module_version": "1.5.0",
            "_model_name": "HTMLModel",
            "_view_count": null,
            "_view_module": "@jupyter-widgets/controls",
            "_view_module_version": "1.5.0",
            "_view_name": "HTMLView",
            "description": "",
            "description_tooltip": null,
            "layout": "IPY_MODEL_c70730cd9843403e8fe073a1910a4ed9",
            "placeholder": "​",
            "style": "IPY_MODEL_9c7336dd09e042a58e66ad4b56673c0d",
            "value": "Job ID a2654950-89dc-4514-a171-71c61dc0b426 successfully executed: 100%"
          }
        },
        "4fc74fa5c09b4f8a9950831f9c532599": {
          "model_module": "@jupyter-widgets/controls",
          "model_module_version": "1.5.0",
          "model_name": "HTMLModel",
          "state": {
            "_dom_classes": [],
            "_model_module": "@jupyter-widgets/controls",
            "_model_module_version": "1.5.0",
            "_model_name": "HTMLModel",
            "_view_count": null,
            "_view_module": "@jupyter-widgets/controls",
            "_view_module_version": "1.5.0",
            "_view_name": "HTMLView",
            "description": "",
            "description_tooltip": null,
            "layout": "IPY_MODEL_2647bdc1d2144be8bd6b6b56965c0386",
            "placeholder": "​",
            "style": "IPY_MODEL_604f056c334040c48a30d97a86cbf60b",
            "value": ""
          }
        },
        "59de303649154828a3ead4d5a65a6b54": {
          "model_module": "@jupyter-widgets/controls",
          "model_module_version": "1.5.0",
          "model_name": "HBoxModel",
          "state": {
            "_dom_classes": [],
            "_model_module": "@jupyter-widgets/controls",
            "_model_module_version": "1.5.0",
            "_model_name": "HBoxModel",
            "_view_count": null,
            "_view_module": "@jupyter-widgets/controls",
            "_view_module_version": "1.5.0",
            "_view_name": "HBoxView",
            "box_style": "",
            "children": [
              "IPY_MODEL_ef7d0e1c4524403891319fd7d11f4e17",
              "IPY_MODEL_d6ad436891fa46d7b61532db8f3e63c1",
              "IPY_MODEL_3ffc22c7f9a745c4b69b409ab6d17538"
            ],
            "layout": "IPY_MODEL_0237bb22f0b84acaae26228f552ec531"
          }
        },
        "604f056c334040c48a30d97a86cbf60b": {
          "model_module": "@jupyter-widgets/controls",
          "model_module_version": "1.5.0",
          "model_name": "DescriptionStyleModel",
          "state": {
            "_model_module": "@jupyter-widgets/controls",
            "_model_module_version": "1.5.0",
            "_model_name": "DescriptionStyleModel",
            "_view_count": null,
            "_view_module": "@jupyter-widgets/base",
            "_view_module_version": "1.2.0",
            "_view_name": "StyleView",
            "description_width": ""
          }
        },
        "63e074e25e0d4705a0d1abe9e654282d": {
          "model_module": "@jupyter-widgets/base",
          "model_module_version": "1.2.0",
          "model_name": "LayoutModel",
          "state": {
            "_model_module": "@jupyter-widgets/base",
            "_model_module_version": "1.2.0",
            "_model_name": "LayoutModel",
            "_view_count": null,
            "_view_module": "@jupyter-widgets/base",
            "_view_module_version": "1.2.0",
            "_view_name": "LayoutView",
            "align_content": null,
            "align_items": null,
            "align_self": null,
            "border": null,
            "bottom": null,
            "display": null,
            "flex": null,
            "flex_flow": null,
            "grid_area": null,
            "grid_auto_columns": null,
            "grid_auto_flow": null,
            "grid_auto_rows": null,
            "grid_column": null,
            "grid_gap": null,
            "grid_row": null,
            "grid_template_areas": null,
            "grid_template_columns": null,
            "grid_template_rows": null,
            "height": null,
            "justify_content": null,
            "justify_items": null,
            "left": null,
            "margin": null,
            "max_height": null,
            "max_width": null,
            "min_height": null,
            "min_width": null,
            "object_fit": null,
            "object_position": null,
            "order": null,
            "overflow": null,
            "overflow_x": null,
            "overflow_y": null,
            "padding": null,
            "right": null,
            "top": null,
            "visibility": null,
            "width": null
          }
        },
        "81619aeaf4c34a04bde1a46b970270ab": {
          "model_module": "@jupyter-widgets/base",
          "model_module_version": "1.2.0",
          "model_name": "LayoutModel",
          "state": {
            "_model_module": "@jupyter-widgets/base",
            "_model_module_version": "1.2.0",
            "_model_name": "LayoutModel",
            "_view_count": null,
            "_view_module": "@jupyter-widgets/base",
            "_view_module_version": "1.2.0",
            "_view_name": "LayoutView",
            "align_content": null,
            "align_items": null,
            "align_self": null,
            "border": null,
            "bottom": null,
            "display": null,
            "flex": null,
            "flex_flow": null,
            "grid_area": null,
            "grid_auto_columns": null,
            "grid_auto_flow": null,
            "grid_auto_rows": null,
            "grid_column": null,
            "grid_gap": null,
            "grid_row": null,
            "grid_template_areas": null,
            "grid_template_columns": null,
            "grid_template_rows": null,
            "height": null,
            "justify_content": null,
            "justify_items": null,
            "left": null,
            "margin": null,
            "max_height": null,
            "max_width": null,
            "min_height": null,
            "min_width": null,
            "object_fit": null,
            "object_position": null,
            "order": null,
            "overflow": null,
            "overflow_x": null,
            "overflow_y": null,
            "padding": null,
            "right": null,
            "top": null,
            "visibility": null,
            "width": null
          }
        },
        "8a1f19107356459aa959c2dd56cd5ed5": {
          "model_module": "@jupyter-widgets/controls",
          "model_module_version": "1.5.0",
          "model_name": "HBoxModel",
          "state": {
            "_dom_classes": [],
            "_model_module": "@jupyter-widgets/controls",
            "_model_module_version": "1.5.0",
            "_model_name": "HBoxModel",
            "_view_count": null,
            "_view_module": "@jupyter-widgets/controls",
            "_view_module_version": "1.5.0",
            "_view_name": "HBoxView",
            "box_style": "",
            "children": [
              "IPY_MODEL_48a1183df08549c7aac950bfe12b2777",
              "IPY_MODEL_a1d94c6ac0f44a168a35e06eb00ff50d",
              "IPY_MODEL_4fc74fa5c09b4f8a9950831f9c532599"
            ],
            "layout": "IPY_MODEL_01b25e4ff9bc4e68b24fee8ec20a03b0"
          }
        },
        "8e912cf06eb54e4abac3e772025b5741": {
          "model_module": "@jupyter-widgets/base",
          "model_module_version": "1.2.0",
          "model_name": "LayoutModel",
          "state": {
            "_model_module": "@jupyter-widgets/base",
            "_model_module_version": "1.2.0",
            "_model_name": "LayoutModel",
            "_view_count": null,
            "_view_module": "@jupyter-widgets/base",
            "_view_module_version": "1.2.0",
            "_view_name": "LayoutView",
            "align_content": null,
            "align_items": null,
            "align_self": null,
            "border": null,
            "bottom": null,
            "display": null,
            "flex": null,
            "flex_flow": null,
            "grid_area": null,
            "grid_auto_columns": null,
            "grid_auto_flow": null,
            "grid_auto_rows": null,
            "grid_column": null,
            "grid_gap": null,
            "grid_row": null,
            "grid_template_areas": null,
            "grid_template_columns": null,
            "grid_template_rows": null,
            "height": null,
            "justify_content": null,
            "justify_items": null,
            "left": null,
            "margin": null,
            "max_height": null,
            "max_width": null,
            "min_height": null,
            "min_width": null,
            "object_fit": null,
            "object_position": null,
            "order": null,
            "overflow": null,
            "overflow_x": null,
            "overflow_y": null,
            "padding": null,
            "right": null,
            "top": null,
            "visibility": null,
            "width": null
          }
        },
        "9c7336dd09e042a58e66ad4b56673c0d": {
          "model_module": "@jupyter-widgets/controls",
          "model_module_version": "1.5.0",
          "model_name": "DescriptionStyleModel",
          "state": {
            "_model_module": "@jupyter-widgets/controls",
            "_model_module_version": "1.5.0",
            "_model_name": "DescriptionStyleModel",
            "_view_count": null,
            "_view_module": "@jupyter-widgets/base",
            "_view_module_version": "1.2.0",
            "_view_name": "StyleView",
            "description_width": ""
          }
        },
        "a1d94c6ac0f44a168a35e06eb00ff50d": {
          "model_module": "@jupyter-widgets/controls",
          "model_module_version": "1.5.0",
          "model_name": "FloatProgressModel",
          "state": {
            "_dom_classes": [],
            "_model_module": "@jupyter-widgets/controls",
            "_model_module_version": "1.5.0",
            "_model_name": "FloatProgressModel",
            "_view_count": null,
            "_view_module": "@jupyter-widgets/controls",
            "_view_module_version": "1.5.0",
            "_view_name": "ProgressView",
            "bar_style": "success",
            "description": "",
            "description_tooltip": null,
            "layout": "IPY_MODEL_a813bf36c72e4b89b6d7ccdf0928fe9d",
            "max": 1,
            "min": 0,
            "orientation": "horizontal",
            "style": "IPY_MODEL_fb01453ebd824b3898d36f98fb53f30d",
            "value": 1
          }
        },
        "a813bf36c72e4b89b6d7ccdf0928fe9d": {
          "model_module": "@jupyter-widgets/base",
          "model_module_version": "1.2.0",
          "model_name": "LayoutModel",
          "state": {
            "_model_module": "@jupyter-widgets/base",
            "_model_module_version": "1.2.0",
            "_model_name": "LayoutModel",
            "_view_count": null,
            "_view_module": "@jupyter-widgets/base",
            "_view_module_version": "1.2.0",
            "_view_name": "LayoutView",
            "align_content": null,
            "align_items": null,
            "align_self": null,
            "border": null,
            "bottom": null,
            "display": null,
            "flex": null,
            "flex_flow": null,
            "grid_area": null,
            "grid_auto_columns": null,
            "grid_auto_flow": null,
            "grid_auto_rows": null,
            "grid_column": null,
            "grid_gap": null,
            "grid_row": null,
            "grid_template_areas": null,
            "grid_template_columns": null,
            "grid_template_rows": null,
            "height": null,
            "justify_content": null,
            "justify_items": null,
            "left": null,
            "margin": null,
            "max_height": null,
            "max_width": null,
            "min_height": null,
            "min_width": null,
            "object_fit": null,
            "object_position": null,
            "order": null,
            "overflow": null,
            "overflow_x": null,
            "overflow_y": null,
            "padding": null,
            "right": null,
            "top": null,
            "visibility": null,
            "width": null
          }
        },
        "af78634f2d864bd790a5cc2395dff47e": {
          "model_module": "@jupyter-widgets/controls",
          "model_module_version": "1.5.0",
          "model_name": "DescriptionStyleModel",
          "state": {
            "_model_module": "@jupyter-widgets/controls",
            "_model_module_version": "1.5.0",
            "_model_name": "DescriptionStyleModel",
            "_view_count": null,
            "_view_module": "@jupyter-widgets/base",
            "_view_module_version": "1.2.0",
            "_view_name": "StyleView",
            "description_width": ""
          }
        },
        "b51dd65ddf98494db393023bddc81095": {
          "model_module": "@jupyter-widgets/base",
          "model_module_version": "1.2.0",
          "model_name": "LayoutModel",
          "state": {
            "_model_module": "@jupyter-widgets/base",
            "_model_module_version": "1.2.0",
            "_model_name": "LayoutModel",
            "_view_count": null,
            "_view_module": "@jupyter-widgets/base",
            "_view_module_version": "1.2.0",
            "_view_name": "LayoutView",
            "align_content": null,
            "align_items": null,
            "align_self": null,
            "border": null,
            "bottom": null,
            "display": null,
            "flex": null,
            "flex_flow": null,
            "grid_area": null,
            "grid_auto_columns": null,
            "grid_auto_flow": null,
            "grid_auto_rows": null,
            "grid_column": null,
            "grid_gap": null,
            "grid_row": null,
            "grid_template_areas": null,
            "grid_template_columns": null,
            "grid_template_rows": null,
            "height": null,
            "justify_content": null,
            "justify_items": null,
            "left": null,
            "margin": null,
            "max_height": null,
            "max_width": null,
            "min_height": null,
            "min_width": null,
            "object_fit": null,
            "object_position": null,
            "order": null,
            "overflow": null,
            "overflow_x": null,
            "overflow_y": null,
            "padding": null,
            "right": null,
            "top": null,
            "visibility": null,
            "width": null
          }
        },
        "c10fc3944efd4b3d97c639ec19141387": {
          "model_module": "@jupyter-widgets/controls",
          "model_module_version": "1.5.0",
          "model_name": "DescriptionStyleModel",
          "state": {
            "_model_module": "@jupyter-widgets/controls",
            "_model_module_version": "1.5.0",
            "_model_name": "DescriptionStyleModel",
            "_view_count": null,
            "_view_module": "@jupyter-widgets/base",
            "_view_module_version": "1.2.0",
            "_view_name": "StyleView",
            "description_width": ""
          }
        },
        "c70730cd9843403e8fe073a1910a4ed9": {
          "model_module": "@jupyter-widgets/base",
          "model_module_version": "1.2.0",
          "model_name": "LayoutModel",
          "state": {
            "_model_module": "@jupyter-widgets/base",
            "_model_module_version": "1.2.0",
            "_model_name": "LayoutModel",
            "_view_count": null,
            "_view_module": "@jupyter-widgets/base",
            "_view_module_version": "1.2.0",
            "_view_name": "LayoutView",
            "align_content": null,
            "align_items": null,
            "align_self": null,
            "border": null,
            "bottom": null,
            "display": null,
            "flex": null,
            "flex_flow": null,
            "grid_area": null,
            "grid_auto_columns": null,
            "grid_auto_flow": null,
            "grid_auto_rows": null,
            "grid_column": null,
            "grid_gap": null,
            "grid_row": null,
            "grid_template_areas": null,
            "grid_template_columns": null,
            "grid_template_rows": null,
            "height": null,
            "justify_content": null,
            "justify_items": null,
            "left": null,
            "margin": null,
            "max_height": null,
            "max_width": null,
            "min_height": null,
            "min_width": null,
            "object_fit": null,
            "object_position": null,
            "order": null,
            "overflow": null,
            "overflow_x": null,
            "overflow_y": null,
            "padding": null,
            "right": null,
            "top": null,
            "visibility": null,
            "width": null
          }
        },
        "c75c26eeced24b1b93b734df70cc92cd": {
          "model_module": "@jupyter-widgets/controls",
          "model_module_version": "1.5.0",
          "model_name": "DescriptionStyleModel",
          "state": {
            "_model_module": "@jupyter-widgets/controls",
            "_model_module_version": "1.5.0",
            "_model_name": "DescriptionStyleModel",
            "_view_count": null,
            "_view_module": "@jupyter-widgets/base",
            "_view_module_version": "1.2.0",
            "_view_name": "StyleView",
            "description_width": ""
          }
        },
        "cb889408b6c548daab3c7dbede2d8f3b": {
          "model_module": "@jupyter-widgets/base",
          "model_module_version": "1.2.0",
          "model_name": "LayoutModel",
          "state": {
            "_model_module": "@jupyter-widgets/base",
            "_model_module_version": "1.2.0",
            "_model_name": "LayoutModel",
            "_view_count": null,
            "_view_module": "@jupyter-widgets/base",
            "_view_module_version": "1.2.0",
            "_view_name": "LayoutView",
            "align_content": null,
            "align_items": null,
            "align_self": null,
            "border": null,
            "bottom": null,
            "display": null,
            "flex": null,
            "flex_flow": null,
            "grid_area": null,
            "grid_auto_columns": null,
            "grid_auto_flow": null,
            "grid_auto_rows": null,
            "grid_column": null,
            "grid_gap": null,
            "grid_row": null,
            "grid_template_areas": null,
            "grid_template_columns": null,
            "grid_template_rows": null,
            "height": null,
            "justify_content": null,
            "justify_items": null,
            "left": null,
            "margin": null,
            "max_height": null,
            "max_width": null,
            "min_height": null,
            "min_width": null,
            "object_fit": null,
            "object_position": null,
            "order": null,
            "overflow": null,
            "overflow_x": null,
            "overflow_y": null,
            "padding": null,
            "right": null,
            "top": null,
            "visibility": null,
            "width": null
          }
        },
        "d5ff364127d7490ea118d8a83adf4640": {
          "model_module": "@jupyter-widgets/controls",
          "model_module_version": "1.5.0",
          "model_name": "FloatProgressModel",
          "state": {
            "_dom_classes": [],
            "_model_module": "@jupyter-widgets/controls",
            "_model_module_version": "1.5.0",
            "_model_name": "FloatProgressModel",
            "_view_count": null,
            "_view_module": "@jupyter-widgets/controls",
            "_view_module_version": "1.5.0",
            "_view_name": "ProgressView",
            "bar_style": "success",
            "description": "",
            "description_tooltip": null,
            "layout": "IPY_MODEL_81619aeaf4c34a04bde1a46b970270ab",
            "max": 1,
            "min": 0,
            "orientation": "horizontal",
            "style": "IPY_MODEL_3193848fd038428697d0f872fb7103d8",
            "value": 1
          }
        },
        "d6ad436891fa46d7b61532db8f3e63c1": {
          "model_module": "@jupyter-widgets/controls",
          "model_module_version": "1.5.0",
          "model_name": "FloatProgressModel",
          "state": {
            "_dom_classes": [],
            "_model_module": "@jupyter-widgets/controls",
            "_model_module_version": "1.5.0",
            "_model_name": "FloatProgressModel",
            "_view_count": null,
            "_view_module": "@jupyter-widgets/controls",
            "_view_module_version": "1.5.0",
            "_view_name": "ProgressView",
            "bar_style": "success",
            "description": "",
            "description_tooltip": null,
            "layout": "IPY_MODEL_cb889408b6c548daab3c7dbede2d8f3b",
            "max": 1,
            "min": 0,
            "orientation": "horizontal",
            "style": "IPY_MODEL_f163fd5ec5d74287a16668bc810ee8ed",
            "value": 1
          }
        },
        "e3aa7e66a17342a188a3940375307284": {
          "model_module": "@jupyter-widgets/controls",
          "model_module_version": "1.5.0",
          "model_name": "HTMLModel",
          "state": {
            "_dom_classes": [],
            "_model_module": "@jupyter-widgets/controls",
            "_model_module_version": "1.5.0",
            "_model_name": "HTMLModel",
            "_view_count": null,
            "_view_module": "@jupyter-widgets/controls",
            "_view_module_version": "1.5.0",
            "_view_name": "HTMLView",
            "description": "",
            "description_tooltip": null,
            "layout": "IPY_MODEL_63e074e25e0d4705a0d1abe9e654282d",
            "placeholder": "​",
            "style": "IPY_MODEL_c10fc3944efd4b3d97c639ec19141387",
            "value": "Job ID 257300d9-7338-4947-8a73-52ba79751dbf successfully executed: 100%"
          }
        },
        "e5b7c222d7d944ba93bd99c164a016c0": {
          "model_module": "@jupyter-widgets/controls",
          "model_module_version": "1.5.0",
          "model_name": "DescriptionStyleModel",
          "state": {
            "_model_module": "@jupyter-widgets/controls",
            "_model_module_version": "1.5.0",
            "_model_name": "DescriptionStyleModel",
            "_view_count": null,
            "_view_module": "@jupyter-widgets/base",
            "_view_module_version": "1.2.0",
            "_view_name": "StyleView",
            "description_width": ""
          }
        },
        "ef7d0e1c4524403891319fd7d11f4e17": {
          "model_module": "@jupyter-widgets/controls",
          "model_module_version": "1.5.0",
          "model_name": "HTMLModel",
          "state": {
            "_dom_classes": [],
            "_model_module": "@jupyter-widgets/controls",
            "_model_module_version": "1.5.0",
            "_model_name": "HTMLModel",
            "_view_count": null,
            "_view_module": "@jupyter-widgets/controls",
            "_view_module_version": "1.5.0",
            "_view_name": "HTMLView",
            "description": "",
            "description_tooltip": null,
            "layout": "IPY_MODEL_2fd8e204f3ea43599fb854f593dac3eb",
            "placeholder": "​",
            "style": "IPY_MODEL_af78634f2d864bd790a5cc2395dff47e",
            "value": "Job ID 123e1d21-98d0-4d90-a6c2-4cf85967e425 successfully executed: 100%"
          }
        },
        "f163fd5ec5d74287a16668bc810ee8ed": {
          "model_module": "@jupyter-widgets/controls",
          "model_module_version": "1.5.0",
          "model_name": "ProgressStyleModel",
          "state": {
            "_model_module": "@jupyter-widgets/controls",
            "_model_module_version": "1.5.0",
            "_model_name": "ProgressStyleModel",
            "_view_count": null,
            "_view_module": "@jupyter-widgets/base",
            "_view_module_version": "1.2.0",
            "_view_name": "StyleView",
            "bar_color": null,
            "description_width": ""
          }
        },
        "fb01453ebd824b3898d36f98fb53f30d": {
          "model_module": "@jupyter-widgets/controls",
          "model_module_version": "1.5.0",
          "model_name": "ProgressStyleModel",
          "state": {
            "_model_module": "@jupyter-widgets/controls",
            "_model_module_version": "1.5.0",
            "_model_name": "ProgressStyleModel",
            "_view_count": null,
            "_view_module": "@jupyter-widgets/base",
            "_view_module_version": "1.2.0",
            "_view_name": "StyleView",
            "bar_color": null,
            "description_width": ""
          }
        }
      }
    }
  },
  "nbformat": 4,
  "nbformat_minor": 0
}
