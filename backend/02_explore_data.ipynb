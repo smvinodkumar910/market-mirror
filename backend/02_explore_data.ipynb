{
  "cells": [
    {
      "cell_type": "markdown",
      "metadata": {
        "id": "vCe6XdgiPZh7"
      },
      "source": [
        "# Explore Raw Data\n",
        "\n",
        "* In this Notebook we are exploring the data loaded in BRONZE layer.\n",
        "* clean and filter the data with specific columns we require and move the data to silver layer.\n",
        "* Creating BQ remote embedding model and generative model for data enrichment using GenAI functions in Bigquery."
      ]
    },
    {
      "cell_type": "markdown",
      "metadata": {},
      "source": [
        "\n",
        "<table align=\"left\">\n",
        "  <td style=\"text-align: center\">\n",
        "    <a href=\"https://colab.research.google.com/github/smvinodkumar910/market-mirror/blob/main/backend/02_explore_data.ipynb\">\n",
        "      <img width=\"32px\" src=\"https://www.gstatic.com/pantheon/images/bigquery/welcome_page/colab-logo.svg\" alt=\"Google Colaboratory logo\"><br> Run in Colab\n",
        "    </a>\n",
        "  </td>\n",
        "  <td style=\"text-align: center\">\n",
        "    <a href=\"https://console.cloud.google.com/vertex-ai/colab/import/https:%2F%2Fraw.githubusercontent.com%2Fsmvinodkumar910%2Fmarket-mirror%2Frefs%2Fheads%2Fmain%2Fbackend%2F02_explore_data.ipynb\">\n",
        "      <img width=\"32px\" src=\"https://lh3.googleusercontent.com/JmcxdQi-qOpctIvWKgPtrzZdJJK-J3sWE1RsfjZNwshCFgE_9fULcNpuXYTilIR2hjwN\" alt=\"Google Cloud Colab Enterprise logo\"><br> Run in Colab Enterprise\n",
        "    </a>\n",
        "  </td>\n",
        "  <td style=\"text-align: center\">\n",
        "    <a href=\"https://console.cloud.google.com/vertex-ai/workbench/deploy-notebook?download_url=https://raw.githubusercontent.com/smvinodkumar910/market-mirror/refs/heads/main/backend/02_explore_data.ipynb\">\n",
        "      <img src=\"https://www.gstatic.com/images/branding/gcpiconscolors/vertexai/v1/32px.svg\" alt=\"Vertex AI logo\"><br> Open in Vertex AI Workbench\n",
        "    </a>\n",
        "  </td>    \n",
        "  <td style=\"text-align: center\">\n",
        "    <a href=\"https://github.com/smvinodkumar910/market-mirror/blob/main/backend/02_explore_data.ipynb\">\n",
        "      <img width=\"32px\" src=\"https://www.svgrepo.com/download/475654/github-color.svg\" alt=\"GitHub logo\"><br> View on GitHub\n",
        "    </a>\n",
        "  </td>\n",
        "</table>"
      ]
    },
    {
      "cell_type": "markdown",
      "metadata": {},
      "source": [
        "### Authenticate your notebook environment (Colab only)\n",
        "\n",
        "If you are running this notebook on Google Colab, run the following cell to authenticate your environment.\n"
      ]
    },
    {
      "cell_type": "code",
      "execution_count": null,
      "metadata": {},
      "outputs": [],
      "source": [
        "import sys\n",
        "\n",
        "if \"google.colab\" in sys.modules:\n",
        "    # Support for third party widgets\n",
        "    from google.colab import auth, output\n",
        "\n",
        "    auth.authenticate_user()\n",
        "    output.enable_custom_widget_manager()"
      ]
    },
    {
      "cell_type": "markdown",
      "metadata": {
        "id": "6KH05oVmle9e"
      },
      "source": [
        "### Setting-up Environment"
      ]
    },
    {
      "cell_type": "markdown",
      "metadata": {},
      "source": [
        "* Please change the variables `PROJECT_ID`, `BUCKET_NAME`, `LOCATION` details to your own project as required."
      ]
    },
    {
      "cell_type": "code",
      "execution_count": null,
      "metadata": {
        "executionInfo": {
          "elapsed": 752,
          "status": "ok",
          "timestamp": 1755451605011,
          "user": {
            "displayName": "",
            "userId": ""
          },
          "user_tz": -330
        },
        "id": "B2z2mOlxnJGP"
      },
      "outputs": [],
      "source": [
        "import os\n",
        "\n",
        "PROJECT_ID = \"market-mirror-dev\"  # @param {type: \"string\", placeholder: \"[your-project-id]\", isTemplate: true}\n",
        "BUCKET_NAME = \"marke-mirror-dev-data\"  # @param {type: \"string\", placeholder: \"[your-bucket-name]\", isTemplate: true}\n",
        "LOCATION = \"US\"  # @param {type: \"string\", placeholder: \"[your-region]\", isTemplate: true}\n",
        "if not PROJECT_ID or PROJECT_ID == \"[your-project-id]\":\n",
        "    PROJECT_ID = str(os.environ.get(\"GOOGLE_CLOUD_PROJECT\"))\n",
        "\n",
        "if not LOCATION or LOCATION == \"[your-region]\":\n",
        "    LOCATION = os.environ.get(\"GOOGLE_CLOUD_REGION\", \"US\")\n"
      ]
    },
    {
      "cell_type": "code",
      "execution_count": null,
      "metadata": {
        "executionInfo": {
          "elapsed": 6,
          "status": "ok",
          "timestamp": 1755451605806,
          "user": {
            "displayName": "",
            "userId": ""
          },
          "user_tz": -330
        },
        "id": "_NKRR0u7EIvW"
      },
      "outputs": [],
      "source": [
        "os.environ['GOOGLE_CLOUD_PROJECT'] = PROJECT_ID\n",
        "os.environ['GOOGLE_CLOUD_REGION'] = LOCATION"
      ]
    },
    {
      "cell_type": "code",
      "execution_count": null,
      "metadata": {
        "executionInfo": {
          "elapsed": 5,
          "status": "ok",
          "timestamp": 1755451605806,
          "user": {
            "displayName": "",
            "userId": ""
          },
          "user_tz": -330
        },
        "id": "PzN4WPGNnL-L"
      },
      "outputs": [],
      "source": [
        "BQ_BRONZE_DATASET = \"APP_MARKET_BRONZE\" # @param {type: \"string\", placeholder: \"[bronze-dataset]\", isTemplate: true}\n",
        "BQ_SILVER_DATASET = \"APP_MARKET_SILVER\" # @param {type: \"string\", placeholder: \"[silver-dataset]\", isTemplate: true}\n",
        "BQ_GOLD_DATASET = \"APP_MARKET_GOLD\" # @param {type: \"string\", placeholder: \"[gold-dataset]\", isTemplate: true}"
      ]
    },
    {
      "cell_type": "markdown",
      "metadata": {
        "id": "dzMMPKXo3PTi"
      },
      "source": [
        "### Objective"
      ]
    },
    {
      "cell_type": "markdown",
      "metadata": {
        "id": "m5KA5BwJ3ZWX"
      },
      "source": [
        "#### Data Definitions"
      ]
    },
    {
      "cell_type": "markdown",
      "metadata": {
        "id": "Rhpg28atqEzZ"
      },
      "source": [
        "\n",
        "\n",
        "**We have loaded 6 Tables in BQ as Follows:**\n",
        "\n",
        "**Review Tables:**\n",
        "\n",
        "1. `{PROJECT_ID}.{BQ_BRONZE_DATASET}.google_play_reviews`\n",
        "\n",
        "    * This table contains user reviews of various Apps from Google Play store.\n",
        "\n",
        "    * No. of columns : 9\n",
        "    * No. of Records : 4888\n",
        "\n",
        "2. `{PROJECT_ID}.{BQ_BRONZE_DATASET}.googleplaystore_user_reviews`\n",
        "\n",
        "    * This table contains user reviews of various Apps in Google Playstore with sentiment information.\n",
        "\n",
        "    * No. of columns : 5\n",
        "    * No. of Records : 64295\n",
        "\n",
        "\n",
        "**Product Information Tables:**\n",
        "\n",
        "2. `{PROJECT_ID}.{BQ_BRONZE_DATASET}.cleanapp`\n",
        "\n",
        "    * This table having all app related information from GooglePlaystore. Information include category, genre, app ratings, number of reviews, number of downloads etc.\n",
        "\n",
        "    * No. Of Columns : 29\n",
        "    * No. of Records : 11593\n",
        "\n",
        "3. `{PROJECT_ID}.{BQ_BRONZE_DATASET}.AppleStore`\n",
        "\n",
        "    * This table having all app related information from Apple Store. Information include category, genre, app ratings, size, price etc.\n",
        "\n",
        "    * No. Of Columns : 17\n",
        "    * No. of Records : 7197\n",
        "\n",
        "4. `{PROJECT_ID}.{BQ_BRONZE_DATASET}.appleStore_description`\n",
        "\n",
        "    * This table having elaborated description in various languages about the Apps available in Apple Store.\n",
        "\n",
        "    * No. Of Columns : 5\n",
        "    * No. of Records : 7197\n",
        "\n",
        "5. `{PROJECT_ID}.{BQ_BRONZE_DATASET}.windows_store`\n",
        "\n",
        "    * This table having elaborated description about the Apps available in Windows Store.\n",
        "\n",
        "    * No. Of Columns : 9\n",
        "    * No. of Records : 3960\n"
      ]
    },
    {
      "cell_type": "markdown",
      "metadata": {
        "id": "DINNg9Yn3d45"
      },
      "source": [
        "#### Data Engineering"
      ]
    },
    {
      "cell_type": "markdown",
      "metadata": {
        "id": "FPmKdQ-W3tEu"
      },
      "source": [
        "**Review Tables**\n",
        "\n",
        "* We have two review tables `google_play_reviews` and `googleplaystore_user_reviews` in BRONZE layer.\n",
        "\n",
        "* We explore the data, clean, keep only specific columns.\n",
        "\n",
        "* Union both tables in to a single table and write to SILVER layer.\n",
        "\n",
        "* Then use Bigquery GenAI capabilities to generate Sentiment on reviews.\n",
        "\n",
        "* Utilize GenAI capabilities to generate response to each user.\n",
        "\n",
        "\n",
        "**Product Information Tables**\n",
        "\n",
        "* Combine the `AppleStore` and `appleStore_description` tables into a single table.\n",
        "\n",
        "* We can see the `appleStore_description` is having various languages. Convert them into a single language.\n",
        "\n",
        "* Generate Embeddings for the App description columns to enable vector search.\n",
        "\n",
        "* Create the `cleannapp` and `windows_store` as separate tables with necessary columns."
      ]
    },
    {
      "cell_type": "markdown",
      "metadata": {
        "id": "bL1IVNlSHIQ_"
      },
      "source": [
        "#### Creating Vertex AI Remote Models"
      ]
    },
    {
      "cell_type": "markdown",
      "metadata": {},
      "source": [
        "* In this section we are creating a CONNECTION object in BQ and then creating REMOTE MODELS."
      ]
    },
    {
      "cell_type": "markdown",
      "metadata": {},
      "source": [
        "* Below command creates connection to Vertex AI models in the name of `vertex-remote-models` in Bigquery."
      ]
    },
    {
      "cell_type": "code",
      "execution_count": null,
      "metadata": {
        "colab": {
          "base_uri": "https://localhost:8080/"
        },
        "executionInfo": {
          "elapsed": 3417,
          "status": "ok",
          "timestamp": 1755451609219,
          "user": {
            "displayName": "",
            "userId": ""
          },
          "user_tz": -330
        },
        "id": "A6textaoCt6s",
        "outputId": "f36511ea-8c05-4c23-e073-fae002ffca3c"
      },
      "outputs": [],
      "source": [
        "!bq mk --connection --location=$GOOGLE_CLOUD_REGION --project_id=$GOOGLE_CLOUD_PROJECT \\\n",
        "    --connection_type=CLOUD_RESOURCE vertex-remote-models"
      ]
    },
    {
      "cell_type": "markdown",
      "metadata": {},
      "source": [
        "* Below steps create two  remote model in Bigquery - \n",
        "\n",
        "1. remote model named `embeddings` using the `text-embedding-005` model available in Vertex AI.\n",
        "2. remote model named `gemini` using the `gemini-2.0-flash` model available in Vertex AI.\n"
      ]
    },
    {
      "cell_type": "code",
      "execution_count": null,
      "metadata": {
        "executionInfo": {
          "elapsed": 3,
          "status": "ok",
          "timestamp": 1755451609219,
          "user": {
            "displayName": "",
            "userId": ""
          },
          "user_tz": -330
        },
        "id": "-nXf-uTkJXKz"
      },
      "outputs": [],
      "source": [
        "create_embed_model = f\"\"\"\n",
        "CREATE OR REPLACE MODEL `{PROJECT_ID}.{BQ_SILVER_DATASET}.embeddings`\n",
        "REMOTE WITH CONNECTION `us.vertex-remote-models`\n",
        "OPTIONS (ENDPOINT = 'text-embedding-005');\n",
        "\"\"\"\n",
        "\n",
        "create_gen_model = f\"\"\"\n",
        "CREATE OR REPLACE MODEL `{PROJECT_ID}.{BQ_SILVER_DATASET}.gemini`\n",
        "REMOTE WITH CONNECTION `us.vertex-remote-models`\n",
        "OPTIONS (ENDPOINT = 'gemini-2.0-flash');\n",
        "\"\"\"\n"
      ]
    },
    {
      "cell_type": "code",
      "execution_count": null,
      "metadata": {
        "cellView": "form",
        "colab": {
          "base_uri": "https://localhost:8080/"
        },
        "executionInfo": {
          "elapsed": 1609,
          "status": "ok",
          "timestamp": 1755451610825,
          "user": {
            "displayName": "",
            "userId": ""
          },
          "user_tz": -330
        },
        "id": "kCFlSsMZ_ciW",
        "outputId": "82a4b5dd-1db9-4f92-f4b2-dee949fb1a3e"
      },
      "outputs": [],
      "source": [
        "# @title Error Handling Tip\n",
        "\n",
        "'''\n",
        "If you get error while running below cells to create Remote models related to\n",
        "Service account privilge, run the below command, after replacing the\n",
        "`SERVICE_ACCOUNT_EMAIL` with the service account shown in the error.\n",
        "'''\n",
        "!gcloud projects add-iam-policy-binding $GOOGLE_CLOUD_PROJECT \\\n",
        "    --member=\"serviceAccount:SERVICE_ACCOUNT_EMAIL\" \\\n",
        "    --role=\"roles/aiplatform.user\"\n"
      ]
    },
    {
      "cell_type": "code",
      "execution_count": null,
      "metadata": {
        "colab": {
          "base_uri": "https://localhost:8080/",
          "height": 85,
          "referenced_widgets": [
            "091104be15cc425a89e1a8850d17f4a9",
            "e77b284874424e5bb26b2d962a13d3f9",
            "f96d3f3d4f7a4061818f5662f3fd2e2a",
            "f4c2d0baeffc45c69f93e98f512a7dde",
            "e4e844b2f5434f4184dd3a92cc00f785",
            "d01931dfb4cf489a920c5b06bb04e772",
            "930301a2976248988b77e8ff5ee4fe2d",
            "d32f38895a7d44a19e6324b9d4d97956",
            "6da04285b0a543f7a7f69ef4810f01a5",
            "7ba28185cfb14e678d34a09f1ca8ec64",
            "6477419cced047cb81964280b217bcc1"
          ]
        },
        "executionInfo": {
          "elapsed": 2949,
          "status": "ok",
          "timestamp": 1755451613768,
          "user": {
            "displayName": "",
            "userId": ""
          },
          "user_tz": -330
        },
        "id": "R1Tvr2qsFO9V",
        "outputId": "15cce85e-5483-4058-9b7b-d76d9fa0529c"
      },
      "outputs": [],
      "source": [
        "%%bigquery\n",
        "$create_embed_model"
      ]
    },
    {
      "cell_type": "code",
      "execution_count": null,
      "metadata": {
        "colab": {
          "base_uri": "https://localhost:8080/",
          "height": 85,
          "referenced_widgets": [
            "707b0dfd887445299b488d2ed8909323",
            "87ab15548eb64bed8105e97e1f7d08f8",
            "cc620096aed04006ae0f2d9393329232",
            "dece499e025440d58540495a876d2d74",
            "14b3e2a8797d4aedabc2ecbf65afab48",
            "b53e9f5f230a4dcfacaced569a8482cd",
            "0e45fcf283d14809b300f9ee20a54067",
            "7427503f344c467198a82b0b435d30cd",
            "50bd18d8750641ad8225b20e18c48e26",
            "12b4e3391fa2440693c91ce67d812d4a",
            "40dda10dbdea44158bdc2342f0058c86"
          ]
        },
        "executionInfo": {
          "elapsed": 8048,
          "status": "ok",
          "timestamp": 1755451621810,
          "user": {
            "displayName": "",
            "userId": ""
          },
          "user_tz": -330
        },
        "id": "wkqNKQKo-i0E",
        "outputId": "e4957418-35f4-44cc-b103-8bd533ffc8f8"
      },
      "outputs": [],
      "source": [
        "%%bigquery\n",
        "$create_gen_model"
      ]
    },
    {
      "cell_type": "markdown",
      "metadata": {
        "id": "nMKPt1LdBXNx"
      },
      "source": [
        "#### Review Table Data Processing"
      ]
    },
    {
      "cell_type": "markdown",
      "metadata": {},
      "source": [
        "* In this section, we are \n",
        "    \n",
        "    1. reading the two review tables in BRONZE layer\n",
        "    2. Clean them and filter them with specific required columns.\n",
        "    3. Union both the the tables.\n",
        "    4. Write to the SILVER layer as a single table to keep all reviews as a single table.\n"
      ]
    },
    {
      "cell_type": "code",
      "execution_count": null,
      "metadata": {
        "executionInfo": {
          "elapsed": 8,
          "status": "ok",
          "timestamp": 1755451621810,
          "user": {
            "displayName": "",
            "userId": ""
          },
          "user_tz": -330
        },
        "id": "RDyJgy4XQHYz"
      },
      "outputs": [],
      "source": [
        "import bigframes.pandas as bpd\n",
        "import bigframes.bigquery as bbq\n",
        "from bigframes.ml import llm\n",
        "\n",
        "# Set BigQuery DataFrames options\n",
        "# Note: The project option is not required in all environments.\n",
        "# On BigQuery Studio, the project ID is automatically detected.\n",
        "bpd.options.bigquery.project = PROJECT_ID\n",
        "\n",
        "# Note: The location option is not required.\n",
        "# It defaults to the location of the first table or query\n",
        "# passed to read_gbq(). For APIs where a location can't be\n",
        "# auto-detected, the location defaults to the \"US\" location.\n",
        "bpd.options.bigquery.location = LOCATION"
      ]
    },
    {
      "cell_type": "markdown",
      "metadata": {
        "id": "viiYjZqQKlM4"
      },
      "source": [
        "##### Exploring app review table `google_play_reviews`"
      ]
    },
    {
      "cell_type": "code",
      "execution_count": null,
      "metadata": {
        "colab": {
          "base_uri": "https://localhost:8080/",
          "height": 34
        },
        "executionInfo": {
          "elapsed": 739,
          "status": "ok",
          "timestamp": 1755451622542,
          "user": {
            "displayName": "",
            "userId": ""
          },
          "user_tz": -330
        },
        "id": "MXThzWiZCS2w",
        "outputId": "eef12055-7c11-4dc2-cded-9b1b3ce7e976"
      },
      "outputs": [],
      "source": [
        "#read data to dataframe\n",
        "review_df1 = bpd.read_gbq(f'{PROJECT_ID}.{BQ_BRONZE_DATASET}.google_play_reviews')"
      ]
    },
    {
      "cell_type": "code",
      "execution_count": null,
      "metadata": {
        "colab": {
          "base_uri": "https://localhost:8080/",
          "height": 602
        },
        "executionInfo": {
          "elapsed": 6365,
          "status": "ok",
          "timestamp": 1755451628906,
          "user": {
            "displayName": "",
            "userId": ""
          },
          "user_tz": -330
        },
        "id": "VDlXQ0bKDUB_",
        "outputId": "90772742-d0ae-4f41-f698-5e2649ff6ed1"
      },
      "outputs": [],
      "source": [
        "review_df1.head()"
      ]
    },
    {
      "cell_type": "code",
      "execution_count": null,
      "metadata": {
        "colab": {
          "base_uri": "https://localhost:8080/"
        },
        "executionInfo": {
          "elapsed": 18,
          "status": "ok",
          "timestamp": 1755451628906,
          "user": {
            "displayName": "",
            "userId": ""
          },
          "user_tz": -330
        },
        "id": "fbG9d4SdDqcJ",
        "outputId": "21fa076a-e4c7-44d8-8220-3da360458742"
      },
      "outputs": [],
      "source": [
        "review_df1.columns"
      ]
    },
    {
      "cell_type": "code",
      "execution_count": null,
      "metadata": {
        "executionInfo": {
          "elapsed": 730,
          "status": "ok",
          "timestamp": 1755451746990,
          "user": {
            "displayName": "",
            "userId": ""
          },
          "user_tz": -330
        },
        "id": "gpGBVvDbEp5Q"
      },
      "outputs": [],
      "source": [
        "#renaming column 'Unnamed: 0' to 'id'\n",
        "review_df1 = review_df1.rename(columns={'Unnamed: 0':'id'})"
      ]
    },
    {
      "cell_type": "code",
      "execution_count": null,
      "metadata": {
        "executionInfo": {
          "elapsed": 759,
          "status": "ok",
          "timestamp": 1755451756854,
          "user": {
            "displayName": "",
            "userId": ""
          },
          "user_tz": -330
        },
        "id": "Jpk7yTk5D5q4"
      },
      "outputs": [],
      "source": [
        "#lets keep only necessary column\n",
        "review_df1_subset = review_df1[['id', 'app_name','app_genre','review_text','rating']]"
      ]
    },
    {
      "cell_type": "code",
      "execution_count": null,
      "metadata": {
        "colab": {
          "base_uri": "https://localhost:8080/",
          "height": 270
        },
        "executionInfo": {
          "elapsed": 4548,
          "status": "ok",
          "timestamp": 1755451774154,
          "user": {
            "displayName": "",
            "userId": ""
          },
          "user_tz": -330
        },
        "id": "ypcYz7t1ExQi",
        "outputId": "84300fc5-56f6-4f5f-9ec2-8a5717129a27"
      },
      "outputs": [],
      "source": [
        "review_df1_subset.head(5)"
      ]
    },
    {
      "cell_type": "code",
      "execution_count": null,
      "metadata": {
        "colab": {
          "base_uri": "https://localhost:8080/"
        },
        "executionInfo": {
          "elapsed": 1465,
          "status": "ok",
          "timestamp": 1755451778764,
          "user": {
            "displayName": "",
            "userId": ""
          },
          "user_tz": -330
        },
        "id": "FKKUO9I8E60e",
        "outputId": "58eae206-063b-416d-d872-c4765876fde8"
      },
      "outputs": [],
      "source": [
        "review_df1_subset.info()"
      ]
    },
    {
      "cell_type": "markdown",
      "metadata": {
        "id": "aawyRp0BNWls"
      },
      "source": [
        "##### Exploring app review table `googleplaystore_user_reviews`"
      ]
    },
    {
      "cell_type": "code",
      "execution_count": null,
      "metadata": {
        "executionInfo": {
          "elapsed": 741,
          "status": "ok",
          "timestamp": 1755451786001,
          "user": {
            "displayName": "",
            "userId": ""
          },
          "user_tz": -330
        },
        "id": "QnQ_l8bXNQhH"
      },
      "outputs": [],
      "source": [
        "review_df2 = bpd.read_gbq(f'{PROJECT_ID}.{BQ_BRONZE_DATASET}.googleplaystore_user_reviews')"
      ]
    },
    {
      "cell_type": "code",
      "execution_count": null,
      "metadata": {
        "colab": {
          "base_uri": "https://localhost:8080/",
          "height": 357
        },
        "executionInfo": {
          "elapsed": 4764,
          "status": "ok",
          "timestamp": 1755451791470,
          "user": {
            "displayName": "",
            "userId": ""
          },
          "user_tz": -330
        },
        "id": "CqrfUnAGNlc8",
        "outputId": "ec51d749-a002-4922-b416-9ccec937e350"
      },
      "outputs": [],
      "source": [
        "review_df2.head(5)"
      ]
    },
    {
      "cell_type": "code",
      "execution_count": null,
      "metadata": {
        "colab": {
          "base_uri": "https://localhost:8080/"
        },
        "executionInfo": {
          "elapsed": 14,
          "status": "ok",
          "timestamp": 1755451791470,
          "user": {
            "displayName": "",
            "userId": ""
          },
          "user_tz": -330
        },
        "id": "LDRfIsKPOdxO",
        "outputId": "b56ecb2a-de34-485e-80dd-2f4cdc851580"
      },
      "outputs": [],
      "source": [
        "review_df2.columns"
      ]
    },
    {
      "cell_type": "code",
      "execution_count": null,
      "metadata": {
        "executionInfo": {
          "elapsed": 7,
          "status": "ok",
          "timestamp": 1755451791470,
          "user": {
            "displayName": "",
            "userId": ""
          },
          "user_tz": -330
        },
        "id": "De-GZ2_QOpnK"
      },
      "outputs": [],
      "source": [
        "# keep only the necessary column\n",
        "\n",
        "review_df2_subset = review_df2[['App','Translated_Review','Sentiment']]"
      ]
    },
    {
      "cell_type": "code",
      "execution_count": null,
      "metadata": {
        "colab": {
          "base_uri": "https://localhost:8080/"
        },
        "executionInfo": {
          "elapsed": 4002,
          "status": "ok",
          "timestamp": 1755451795466,
          "user": {
            "displayName": "",
            "userId": ""
          },
          "user_tz": -330
        },
        "id": "L0GBdWFsOmg0",
        "outputId": "d3973fed-3202-45cf-a1b0-481ac44e8609"
      },
      "outputs": [],
      "source": [
        "review_df2_subset.info()"
      ]
    },
    {
      "cell_type": "code",
      "execution_count": null,
      "metadata": {
        "executionInfo": {
          "elapsed": 3,
          "status": "ok",
          "timestamp": 1755451795466,
          "user": {
            "displayName": "",
            "userId": ""
          },
          "user_tz": -330
        },
        "id": "Rpqkc7K_PGPV"
      },
      "outputs": [],
      "source": [
        "review_df2_subset = review_df2_subset.rename(columns={'App':'app_name','Translated_Review':'review_text','Sentiment':'sentiment'})"
      ]
    },
    {
      "cell_type": "code",
      "execution_count": null,
      "metadata": {
        "colab": {
          "base_uri": "https://localhost:8080/",
          "height": 270
        },
        "executionInfo": {
          "elapsed": 4904,
          "status": "ok",
          "timestamp": 1755451800368,
          "user": {
            "displayName": "",
            "userId": ""
          },
          "user_tz": -330
        },
        "id": "mwR9p1aYPXnB",
        "outputId": "e47ad439-b41b-4298-bf4e-1c68203626f0"
      },
      "outputs": [],
      "source": [
        "review_df2_subset.head(5)"
      ]
    },
    {
      "cell_type": "code",
      "execution_count": null,
      "metadata": {
        "executionInfo": {
          "elapsed": 5,
          "status": "ok",
          "timestamp": 1755451800368,
          "user": {
            "displayName": "",
            "userId": ""
          },
          "user_tz": -330
        },
        "id": "BM-SRVwTYB9h"
      },
      "outputs": [],
      "source": [
        "# Concat both the review tables.\n",
        "review_df = bpd.concat([review_df1_subset,review_df2_subset],axis=0)"
      ]
    },
    {
      "cell_type": "code",
      "execution_count": null,
      "metadata": {
        "colab": {
          "base_uri": "https://localhost:8080/",
          "height": 270
        },
        "executionInfo": {
          "elapsed": 6808,
          "status": "ok",
          "timestamp": 1755451807172,
          "user": {
            "displayName": "",
            "userId": ""
          },
          "user_tz": -330
        },
        "id": "r-rXF4cRYawp",
        "outputId": "b1105e1e-6466-4ba2-c781-f6be1afa14e7"
      },
      "outputs": [],
      "source": [
        "review_df.head()"
      ]
    },
    {
      "cell_type": "code",
      "execution_count": null,
      "metadata": {
        "colab": {
          "base_uri": "https://localhost:8080/",
          "height": 173
        },
        "executionInfo": {
          "elapsed": 7927,
          "status": "ok",
          "timestamp": 1755451897532,
          "user": {
            "displayName": "",
            "userId": ""
          },
          "user_tz": -330
        },
        "id": "wHtoop3vZfcT",
        "outputId": "1ea651df-14dc-4321-f528-d7c277619b1b"
      },
      "outputs": [],
      "source": [
        "review_df.count()"
      ]
    },
    {
      "cell_type": "code",
      "execution_count": null,
      "metadata": {
        "colab": {
          "base_uri": "https://localhost:8080/",
          "height": 173
        },
        "executionInfo": {
          "elapsed": 8077,
          "status": "ok",
          "timestamp": 1755451912763,
          "user": {
            "displayName": "",
            "userId": ""
          },
          "user_tz": -330
        },
        "id": "B-4Edz_haDLX",
        "outputId": "5e7faf54-aa31-43f3-a62c-79e884746ab1"
      },
      "outputs": [],
      "source": [
        "review_df.isna().sum()"
      ]
    },
    {
      "cell_type": "code",
      "execution_count": null,
      "metadata": {
        "colab": {
          "base_uri": "https://localhost:8080/",
          "height": 53
        },
        "executionInfo": {
          "elapsed": 7488,
          "status": "ok",
          "timestamp": 1755451925975,
          "user": {
            "displayName": "",
            "userId": ""
          },
          "user_tz": -330
        },
        "id": "1eLmyZceaTsX",
        "outputId": "ff95e6ac-9a1c-4b7d-d273-8115050ed358"
      },
      "outputs": [],
      "source": [
        "# Writing the table to silver layer\n",
        "review_df.to_gbq(destination_table=f'{PROJECT_ID}.{BQ_SILVER_DATASET}.T_APP_REVIEWS',if_exists='replace')"
      ]
    },
    {
      "cell_type": "markdown",
      "metadata": {
        "id": "WtMS5QxGa3rj"
      },
      "source": [
        "#### Product Tables Data Processing"
      ]
    },
    {
      "cell_type": "markdown",
      "metadata": {},
      "source": [
        "* In this section we are reading the Prodct description tables from the 3 platforms - \n",
        "    \n",
        "    1. Google   - table_names: cleanapp\n",
        "    2. Apple    - table_names: AppleStore, appleStore_description\n",
        "    3. Windows  - table_names: windows_store\n",
        "\n",
        "* Clean the data, filter with specific columns required and write the tables to SILVER layer."
      ]
    },
    {
      "cell_type": "markdown",
      "metadata": {
        "id": "E8sHWLJ5dL0w"
      },
      "source": [
        "##### Exploring Google Apps table `cleanapp`"
      ]
    },
    {
      "cell_type": "code",
      "execution_count": null,
      "metadata": {
        "executionInfo": {
          "elapsed": 764,
          "status": "ok",
          "timestamp": 1755451981118,
          "user": {
            "displayName": "",
            "userId": ""
          },
          "user_tz": -330
        },
        "id": "zlIllRdxa-q9"
      },
      "outputs": [],
      "source": [
        "google_apps_df = bpd.read_gbq(f'{PROJECT_ID}.{BQ_BRONZE_DATASET}.cleanapp')"
      ]
    },
    {
      "cell_type": "code",
      "execution_count": null,
      "metadata": {
        "colab": {
          "base_uri": "https://localhost:8080/",
          "height": 724
        },
        "executionInfo": {
          "elapsed": 6206,
          "status": "ok",
          "timestamp": 1755451987319,
          "user": {
            "displayName": "",
            "userId": ""
          },
          "user_tz": -330
        },
        "id": "CeTYcwCzbO3L",
        "outputId": "ac5f8508-cbdd-4c80-82be-5ace663c610e"
      },
      "outputs": [],
      "source": [
        "google_apps_df.head(5)"
      ]
    },
    {
      "cell_type": "code",
      "execution_count": null,
      "metadata": {
        "colab": {
          "base_uri": "https://localhost:8080/"
        },
        "executionInfo": {
          "elapsed": 7,
          "status": "ok",
          "timestamp": 1755451987319,
          "user": {
            "displayName": "",
            "userId": ""
          },
          "user_tz": -330
        },
        "id": "_jxzVj66bjc5",
        "outputId": "6053f6cc-679d-4ae5-c4f9-a74f3256d420"
      },
      "outputs": [],
      "source": [
        "google_apps_df.columns"
      ]
    },
    {
      "cell_type": "code",
      "execution_count": null,
      "metadata": {
        "colab": {
          "base_uri": "https://localhost:8080/",
          "height": 503
        },
        "executionInfo": {
          "elapsed": 7926,
          "status": "ok",
          "timestamp": 1755451995242,
          "user": {
            "displayName": "",
            "userId": ""
          },
          "user_tz": -330
        },
        "id": "qIBQLXHKblsW",
        "outputId": "517e3e71-8ea4-419b-a349-3ce40100bdc2"
      },
      "outputs": [],
      "source": [
        "google_apps_df.count()"
      ]
    },
    {
      "cell_type": "code",
      "execution_count": null,
      "metadata": {
        "executionInfo": {
          "elapsed": 4,
          "status": "ok",
          "timestamp": 1755451995243,
          "user": {
            "displayName": "",
            "userId": ""
          },
          "user_tz": -330
        },
        "id": "rKrw_qR6bsZu"
      },
      "outputs": [],
      "source": [
        "# keep only specific subset of columns\n",
        "google_apps_df_subset = google_apps_df[['title','description','summary','ratings','reviews','price','free','genre']]"
      ]
    },
    {
      "cell_type": "code",
      "execution_count": null,
      "metadata": {
        "colab": {
          "base_uri": "https://localhost:8080/",
          "height": 409
        },
        "executionInfo": {
          "elapsed": 5332,
          "status": "ok",
          "timestamp": 1755452000572,
          "user": {
            "displayName": "",
            "userId": ""
          },
          "user_tz": -330
        },
        "id": "n4u8TyCHcOpF",
        "outputId": "6d530308-9aa4-4dd2-8baf-c2a096d2c7e3"
      },
      "outputs": [],
      "source": [
        "google_apps_df_subset.head(5)"
      ]
    },
    {
      "cell_type": "code",
      "execution_count": null,
      "metadata": {
        "colab": {
          "base_uri": "https://localhost:8080/",
          "height": 53
        },
        "executionInfo": {
          "elapsed": 10219,
          "status": "ok",
          "timestamp": 1755452010788,
          "user": {
            "displayName": "",
            "userId": ""
          },
          "user_tz": -330
        },
        "id": "Ecn97kz2ckvb",
        "outputId": "3134e9fe-9719-479b-81b5-f086b6b615c3"
      },
      "outputs": [],
      "source": [
        "# write to SILVER Layer\n",
        "google_apps_df_subset.to_gbq(destination_table=f'{PROJECT_ID}.{BQ_SILVER_DATASET}.T_GOOGLE_APP_DETAILS',if_exists='replace')"
      ]
    },
    {
      "cell_type": "markdown",
      "metadata": {
        "id": "azGk4Ajwdac7"
      },
      "source": [
        "##### Exploring Windows Apps table `windows_store`"
      ]
    },
    {
      "cell_type": "code",
      "execution_count": null,
      "metadata": {
        "id": "-VYjtMFbdjHa"
      },
      "outputs": [],
      "source": [
        "windows_app_df = bpd.read_gbq(f'{PROJECT_ID}.{BQ_BRONZE_DATASET}.windows_store')"
      ]
    },
    {
      "cell_type": "code",
      "execution_count": null,
      "metadata": {
        "colab": {
          "base_uri": "https://localhost:8080/",
          "height": 409
        },
        "executionInfo": {
          "elapsed": 3736,
          "status": "ok",
          "timestamp": 1755441445367,
          "user": {
            "displayName": "",
            "userId": ""
          },
          "user_tz": -330
        },
        "id": "TC4laIxXdpg5",
        "outputId": "bd912722-2192-43fd-ae05-9d57a0a0409b"
      },
      "outputs": [],
      "source": [
        "windows_app_df.head(5)"
      ]
    },
    {
      "cell_type": "code",
      "execution_count": null,
      "metadata": {
        "id": "pZZJ4qDFd2ls"
      },
      "outputs": [],
      "source": [
        "#keep only a subset of columns\n",
        "windows_app_df_subset = windows_app_df[['Name','Price','Description','Category','Size']]"
      ]
    },
    {
      "cell_type": "code",
      "execution_count": null,
      "metadata": {
        "colab": {
          "base_uri": "https://localhost:8080/",
          "height": 138
        },
        "executionInfo": {
          "elapsed": 7902,
          "status": "ok",
          "timestamp": 1755441556246,
          "user": {
            "displayName": "",
            "userId": ""
          },
          "user_tz": -330
        },
        "id": "r_SGAViWeDWm",
        "outputId": "1920f5a2-e516-48d7-d41a-048ff9ad3240"
      },
      "outputs": [],
      "source": [
        "windows_app_df_subset.count()"
      ]
    },
    {
      "cell_type": "code",
      "execution_count": null,
      "metadata": {
        "colab": {
          "base_uri": "https://localhost:8080/",
          "height": 53
        },
        "executionInfo": {
          "elapsed": 3734,
          "status": "ok",
          "timestamp": 1755441856696,
          "user": {
            "displayName": "",
            "userId": ""
          },
          "user_tz": -330
        },
        "id": "EKZ19qsbeThN",
        "outputId": "3512b1ca-5503-4f55-82f0-cb6bc1e9e2b9"
      },
      "outputs": [],
      "source": [
        "#write to BQ SILVER Layer\n",
        "windows_app_df_subset.to_gbq(f'{PROJECT_ID}.{BQ_SILVER_DATASET}.T_WINDOWS_APP_DETAILS',if_exists='replace')"
      ]
    },
    {
      "cell_type": "markdown",
      "metadata": {
        "id": "a9j1XpHeefN7"
      },
      "source": [
        "##### Exploring Apple Apps tables `AppleStore`"
      ]
    },
    {
      "cell_type": "code",
      "execution_count": null,
      "metadata": {
        "id": "mb0h_Xj4euc-"
      },
      "outputs": [],
      "source": [
        "#Read data\n",
        "apple_app_df = bpd.read_gbq(f'{PROJECT_ID}.{BQ_BRONZE_DATASET}.AppleStore')"
      ]
    },
    {
      "cell_type": "code",
      "execution_count": null,
      "metadata": {
        "colab": {
          "base_uri": "https://localhost:8080/",
          "height": 394
        },
        "executionInfo": {
          "elapsed": 4455,
          "status": "ok",
          "timestamp": 1755441756403,
          "user": {
            "displayName": "",
            "userId": ""
          },
          "user_tz": -330
        },
        "id": "Qx9o6Ebye1Z2",
        "outputId": "9107d955-9503-4f53-fa4f-69dae1e7488f"
      },
      "outputs": [],
      "source": [
        "apple_app_df.head(5)"
      ]
    },
    {
      "cell_type": "code",
      "execution_count": null,
      "metadata": {
        "id": "s_wExaVyfExo"
      },
      "outputs": [],
      "source": [
        "#Keep only a subset of columns\n",
        "apple_app_df_subset = apple_app_df[['id','track_name','size_bytes','currency','price','user_rating','prime_genre']]"
      ]
    },
    {
      "cell_type": "code",
      "execution_count": null,
      "metadata": {
        "colab": {
          "base_uri": "https://localhost:8080/",
          "height": 270
        },
        "executionInfo": {
          "elapsed": 4091,
          "status": "ok",
          "timestamp": 1755442369962,
          "user": {
            "displayName": "",
            "userId": ""
          },
          "user_tz": -330
        },
        "id": "x_-380_4fouH",
        "outputId": "d8c4da05-03e6-403a-f279-98d19d7fc239"
      },
      "outputs": [],
      "source": [
        "apple_app_df_subset.head(5)"
      ]
    },
    {
      "cell_type": "code",
      "execution_count": null,
      "metadata": {
        "colab": {
          "base_uri": "https://localhost:8080/",
          "height": 191
        },
        "executionInfo": {
          "elapsed": 12200,
          "status": "ok",
          "timestamp": 1755442388056,
          "user": {
            "displayName": "",
            "userId": ""
          },
          "user_tz": -330
        },
        "id": "pW5h_eHXghFU",
        "outputId": "39b29bea-efd7-4fec-fe1c-9288fecaabb2"
      },
      "outputs": [],
      "source": [
        "apple_app_df_subset.count()"
      ]
    },
    {
      "cell_type": "code",
      "execution_count": null,
      "metadata": {
        "colab": {
          "base_uri": "https://localhost:8080/"
        },
        "executionInfo": {
          "elapsed": 704,
          "status": "ok",
          "timestamp": 1755442101231,
          "user": {
            "displayName": "",
            "userId": ""
          },
          "user_tz": -330
        },
        "id": "e7Sqk1fhf43d",
        "outputId": "c70f3032-4b62-457d-8883-0d1b684c1177"
      },
      "outputs": [],
      "source": [
        "# Read the 2nd Apple product description table \n",
        "apple_app_df2 = bpd.read_gbq(f'{PROJECT_ID}.{BQ_BRONZE_DATASET}.appleStore_description')"
      ]
    },
    {
      "cell_type": "code",
      "execution_count": null,
      "metadata": {
        "colab": {
          "base_uri": "https://localhost:8080/",
          "height": 270
        },
        "executionInfo": {
          "elapsed": 4410,
          "status": "ok",
          "timestamp": 1755442113043,
          "user": {
            "displayName": "",
            "userId": ""
          },
          "user_tz": -330
        },
        "id": "Adb21QCKgMgY",
        "outputId": "3fa99c65-9c64-40bb-ea3d-c11dec202dcd"
      },
      "outputs": [],
      "source": [
        "apple_app_df2.head()"
      ]
    },
    {
      "cell_type": "code",
      "execution_count": null,
      "metadata": {
        "id": "j4hoNxuLg_5o"
      },
      "outputs": [],
      "source": [
        "apple_app_df2_subset = apple_app_df2[['id','app_desc']]"
      ]
    },
    {
      "cell_type": "code",
      "execution_count": null,
      "metadata": {
        "colab": {
          "base_uri": "https://localhost:8080/",
          "height": 104
        },
        "executionInfo": {
          "elapsed": 8275,
          "status": "ok",
          "timestamp": 1755442349395,
          "user": {
            "displayName": "",
            "userId": ""
          },
          "user_tz": -330
        },
        "id": "u2Im7hC1gotR",
        "outputId": "e02e1500-bc40-4ae8-dc1d-c0c895ba514f"
      },
      "outputs": [],
      "source": [
        "apple_app_df2_subset.count()"
      ]
    },
    {
      "cell_type": "code",
      "execution_count": null,
      "metadata": {
        "id": "ru9Xjt4dgsnb"
      },
      "outputs": [],
      "source": [
        "#join both the tables\n",
        "apple_app_df_subset = bpd.merge(apple_app_df_subset,apple_app_df2_subset,left_on='id',right_on='id',how='left')"
      ]
    },
    {
      "cell_type": "code",
      "execution_count": null,
      "metadata": {
        "colab": {
          "base_uri": "https://localhost:8080/",
          "height": 339
        },
        "executionInfo": {
          "elapsed": 4242,
          "status": "ok",
          "timestamp": 1755442423085,
          "user": {
            "displayName": "",
            "userId": ""
          },
          "user_tz": -330
        },
        "id": "ZRtZmbm9g1yW",
        "outputId": "612c1b9c-f1c5-48a9-c39f-ade681de9d9d"
      },
      "outputs": [],
      "source": [
        "apple_app_df_subset.head(5)"
      ]
    },
    {
      "cell_type": "code",
      "execution_count": null,
      "metadata": {
        "colab": {
          "base_uri": "https://localhost:8080/",
          "height": 53
        },
        "executionInfo": {
          "elapsed": 4741,
          "status": "ok",
          "timestamp": 1755442450308,
          "user": {
            "displayName": "",
            "userId": ""
          },
          "user_tz": -330
        },
        "id": "z_520rocheYA",
        "outputId": "a1443b4f-08a4-4992-a091-267b933486b1"
      },
      "outputs": [],
      "source": [
        "#finally write the table to BQ Silver layer\n",
        "apple_app_df_subset.to_gbq(f'{PROJECT_ID}.{BQ_SILVER_DATASET}.T_APPLE_APP_DETAILS',if_exists='replace')"
      ]
    }
  ],
  "metadata": {
    "colab": {
      "cell_execution_strategy": "setup",
      "name": "backend/02_explore_data.ipynb",
      "provenance": []
    },
    "kernelspec": {
      "display_name": "Python 3",
      "name": "python3"
    },
    "language_info": {
      "name": "python"
    },
    "widgets": {
      "application/vnd.jupyter.widget-state+json": {
        "091104be15cc425a89e1a8850d17f4a9": {
          "model_module": "@jupyter-widgets/controls",
          "model_module_version": "1.5.0",
          "model_name": "HBoxModel",
          "state": {
            "_dom_classes": [],
            "_model_module": "@jupyter-widgets/controls",
            "_model_module_version": "1.5.0",
            "_model_name": "HBoxModel",
            "_view_count": null,
            "_view_module": "@jupyter-widgets/controls",
            "_view_module_version": "1.5.0",
            "_view_name": "HBoxView",
            "box_style": "",
            "children": [
              "IPY_MODEL_e77b284874424e5bb26b2d962a13d3f9",
              "IPY_MODEL_f96d3f3d4f7a4061818f5662f3fd2e2a",
              "IPY_MODEL_f4c2d0baeffc45c69f93e98f512a7dde"
            ],
            "layout": "IPY_MODEL_e4e844b2f5434f4184dd3a92cc00f785"
          }
        },
        "0e45fcf283d14809b300f9ee20a54067": {
          "model_module": "@jupyter-widgets/controls",
          "model_module_version": "1.5.0",
          "model_name": "DescriptionStyleModel",
          "state": {
            "_model_module": "@jupyter-widgets/controls",
            "_model_module_version": "1.5.0",
            "_model_name": "DescriptionStyleModel",
            "_view_count": null,
            "_view_module": "@jupyter-widgets/base",
            "_view_module_version": "1.2.0",
            "_view_name": "StyleView",
            "description_width": ""
          }
        },
        "12b4e3391fa2440693c91ce67d812d4a": {
          "model_module": "@jupyter-widgets/base",
          "model_module_version": "1.2.0",
          "model_name": "LayoutModel",
          "state": {
            "_model_module": "@jupyter-widgets/base",
            "_model_module_version": "1.2.0",
            "_model_name": "LayoutModel",
            "_view_count": null,
            "_view_module": "@jupyter-widgets/base",
            "_view_module_version": "1.2.0",
            "_view_name": "LayoutView",
            "align_content": null,
            "align_items": null,
            "align_self": null,
            "border": null,
            "bottom": null,
            "display": null,
            "flex": null,
            "flex_flow": null,
            "grid_area": null,
            "grid_auto_columns": null,
            "grid_auto_flow": null,
            "grid_auto_rows": null,
            "grid_column": null,
            "grid_gap": null,
            "grid_row": null,
            "grid_template_areas": null,
            "grid_template_columns": null,
            "grid_template_rows": null,
            "height": null,
            "justify_content": null,
            "justify_items": null,
            "left": null,
            "margin": null,
            "max_height": null,
            "max_width": null,
            "min_height": null,
            "min_width": null,
            "object_fit": null,
            "object_position": null,
            "order": null,
            "overflow": null,
            "overflow_x": null,
            "overflow_y": null,
            "padding": null,
            "right": null,
            "top": null,
            "visibility": null,
            "width": null
          }
        },
        "14b3e2a8797d4aedabc2ecbf65afab48": {
          "model_module": "@jupyter-widgets/base",
          "model_module_version": "1.2.0",
          "model_name": "LayoutModel",
          "state": {
            "_model_module": "@jupyter-widgets/base",
            "_model_module_version": "1.2.0",
            "_model_name": "LayoutModel",
            "_view_count": null,
            "_view_module": "@jupyter-widgets/base",
            "_view_module_version": "1.2.0",
            "_view_name": "LayoutView",
            "align_content": null,
            "align_items": null,
            "align_self": null,
            "border": null,
            "bottom": null,
            "display": null,
            "flex": null,
            "flex_flow": null,
            "grid_area": null,
            "grid_auto_columns": null,
            "grid_auto_flow": null,
            "grid_auto_rows": null,
            "grid_column": null,
            "grid_gap": null,
            "grid_row": null,
            "grid_template_areas": null,
            "grid_template_columns": null,
            "grid_template_rows": null,
            "height": null,
            "justify_content": null,
            "justify_items": null,
            "left": null,
            "margin": null,
            "max_height": null,
            "max_width": null,
            "min_height": null,
            "min_width": null,
            "object_fit": null,
            "object_position": null,
            "order": null,
            "overflow": null,
            "overflow_x": null,
            "overflow_y": null,
            "padding": null,
            "right": null,
            "top": null,
            "visibility": null,
            "width": null
          }
        },
        "40dda10dbdea44158bdc2342f0058c86": {
          "model_module": "@jupyter-widgets/controls",
          "model_module_version": "1.5.0",
          "model_name": "DescriptionStyleModel",
          "state": {
            "_model_module": "@jupyter-widgets/controls",
            "_model_module_version": "1.5.0",
            "_model_name": "DescriptionStyleModel",
            "_view_count": null,
            "_view_module": "@jupyter-widgets/base",
            "_view_module_version": "1.2.0",
            "_view_name": "StyleView",
            "description_width": ""
          }
        },
        "50bd18d8750641ad8225b20e18c48e26": {
          "model_module": "@jupyter-widgets/controls",
          "model_module_version": "1.5.0",
          "model_name": "ProgressStyleModel",
          "state": {
            "_model_module": "@jupyter-widgets/controls",
            "_model_module_version": "1.5.0",
            "_model_name": "ProgressStyleModel",
            "_view_count": null,
            "_view_module": "@jupyter-widgets/base",
            "_view_module_version": "1.2.0",
            "_view_name": "StyleView",
            "bar_color": null,
            "description_width": ""
          }
        },
        "6477419cced047cb81964280b217bcc1": {
          "model_module": "@jupyter-widgets/controls",
          "model_module_version": "1.5.0",
          "model_name": "DescriptionStyleModel",
          "state": {
            "_model_module": "@jupyter-widgets/controls",
            "_model_module_version": "1.5.0",
            "_model_name": "DescriptionStyleModel",
            "_view_count": null,
            "_view_module": "@jupyter-widgets/base",
            "_view_module_version": "1.2.0",
            "_view_name": "StyleView",
            "description_width": ""
          }
        },
        "6da04285b0a543f7a7f69ef4810f01a5": {
          "model_module": "@jupyter-widgets/controls",
          "model_module_version": "1.5.0",
          "model_name": "ProgressStyleModel",
          "state": {
            "_model_module": "@jupyter-widgets/controls",
            "_model_module_version": "1.5.0",
            "_model_name": "ProgressStyleModel",
            "_view_count": null,
            "_view_module": "@jupyter-widgets/base",
            "_view_module_version": "1.2.0",
            "_view_name": "StyleView",
            "bar_color": null,
            "description_width": ""
          }
        },
        "707b0dfd887445299b488d2ed8909323": {
          "model_module": "@jupyter-widgets/controls",
          "model_module_version": "1.5.0",
          "model_name": "HBoxModel",
          "state": {
            "_dom_classes": [],
            "_model_module": "@jupyter-widgets/controls",
            "_model_module_version": "1.5.0",
            "_model_name": "HBoxModel",
            "_view_count": null,
            "_view_module": "@jupyter-widgets/controls",
            "_view_module_version": "1.5.0",
            "_view_name": "HBoxView",
            "box_style": "",
            "children": [
              "IPY_MODEL_87ab15548eb64bed8105e97e1f7d08f8",
              "IPY_MODEL_cc620096aed04006ae0f2d9393329232",
              "IPY_MODEL_dece499e025440d58540495a876d2d74"
            ],
            "layout": "IPY_MODEL_14b3e2a8797d4aedabc2ecbf65afab48"
          }
        },
        "7427503f344c467198a82b0b435d30cd": {
          "model_module": "@jupyter-widgets/base",
          "model_module_version": "1.2.0",
          "model_name": "LayoutModel",
          "state": {
            "_model_module": "@jupyter-widgets/base",
            "_model_module_version": "1.2.0",
            "_model_name": "LayoutModel",
            "_view_count": null,
            "_view_module": "@jupyter-widgets/base",
            "_view_module_version": "1.2.0",
            "_view_name": "LayoutView",
            "align_content": null,
            "align_items": null,
            "align_self": null,
            "border": null,
            "bottom": null,
            "display": null,
            "flex": null,
            "flex_flow": null,
            "grid_area": null,
            "grid_auto_columns": null,
            "grid_auto_flow": null,
            "grid_auto_rows": null,
            "grid_column": null,
            "grid_gap": null,
            "grid_row": null,
            "grid_template_areas": null,
            "grid_template_columns": null,
            "grid_template_rows": null,
            "height": null,
            "justify_content": null,
            "justify_items": null,
            "left": null,
            "margin": null,
            "max_height": null,
            "max_width": null,
            "min_height": null,
            "min_width": null,
            "object_fit": null,
            "object_position": null,
            "order": null,
            "overflow": null,
            "overflow_x": null,
            "overflow_y": null,
            "padding": null,
            "right": null,
            "top": null,
            "visibility": null,
            "width": null
          }
        },
        "7ba28185cfb14e678d34a09f1ca8ec64": {
          "model_module": "@jupyter-widgets/base",
          "model_module_version": "1.2.0",
          "model_name": "LayoutModel",
          "state": {
            "_model_module": "@jupyter-widgets/base",
            "_model_module_version": "1.2.0",
            "_model_name": "LayoutModel",
            "_view_count": null,
            "_view_module": "@jupyter-widgets/base",
            "_view_module_version": "1.2.0",
            "_view_name": "LayoutView",
            "align_content": null,
            "align_items": null,
            "align_self": null,
            "border": null,
            "bottom": null,
            "display": null,
            "flex": null,
            "flex_flow": null,
            "grid_area": null,
            "grid_auto_columns": null,
            "grid_auto_flow": null,
            "grid_auto_rows": null,
            "grid_column": null,
            "grid_gap": null,
            "grid_row": null,
            "grid_template_areas": null,
            "grid_template_columns": null,
            "grid_template_rows": null,
            "height": null,
            "justify_content": null,
            "justify_items": null,
            "left": null,
            "margin": null,
            "max_height": null,
            "max_width": null,
            "min_height": null,
            "min_width": null,
            "object_fit": null,
            "object_position": null,
            "order": null,
            "overflow": null,
            "overflow_x": null,
            "overflow_y": null,
            "padding": null,
            "right": null,
            "top": null,
            "visibility": null,
            "width": null
          }
        },
        "87ab15548eb64bed8105e97e1f7d08f8": {
          "model_module": "@jupyter-widgets/controls",
          "model_module_version": "1.5.0",
          "model_name": "HTMLModel",
          "state": {
            "_dom_classes": [],
            "_model_module": "@jupyter-widgets/controls",
            "_model_module_version": "1.5.0",
            "_model_name": "HTMLModel",
            "_view_count": null,
            "_view_module": "@jupyter-widgets/controls",
            "_view_module_version": "1.5.0",
            "_view_name": "HTMLView",
            "description": "",
            "description_tooltip": null,
            "layout": "IPY_MODEL_b53e9f5f230a4dcfacaced569a8482cd",
            "placeholder": "​",
            "style": "IPY_MODEL_0e45fcf283d14809b300f9ee20a54067",
            "value": "Job ID f2aba480-ecaf-4852-abf7-b4fe9b4fa08e successfully executed: 100%"
          }
        },
        "930301a2976248988b77e8ff5ee4fe2d": {
          "model_module": "@jupyter-widgets/controls",
          "model_module_version": "1.5.0",
          "model_name": "DescriptionStyleModel",
          "state": {
            "_model_module": "@jupyter-widgets/controls",
            "_model_module_version": "1.5.0",
            "_model_name": "DescriptionStyleModel",
            "_view_count": null,
            "_view_module": "@jupyter-widgets/base",
            "_view_module_version": "1.2.0",
            "_view_name": "StyleView",
            "description_width": ""
          }
        },
        "b53e9f5f230a4dcfacaced569a8482cd": {
          "model_module": "@jupyter-widgets/base",
          "model_module_version": "1.2.0",
          "model_name": "LayoutModel",
          "state": {
            "_model_module": "@jupyter-widgets/base",
            "_model_module_version": "1.2.0",
            "_model_name": "LayoutModel",
            "_view_count": null,
            "_view_module": "@jupyter-widgets/base",
            "_view_module_version": "1.2.0",
            "_view_name": "LayoutView",
            "align_content": null,
            "align_items": null,
            "align_self": null,
            "border": null,
            "bottom": null,
            "display": null,
            "flex": null,
            "flex_flow": null,
            "grid_area": null,
            "grid_auto_columns": null,
            "grid_auto_flow": null,
            "grid_auto_rows": null,
            "grid_column": null,
            "grid_gap": null,
            "grid_row": null,
            "grid_template_areas": null,
            "grid_template_columns": null,
            "grid_template_rows": null,
            "height": null,
            "justify_content": null,
            "justify_items": null,
            "left": null,
            "margin": null,
            "max_height": null,
            "max_width": null,
            "min_height": null,
            "min_width": null,
            "object_fit": null,
            "object_position": null,
            "order": null,
            "overflow": null,
            "overflow_x": null,
            "overflow_y": null,
            "padding": null,
            "right": null,
            "top": null,
            "visibility": null,
            "width": null
          }
        },
        "cc620096aed04006ae0f2d9393329232": {
          "model_module": "@jupyter-widgets/controls",
          "model_module_version": "1.5.0",
          "model_name": "FloatProgressModel",
          "state": {
            "_dom_classes": [],
            "_model_module": "@jupyter-widgets/controls",
            "_model_module_version": "1.5.0",
            "_model_name": "FloatProgressModel",
            "_view_count": null,
            "_view_module": "@jupyter-widgets/controls",
            "_view_module_version": "1.5.0",
            "_view_name": "ProgressView",
            "bar_style": "success",
            "description": "",
            "description_tooltip": null,
            "layout": "IPY_MODEL_7427503f344c467198a82b0b435d30cd",
            "max": 1,
            "min": 0,
            "orientation": "horizontal",
            "style": "IPY_MODEL_50bd18d8750641ad8225b20e18c48e26",
            "value": 1
          }
        },
        "d01931dfb4cf489a920c5b06bb04e772": {
          "model_module": "@jupyter-widgets/base",
          "model_module_version": "1.2.0",
          "model_name": "LayoutModel",
          "state": {
            "_model_module": "@jupyter-widgets/base",
            "_model_module_version": "1.2.0",
            "_model_name": "LayoutModel",
            "_view_count": null,
            "_view_module": "@jupyter-widgets/base",
            "_view_module_version": "1.2.0",
            "_view_name": "LayoutView",
            "align_content": null,
            "align_items": null,
            "align_self": null,
            "border": null,
            "bottom": null,
            "display": null,
            "flex": null,
            "flex_flow": null,
            "grid_area": null,
            "grid_auto_columns": null,
            "grid_auto_flow": null,
            "grid_auto_rows": null,
            "grid_column": null,
            "grid_gap": null,
            "grid_row": null,
            "grid_template_areas": null,
            "grid_template_columns": null,
            "grid_template_rows": null,
            "height": null,
            "justify_content": null,
            "justify_items": null,
            "left": null,
            "margin": null,
            "max_height": null,
            "max_width": null,
            "min_height": null,
            "min_width": null,
            "object_fit": null,
            "object_position": null,
            "order": null,
            "overflow": null,
            "overflow_x": null,
            "overflow_y": null,
            "padding": null,
            "right": null,
            "top": null,
            "visibility": null,
            "width": null
          }
        },
        "d32f38895a7d44a19e6324b9d4d97956": {
          "model_module": "@jupyter-widgets/base",
          "model_module_version": "1.2.0",
          "model_name": "LayoutModel",
          "state": {
            "_model_module": "@jupyter-widgets/base",
            "_model_module_version": "1.2.0",
            "_model_name": "LayoutModel",
            "_view_count": null,
            "_view_module": "@jupyter-widgets/base",
            "_view_module_version": "1.2.0",
            "_view_name": "LayoutView",
            "align_content": null,
            "align_items": null,
            "align_self": null,
            "border": null,
            "bottom": null,
            "display": null,
            "flex": null,
            "flex_flow": null,
            "grid_area": null,
            "grid_auto_columns": null,
            "grid_auto_flow": null,
            "grid_auto_rows": null,
            "grid_column": null,
            "grid_gap": null,
            "grid_row": null,
            "grid_template_areas": null,
            "grid_template_columns": null,
            "grid_template_rows": null,
            "height": null,
            "justify_content": null,
            "justify_items": null,
            "left": null,
            "margin": null,
            "max_height": null,
            "max_width": null,
            "min_height": null,
            "min_width": null,
            "object_fit": null,
            "object_position": null,
            "order": null,
            "overflow": null,
            "overflow_x": null,
            "overflow_y": null,
            "padding": null,
            "right": null,
            "top": null,
            "visibility": null,
            "width": null
          }
        },
        "dece499e025440d58540495a876d2d74": {
          "model_module": "@jupyter-widgets/controls",
          "model_module_version": "1.5.0",
          "model_name": "HTMLModel",
          "state": {
            "_dom_classes": [],
            "_model_module": "@jupyter-widgets/controls",
            "_model_module_version": "1.5.0",
            "_model_name": "HTMLModel",
            "_view_count": null,
            "_view_module": "@jupyter-widgets/controls",
            "_view_module_version": "1.5.0",
            "_view_name": "HTMLView",
            "description": "",
            "description_tooltip": null,
            "layout": "IPY_MODEL_12b4e3391fa2440693c91ce67d812d4a",
            "placeholder": "​",
            "style": "IPY_MODEL_40dda10dbdea44158bdc2342f0058c86",
            "value": ""
          }
        },
        "e4e844b2f5434f4184dd3a92cc00f785": {
          "model_module": "@jupyter-widgets/base",
          "model_module_version": "1.2.0",
          "model_name": "LayoutModel",
          "state": {
            "_model_module": "@jupyter-widgets/base",
            "_model_module_version": "1.2.0",
            "_model_name": "LayoutModel",
            "_view_count": null,
            "_view_module": "@jupyter-widgets/base",
            "_view_module_version": "1.2.0",
            "_view_name": "LayoutView",
            "align_content": null,
            "align_items": null,
            "align_self": null,
            "border": null,
            "bottom": null,
            "display": null,
            "flex": null,
            "flex_flow": null,
            "grid_area": null,
            "grid_auto_columns": null,
            "grid_auto_flow": null,
            "grid_auto_rows": null,
            "grid_column": null,
            "grid_gap": null,
            "grid_row": null,
            "grid_template_areas": null,
            "grid_template_columns": null,
            "grid_template_rows": null,
            "height": null,
            "justify_content": null,
            "justify_items": null,
            "left": null,
            "margin": null,
            "max_height": null,
            "max_width": null,
            "min_height": null,
            "min_width": null,
            "object_fit": null,
            "object_position": null,
            "order": null,
            "overflow": null,
            "overflow_x": null,
            "overflow_y": null,
            "padding": null,
            "right": null,
            "top": null,
            "visibility": null,
            "width": null
          }
        },
        "e77b284874424e5bb26b2d962a13d3f9": {
          "model_module": "@jupyter-widgets/controls",
          "model_module_version": "1.5.0",
          "model_name": "HTMLModel",
          "state": {
            "_dom_classes": [],
            "_model_module": "@jupyter-widgets/controls",
            "_model_module_version": "1.5.0",
            "_model_name": "HTMLModel",
            "_view_count": null,
            "_view_module": "@jupyter-widgets/controls",
            "_view_module_version": "1.5.0",
            "_view_name": "HTMLView",
            "description": "",
            "description_tooltip": null,
            "layout": "IPY_MODEL_d01931dfb4cf489a920c5b06bb04e772",
            "placeholder": "​",
            "style": "IPY_MODEL_930301a2976248988b77e8ff5ee4fe2d",
            "value": "Job ID 429d0f16-efbf-4526-975e-5b3952eb0847 successfully executed: 100%"
          }
        },
        "f4c2d0baeffc45c69f93e98f512a7dde": {
          "model_module": "@jupyter-widgets/controls",
          "model_module_version": "1.5.0",
          "model_name": "HTMLModel",
          "state": {
            "_dom_classes": [],
            "_model_module": "@jupyter-widgets/controls",
            "_model_module_version": "1.5.0",
            "_model_name": "HTMLModel",
            "_view_count": null,
            "_view_module": "@jupyter-widgets/controls",
            "_view_module_version": "1.5.0",
            "_view_name": "HTMLView",
            "description": "",
            "description_tooltip": null,
            "layout": "IPY_MODEL_7ba28185cfb14e678d34a09f1ca8ec64",
            "placeholder": "​",
            "style": "IPY_MODEL_6477419cced047cb81964280b217bcc1",
            "value": ""
          }
        },
        "f96d3f3d4f7a4061818f5662f3fd2e2a": {
          "model_module": "@jupyter-widgets/controls",
          "model_module_version": "1.5.0",
          "model_name": "FloatProgressModel",
          "state": {
            "_dom_classes": [],
            "_model_module": "@jupyter-widgets/controls",
            "_model_module_version": "1.5.0",
            "_model_name": "FloatProgressModel",
            "_view_count": null,
            "_view_module": "@jupyter-widgets/controls",
            "_view_module_version": "1.5.0",
            "_view_name": "ProgressView",
            "bar_style": "success",
            "description": "",
            "description_tooltip": null,
            "layout": "IPY_MODEL_d32f38895a7d44a19e6324b9d4d97956",
            "max": 1,
            "min": 0,
            "orientation": "horizontal",
            "style": "IPY_MODEL_6da04285b0a543f7a7f69ef4810f01a5",
            "value": 1
          }
        }
      }
    }
  },
  "nbformat": 4,
  "nbformat_minor": 0
}
