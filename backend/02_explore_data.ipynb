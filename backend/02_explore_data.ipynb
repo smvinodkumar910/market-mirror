{
  "cells": [
    {
      "cell_type": "markdown",
      "metadata": {
        "id": "vCe6XdgiPZh7"
      },
      "source": [
        "# Explore Raw Data\n",
        "\n",
        "* In this Notebook we are exploring the data loaded in BRONZE layer.\n",
        "* clean and filter the data with specific columns we require and move the data to silver layer.\n",
        "* Creating BQ remote embedding model and generative model for data enrichment using GenAI functions in Bigquery."
      ]
    },
    {
      "cell_type": "markdown",
      "metadata": {},
      "source": [
        "\n",
        "<table align=\"left\">\n",
        "  <td style=\"text-align: center\">\n",
        "    <a href=\"https://colab.research.google.com/github/smvinodkumar910/market-mirror/blob/main/backend/02_explore_data.ipynb\">\n",
        "      <img width=\"32px\" src=\"https://www.gstatic.com/pantheon/images/bigquery/welcome_page/colab-logo.svg\" alt=\"Google Colaboratory logo\"><br> Run in Colab\n",
        "    </a>\n",
        "  </td>\n",
        "  <td style=\"text-align: center\">\n",
        "    <a href=\"https://console.cloud.google.com/vertex-ai/colab/import/https:%2F%2Fraw.githubusercontent.com%2Fsmvinodkumar910%2Fmarket-mirror%2Frefs%2Fheads%2Fmain%2Fbackend%2F02_explore_data.ipynb\">\n",
        "      <img width=\"32px\" src=\"https://lh3.googleusercontent.com/JmcxdQi-qOpctIvWKgPtrzZdJJK-J3sWE1RsfjZNwshCFgE_9fULcNpuXYTilIR2hjwN\" alt=\"Google Cloud Colab Enterprise logo\"><br> Run in Colab Enterprise\n",
        "    </a>\n",
        "  </td>\n",
        "  <td style=\"text-align: center\">\n",
        "    <a href=\"https://console.cloud.google.com/vertex-ai/workbench/deploy-notebook?download_url=https://raw.githubusercontent.com/smvinodkumar910/market-mirror/refs/heads/main/backend/02_explore_data.ipynb\">\n",
        "      <img src=\"https://www.gstatic.com/images/branding/gcpiconscolors/vertexai/v1/32px.svg\" alt=\"Vertex AI logo\"><br> Open in Vertex AI Workbench\n",
        "    </a>\n",
        "  </td>    \n",
        "  <td style=\"text-align: center\">\n",
        "    <a href=\"https://github.com/smvinodkumar910/market-mirror/blob/main/backend/02_explore_data.ipynb\">\n",
        "      <img width=\"32px\" src=\"https://www.svgrepo.com/download/475654/github-color.svg\" alt=\"GitHub logo\"><br> View on GitHub\n",
        "    </a>\n",
        "  </td>\n",
        "</table>"
      ]
    },
    {
      "cell_type": "markdown",
      "metadata": {},
      "source": [
        "### Authenticate your notebook environment (Colab only)\n",
        "\n",
        "If you are running this notebook on Google Colab, run the following cell to authenticate your environment.\n"
      ]
    },
    {
      "cell_type": "code",
      "execution_count": null,
      "metadata": {},
      "outputs": [],
      "source": [
        "import sys\n",
        "\n",
        "if \"google.colab\" in sys.modules:\n",
        "    # Support for third party widgets\n",
        "    from google.colab import auth, output\n",
        "\n",
        "    auth.authenticate_user()\n",
        "    output.enable_custom_widget_manager()"
      ]
    },
    {
      "cell_type": "markdown",
      "metadata": {
        "id": "6KH05oVmle9e"
      },
      "source": [
        "### Setting-up Environment"
      ]
    },
    {
      "cell_type": "markdown",
      "metadata": {},
      "source": [
        "* Please change the variables `PROJECT_ID`, `BUCKET_NAME`, `LOCATION` details to your own project as required."
      ]
    },
    {
      "cell_type": "code",
      "execution_count": 1,
      "metadata": {
        "executionInfo": {
          "elapsed": 752,
          "status": "ok",
          "timestamp": 1755451605011,
          "user": {
            "displayName": "",
            "userId": ""
          },
          "user_tz": -330
        },
        "id": "B2z2mOlxnJGP"
      },
      "outputs": [],
      "source": [
        "import os\n",
        "\n",
        "PROJECT_ID = \"market-mirror-dev\"  # @param {type: \"string\", placeholder: \"[your-project-id]\", isTemplate: true}\n",
        "BUCKET_NAME = \"marke-mirror-dev-data\"  # @param {type: \"string\", placeholder: \"[your-bucket-name]\", isTemplate: true}\n",
        "LOCATION = \"US\"  # @param {type: \"string\", placeholder: \"[your-region]\", isTemplate: true}\n",
        "if not PROJECT_ID or PROJECT_ID == \"[your-project-id]\":\n",
        "    PROJECT_ID = str(os.environ.get(\"GOOGLE_CLOUD_PROJECT\"))\n",
        "\n",
        "if not LOCATION or LOCATION == \"[your-region]\":\n",
        "    LOCATION = os.environ.get(\"GOOGLE_CLOUD_REGION\", \"US\")\n"
      ]
    },
    {
      "cell_type": "code",
      "execution_count": 2,
      "metadata": {
        "executionInfo": {
          "elapsed": 6,
          "status": "ok",
          "timestamp": 1755451605806,
          "user": {
            "displayName": "",
            "userId": ""
          },
          "user_tz": -330
        },
        "id": "_NKRR0u7EIvW"
      },
      "outputs": [],
      "source": [
        "os.environ['GOOGLE_CLOUD_PROJECT'] = PROJECT_ID\n",
        "os.environ['GOOGLE_CLOUD_REGION'] = LOCATION"
      ]
    },
    {
      "cell_type": "code",
      "execution_count": 3,
      "metadata": {
        "executionInfo": {
          "elapsed": 5,
          "status": "ok",
          "timestamp": 1755451605806,
          "user": {
            "displayName": "",
            "userId": ""
          },
          "user_tz": -330
        },
        "id": "PzN4WPGNnL-L"
      },
      "outputs": [],
      "source": [
        "BQ_BRONZE_DATASET = \"APP_MARKET_BRONZE\" # @param {type: \"string\", placeholder: \"[bronze-dataset]\", isTemplate: true}\n",
        "BQ_SILVER_DATASET = \"APP_MARKET_SILVER\" # @param {type: \"string\", placeholder: \"[silver-dataset]\", isTemplate: true}\n",
        "BQ_GOLD_DATASET = \"APP_MARKET_GOLD\" # @param {type: \"string\", placeholder: \"[gold-dataset]\", isTemplate: true}"
      ]
    },
    {
      "cell_type": "markdown",
      "metadata": {
        "id": "dzMMPKXo3PTi"
      },
      "source": [
        "### Objective"
      ]
    },
    {
      "cell_type": "markdown",
      "metadata": {
        "id": "m5KA5BwJ3ZWX"
      },
      "source": [
        "#### Data Definitions"
      ]
    },
    {
      "cell_type": "markdown",
      "metadata": {
        "id": "Rhpg28atqEzZ"
      },
      "source": [
        "\n",
        "\n",
        "**We have loaded 6 Tables in BQ as Follows:**\n",
        "\n",
        "**Review Tables:**\n",
        "\n",
        "1. `{PROJECT_ID}.{BQ_BRONZE_DATASET}.google_play_reviews`\n",
        "\n",
        "    * This table contains user reviews of various Apps from Google Play store.\n",
        "\n",
        "    * No. of columns : 9\n",
        "    * No. of Records : 4888\n",
        "\n",
        "2. `{PROJECT_ID}.{BQ_BRONZE_DATASET}.googleplaystore_user_reviews`\n",
        "\n",
        "    * This table contains user reviews of various Apps in Google Playstore with sentiment information.\n",
        "\n",
        "    * No. of columns : 5\n",
        "    * No. of Records : 64295\n",
        "\n",
        "\n",
        "**Product Information Tables:**\n",
        "\n",
        "2. `{PROJECT_ID}.{BQ_BRONZE_DATASET}.cleanapp`\n",
        "\n",
        "    * This table having all app related information from GooglePlaystore. Information include category, genre, app ratings, number of reviews, number of downloads etc.\n",
        "\n",
        "    * No. Of Columns : 29\n",
        "    * No. of Records : 11593\n",
        "\n",
        "3. `{PROJECT_ID}.{BQ_BRONZE_DATASET}.AppleStore`\n",
        "\n",
        "    * This table having all app related information from Apple Store. Information include category, genre, app ratings, size, price etc.\n",
        "\n",
        "    * No. Of Columns : 17\n",
        "    * No. of Records : 7197\n",
        "\n",
        "4. `{PROJECT_ID}.{BQ_BRONZE_DATASET}.appleStore_description`\n",
        "\n",
        "    * This table having elaborated description in various languages about the Apps available in Apple Store.\n",
        "\n",
        "    * No. Of Columns : 5\n",
        "    * No. of Records : 7197\n",
        "\n",
        "5. `{PROJECT_ID}.{BQ_BRONZE_DATASET}.windows_store`\n",
        "\n",
        "    * This table having elaborated description about the Apps available in Windows Store.\n",
        "\n",
        "    * No. Of Columns : 9\n",
        "    * No. of Records : 3960\n"
      ]
    },
    {
      "cell_type": "markdown",
      "metadata": {
        "id": "DINNg9Yn3d45"
      },
      "source": [
        "#### Data Engineering"
      ]
    },
    {
      "cell_type": "markdown",
      "metadata": {
        "id": "FPmKdQ-W3tEu"
      },
      "source": [
        "**Review Tables**\n",
        "\n",
        "* We have two review tables `google_play_reviews` and `googleplaystore_user_reviews` in BRONZE layer.\n",
        "\n",
        "* We explore the data, clean, keep only specific columns.\n",
        "\n",
        "* Union both tables in to a single table and write to SILVER layer.\n",
        "\n",
        "* Then use Bigquery GenAI capabilities to generate Sentiment on reviews.\n",
        "\n",
        "* Utilize GenAI capabilities to generate response to each user.\n",
        "\n",
        "\n",
        "**Product Information Tables**\n",
        "\n",
        "* Combine the `AppleStore` and `appleStore_description` tables into a single table.\n",
        "\n",
        "* We can see the `appleStore_description` is having various languages. Convert them into a single language.\n",
        "\n",
        "* Generate Embeddings for the App description columns to enable vector search.\n",
        "\n",
        "* Create the `cleannapp` and `windows_store` as separate tables with necessary columns."
      ]
    },
    {
      "cell_type": "markdown",
      "metadata": {
        "id": "bL1IVNlSHIQ_"
      },
      "source": [
        "#### Creating Vertex AI Remote Models"
      ]
    },
    {
      "cell_type": "markdown",
      "metadata": {},
      "source": [
        "* In this section we are creating a CONNECTION object in BQ and then creating REMOTE MODELS."
      ]
    },
    {
      "cell_type": "markdown",
      "metadata": {},
      "source": [
        "* Below command creates connection to Vertex AI models in the name of `vertex-remote-models` in Bigquery."
      ]
    },
    {
      "cell_type": "code",
      "execution_count": 4,
      "metadata": {
        "colab": {
          "base_uri": "https://localhost:8080/"
        },
        "executionInfo": {
          "elapsed": 3417,
          "status": "ok",
          "timestamp": 1755451609219,
          "user": {
            "displayName": "",
            "userId": ""
          },
          "user_tz": -330
        },
        "id": "A6textaoCt6s",
        "outputId": "f36511ea-8c05-4c23-e073-fae002ffca3c"
      },
      "outputs": [
        {
          "name": "stdout",
          "output_type": "stream",
          "text": [
            "BigQuery error in mk operation: Already Exists: Connection\n",
            "projects/468982775008/locations/us/connections/vertex-remote-models\n"
          ]
        }
      ],
      "source": [
        "!bq mk --connection --location=$GOOGLE_CLOUD_REGION --project_id=$GOOGLE_CLOUD_PROJECT \\\n",
        "    --connection_type=CLOUD_RESOURCE vertex-remote-models"
      ]
    },
    {
      "cell_type": "markdown",
      "metadata": {},
      "source": [
        "* Below steps create two  remote model in Bigquery - \n",
        "\n",
        "1. remote model named `embeddings` using the `text-embedding-005` model available in Vertex AI.\n",
        "2. remote model named `gemini` using the `gemini-2.0-flash` model available in Vertex AI.\n"
      ]
    },
    {
      "cell_type": "code",
      "execution_count": 5,
      "metadata": {
        "executionInfo": {
          "elapsed": 3,
          "status": "ok",
          "timestamp": 1755451609219,
          "user": {
            "displayName": "",
            "userId": ""
          },
          "user_tz": -330
        },
        "id": "-nXf-uTkJXKz"
      },
      "outputs": [],
      "source": [
        "create_embed_model = f\"\"\"\n",
        "CREATE OR REPLACE MODEL `{PROJECT_ID}.{BQ_SILVER_DATASET}.embeddings`\n",
        "REMOTE WITH CONNECTION `us.vertex-remote-models`\n",
        "OPTIONS (ENDPOINT = 'text-embedding-005');\n",
        "\"\"\"\n",
        "\n",
        "create_gen_model = f\"\"\"\n",
        "CREATE OR REPLACE MODEL `{PROJECT_ID}.{BQ_SILVER_DATASET}.gemini`\n",
        "REMOTE WITH CONNECTION `us.vertex-remote-models`\n",
        "OPTIONS (ENDPOINT = 'gemini-2.0-flash');\n",
        "\"\"\"\n"
      ]
    },
    {
      "cell_type": "code",
      "execution_count": 6,
      "metadata": {
        "cellView": "form",
        "colab": {
          "base_uri": "https://localhost:8080/"
        },
        "executionInfo": {
          "elapsed": 1609,
          "status": "ok",
          "timestamp": 1755451610825,
          "user": {
            "displayName": "",
            "userId": ""
          },
          "user_tz": -330
        },
        "id": "kCFlSsMZ_ciW",
        "outputId": "82a4b5dd-1db9-4f92-f4b2-dee949fb1a3e"
      },
      "outputs": [
        {
          "name": "stdout",
          "output_type": "stream",
          "text": [
            "ERROR: Policy modification failed. For a binding with condition, run \"gcloud alpha iam policies lint-condition\" to identify issues in condition.\n",
            "\u001b[1;31mERROR:\u001b[0m (gcloud.projects.add-iam-policy-binding) INVALID_ARGUMENT: Invalid service account (SERVICE_ACCOUNT_EMAIL).\n"
          ]
        }
      ],
      "source": [
        "# @title Error Handling Tip\n",
        "\n",
        "'''\n",
        "If you get error while running below cells to create Remote models related to\n",
        "Service account privilge, run the below command, after replacing the\n",
        "`SERVICE_ACCOUNT_EMAIL` with the service account shown in the error.\n",
        "'''\n",
        "!gcloud projects add-iam-policy-binding $GOOGLE_CLOUD_PROJECT \\\n",
        "    --member=\"serviceAccount:SERVICE_ACCOUNT_EMAIL\" \\\n",
        "    --role=\"roles/aiplatform.user\"\n"
      ]
    },
    {
      "cell_type": "code",
      "execution_count": 7,
      "metadata": {
        "colab": {
          "base_uri": "https://localhost:8080/",
          "height": 85,
          "referenced_widgets": [
            "091104be15cc425a89e1a8850d17f4a9",
            "e77b284874424e5bb26b2d962a13d3f9",
            "f96d3f3d4f7a4061818f5662f3fd2e2a",
            "f4c2d0baeffc45c69f93e98f512a7dde",
            "e4e844b2f5434f4184dd3a92cc00f785",
            "d01931dfb4cf489a920c5b06bb04e772",
            "930301a2976248988b77e8ff5ee4fe2d",
            "d32f38895a7d44a19e6324b9d4d97956",
            "6da04285b0a543f7a7f69ef4810f01a5",
            "7ba28185cfb14e678d34a09f1ca8ec64",
            "6477419cced047cb81964280b217bcc1"
          ]
        },
        "executionInfo": {
          "elapsed": 2949,
          "status": "ok",
          "timestamp": 1755451613768,
          "user": {
            "displayName": "",
            "userId": ""
          },
          "user_tz": -330
        },
        "id": "R1Tvr2qsFO9V",
        "outputId": "15cce85e-5483-4058-9b7b-d76d9fa0529c"
      },
      "outputs": [
        {
          "data": {
            "application/vnd.jupyter.widget-view+json": {
              "model_id": "091104be15cc425a89e1a8850d17f4a9",
              "version_major": 2,
              "version_minor": 0
            },
            "text/plain": [
              "Query is running:   0%|          |"
            ]
          },
          "metadata": {},
          "output_type": "display_data"
        },
        {
          "data": {
            "application/vnd.google.colaboratory.intrinsic+json": {
              "summary": "{\n  \"name\": \"get_ipython()\",\n  \"rows\": 0,\n  \"fields\": []\n}",
              "type": "dataframe"
            },
            "text/html": [
              "\n",
              "  <div id=\"df-58742379-a706-4b96-9622-5ea78f00204b\" class=\"colab-df-container\">\n",
              "    <div>\n",
              "<style scoped>\n",
              "    .dataframe tbody tr th:only-of-type {\n",
              "        vertical-align: middle;\n",
              "    }\n",
              "\n",
              "    .dataframe tbody tr th {\n",
              "        vertical-align: top;\n",
              "    }\n",
              "\n",
              "    .dataframe thead th {\n",
              "        text-align: right;\n",
              "    }\n",
              "</style>\n",
              "<table border=\"1\" class=\"dataframe\">\n",
              "  <thead>\n",
              "    <tr style=\"text-align: right;\">\n",
              "      <th></th>\n",
              "    </tr>\n",
              "  </thead>\n",
              "  <tbody>\n",
              "  </tbody>\n",
              "</table>\n",
              "</div>\n",
              "    <div class=\"colab-df-buttons\">\n",
              "\n",
              "  <div class=\"colab-df-container\">\n",
              "    <button class=\"colab-df-convert\" onclick=\"convertToInteractive('df-58742379-a706-4b96-9622-5ea78f00204b')\"\n",
              "            title=\"Convert this dataframe to an interactive table.\"\n",
              "            style=\"display:none;\">\n",
              "\n",
              "  <svg xmlns=\"http://www.w3.org/2000/svg\" height=\"24px\" viewBox=\"0 -960 960 960\">\n",
              "    <path d=\"M120-120v-720h720v720H120Zm60-500h600v-160H180v160Zm220 220h160v-160H400v160Zm0 220h160v-160H400v160ZM180-400h160v-160H180v160Zm440 0h160v-160H620v160ZM180-180h160v-160H180v160Zm440 0h160v-160H620v160Z\"/>\n",
              "  </svg>\n",
              "    </button>\n",
              "\n",
              "  <style>\n",
              "    .colab-df-container {\n",
              "      display:flex;\n",
              "      gap: 12px;\n",
              "    }\n",
              "\n",
              "    .colab-df-convert {\n",
              "      background-color: #E8F0FE;\n",
              "      border: none;\n",
              "      border-radius: 50%;\n",
              "      cursor: pointer;\n",
              "      display: none;\n",
              "      fill: #1967D2;\n",
              "      height: 32px;\n",
              "      padding: 0 0 0 0;\n",
              "      width: 32px;\n",
              "    }\n",
              "\n",
              "    .colab-df-convert:hover {\n",
              "      background-color: #E2EBFA;\n",
              "      box-shadow: 0px 1px 2px rgba(60, 64, 67, 0.3), 0px 1px 3px 1px rgba(60, 64, 67, 0.15);\n",
              "      fill: #174EA6;\n",
              "    }\n",
              "\n",
              "    .colab-df-buttons div {\n",
              "      margin-bottom: 4px;\n",
              "    }\n",
              "\n",
              "    [theme=dark] .colab-df-convert {\n",
              "      background-color: #3B4455;\n",
              "      fill: #D2E3FC;\n",
              "    }\n",
              "\n",
              "    [theme=dark] .colab-df-convert:hover {\n",
              "      background-color: #434B5C;\n",
              "      box-shadow: 0px 1px 3px 1px rgba(0, 0, 0, 0.15);\n",
              "      filter: drop-shadow(0px 1px 2px rgba(0, 0, 0, 0.3));\n",
              "      fill: #FFFFFF;\n",
              "    }\n",
              "  </style>\n",
              "\n",
              "    <script>\n",
              "      const buttonEl =\n",
              "        document.querySelector('#df-58742379-a706-4b96-9622-5ea78f00204b button.colab-df-convert');\n",
              "      buttonEl.style.display =\n",
              "        google.colab.kernel.accessAllowed ? 'block' : 'none';\n",
              "\n",
              "      async function convertToInteractive(key) {\n",
              "        const element = document.querySelector('#df-58742379-a706-4b96-9622-5ea78f00204b');\n",
              "        const dataTable =\n",
              "          await google.colab.kernel.invokeFunction('convertToInteractive',\n",
              "                                                    [key], {});\n",
              "        if (!dataTable) return;\n",
              "\n",
              "        const docLinkHtml = 'Like what you see? Visit the ' +\n",
              "          '<a target=\"_blank\" href=https://colab.research.google.com/notebooks/data_table.ipynb>data table notebook</a>'\n",
              "          + ' to learn more about interactive tables.';\n",
              "        element.innerHTML = '';\n",
              "        dataTable['output_type'] = 'display_data';\n",
              "        await google.colab.output.renderOutput(dataTable, element);\n",
              "        const docLink = document.createElement('div');\n",
              "        docLink.innerHTML = docLinkHtml;\n",
              "        element.appendChild(docLink);\n",
              "      }\n",
              "    </script>\n",
              "  </div>\n",
              "\n",
              "\n",
              "    </div>\n",
              "  </div>\n"
            ],
            "text/plain": [
              "Empty DataFrame\n",
              "Columns: []\n",
              "Index: []"
            ]
          },
          "execution_count": 7,
          "metadata": {},
          "output_type": "execute_result"
        }
      ],
      "source": [
        "%%bigquery\n",
        "$create_embed_model"
      ]
    },
    {
      "cell_type": "code",
      "execution_count": 8,
      "metadata": {
        "colab": {
          "base_uri": "https://localhost:8080/",
          "height": 85,
          "referenced_widgets": [
            "707b0dfd887445299b488d2ed8909323",
            "87ab15548eb64bed8105e97e1f7d08f8",
            "cc620096aed04006ae0f2d9393329232",
            "dece499e025440d58540495a876d2d74",
            "14b3e2a8797d4aedabc2ecbf65afab48",
            "b53e9f5f230a4dcfacaced569a8482cd",
            "0e45fcf283d14809b300f9ee20a54067",
            "7427503f344c467198a82b0b435d30cd",
            "50bd18d8750641ad8225b20e18c48e26",
            "12b4e3391fa2440693c91ce67d812d4a",
            "40dda10dbdea44158bdc2342f0058c86"
          ]
        },
        "executionInfo": {
          "elapsed": 8048,
          "status": "ok",
          "timestamp": 1755451621810,
          "user": {
            "displayName": "",
            "userId": ""
          },
          "user_tz": -330
        },
        "id": "wkqNKQKo-i0E",
        "outputId": "e4957418-35f4-44cc-b103-8bd533ffc8f8"
      },
      "outputs": [
        {
          "data": {
            "application/vnd.jupyter.widget-view+json": {
              "model_id": "707b0dfd887445299b488d2ed8909323",
              "version_major": 2,
              "version_minor": 0
            },
            "text/plain": [
              "Query is running:   0%|          |"
            ]
          },
          "metadata": {},
          "output_type": "display_data"
        },
        {
          "data": {
            "application/vnd.google.colaboratory.intrinsic+json": {
              "summary": "{\n  \"name\": \"get_ipython()\",\n  \"rows\": 0,\n  \"fields\": []\n}",
              "type": "dataframe"
            },
            "text/html": [
              "\n",
              "  <div id=\"df-bdc18328-811a-4078-b44b-dcd9438e5810\" class=\"colab-df-container\">\n",
              "    <div>\n",
              "<style scoped>\n",
              "    .dataframe tbody tr th:only-of-type {\n",
              "        vertical-align: middle;\n",
              "    }\n",
              "\n",
              "    .dataframe tbody tr th {\n",
              "        vertical-align: top;\n",
              "    }\n",
              "\n",
              "    .dataframe thead th {\n",
              "        text-align: right;\n",
              "    }\n",
              "</style>\n",
              "<table border=\"1\" class=\"dataframe\">\n",
              "  <thead>\n",
              "    <tr style=\"text-align: right;\">\n",
              "      <th></th>\n",
              "    </tr>\n",
              "  </thead>\n",
              "  <tbody>\n",
              "  </tbody>\n",
              "</table>\n",
              "</div>\n",
              "    <div class=\"colab-df-buttons\">\n",
              "\n",
              "  <div class=\"colab-df-container\">\n",
              "    <button class=\"colab-df-convert\" onclick=\"convertToInteractive('df-bdc18328-811a-4078-b44b-dcd9438e5810')\"\n",
              "            title=\"Convert this dataframe to an interactive table.\"\n",
              "            style=\"display:none;\">\n",
              "\n",
              "  <svg xmlns=\"http://www.w3.org/2000/svg\" height=\"24px\" viewBox=\"0 -960 960 960\">\n",
              "    <path d=\"M120-120v-720h720v720H120Zm60-500h600v-160H180v160Zm220 220h160v-160H400v160Zm0 220h160v-160H400v160ZM180-400h160v-160H180v160Zm440 0h160v-160H620v160ZM180-180h160v-160H180v160Zm440 0h160v-160H620v160Z\"/>\n",
              "  </svg>\n",
              "    </button>\n",
              "\n",
              "  <style>\n",
              "    .colab-df-container {\n",
              "      display:flex;\n",
              "      gap: 12px;\n",
              "    }\n",
              "\n",
              "    .colab-df-convert {\n",
              "      background-color: #E8F0FE;\n",
              "      border: none;\n",
              "      border-radius: 50%;\n",
              "      cursor: pointer;\n",
              "      display: none;\n",
              "      fill: #1967D2;\n",
              "      height: 32px;\n",
              "      padding: 0 0 0 0;\n",
              "      width: 32px;\n",
              "    }\n",
              "\n",
              "    .colab-df-convert:hover {\n",
              "      background-color: #E2EBFA;\n",
              "      box-shadow: 0px 1px 2px rgba(60, 64, 67, 0.3), 0px 1px 3px 1px rgba(60, 64, 67, 0.15);\n",
              "      fill: #174EA6;\n",
              "    }\n",
              "\n",
              "    .colab-df-buttons div {\n",
              "      margin-bottom: 4px;\n",
              "    }\n",
              "\n",
              "    [theme=dark] .colab-df-convert {\n",
              "      background-color: #3B4455;\n",
              "      fill: #D2E3FC;\n",
              "    }\n",
              "\n",
              "    [theme=dark] .colab-df-convert:hover {\n",
              "      background-color: #434B5C;\n",
              "      box-shadow: 0px 1px 3px 1px rgba(0, 0, 0, 0.15);\n",
              "      filter: drop-shadow(0px 1px 2px rgba(0, 0, 0, 0.3));\n",
              "      fill: #FFFFFF;\n",
              "    }\n",
              "  </style>\n",
              "\n",
              "    <script>\n",
              "      const buttonEl =\n",
              "        document.querySelector('#df-bdc18328-811a-4078-b44b-dcd9438e5810 button.colab-df-convert');\n",
              "      buttonEl.style.display =\n",
              "        google.colab.kernel.accessAllowed ? 'block' : 'none';\n",
              "\n",
              "      async function convertToInteractive(key) {\n",
              "        const element = document.querySelector('#df-bdc18328-811a-4078-b44b-dcd9438e5810');\n",
              "        const dataTable =\n",
              "          await google.colab.kernel.invokeFunction('convertToInteractive',\n",
              "                                                    [key], {});\n",
              "        if (!dataTable) return;\n",
              "\n",
              "        const docLinkHtml = 'Like what you see? Visit the ' +\n",
              "          '<a target=\"_blank\" href=https://colab.research.google.com/notebooks/data_table.ipynb>data table notebook</a>'\n",
              "          + ' to learn more about interactive tables.';\n",
              "        element.innerHTML = '';\n",
              "        dataTable['output_type'] = 'display_data';\n",
              "        await google.colab.output.renderOutput(dataTable, element);\n",
              "        const docLink = document.createElement('div');\n",
              "        docLink.innerHTML = docLinkHtml;\n",
              "        element.appendChild(docLink);\n",
              "      }\n",
              "    </script>\n",
              "  </div>\n",
              "\n",
              "\n",
              "    </div>\n",
              "  </div>\n"
            ],
            "text/plain": [
              "Empty DataFrame\n",
              "Columns: []\n",
              "Index: []"
            ]
          },
          "execution_count": 8,
          "metadata": {},
          "output_type": "execute_result"
        }
      ],
      "source": [
        "%%bigquery\n",
        "$create_gen_model"
      ]
    },
    {
      "cell_type": "markdown",
      "metadata": {
        "id": "nMKPt1LdBXNx"
      },
      "source": [
        "#### Review Table Data Processing"
      ]
    },
    {
      "cell_type": "markdown",
      "metadata": {},
      "source": [
        "* In this section, we are \n",
        "    \n",
        "    1. reading the two review tables in BRONZE layer\n",
        "    2. Clean them and filter them with specific required columns.\n",
        "    3. Union both the the tables.\n",
        "    4. Write to the SILVER layer as a single table to keep all reviews as a single table.\n"
      ]
    },
    {
      "cell_type": "code",
      "execution_count": 9,
      "metadata": {
        "executionInfo": {
          "elapsed": 8,
          "status": "ok",
          "timestamp": 1755451621810,
          "user": {
            "displayName": "",
            "userId": ""
          },
          "user_tz": -330
        },
        "id": "RDyJgy4XQHYz"
      },
      "outputs": [],
      "source": [
        "import bigframes.pandas as bpd\n",
        "import bigframes.bigquery as bbq\n",
        "from bigframes.ml import llm\n",
        "\n",
        "# Set BigQuery DataFrames options\n",
        "# Note: The project option is not required in all environments.\n",
        "# On BigQuery Studio, the project ID is automatically detected.\n",
        "bpd.options.bigquery.project = PROJECT_ID\n",
        "\n",
        "# Note: The location option is not required.\n",
        "# It defaults to the location of the first table or query\n",
        "# passed to read_gbq(). For APIs where a location can't be\n",
        "# auto-detected, the location defaults to the \"US\" location.\n",
        "bpd.options.bigquery.location = LOCATION"
      ]
    },
    {
      "cell_type": "markdown",
      "metadata": {
        "id": "viiYjZqQKlM4"
      },
      "source": [
        "##### Exploring app review table `google_play_reviews`"
      ]
    },
    {
      "cell_type": "code",
      "execution_count": null,
      "metadata": {
        "colab": {
          "base_uri": "https://localhost:8080/",
          "height": 34
        },
        "executionInfo": {
          "elapsed": 739,
          "status": "ok",
          "timestamp": 1755451622542,
          "user": {
            "displayName": "",
            "userId": ""
          },
          "user_tz": -330
        },
        "id": "MXThzWiZCS2w",
        "outputId": "eef12055-7c11-4dc2-cded-9b1b3ce7e976"
      },
      "outputs": [
        {
          "data": {
            "text/html": [
              "Query job 3b1b0849-fd72-4a4a-87c5-015ae8d1a6f4 is DONE. 0 Bytes processed. <a target=\"_blank\" href=\"https://console.cloud.google.com/bigquery?project=market-mirror-dev&j=bq:US:3b1b0849-fd72-4a4a-87c5-015ae8d1a6f4&page=queryresults\">Open Job</a>"
            ],
            "text/plain": [
              "<IPython.core.display.HTML object>"
            ]
          },
          "metadata": {},
          "output_type": "display_data"
        }
      ],
      "source": [
        "#read data to dataframe\n",
        "review_df1 = bpd.read_gbq(f'{PROJECT_ID}.{BQ_BRONZE_DATASET}.google_play_reviews')"
      ]
    },
    {
      "cell_type": "code",
      "execution_count": 11,
      "metadata": {
        "colab": {
          "base_uri": "https://localhost:8080/",
          "height": 602
        },
        "executionInfo": {
          "elapsed": 6365,
          "status": "ok",
          "timestamp": 1755451628906,
          "user": {
            "displayName": "",
            "userId": ""
          },
          "user_tz": -330
        },
        "id": "VDlXQ0bKDUB_",
        "outputId": "90772742-d0ae-4f41-f698-5e2649ff6ed1"
      },
      "outputs": [
        {
          "data": {
            "text/html": [
              "Query job 27059c3b-10cf-49fb-a40e-7225b96ba7bc is DONE. 2.2 MB processed. <a target=\"_blank\" href=\"https://console.cloud.google.com/bigquery?project=market-mirror-dev&j=bq:US:27059c3b-10cf-49fb-a40e-7225b96ba7bc&page=queryresults\">Open Job</a>"
            ],
            "text/plain": [
              "<IPython.core.display.HTML object>"
            ]
          },
          "metadata": {},
          "output_type": "display_data"
        },
        {
          "data": {
            "text/html": [
              "<div>\n",
              "<style scoped>\n",
              "    .dataframe tbody tr th:only-of-type {\n",
              "        vertical-align: middle;\n",
              "    }\n",
              "\n",
              "    .dataframe tbody tr th {\n",
              "        vertical-align: top;\n",
              "    }\n",
              "\n",
              "    .dataframe thead th {\n",
              "        text-align: right;\n",
              "    }\n",
              "</style>\n",
              "<table border=\"1\" class=\"dataframe\">\n",
              "  <thead>\n",
              "    <tr style=\"text-align: right;\">\n",
              "      <th></th>\n",
              "      <th>Unnamed: 0</th>\n",
              "      <th>app_name</th>\n",
              "      <th>app_genre</th>\n",
              "      <th>avg_rating</th>\n",
              "      <th>num_downloads</th>\n",
              "      <th>num_reviews</th>\n",
              "      <th>user</th>\n",
              "      <th>review_text</th>\n",
              "      <th>rating</th>\n",
              "    </tr>\n",
              "  </thead>\n",
              "  <tbody>\n",
              "    <tr>\n",
              "      <th>0</th>\n",
              "      <td>2839</td>\n",
              "      <td>Cast to TV/Chromecast/Roku/TV+</td>\n",
              "      <td>&lt;NA&gt;</td>\n",
              "      <td>4.3star</td>\n",
              "      <td>5M+</td>\n",
              "      <td>44.6K reviews</td>\n",
              "      <td>AoD Wexler</td>\n",
              "      <td>Used this app for close to 2 years now. For th...</td>\n",
              "      <td>3</td>\n",
              "    </tr>\n",
              "    <tr>\n",
              "      <th>1</th>\n",
              "      <td>136</td>\n",
              "      <td>Geometry Dash SubZero</td>\n",
              "      <td>Action</td>\n",
              "      <td>4.3star</td>\n",
              "      <td>50M+</td>\n",
              "      <td>766K reviews</td>\n",
              "      <td>Troy Stonehocker</td>\n",
              "      <td>I love the difficulty because life needs a cha...</td>\n",
              "      <td>4</td>\n",
              "    </tr>\n",
              "    <tr>\n",
              "      <th>2</th>\n",
              "      <td>255</td>\n",
              "      <td>Adobe Captivate Prime</td>\n",
              "      <td>Business</td>\n",
              "      <td>3.7star</td>\n",
              "      <td>100K+</td>\n",
              "      <td>763 reviews</td>\n",
              "      <td>Tek Yan Chua</td>\n",
              "      <td>Unresponsive, slow, buggy and keeps crashing. ...</td>\n",
              "      <td>1</td>\n",
              "    </tr>\n",
              "    <tr>\n",
              "      <th>3</th>\n",
              "      <td>2207</td>\n",
              "      <td>Urban Company</td>\n",
              "      <td>&lt;NA&gt;</td>\n",
              "      <td>4.8star</td>\n",
              "      <td>10M+</td>\n",
              "      <td>866K reviews</td>\n",
              "      <td>sociallyruby</td>\n",
              "      <td>It was good when it started, recently however ...</td>\n",
              "      <td>2</td>\n",
              "    </tr>\n",
              "    <tr>\n",
              "      <th>4</th>\n",
              "      <td>1567</td>\n",
              "      <td>My Orange Moldova</td>\n",
              "      <td>Tools</td>\n",
              "      <td>3.9star</td>\n",
              "      <td>500K+</td>\n",
              "      <td>8.18K reviews</td>\n",
              "      <td>A Google user</td>\n",
              "      <td>The app doesn't show accurate internet consump...</td>\n",
              "      <td>2</td>\n",
              "    </tr>\n",
              "  </tbody>\n",
              "</table>\n",
              "<p>5 rows × 9 columns</p>\n",
              "</div>[5 rows x 9 columns in total]"
            ],
            "text/plain": [
              "   Unnamed: 0                        app_name app_genre avg_rating  \\\n",
              "0        2839  Cast to TV/Chromecast/Roku/TV+      <NA>    4.3star   \n",
              "1         136           Geometry Dash SubZero    Action    4.3star   \n",
              "2         255           Adobe Captivate Prime  Business    3.7star   \n",
              "3        2207                   Urban Company      <NA>    4.8star   \n",
              "4        1567               My Orange Moldova     Tools    3.9star   \n",
              "\n",
              "  num_downloads    num_reviews              user  \\\n",
              "0           5M+  44.6K reviews        AoD Wexler   \n",
              "1          50M+   766K reviews  Troy Stonehocker   \n",
              "2         100K+    763 reviews      Tek Yan Chua   \n",
              "3          10M+   866K reviews      sociallyruby   \n",
              "4         500K+  8.18K reviews     A Google user   \n",
              "\n",
              "                                         review_text  rating  \n",
              "0  Used this app for close to 2 years now. For th...       3  \n",
              "1  I love the difficulty because life needs a cha...       4  \n",
              "2  Unresponsive, slow, buggy and keeps crashing. ...       1  \n",
              "3  It was good when it started, recently however ...       2  \n",
              "4  The app doesn't show accurate internet consump...       2  \n",
              "\n",
              "[5 rows x 9 columns]"
            ]
          },
          "execution_count": 11,
          "metadata": {},
          "output_type": "execute_result"
        }
      ],
      "source": [
        "review_df1.head()"
      ]
    },
    {
      "cell_type": "code",
      "execution_count": 12,
      "metadata": {
        "colab": {
          "base_uri": "https://localhost:8080/"
        },
        "executionInfo": {
          "elapsed": 18,
          "status": "ok",
          "timestamp": 1755451628906,
          "user": {
            "displayName": "",
            "userId": ""
          },
          "user_tz": -330
        },
        "id": "fbG9d4SdDqcJ",
        "outputId": "21fa076a-e4c7-44d8-8220-3da360458742"
      },
      "outputs": [
        {
          "data": {
            "text/plain": [
              "Index(['Unnamed: 0', 'app_name', 'app_genre', 'avg_rating', 'num_downloads',\n",
              "       'num_reviews', 'user', 'review_text', 'rating'],\n",
              "      dtype='object')"
            ]
          },
          "execution_count": 12,
          "metadata": {},
          "output_type": "execute_result"
        }
      ],
      "source": [
        "review_df1.columns"
      ]
    },
    {
      "cell_type": "code",
      "execution_count": null,
      "metadata": {
        "executionInfo": {
          "elapsed": 730,
          "status": "ok",
          "timestamp": 1755451746990,
          "user": {
            "displayName": "",
            "userId": ""
          },
          "user_tz": -330
        },
        "id": "gpGBVvDbEp5Q"
      },
      "outputs": [],
      "source": [
        "#renaming column 'Unnamed: 0' to 'id'\n",
        "review_df1 = review_df1.rename(columns={'Unnamed: 0':'id'})"
      ]
    },
    {
      "cell_type": "code",
      "execution_count": null,
      "metadata": {
        "executionInfo": {
          "elapsed": 759,
          "status": "ok",
          "timestamp": 1755451756854,
          "user": {
            "displayName": "",
            "userId": ""
          },
          "user_tz": -330
        },
        "id": "Jpk7yTk5D5q4"
      },
      "outputs": [],
      "source": [
        "#lets keep only necessary column\n",
        "review_df1_subset = review_df1[['id', 'app_name','app_genre','review_text','rating']]"
      ]
    },
    {
      "cell_type": "code",
      "execution_count": 17,
      "metadata": {
        "colab": {
          "base_uri": "https://localhost:8080/",
          "height": 270
        },
        "executionInfo": {
          "elapsed": 4548,
          "status": "ok",
          "timestamp": 1755451774154,
          "user": {
            "displayName": "",
            "userId": ""
          },
          "user_tz": -330
        },
        "id": "ypcYz7t1ExQi",
        "outputId": "84300fc5-56f6-4f5f-9ec2-8a5717129a27"
      },
      "outputs": [
        {
          "data": {
            "text/html": [
              "Query job 1215b29a-c4c0-4b3f-aab6-85398a0c4c63 is DONE. 2.0 MB processed. <a target=\"_blank\" href=\"https://console.cloud.google.com/bigquery?project=market-mirror-dev&j=bq:US:1215b29a-c4c0-4b3f-aab6-85398a0c4c63&page=queryresults\">Open Job</a>"
            ],
            "text/plain": [
              "<IPython.core.display.HTML object>"
            ]
          },
          "metadata": {},
          "output_type": "display_data"
        },
        {
          "data": {
            "text/html": [
              "<div>\n",
              "<style scoped>\n",
              "    .dataframe tbody tr th:only-of-type {\n",
              "        vertical-align: middle;\n",
              "    }\n",
              "\n",
              "    .dataframe tbody tr th {\n",
              "        vertical-align: top;\n",
              "    }\n",
              "\n",
              "    .dataframe thead th {\n",
              "        text-align: right;\n",
              "    }\n",
              "</style>\n",
              "<table border=\"1\" class=\"dataframe\">\n",
              "  <thead>\n",
              "    <tr style=\"text-align: right;\">\n",
              "      <th></th>\n",
              "      <th>id</th>\n",
              "      <th>app_name</th>\n",
              "      <th>app_genre</th>\n",
              "      <th>review_text</th>\n",
              "      <th>rating</th>\n",
              "    </tr>\n",
              "  </thead>\n",
              "  <tbody>\n",
              "    <tr>\n",
              "      <th>0</th>\n",
              "      <td>2839</td>\n",
              "      <td>Cast to TV/Chromecast/Roku/TV+</td>\n",
              "      <td>&lt;NA&gt;</td>\n",
              "      <td>Used this app for close to 2 years now. For th...</td>\n",
              "      <td>3</td>\n",
              "    </tr>\n",
              "    <tr>\n",
              "      <th>1</th>\n",
              "      <td>136</td>\n",
              "      <td>Geometry Dash SubZero</td>\n",
              "      <td>Action</td>\n",
              "      <td>I love the difficulty because life needs a cha...</td>\n",
              "      <td>4</td>\n",
              "    </tr>\n",
              "    <tr>\n",
              "      <th>2</th>\n",
              "      <td>255</td>\n",
              "      <td>Adobe Captivate Prime</td>\n",
              "      <td>Business</td>\n",
              "      <td>Unresponsive, slow, buggy and keeps crashing. ...</td>\n",
              "      <td>1</td>\n",
              "    </tr>\n",
              "    <tr>\n",
              "      <th>3</th>\n",
              "      <td>2207</td>\n",
              "      <td>Urban Company</td>\n",
              "      <td>&lt;NA&gt;</td>\n",
              "      <td>It was good when it started, recently however ...</td>\n",
              "      <td>2</td>\n",
              "    </tr>\n",
              "    <tr>\n",
              "      <th>4</th>\n",
              "      <td>1567</td>\n",
              "      <td>My Orange Moldova</td>\n",
              "      <td>Tools</td>\n",
              "      <td>The app doesn't show accurate internet consump...</td>\n",
              "      <td>2</td>\n",
              "    </tr>\n",
              "  </tbody>\n",
              "</table>\n",
              "<p>5 rows × 5 columns</p>\n",
              "</div>[5 rows x 5 columns in total]"
            ],
            "text/plain": [
              "     id                        app_name app_genre  \\\n",
              "0  2839  Cast to TV/Chromecast/Roku/TV+      <NA>   \n",
              "1   136           Geometry Dash SubZero    Action   \n",
              "2   255           Adobe Captivate Prime  Business   \n",
              "3  2207                   Urban Company      <NA>   \n",
              "4  1567               My Orange Moldova     Tools   \n",
              "\n",
              "                                         review_text  rating  \n",
              "0  Used this app for close to 2 years now. For th...       3  \n",
              "1  I love the difficulty because life needs a cha...       4  \n",
              "2  Unresponsive, slow, buggy and keeps crashing. ...       1  \n",
              "3  It was good when it started, recently however ...       2  \n",
              "4  The app doesn't show accurate internet consump...       2  \n",
              "\n",
              "[5 rows x 5 columns]"
            ]
          },
          "execution_count": 17,
          "metadata": {},
          "output_type": "execute_result"
        }
      ],
      "source": [
        "review_df1_subset.head(5)"
      ]
    },
    {
      "cell_type": "code",
      "execution_count": 18,
      "metadata": {
        "colab": {
          "base_uri": "https://localhost:8080/"
        },
        "executionInfo": {
          "elapsed": 1465,
          "status": "ok",
          "timestamp": 1755451778764,
          "user": {
            "displayName": "",
            "userId": ""
          },
          "user_tz": -330
        },
        "id": "FKKUO9I8E60e",
        "outputId": "58eae206-063b-416d-d872-c4765876fde8"
      },
      "outputs": [
        {
          "name": "stdout",
          "output_type": "stream",
          "text": [
            "<class 'bigframes.dataframe.DataFrame'>\n",
            "Index: 4888 entries, 0 to 4887\n",
            "Data columns (total 5 columns):\n",
            "  #  Column       Non-Null Count    Dtype\n",
            "---  -----------  ----------------  -------\n",
            "  0  id           4888 non-null     Int64\n",
            "  1  app_name     4888 non-null     string\n",
            "  2  app_genre    3018 non-null     string\n",
            "  3  review_text  4888 non-null     string\n",
            "  4  rating       4888 non-null     Int64\n",
            "dtypes: Int64(2), string(3)\n",
            "memory usage: 234624 bytes\n"
          ]
        }
      ],
      "source": [
        "review_df1_subset.info()"
      ]
    },
    {
      "cell_type": "markdown",
      "metadata": {
        "id": "aawyRp0BNWls"
      },
      "source": [
        "##### Exploring app review table `googleplaystore_user_reviews`"
      ]
    },
    {
      "cell_type": "code",
      "execution_count": 19,
      "metadata": {
        "executionInfo": {
          "elapsed": 741,
          "status": "ok",
          "timestamp": 1755451786001,
          "user": {
            "displayName": "",
            "userId": ""
          },
          "user_tz": -330
        },
        "id": "QnQ_l8bXNQhH"
      },
      "outputs": [],
      "source": [
        "review_df2 = bpd.read_gbq(f'{PROJECT_ID}.{BQ_BRONZE_DATASET}.googleplaystore_user_reviews')"
      ]
    },
    {
      "cell_type": "code",
      "execution_count": 20,
      "metadata": {
        "colab": {
          "base_uri": "https://localhost:8080/",
          "height": 357
        },
        "executionInfo": {
          "elapsed": 4764,
          "status": "ok",
          "timestamp": 1755451791470,
          "user": {
            "displayName": "",
            "userId": ""
          },
          "user_tz": -330
        },
        "id": "CqrfUnAGNlc8",
        "outputId": "ec51d749-a002-4922-b416-9ccec937e350"
      },
      "outputs": [
        {
          "data": {
            "text/html": [
              "Query job e1500729-e25b-4075-9ef8-1e003817f7c1 is DONE. 7.0 MB processed. <a target=\"_blank\" href=\"https://console.cloud.google.com/bigquery?project=market-mirror-dev&j=bq:US:e1500729-e25b-4075-9ef8-1e003817f7c1&page=queryresults\">Open Job</a>"
            ],
            "text/plain": [
              "<IPython.core.display.HTML object>"
            ]
          },
          "metadata": {},
          "output_type": "display_data"
        },
        {
          "data": {
            "text/html": [
              "<div>\n",
              "<style scoped>\n",
              "    .dataframe tbody tr th:only-of-type {\n",
              "        vertical-align: middle;\n",
              "    }\n",
              "\n",
              "    .dataframe tbody tr th {\n",
              "        vertical-align: top;\n",
              "    }\n",
              "\n",
              "    .dataframe thead th {\n",
              "        text-align: right;\n",
              "    }\n",
              "</style>\n",
              "<table border=\"1\" class=\"dataframe\">\n",
              "  <thead>\n",
              "    <tr style=\"text-align: right;\">\n",
              "      <th></th>\n",
              "      <th>App</th>\n",
              "      <th>Translated_Review</th>\n",
              "      <th>Sentiment</th>\n",
              "      <th>Sentiment_Polarity</th>\n",
              "      <th>Sentiment_Subjectivity</th>\n",
              "    </tr>\n",
              "  </thead>\n",
              "  <tbody>\n",
              "    <tr>\n",
              "      <th>0</th>\n",
              "      <td>Hot Wheels: Race Off</td>\n",
              "      <td>Last update screwed man !!! On daily challenge...</td>\n",
              "      <td>Positive</td>\n",
              "      <td>0.266667</td>\n",
              "      <td>0.155556</td>\n",
              "    </tr>\n",
              "    <tr>\n",
              "      <th>1</th>\n",
              "      <td>DELISH KITCHEN - 無料レシピ動画で料理を楽しく・簡単に！</td>\n",
              "      <td>Convenient and easy to use!</td>\n",
              "      <td>Positive</td>\n",
              "      <td>0.541667</td>\n",
              "      <td>0.833333</td>\n",
              "    </tr>\n",
              "    <tr>\n",
              "      <th>2</th>\n",
              "      <td>EyeCloud</td>\n",
              "      <td>Works pretty good honestly! I Pixel 2XL though...</td>\n",
              "      <td>Positive</td>\n",
              "      <td>0.44</td>\n",
              "      <td>0.62</td>\n",
              "    </tr>\n",
              "    <tr>\n",
              "      <th>3</th>\n",
              "      <td>BELONG Beating Cancer Together</td>\n",
              "      <td>It's nice talk others MBC. I live small town s...</td>\n",
              "      <td>Positive</td>\n",
              "      <td>0.046591</td>\n",
              "      <td>0.575</td>\n",
              "    </tr>\n",
              "    <tr>\n",
              "      <th>4</th>\n",
              "      <td>Cymera Camera- Photo Editor, Filter,Collage,La...</td>\n",
              "      <td>Recently reinstalled device I've used problems...</td>\n",
              "      <td>Negative</td>\n",
              "      <td>-0.4875</td>\n",
              "      <td>0.6125</td>\n",
              "    </tr>\n",
              "  </tbody>\n",
              "</table>\n",
              "<p>5 rows × 5 columns</p>\n",
              "</div>[5 rows x 5 columns in total]"
            ],
            "text/plain": [
              "                                                 App  \\\n",
              "0                               Hot Wheels: Race Off   \n",
              "1               DELISH KITCHEN - 無料レシピ動画で料理を楽しく・簡単に！   \n",
              "2                                           EyeCloud   \n",
              "3                     BELONG Beating Cancer Together   \n",
              "4  Cymera Camera- Photo Editor, Filter,Collage,La...   \n",
              "\n",
              "                                   Translated_Review Sentiment  \\\n",
              "0  Last update screwed man !!! On daily challenge...  Positive   \n",
              "1                        Convenient and easy to use!  Positive   \n",
              "2  Works pretty good honestly! I Pixel 2XL though...  Positive   \n",
              "3  It's nice talk others MBC. I live small town s...  Positive   \n",
              "4  Recently reinstalled device I've used problems...  Negative   \n",
              "\n",
              "   Sentiment_Polarity  Sentiment_Subjectivity  \n",
              "0            0.266667                0.155556  \n",
              "1            0.541667                0.833333  \n",
              "2                0.44                    0.62  \n",
              "3            0.046591                   0.575  \n",
              "4             -0.4875                  0.6125  \n",
              "\n",
              "[5 rows x 5 columns]"
            ]
          },
          "execution_count": 20,
          "metadata": {},
          "output_type": "execute_result"
        }
      ],
      "source": [
        "review_df2.head(5)"
      ]
    },
    {
      "cell_type": "code",
      "execution_count": 21,
      "metadata": {
        "colab": {
          "base_uri": "https://localhost:8080/"
        },
        "executionInfo": {
          "elapsed": 14,
          "status": "ok",
          "timestamp": 1755451791470,
          "user": {
            "displayName": "",
            "userId": ""
          },
          "user_tz": -330
        },
        "id": "LDRfIsKPOdxO",
        "outputId": "b56ecb2a-de34-485e-80dd-2f4cdc851580"
      },
      "outputs": [
        {
          "data": {
            "text/plain": [
              "Index(['App', 'Translated_Review', 'Sentiment', 'Sentiment_Polarity',\n",
              "       'Sentiment_Subjectivity'],\n",
              "      dtype='object')"
            ]
          },
          "execution_count": 21,
          "metadata": {},
          "output_type": "execute_result"
        }
      ],
      "source": [
        "review_df2.columns"
      ]
    },
    {
      "cell_type": "code",
      "execution_count": 22,
      "metadata": {
        "executionInfo": {
          "elapsed": 7,
          "status": "ok",
          "timestamp": 1755451791470,
          "user": {
            "displayName": "",
            "userId": ""
          },
          "user_tz": -330
        },
        "id": "De-GZ2_QOpnK"
      },
      "outputs": [],
      "source": [
        "# keep only the necessary column\n",
        "\n",
        "review_df2_subset = review_df2[['App','Translated_Review','Sentiment']]"
      ]
    },
    {
      "cell_type": "code",
      "execution_count": 23,
      "metadata": {
        "colab": {
          "base_uri": "https://localhost:8080/"
        },
        "executionInfo": {
          "elapsed": 4002,
          "status": "ok",
          "timestamp": 1755451795466,
          "user": {
            "displayName": "",
            "userId": ""
          },
          "user_tz": -330
        },
        "id": "L0GBdWFsOmg0",
        "outputId": "d3973fed-3202-45cf-a1b0-481ac44e8609"
      },
      "outputs": [
        {
          "name": "stdout",
          "output_type": "stream",
          "text": [
            "<class 'bigframes.dataframe.DataFrame'>\n",
            "Index: 64295 entries, 0 to 64294\n",
            "Data columns (total 3 columns):\n",
            "  #  Column             Non-Null Count    Dtype\n",
            "---  -----------------  ----------------  -------\n",
            "  0  App                64295 non-null    string\n",
            "  1  Translated_Review  37427 non-null    string\n",
            "  2  Sentiment          37432 non-null    string\n",
            "dtypes: string(3)\n",
            "memory usage: 2057440 bytes\n"
          ]
        }
      ],
      "source": [
        "review_df2_subset.info()"
      ]
    },
    {
      "cell_type": "code",
      "execution_count": 24,
      "metadata": {
        "executionInfo": {
          "elapsed": 3,
          "status": "ok",
          "timestamp": 1755451795466,
          "user": {
            "displayName": "",
            "userId": ""
          },
          "user_tz": -330
        },
        "id": "Rpqkc7K_PGPV"
      },
      "outputs": [],
      "source": [
        "review_df2_subset = review_df2_subset.rename(columns={'App':'app_name','Translated_Review':'review_text','Sentiment':'sentiment'})"
      ]
    },
    {
      "cell_type": "code",
      "execution_count": 25,
      "metadata": {
        "colab": {
          "base_uri": "https://localhost:8080/",
          "height": 270
        },
        "executionInfo": {
          "elapsed": 4904,
          "status": "ok",
          "timestamp": 1755451800368,
          "user": {
            "displayName": "",
            "userId": ""
          },
          "user_tz": -330
        },
        "id": "mwR9p1aYPXnB",
        "outputId": "e47ad439-b41b-4298-bf4e-1c68203626f0"
      },
      "outputs": [
        {
          "data": {
            "text/html": [
              "Query job 066e1c14-3f2c-419f-8b79-92dc8b2a7867 is DONE. 7.0 MB processed. <a target=\"_blank\" href=\"https://console.cloud.google.com/bigquery?project=market-mirror-dev&j=bq:US:066e1c14-3f2c-419f-8b79-92dc8b2a7867&page=queryresults\">Open Job</a>"
            ],
            "text/plain": [
              "<IPython.core.display.HTML object>"
            ]
          },
          "metadata": {},
          "output_type": "display_data"
        },
        {
          "data": {
            "text/html": [
              "<div>\n",
              "<style scoped>\n",
              "    .dataframe tbody tr th:only-of-type {\n",
              "        vertical-align: middle;\n",
              "    }\n",
              "\n",
              "    .dataframe tbody tr th {\n",
              "        vertical-align: top;\n",
              "    }\n",
              "\n",
              "    .dataframe thead th {\n",
              "        text-align: right;\n",
              "    }\n",
              "</style>\n",
              "<table border=\"1\" class=\"dataframe\">\n",
              "  <thead>\n",
              "    <tr style=\"text-align: right;\">\n",
              "      <th></th>\n",
              "      <th>app_name</th>\n",
              "      <th>review_text</th>\n",
              "      <th>sentiment</th>\n",
              "    </tr>\n",
              "  </thead>\n",
              "  <tbody>\n",
              "    <tr>\n",
              "      <th>0</th>\n",
              "      <td>Hot Wheels: Race Off</td>\n",
              "      <td>Last update screwed man !!! On daily challenge...</td>\n",
              "      <td>Positive</td>\n",
              "    </tr>\n",
              "    <tr>\n",
              "      <th>1</th>\n",
              "      <td>DELISH KITCHEN - 無料レシピ動画で料理を楽しく・簡単に！</td>\n",
              "      <td>Convenient and easy to use!</td>\n",
              "      <td>Positive</td>\n",
              "    </tr>\n",
              "    <tr>\n",
              "      <th>2</th>\n",
              "      <td>EyeCloud</td>\n",
              "      <td>Works pretty good honestly! I Pixel 2XL though...</td>\n",
              "      <td>Positive</td>\n",
              "    </tr>\n",
              "    <tr>\n",
              "      <th>3</th>\n",
              "      <td>BELONG Beating Cancer Together</td>\n",
              "      <td>It's nice talk others MBC. I live small town s...</td>\n",
              "      <td>Positive</td>\n",
              "    </tr>\n",
              "    <tr>\n",
              "      <th>4</th>\n",
              "      <td>Cymera Camera- Photo Editor, Filter,Collage,La...</td>\n",
              "      <td>Recently reinstalled device I've used problems...</td>\n",
              "      <td>Negative</td>\n",
              "    </tr>\n",
              "  </tbody>\n",
              "</table>\n",
              "<p>5 rows × 3 columns</p>\n",
              "</div>[5 rows x 3 columns in total]"
            ],
            "text/plain": [
              "                                            app_name  \\\n",
              "0                               Hot Wheels: Race Off   \n",
              "1               DELISH KITCHEN - 無料レシピ動画で料理を楽しく・簡単に！   \n",
              "2                                           EyeCloud   \n",
              "3                     BELONG Beating Cancer Together   \n",
              "4  Cymera Camera- Photo Editor, Filter,Collage,La...   \n",
              "\n",
              "                                         review_text sentiment  \n",
              "0  Last update screwed man !!! On daily challenge...  Positive  \n",
              "1                        Convenient and easy to use!  Positive  \n",
              "2  Works pretty good honestly! I Pixel 2XL though...  Positive  \n",
              "3  It's nice talk others MBC. I live small town s...  Positive  \n",
              "4  Recently reinstalled device I've used problems...  Negative  \n",
              "\n",
              "[5 rows x 3 columns]"
            ]
          },
          "execution_count": 25,
          "metadata": {},
          "output_type": "execute_result"
        }
      ],
      "source": [
        "review_df2_subset.head(5)"
      ]
    },
    {
      "cell_type": "code",
      "execution_count": null,
      "metadata": {
        "executionInfo": {
          "elapsed": 5,
          "status": "ok",
          "timestamp": 1755451800368,
          "user": {
            "displayName": "",
            "userId": ""
          },
          "user_tz": -330
        },
        "id": "BM-SRVwTYB9h"
      },
      "outputs": [],
      "source": [
        "# Concat both the review tables.\n",
        "review_df = bpd.concat([review_df1_subset,review_df2_subset],axis=0)"
      ]
    },
    {
      "cell_type": "code",
      "execution_count": 27,
      "metadata": {
        "colab": {
          "base_uri": "https://localhost:8080/",
          "height": 270
        },
        "executionInfo": {
          "elapsed": 6808,
          "status": "ok",
          "timestamp": 1755451807172,
          "user": {
            "displayName": "",
            "userId": ""
          },
          "user_tz": -330
        },
        "id": "r-rXF4cRYawp",
        "outputId": "b1105e1e-6466-4ba2-c781-f6be1afa14e7"
      },
      "outputs": [
        {
          "data": {
            "text/html": [
              "Query job 6d04fc45-4ecc-4aab-8b18-02f53f9b0725 is DONE. 9.0 MB processed. <a target=\"_blank\" href=\"https://console.cloud.google.com/bigquery?project=market-mirror-dev&j=bq:US:6d04fc45-4ecc-4aab-8b18-02f53f9b0725&page=queryresults\">Open Job</a>"
            ],
            "text/plain": [
              "<IPython.core.display.HTML object>"
            ]
          },
          "metadata": {},
          "output_type": "display_data"
        },
        {
          "data": {
            "text/html": [
              "<div>\n",
              "<style scoped>\n",
              "    .dataframe tbody tr th:only-of-type {\n",
              "        vertical-align: middle;\n",
              "    }\n",
              "\n",
              "    .dataframe tbody tr th {\n",
              "        vertical-align: top;\n",
              "    }\n",
              "\n",
              "    .dataframe thead th {\n",
              "        text-align: right;\n",
              "    }\n",
              "</style>\n",
              "<table border=\"1\" class=\"dataframe\">\n",
              "  <thead>\n",
              "    <tr style=\"text-align: right;\">\n",
              "      <th></th>\n",
              "      <th>id</th>\n",
              "      <th>app_name</th>\n",
              "      <th>app_genre</th>\n",
              "      <th>review_text</th>\n",
              "      <th>rating</th>\n",
              "      <th>sentiment</th>\n",
              "    </tr>\n",
              "  </thead>\n",
              "  <tbody>\n",
              "    <tr>\n",
              "      <th>0</th>\n",
              "      <td>2839</td>\n",
              "      <td>Cast to TV/Chromecast/Roku/TV+</td>\n",
              "      <td>&lt;NA&gt;</td>\n",
              "      <td>Used this app for close to 2 years now. For th...</td>\n",
              "      <td>3</td>\n",
              "      <td>&lt;NA&gt;</td>\n",
              "    </tr>\n",
              "    <tr>\n",
              "      <th>1</th>\n",
              "      <td>136</td>\n",
              "      <td>Geometry Dash SubZero</td>\n",
              "      <td>Action</td>\n",
              "      <td>I love the difficulty because life needs a cha...</td>\n",
              "      <td>4</td>\n",
              "      <td>&lt;NA&gt;</td>\n",
              "    </tr>\n",
              "    <tr>\n",
              "      <th>2</th>\n",
              "      <td>255</td>\n",
              "      <td>Adobe Captivate Prime</td>\n",
              "      <td>Business</td>\n",
              "      <td>Unresponsive, slow, buggy and keeps crashing. ...</td>\n",
              "      <td>1</td>\n",
              "      <td>&lt;NA&gt;</td>\n",
              "    </tr>\n",
              "    <tr>\n",
              "      <th>3</th>\n",
              "      <td>2207</td>\n",
              "      <td>Urban Company</td>\n",
              "      <td>&lt;NA&gt;</td>\n",
              "      <td>It was good when it started, recently however ...</td>\n",
              "      <td>2</td>\n",
              "      <td>&lt;NA&gt;</td>\n",
              "    </tr>\n",
              "    <tr>\n",
              "      <th>4</th>\n",
              "      <td>1567</td>\n",
              "      <td>My Orange Moldova</td>\n",
              "      <td>Tools</td>\n",
              "      <td>The app doesn't show accurate internet consump...</td>\n",
              "      <td>2</td>\n",
              "      <td>&lt;NA&gt;</td>\n",
              "    </tr>\n",
              "  </tbody>\n",
              "</table>\n",
              "<p>5 rows × 6 columns</p>\n",
              "</div>[5 rows x 6 columns in total]"
            ],
            "text/plain": [
              "     id                        app_name app_genre  \\\n",
              "0  2839  Cast to TV/Chromecast/Roku/TV+      <NA>   \n",
              "1   136           Geometry Dash SubZero    Action   \n",
              "2   255           Adobe Captivate Prime  Business   \n",
              "3  2207                   Urban Company      <NA>   \n",
              "4  1567               My Orange Moldova     Tools   \n",
              "\n",
              "                                         review_text  rating sentiment  \n",
              "0  Used this app for close to 2 years now. For th...       3      <NA>  \n",
              "1  I love the difficulty because life needs a cha...       4      <NA>  \n",
              "2  Unresponsive, slow, buggy and keeps crashing. ...       1      <NA>  \n",
              "3  It was good when it started, recently however ...       2      <NA>  \n",
              "4  The app doesn't show accurate internet consump...       2      <NA>  \n",
              "\n",
              "[5 rows x 6 columns]"
            ]
          },
          "execution_count": 27,
          "metadata": {},
          "output_type": "execute_result"
        }
      ],
      "source": [
        "review_df.head()"
      ]
    },
    {
      "cell_type": "code",
      "execution_count": 30,
      "metadata": {
        "colab": {
          "base_uri": "https://localhost:8080/",
          "height": 173
        },
        "executionInfo": {
          "elapsed": 7927,
          "status": "ok",
          "timestamp": 1755451897532,
          "user": {
            "displayName": "",
            "userId": ""
          },
          "user_tz": -330
        },
        "id": "wHtoop3vZfcT",
        "outputId": "1ea651df-14dc-4321-f528-d7c277619b1b"
      },
      "outputs": [
        {
          "data": {
            "text/html": [
              "Query job 05ce4bcd-97c3-46d1-ae35-cea95ac12e89 is DONE. 8.3 MB processed. <a target=\"_blank\" href=\"https://console.cloud.google.com/bigquery?project=market-mirror-dev&j=bq:US:05ce4bcd-97c3-46d1-ae35-cea95ac12e89&page=queryresults\">Open Job</a>"
            ],
            "text/plain": [
              "<IPython.core.display.HTML object>"
            ]
          },
          "metadata": {},
          "output_type": "display_data"
        },
        {
          "data": {
            "text/html": [
              "Query job 4f0206d6-aa2f-4778-b15f-6de4c79b9cb8 is DONE. 153 Bytes processed. <a target=\"_blank\" href=\"https://console.cloud.google.com/bigquery?project=market-mirror-dev&j=bq:US:4f0206d6-aa2f-4778-b15f-6de4c79b9cb8&page=queryresults\">Open Job</a>"
            ],
            "text/plain": [
              "<IPython.core.display.HTML object>"
            ]
          },
          "metadata": {},
          "output_type": "display_data"
        },
        {
          "data": {
            "text/plain": [
              "id              4888\n",
              "app_name       69183\n",
              "app_genre       3018\n",
              "review_text    42315\n",
              "rating          4888\n",
              "sentiment      37432\n",
              "dtype: Int64"
            ]
          },
          "execution_count": 30,
          "metadata": {},
          "output_type": "execute_result"
        }
      ],
      "source": [
        "review_df.count()"
      ]
    },
    {
      "cell_type": "code",
      "execution_count": 31,
      "metadata": {
        "colab": {
          "base_uri": "https://localhost:8080/",
          "height": 173
        },
        "executionInfo": {
          "elapsed": 8077,
          "status": "ok",
          "timestamp": 1755451912763,
          "user": {
            "displayName": "",
            "userId": ""
          },
          "user_tz": -330
        },
        "id": "B-4Edz_haDLX",
        "outputId": "5e7faf54-aa31-43f3-a62c-79e884746ab1"
      },
      "outputs": [
        {
          "data": {
            "text/html": [
              "Query job 718a4fd2-e88f-4c24-b260-a9c52ef0d1df is DONE. 8.3 MB processed. <a target=\"_blank\" href=\"https://console.cloud.google.com/bigquery?project=market-mirror-dev&j=bq:US:718a4fd2-e88f-4c24-b260-a9c52ef0d1df&page=queryresults\">Open Job</a>"
            ],
            "text/plain": [
              "<IPython.core.display.HTML object>"
            ]
          },
          "metadata": {},
          "output_type": "display_data"
        },
        {
          "data": {
            "text/html": [
              "Query job c7b1227d-8042-4fc4-98fe-43b0b005a0d2 is DONE. 153 Bytes processed. <a target=\"_blank\" href=\"https://console.cloud.google.com/bigquery?project=market-mirror-dev&j=bq:US:c7b1227d-8042-4fc4-98fe-43b0b005a0d2&page=queryresults\">Open Job</a>"
            ],
            "text/plain": [
              "<IPython.core.display.HTML object>"
            ]
          },
          "metadata": {},
          "output_type": "display_data"
        },
        {
          "data": {
            "text/plain": [
              "id             64295\n",
              "app_name           0\n",
              "app_genre      66165\n",
              "review_text    26868\n",
              "rating         64295\n",
              "sentiment      31751\n",
              "dtype: Int64"
            ]
          },
          "execution_count": 31,
          "metadata": {},
          "output_type": "execute_result"
        }
      ],
      "source": [
        "review_df.isna().sum()"
      ]
    },
    {
      "cell_type": "code",
      "execution_count": null,
      "metadata": {
        "colab": {
          "base_uri": "https://localhost:8080/",
          "height": 53
        },
        "executionInfo": {
          "elapsed": 7488,
          "status": "ok",
          "timestamp": 1755451925975,
          "user": {
            "displayName": "",
            "userId": ""
          },
          "user_tz": -330
        },
        "id": "1eLmyZceaTsX",
        "outputId": "ff95e6ac-9a1c-4b7d-d273-8115050ed358"
      },
      "outputs": [
        {
          "data": {
            "text/html": [
              "Query job 0e258877-9a58-4211-bd02-7654ed82c028 is DONE. 8.3 MB processed. <a target=\"_blank\" href=\"https://console.cloud.google.com/bigquery?project=market-mirror-dev&j=bq:US:0e258877-9a58-4211-bd02-7654ed82c028&page=queryresults\">Open Job</a>"
            ],
            "text/plain": [
              "<IPython.core.display.HTML object>"
            ]
          },
          "metadata": {},
          "output_type": "display_data"
        },
        {
          "data": {
            "application/vnd.google.colaboratory.intrinsic+json": {
              "type": "string"
            },
            "text/plain": [
              "'market-mirror-dev.APP_MARKET_SILVER.T_APP_REVIEWS'"
            ]
          },
          "execution_count": 32,
          "metadata": {},
          "output_type": "execute_result"
        }
      ],
      "source": [
        "# Writing the table to silver layer\n",
        "review_df.to_gbq(destination_table=f'{PROJECT_ID}.{BQ_SILVER_DATASET}.T_APP_REVIEWS',if_exists='replace')"
      ]
    },
    {
      "cell_type": "markdown",
      "metadata": {
        "id": "WtMS5QxGa3rj"
      },
      "source": [
        "#### Product Tables Data Processing"
      ]
    },
    {
      "cell_type": "markdown",
      "metadata": {},
      "source": [
        "* In this section we are reading the Prodct description tables from the 3 platforms - \n",
        "    \n",
        "    1. Google   - table_names: cleanapp\n",
        "    2. Apple    - table_names: AppleStore, appleStore_description\n",
        "    3. Windows  - table_names: windows_store\n",
        "\n",
        "* Clean the data, filter with specific columns required and write the tables to SILVER layer."
      ]
    },
    {
      "cell_type": "markdown",
      "metadata": {
        "id": "E8sHWLJ5dL0w"
      },
      "source": [
        "##### Exploring Google Apps table `cleanapp`"
      ]
    },
    {
      "cell_type": "code",
      "execution_count": 33,
      "metadata": {
        "executionInfo": {
          "elapsed": 764,
          "status": "ok",
          "timestamp": 1755451981118,
          "user": {
            "displayName": "",
            "userId": ""
          },
          "user_tz": -330
        },
        "id": "zlIllRdxa-q9"
      },
      "outputs": [],
      "source": [
        "google_apps_df = bpd.read_gbq(f'{PROJECT_ID}.{BQ_BRONZE_DATASET}.cleanapp')"
      ]
    },
    {
      "cell_type": "code",
      "execution_count": 34,
      "metadata": {
        "colab": {
          "base_uri": "https://localhost:8080/",
          "height": 724
        },
        "executionInfo": {
          "elapsed": 6206,
          "status": "ok",
          "timestamp": 1755451987319,
          "user": {
            "displayName": "",
            "userId": ""
          },
          "user_tz": -330
        },
        "id": "CeTYcwCzbO3L",
        "outputId": "ac5f8508-cbdd-4c80-82be-5ace663c610e"
      },
      "outputs": [
        {
          "data": {
            "text/html": [
              "Query job c76e8ec7-462d-48db-b191-f32b0b53a243 is DONE. 28.6 MB processed. <a target=\"_blank\" href=\"https://console.cloud.google.com/bigquery?project=market-mirror-dev&j=bq:US:c76e8ec7-462d-48db-b191-f32b0b53a243&page=queryresults\">Open Job</a>"
            ],
            "text/plain": [
              "<IPython.core.display.HTML object>"
            ]
          },
          "metadata": {},
          "output_type": "display_data"
        },
        {
          "data": {
            "text/html": [
              "<div>\n",
              "<style scoped>\n",
              "    .dataframe tbody tr th:only-of-type {\n",
              "        vertical-align: middle;\n",
              "    }\n",
              "\n",
              "    .dataframe tbody tr th {\n",
              "        vertical-align: top;\n",
              "    }\n",
              "\n",
              "    .dataframe thead th {\n",
              "        text-align: right;\n",
              "    }\n",
              "</style>\n",
              "<table border=\"1\" class=\"dataframe\">\n",
              "  <thead>\n",
              "    <tr style=\"text-align: right;\">\n",
              "      <th></th>\n",
              "      <th>_c0</th>\n",
              "      <th>_id</th>\n",
              "      <th>title</th>\n",
              "      <th>description</th>\n",
              "      <th>summary</th>\n",
              "      <th>installs</th>\n",
              "      <th>minInstalls</th>\n",
              "      <th>realInstalls</th>\n",
              "      <th>score</th>\n",
              "      <th>ratings</th>\n",
              "      <th>...</th>\n",
              "      <th>contentRating</th>\n",
              "      <th>contentRatingDescription</th>\n",
              "      <th>adSupported</th>\n",
              "      <th>containsAds</th>\n",
              "      <th>released</th>\n",
              "      <th>updated</th>\n",
              "      <th>version</th>\n",
              "      <th>recentChanges</th>\n",
              "      <th>appId</th>\n",
              "      <th>url</th>\n",
              "    </tr>\n",
              "  </thead>\n",
              "  <tbody>\n",
              "    <tr>\n",
              "      <th>0</th>\n",
              "      <td>4133</td>\n",
              "      <td>63e523d7020a6c8cabe37d92</td>\n",
              "      <td>CBN Family</td>\n",
              "      <td>CBN Family is a free Christian TV streaming ap...</td>\n",
              "      <td>CBN Family is a free Christian TV app broadcas...</td>\n",
              "      <td>100,000+</td>\n",
              "      <td>100000.0</td>\n",
              "      <td>209982.0</td>\n",
              "      <td>4.74</td>\n",
              "      <td>1093.0</td>\n",
              "      <td>...</td>\n",
              "      <td>1</td>\n",
              "      <td>&lt;NA&gt;</td>\n",
              "      <td>0.0</td>\n",
              "      <td>0.0</td>\n",
              "      <td>Aug 7, 2015</td>\n",
              "      <td>1657747349</td>\n",
              "      <td>20091</td>\n",
              "      <td>This update includes various bug fixes and app...</td>\n",
              "      <td>com.cbn.cbntv.app.android.christian.tv</td>\n",
              "      <td>https://play.google.com/store/apps/details?id=...</td>\n",
              "    </tr>\n",
              "    <tr>\n",
              "      <th>1</th>\n",
              "      <td>7579</td>\n",
              "      <td>63e523d7020a6c8cabe38b08</td>\n",
              "      <td>Draw a Stickman: EPIC</td>\n",
              "      <td>Pencil your way into one of the most creative ...</td>\n",
              "      <td>Draw a stickman, then guide him through a fant...</td>\n",
              "      <td>100,000+</td>\n",
              "      <td>100000.0</td>\n",
              "      <td>232948.0</td>\n",
              "      <td>4.270968</td>\n",
              "      <td>11497.0</td>\n",
              "      <td>...</td>\n",
              "      <td>2</td>\n",
              "      <td>Fantasy Violence</td>\n",
              "      <td>0.0</td>\n",
              "      <td>0.0</td>\n",
              "      <td>Nov 13, 2012</td>\n",
              "      <td>1429028558</td>\n",
              "      <td>1.4.3.113</td>\n",
              "      <td>- Support large screen devices running at 2560...</td>\n",
              "      <td>com.hitcents.stickmanepic</td>\n",
              "      <td>https://play.google.com/store/apps/details?id=...</td>\n",
              "    </tr>\n",
              "    <tr>\n",
              "      <th>2</th>\n",
              "      <td>9464</td>\n",
              "      <td>63e523d7020a6c8cabe39265</td>\n",
              "      <td>Hero Wars</td>\n",
              "      <td>Mutants and Aliens invaded the Earth.\r\n",
              "All cit...</td>\n",
              "      <td>Realtime Defense game.  Control all your heroe...</td>\n",
              "      <td>10,000+</td>\n",
              "      <td>10000.0</td>\n",
              "      <td>32162.0</td>\n",
              "      <td>4.82</td>\n",
              "      <td>918.0</td>\n",
              "      <td>...</td>\n",
              "      <td>4</td>\n",
              "      <td>Violence</td>\n",
              "      <td>True</td>\n",
              "      <td>True</td>\n",
              "      <td>Mar 10, 2018</td>\n",
              "      <td>1520766578</td>\n",
              "      <td>1.0.0</td>\n",
              "      <td>&lt;NA&gt;</td>\n",
              "      <td>com.naomicsoft.hero_wars01</td>\n",
              "      <td>https://play.google.com/store/apps/details?id=...</td>\n",
              "    </tr>\n",
              "    <tr>\n",
              "      <th>3</th>\n",
              "      <td>7769</td>\n",
              "      <td>63e523d7020a6c8cabe38bc6</td>\n",
              "      <td>(re)format Z:</td>\n",
              "      <td>Embark on a quest to become the programmer of ...</td>\n",
              "      <td>Reformat Z: Do you have the skills to make you...</td>\n",
              "      <td>10,000+</td>\n",
              "      <td>10000.0</td>\n",
              "      <td>21033.0</td>\n",
              "      <td>2.375</td>\n",
              "      <td>343.0</td>\n",
              "      <td>...</td>\n",
              "      <td>1</td>\n",
              "      <td>&lt;NA&gt;</td>\n",
              "      <td>0.0</td>\n",
              "      <td>0.0</td>\n",
              "      <td>Nov 1, 2017</td>\n",
              "      <td>1539854317</td>\n",
              "      <td>1.1.6</td>\n",
              "      <td>- Fixed some strings not being localized</td>\n",
              "      <td>com.blindflugstudios.renewalzh</td>\n",
              "      <td>https://play.google.com/store/apps/details?id=...</td>\n",
              "    </tr>\n",
              "    <tr>\n",
              "      <th>4</th>\n",
              "      <td>9526</td>\n",
              "      <td>63e523d7020a6c8cabe392a3</td>\n",
              "      <td>Swim.com: Workouts &amp; Tracking</td>\n",
              "      <td>SWIM.COM IS THE ESSENTIAL APP FOR SWIMMERS!  R...</td>\n",
              "      <td>Swim with the most advanced swim tracking app ...</td>\n",
              "      <td>50,000+</td>\n",
              "      <td>50000.0</td>\n",
              "      <td>94936.0</td>\n",
              "      <td>3.9</td>\n",
              "      <td>1014.0</td>\n",
              "      <td>...</td>\n",
              "      <td>1</td>\n",
              "      <td>&lt;NA&gt;</td>\n",
              "      <td>0.0</td>\n",
              "      <td>0.0</td>\n",
              "      <td>Feb 5, 2015</td>\n",
              "      <td>1668499138</td>\n",
              "      <td>5.2.3</td>\n",
              "      <td>Bug fixes</td>\n",
              "      <td>com.spiraledge.swimapp</td>\n",
              "      <td>https://play.google.com/store/apps/details?id=...</td>\n",
              "    </tr>\n",
              "  </tbody>\n",
              "</table>\n",
              "<p>5 rows × 29 columns</p>\n",
              "</div>[5 rows x 29 columns in total]"
            ],
            "text/plain": [
              "    _c0                       _id                          title  \\\n",
              "0  4133  63e523d7020a6c8cabe37d92                     CBN Family   \n",
              "1  7579  63e523d7020a6c8cabe38b08          Draw a Stickman: EPIC   \n",
              "2  9464  63e523d7020a6c8cabe39265                      Hero Wars   \n",
              "3  7769  63e523d7020a6c8cabe38bc6                  (re)format Z:   \n",
              "4  9526  63e523d7020a6c8cabe392a3  Swim.com: Workouts & Tracking   \n",
              "\n",
              "                                         description  \\\n",
              "0  CBN Family is a free Christian TV streaming ap...   \n",
              "1  Pencil your way into one of the most creative ...   \n",
              "2  Mutants and Aliens invaded the Earth.\n",
              "All cit...   \n",
              "3  Embark on a quest to become the programmer of ...   \n",
              "4  SWIM.COM IS THE ESSENTIAL APP FOR SWIMMERS!  R...   \n",
              "\n",
              "                                             summary  installs  minInstalls  \\\n",
              "0  CBN Family is a free Christian TV app broadcas...  100,000+     100000.0   \n",
              "1  Draw a stickman, then guide him through a fant...  100,000+     100000.0   \n",
              "2  Realtime Defense game.  Control all your heroe...   10,000+      10000.0   \n",
              "3  Reformat Z: Do you have the skills to make you...   10,000+      10000.0   \n",
              "4  Swim with the most advanced swim tracking app ...   50,000+      50000.0   \n",
              "\n",
              "   realInstalls     score  ratings  ...  contentRating  \\\n",
              "0      209982.0      4.74   1093.0  ...              1   \n",
              "1      232948.0  4.270968  11497.0  ...              2   \n",
              "2       32162.0      4.82    918.0  ...              4   \n",
              "3       21033.0     2.375    343.0  ...              1   \n",
              "4       94936.0       3.9   1014.0  ...              1   \n",
              "\n",
              "   contentRatingDescription  adSupported containsAds      released  \\\n",
              "0                      <NA>          0.0         0.0   Aug 7, 2015   \n",
              "1          Fantasy Violence          0.0         0.0  Nov 13, 2012   \n",
              "2                  Violence         True        True  Mar 10, 2018   \n",
              "3                      <NA>          0.0         0.0   Nov 1, 2017   \n",
              "4                      <NA>          0.0         0.0   Feb 5, 2015   \n",
              "\n",
              "      updated    version                                      recentChanges  \\\n",
              "0  1657747349      20091  This update includes various bug fixes and app...   \n",
              "1  1429028558  1.4.3.113  - Support large screen devices running at 2560...   \n",
              "2  1520766578      1.0.0                                               <NA>   \n",
              "3  1539854317      1.1.6           - Fixed some strings not being localized   \n",
              "4  1668499138      5.2.3                                          Bug fixes   \n",
              "\n",
              "                                    appId  \\\n",
              "0  com.cbn.cbntv.app.android.christian.tv   \n",
              "1               com.hitcents.stickmanepic   \n",
              "2              com.naomicsoft.hero_wars01   \n",
              "3          com.blindflugstudios.renewalzh   \n",
              "4                  com.spiraledge.swimapp   \n",
              "\n",
              "                                                 url  \n",
              "0  https://play.google.com/store/apps/details?id=...  \n",
              "1  https://play.google.com/store/apps/details?id=...  \n",
              "2  https://play.google.com/store/apps/details?id=...  \n",
              "3  https://play.google.com/store/apps/details?id=...  \n",
              "4  https://play.google.com/store/apps/details?id=...  \n",
              "\n",
              "[5 rows x 29 columns]"
            ]
          },
          "execution_count": 34,
          "metadata": {},
          "output_type": "execute_result"
        }
      ],
      "source": [
        "google_apps_df.head(5)"
      ]
    },
    {
      "cell_type": "code",
      "execution_count": 35,
      "metadata": {
        "colab": {
          "base_uri": "https://localhost:8080/"
        },
        "executionInfo": {
          "elapsed": 7,
          "status": "ok",
          "timestamp": 1755451987319,
          "user": {
            "displayName": "",
            "userId": ""
          },
          "user_tz": -330
        },
        "id": "_jxzVj66bjc5",
        "outputId": "6053f6cc-679d-4ae5-c4f9-a74f3256d420"
      },
      "outputs": [
        {
          "data": {
            "text/plain": [
              "Index(['_c0', '_id', 'title', 'description', 'summary', 'installs',\n",
              "       'minInstalls', 'realInstalls', 'score', 'ratings', 'reviews', 'price',\n",
              "       'free', 'currency', 'offersIAP', 'inAppProductPrice', 'developer',\n",
              "       'developerId', 'genre', 'contentRating', 'contentRatingDescription',\n",
              "       'adSupported', 'containsAds', 'released', 'updated', 'version',\n",
              "       'recentChanges', 'appId', 'url'],\n",
              "      dtype='object')"
            ]
          },
          "execution_count": 35,
          "metadata": {},
          "output_type": "execute_result"
        }
      ],
      "source": [
        "google_apps_df.columns"
      ]
    },
    {
      "cell_type": "code",
      "execution_count": 36,
      "metadata": {
        "colab": {
          "base_uri": "https://localhost:8080/",
          "height": 503
        },
        "executionInfo": {
          "elapsed": 7926,
          "status": "ok",
          "timestamp": 1755451995242,
          "user": {
            "displayName": "",
            "userId": ""
          },
          "user_tz": -330
        },
        "id": "qIBQLXHKblsW",
        "outputId": "517e3e71-8ea4-419b-a349-3ce40100bdc2"
      },
      "outputs": [
        {
          "data": {
            "text/html": [
              "Query job b04ce52c-91b2-45e1-b644-0ab824333435 is DONE. 28.6 MB processed. <a target=\"_blank\" href=\"https://console.cloud.google.com/bigquery?project=market-mirror-dev&j=bq:US:b04ce52c-91b2-45e1-b644-0ab824333435&page=queryresults\">Open Job</a>"
            ],
            "text/plain": [
              "<IPython.core.display.HTML object>"
            ]
          },
          "metadata": {},
          "output_type": "display_data"
        },
        {
          "data": {
            "text/html": [
              "Query job 7b019be3-0755-4db3-8fa5-fa06fb2ff0d1 is DONE. 771 Bytes processed. <a target=\"_blank\" href=\"https://console.cloud.google.com/bigquery?project=market-mirror-dev&j=bq:US:7b019be3-0755-4db3-8fa5-fa06fb2ff0d1&page=queryresults\">Open Job</a>"
            ],
            "text/plain": [
              "<IPython.core.display.HTML object>"
            ]
          },
          "metadata": {},
          "output_type": "display_data"
        },
        {
          "data": {
            "text/plain": [
              "_c0                         11593\n",
              "_id                         11593\n",
              "title                       11593\n",
              "description                 11593\n",
              "summary                     11592\n",
              "installs                    11593\n",
              "minInstalls                 11593\n",
              "realInstalls                11593\n",
              "score                       11593\n",
              "ratings                     11593\n",
              "reviews                     11593\n",
              "price                       11593\n",
              "free                        11593\n",
              "currency                    11593\n",
              "offersIAP                    7953\n",
              "inAppProductPrice           11593\n",
              "developer                   11593\n",
              "developerId                 11593\n",
              "genre                       11593\n",
              "contentRating               11593\n",
              "contentRatingDescription     2965\n",
              "adSupported                 11593\n",
              "containsAds                 11593\n",
              "released                    11593\n",
              "updated                     11593\n",
              "dtype: Int64"
            ]
          },
          "execution_count": 36,
          "metadata": {},
          "output_type": "execute_result"
        }
      ],
      "source": [
        "google_apps_df.count()"
      ]
    },
    {
      "cell_type": "code",
      "execution_count": null,
      "metadata": {
        "executionInfo": {
          "elapsed": 4,
          "status": "ok",
          "timestamp": 1755451995243,
          "user": {
            "displayName": "",
            "userId": ""
          },
          "user_tz": -330
        },
        "id": "rKrw_qR6bsZu"
      },
      "outputs": [],
      "source": [
        "# keep only specific subset of columns\n",
        "google_apps_df_subset = google_apps_df[['title','description','summary','ratings','reviews','price','free','genre']]"
      ]
    },
    {
      "cell_type": "code",
      "execution_count": 38,
      "metadata": {
        "colab": {
          "base_uri": "https://localhost:8080/",
          "height": 409
        },
        "executionInfo": {
          "elapsed": 5332,
          "status": "ok",
          "timestamp": 1755452000572,
          "user": {
            "displayName": "",
            "userId": ""
          },
          "user_tz": -330
        },
        "id": "n4u8TyCHcOpF",
        "outputId": "6d530308-9aa4-4dd2-8baf-c2a096d2c7e3"
      },
      "outputs": [
        {
          "data": {
            "text/html": [
              "Query job 932835e2-0ed7-4299-995f-851a67f07d46 is DONE. 28.6 MB processed. <a target=\"_blank\" href=\"https://console.cloud.google.com/bigquery?project=market-mirror-dev&j=bq:US:932835e2-0ed7-4299-995f-851a67f07d46&page=queryresults\">Open Job</a>"
            ],
            "text/plain": [
              "<IPython.core.display.HTML object>"
            ]
          },
          "metadata": {},
          "output_type": "display_data"
        },
        {
          "data": {
            "text/html": [
              "<div>\n",
              "<style scoped>\n",
              "    .dataframe tbody tr th:only-of-type {\n",
              "        vertical-align: middle;\n",
              "    }\n",
              "\n",
              "    .dataframe tbody tr th {\n",
              "        vertical-align: top;\n",
              "    }\n",
              "\n",
              "    .dataframe thead th {\n",
              "        text-align: right;\n",
              "    }\n",
              "</style>\n",
              "<table border=\"1\" class=\"dataframe\">\n",
              "  <thead>\n",
              "    <tr style=\"text-align: right;\">\n",
              "      <th></th>\n",
              "      <th>title</th>\n",
              "      <th>description</th>\n",
              "      <th>summary</th>\n",
              "      <th>ratings</th>\n",
              "      <th>reviews</th>\n",
              "      <th>price</th>\n",
              "      <th>free</th>\n",
              "      <th>genre</th>\n",
              "    </tr>\n",
              "  </thead>\n",
              "  <tbody>\n",
              "    <tr>\n",
              "      <th>0</th>\n",
              "      <td>CBN Family</td>\n",
              "      <td>CBN Family is a free Christian TV streaming ap...</td>\n",
              "      <td>CBN Family is a free Christian TV app broadcas...</td>\n",
              "      <td>1093.0</td>\n",
              "      <td>257.0</td>\n",
              "      <td>0.0</td>\n",
              "      <td>True</td>\n",
              "      <td>Lifestyle</td>\n",
              "    </tr>\n",
              "    <tr>\n",
              "      <th>1</th>\n",
              "      <td>Draw a Stickman: EPIC</td>\n",
              "      <td>Pencil your way into one of the most creative ...</td>\n",
              "      <td>Draw a stickman, then guide him through a fant...</td>\n",
              "      <td>11497.0</td>\n",
              "      <td>1232.0</td>\n",
              "      <td>0.99</td>\n",
              "      <td>False</td>\n",
              "      <td>Adventure</td>\n",
              "    </tr>\n",
              "    <tr>\n",
              "      <th>2</th>\n",
              "      <td>Hero Wars</td>\n",
              "      <td>Mutants and Aliens invaded the Earth.\r\n",
              "All cit...</td>\n",
              "      <td>Realtime Defense game.  Control all your heroe...</td>\n",
              "      <td>918.0</td>\n",
              "      <td>68.0</td>\n",
              "      <td>0.0</td>\n",
              "      <td>True</td>\n",
              "      <td>Strategy</td>\n",
              "    </tr>\n",
              "    <tr>\n",
              "      <th>3</th>\n",
              "      <td>(re)format Z:</td>\n",
              "      <td>Embark on a quest to become the programmer of ...</td>\n",
              "      <td>Reformat Z: Do you have the skills to make you...</td>\n",
              "      <td>343.0</td>\n",
              "      <td>14.0</td>\n",
              "      <td>0.0</td>\n",
              "      <td>True</td>\n",
              "      <td>Action</td>\n",
              "    </tr>\n",
              "    <tr>\n",
              "      <th>4</th>\n",
              "      <td>Swim.com: Workouts &amp; Tracking</td>\n",
              "      <td>SWIM.COM IS THE ESSENTIAL APP FOR SWIMMERS!  R...</td>\n",
              "      <td>Swim with the most advanced swim tracking app ...</td>\n",
              "      <td>1014.0</td>\n",
              "      <td>132.0</td>\n",
              "      <td>0.0</td>\n",
              "      <td>True</td>\n",
              "      <td>Health &amp; Fitness</td>\n",
              "    </tr>\n",
              "  </tbody>\n",
              "</table>\n",
              "<p>5 rows × 8 columns</p>\n",
              "</div>[5 rows x 8 columns in total]"
            ],
            "text/plain": [
              "                           title  \\\n",
              "0                     CBN Family   \n",
              "1          Draw a Stickman: EPIC   \n",
              "2                      Hero Wars   \n",
              "3                  (re)format Z:   \n",
              "4  Swim.com: Workouts & Tracking   \n",
              "\n",
              "                                         description  \\\n",
              "0  CBN Family is a free Christian TV streaming ap...   \n",
              "1  Pencil your way into one of the most creative ...   \n",
              "2  Mutants and Aliens invaded the Earth.\n",
              "All cit...   \n",
              "3  Embark on a quest to become the programmer of ...   \n",
              "4  SWIM.COM IS THE ESSENTIAL APP FOR SWIMMERS!  R...   \n",
              "\n",
              "                                             summary  ratings  reviews  price  \\\n",
              "0  CBN Family is a free Christian TV app broadcas...   1093.0    257.0    0.0   \n",
              "1  Draw a stickman, then guide him through a fant...  11497.0   1232.0   0.99   \n",
              "2  Realtime Defense game.  Control all your heroe...    918.0     68.0    0.0   \n",
              "3  Reformat Z: Do you have the skills to make you...    343.0     14.0    0.0   \n",
              "4  Swim with the most advanced swim tracking app ...   1014.0    132.0    0.0   \n",
              "\n",
              "    free             genre  \n",
              "0   True         Lifestyle  \n",
              "1  False         Adventure  \n",
              "2   True          Strategy  \n",
              "3   True            Action  \n",
              "4   True  Health & Fitness  \n",
              "\n",
              "[5 rows x 8 columns]"
            ]
          },
          "execution_count": 38,
          "metadata": {},
          "output_type": "execute_result"
        }
      ],
      "source": [
        "google_apps_df_subset.head(5)"
      ]
    },
    {
      "cell_type": "code",
      "execution_count": null,
      "metadata": {
        "colab": {
          "base_uri": "https://localhost:8080/",
          "height": 53
        },
        "executionInfo": {
          "elapsed": 10219,
          "status": "ok",
          "timestamp": 1755452010788,
          "user": {
            "displayName": "",
            "userId": ""
          },
          "user_tz": -330
        },
        "id": "Ecn97kz2ckvb",
        "outputId": "3134e9fe-9719-479b-81b5-f086b6b615c3"
      },
      "outputs": [
        {
          "data": {
            "text/html": [
              "Query job e6a6df62-2c5c-4416-8722-0984fb1e7b50 is DONE. 47.6 MB processed. <a target=\"_blank\" href=\"https://console.cloud.google.com/bigquery?project=market-mirror-dev&j=bq:US:e6a6df62-2c5c-4416-8722-0984fb1e7b50&page=queryresults\">Open Job</a>"
            ],
            "text/plain": [
              "<IPython.core.display.HTML object>"
            ]
          },
          "metadata": {},
          "output_type": "display_data"
        },
        {
          "data": {
            "application/vnd.google.colaboratory.intrinsic+json": {
              "type": "string"
            },
            "text/plain": [
              "'market-mirror-dev.APP_MARKET_SILVER.T_GOOGLE_APP_DETAILS'"
            ]
          },
          "execution_count": 39,
          "metadata": {},
          "output_type": "execute_result"
        }
      ],
      "source": [
        "# write to SILVER Layer\n",
        "google_apps_df_subset.to_gbq(destination_table=f'{PROJECT_ID}.{BQ_SILVER_DATASET}.T_GOOGLE_APP_DETAILS',if_exists='replace')"
      ]
    },
    {
      "cell_type": "markdown",
      "metadata": {
        "id": "azGk4Ajwdac7"
      },
      "source": [
        "##### Exploring Windows Apps table `windows_store`"
      ]
    },
    {
      "cell_type": "code",
      "execution_count": null,
      "metadata": {
        "id": "-VYjtMFbdjHa"
      },
      "outputs": [],
      "source": [
        "windows_app_df = bpd.read_gbq(f'{PROJECT_ID}.{BQ_BRONZE_DATASET}.windows_store')"
      ]
    },
    {
      "cell_type": "code",
      "execution_count": null,
      "metadata": {
        "colab": {
          "base_uri": "https://localhost:8080/",
          "height": 409
        },
        "executionInfo": {
          "elapsed": 3736,
          "status": "ok",
          "timestamp": 1755441445367,
          "user": {
            "displayName": "",
            "userId": ""
          },
          "user_tz": -330
        },
        "id": "TC4laIxXdpg5",
        "outputId": "bd912722-2192-43fd-ae05-9d57a0a0409b"
      },
      "outputs": [
        {
          "data": {
            "text/html": [
              "Query job 9c426577-2dc0-4a27-ba53-8bf0be53996e is DONE. 5.4 MB processed. <a target=\"_blank\" href=\"https://console.cloud.google.com/bigquery?project=market-mirror-dev&j=bq:US:9c426577-2dc0-4a27-ba53-8bf0be53996e&page=queryresults\">Open Job</a>"
            ],
            "text/plain": [
              "<IPython.core.display.HTML object>"
            ]
          },
          "metadata": {},
          "output_type": "display_data"
        },
        {
          "data": {
            "text/html": [
              "<div>\n",
              "<style scoped>\n",
              "    .dataframe tbody tr th:only-of-type {\n",
              "        vertical-align: middle;\n",
              "    }\n",
              "\n",
              "    .dataframe tbody tr th {\n",
              "        vertical-align: top;\n",
              "    }\n",
              "\n",
              "    .dataframe thead th {\n",
              "        text-align: right;\n",
              "    }\n",
              "</style>\n",
              "<table border=\"1\" class=\"dataframe\">\n",
              "  <thead>\n",
              "    <tr style=\"text-align: right;\">\n",
              "      <th></th>\n",
              "      <th>Name</th>\n",
              "      <th>Price</th>\n",
              "      <th>Description</th>\n",
              "      <th>Publisher</th>\n",
              "      <th>Date_of_Release</th>\n",
              "      <th>Category</th>\n",
              "      <th>Size</th>\n",
              "      <th>Age_Rating</th>\n",
              "      <th>Languages</th>\n",
              "    </tr>\n",
              "  </thead>\n",
              "  <tbody>\n",
              "    <tr>\n",
              "      <th>0</th>\n",
              "      <td>3D Chess Game</td>\n",
              "      <td>Free</td>\n",
              "      <td>Play against the right A.I. level for you, in ...</td>\n",
              "      <td>A Trillion Games Ltd</td>\n",
              "      <td>06-02-2014</td>\n",
              "      <td>Card &amp; board</td>\n",
              "      <td>45.6 MB</td>\n",
              "      <td>For ages 3 and up</td>\n",
              "      <td>English(UnitedStates)</td>\n",
              "    </tr>\n",
              "    <tr>\n",
              "      <th>1</th>\n",
              "      <td>Edge of Reality: Mark of Fate</td>\n",
              "      <td>₹ 549.00</td>\n",
              "      <td>Big Fish Editor's Choice! This title was selec...</td>\n",
              "      <td>Big Fish Games</td>\n",
              "      <td>18-01-2020</td>\n",
              "      <td>Action &amp; adventure</td>\n",
              "      <td>892.71 MB</td>\n",
              "      <td>For ages 16 and up</td>\n",
              "      <td>English(UnitedStates)</td>\n",
              "    </tr>\n",
              "    <tr>\n",
              "      <th>2</th>\n",
              "      <td>Demolition</td>\n",
              "      <td>Free</td>\n",
              "      <td>Explore, admire, then destroy works of archite...</td>\n",
              "      <td>Khor Chin Heong</td>\n",
              "      <td>11-05-2015</td>\n",
              "      <td>Simulation</td>\n",
              "      <td>2.49 GB</td>\n",
              "      <td>For ages 3 and up</td>\n",
              "      <td>English(UnitedStates)</td>\n",
              "    </tr>\n",
              "    <tr>\n",
              "      <th>3</th>\n",
              "      <td>Lonely Mountains: Downhill</td>\n",
              "      <td>Included\n",
              "            \n",
              "\n",
              "\n",
              "+\n",
              " with  Game Pass</td>\n",
              "      <td>Key Features:\n",
              "• Travel to the Lonely Mountains...</td>\n",
              "      <td>Thunderful Publishing</td>\n",
              "      <td>23-10-2019</td>\n",
              "      <td>Action &amp; adventure</td>\n",
              "      <td>&lt;NA&gt;</td>\n",
              "      <td>For ages 3 and up</td>\n",
              "      <td>English(UnitedStates)</td>\n",
              "    </tr>\n",
              "    <tr>\n",
              "      <th>4</th>\n",
              "      <td>Screen Recorder by Animotica</td>\n",
              "      <td>₹ 1,099.00</td>\n",
              "      <td>Screen Recorder by Animotica brings you an eas...</td>\n",
              "      <td>Mixilab LLC</td>\n",
              "      <td>03-11-2020</td>\n",
              "      <td>Productivity</td>\n",
              "      <td>24.02 MB</td>\n",
              "      <td>For ages 3 and up</td>\n",
              "      <td>English(UnitedStates)</td>\n",
              "    </tr>\n",
              "  </tbody>\n",
              "</table>\n",
              "<p>5 rows × 9 columns</p>\n",
              "</div>[5 rows x 9 columns in total]"
            ],
            "text/plain": [
              "                            Name                                       Price  \\\n",
              "0                  3D Chess Game                                        Free   \n",
              "1  Edge of Reality: Mark of Fate                                    ₹ 549.00   \n",
              "2                     Demolition                                        Free   \n",
              "3     Lonely Mountains: Downhill  Included\n",
              "            \n",
              "\n",
              "\n",
              "+\n",
              " with  Game Pass   \n",
              "4   Screen Recorder by Animotica                                  ₹ 1,099.00   \n",
              "\n",
              "                                         Description              Publisher  \\\n",
              "0  Play against the right A.I. level for you, in ...   A Trillion Games Ltd   \n",
              "1  Big Fish Editor's Choice! This title was selec...         Big Fish Games   \n",
              "2  Explore, admire, then destroy works of archite...        Khor Chin Heong   \n",
              "3  Key Features:\n",
              "• Travel to the Lonely Mountains...  Thunderful Publishing   \n",
              "4  Screen Recorder by Animotica brings you an eas...            Mixilab LLC   \n",
              "\n",
              "  Date_of_Release            Category       Size          Age_Rating  \\\n",
              "0      06-02-2014        Card & board    45.6 MB   For ages 3 and up   \n",
              "1      18-01-2020  Action & adventure  892.71 MB  For ages 16 and up   \n",
              "2      11-05-2015          Simulation    2.49 GB   For ages 3 and up   \n",
              "3      23-10-2019  Action & adventure       <NA>   For ages 3 and up   \n",
              "4      03-11-2020        Productivity   24.02 MB   For ages 3 and up   \n",
              "\n",
              "               Languages  \n",
              "0  English(UnitedStates)  \n",
              "1  English(UnitedStates)  \n",
              "2  English(UnitedStates)  \n",
              "3  English(UnitedStates)  \n",
              "4  English(UnitedStates)  \n",
              "\n",
              "[5 rows x 9 columns]"
            ]
          },
          "execution_count": 56,
          "metadata": {},
          "output_type": "execute_result"
        }
      ],
      "source": [
        "windows_app_df.head(5)"
      ]
    },
    {
      "cell_type": "code",
      "execution_count": null,
      "metadata": {
        "id": "pZZJ4qDFd2ls"
      },
      "outputs": [],
      "source": [
        "#keep only a subset of columns\n",
        "windows_app_df_subset = windows_app_df[['Name','Price','Description','Category','Size']]"
      ]
    },
    {
      "cell_type": "code",
      "execution_count": null,
      "metadata": {
        "colab": {
          "base_uri": "https://localhost:8080/",
          "height": 138
        },
        "executionInfo": {
          "elapsed": 7902,
          "status": "ok",
          "timestamp": 1755441556246,
          "user": {
            "displayName": "",
            "userId": ""
          },
          "user_tz": -330
        },
        "id": "r_SGAViWeDWm",
        "outputId": "1920f5a2-e516-48d7-d41a-048ff9ad3240"
      },
      "outputs": [
        {
          "data": {
            "text/html": [
              "Query job a061112b-09db-413b-8a18-226df0b1cfb3 is DONE. 4.6 MB processed. <a target=\"_blank\" href=\"https://console.cloud.google.com/bigquery?project=market-mirror-dev&j=bq:US:a061112b-09db-413b-8a18-226df0b1cfb3&page=queryresults\">Open Job</a>"
            ],
            "text/plain": [
              "<IPython.core.display.HTML object>"
            ]
          },
          "metadata": {},
          "output_type": "display_data"
        },
        {
          "data": {
            "text/html": [
              "Query job 5684b562-8c4e-4a72-90e7-5c6f5962e308 is DONE. 100 Bytes processed. <a target=\"_blank\" href=\"https://console.cloud.google.com/bigquery?project=market-mirror-dev&j=bq:US:5684b562-8c4e-4a72-90e7-5c6f5962e308&page=queryresults\">Open Job</a>"
            ],
            "text/plain": [
              "<IPython.core.display.HTML object>"
            ]
          },
          "metadata": {},
          "output_type": "display_data"
        },
        {
          "data": {
            "text/plain": [
              "Name           3960\n",
              "Price          3960\n",
              "Description    3960\n",
              "Category       3960\n",
              "dtype: Int64"
            ]
          },
          "execution_count": 58,
          "metadata": {},
          "output_type": "execute_result"
        }
      ],
      "source": [
        "windows_app_df_subset.count()"
      ]
    },
    {
      "cell_type": "code",
      "execution_count": null,
      "metadata": {
        "colab": {
          "base_uri": "https://localhost:8080/",
          "height": 53
        },
        "executionInfo": {
          "elapsed": 3734,
          "status": "ok",
          "timestamp": 1755441856696,
          "user": {
            "displayName": "",
            "userId": ""
          },
          "user_tz": -330
        },
        "id": "EKZ19qsbeThN",
        "outputId": "3512b1ca-5503-4f55-82f0-cb6bc1e9e2b9"
      },
      "outputs": [
        {
          "data": {
            "text/html": [
              "Query job cb5a137a-c87b-4adf-b362-2358035b16f8 is DONE. 4.7 MB processed. <a target=\"_blank\" href=\"https://console.cloud.google.com/bigquery?project=market-mirror-dev&j=bq:US:cb5a137a-c87b-4adf-b362-2358035b16f8&page=queryresults\">Open Job</a>"
            ],
            "text/plain": [
              "<IPython.core.display.HTML object>"
            ]
          },
          "metadata": {},
          "output_type": "display_data"
        },
        {
          "data": {
            "application/vnd.google.colaboratory.intrinsic+json": {
              "type": "string"
            },
            "text/plain": [
              "'market-mirror-dev.APP_MARKET_SILVER.T_WINDOWS_APP_DETAILS'"
            ]
          },
          "execution_count": 63,
          "metadata": {},
          "output_type": "execute_result"
        }
      ],
      "source": [
        "#write to BQ SILVER Layer\n",
        "windows_app_df_subset.to_gbq(f'{PROJECT_ID}.{BQ_SILVER_DATASET}.T_WINDOWS_APP_DETAILS',if_exists='replace')"
      ]
    },
    {
      "cell_type": "markdown",
      "metadata": {
        "id": "a9j1XpHeefN7"
      },
      "source": [
        "##### Exploring Apple Apps tables `AppleStore`"
      ]
    },
    {
      "cell_type": "code",
      "execution_count": null,
      "metadata": {
        "id": "mb0h_Xj4euc-"
      },
      "outputs": [],
      "source": [
        "#Read data\n",
        "apple_app_df = bpd.read_gbq(f'{PROJECT_ID}.{BQ_BRONZE_DATASET}.AppleStore')"
      ]
    },
    {
      "cell_type": "code",
      "execution_count": null,
      "metadata": {
        "colab": {
          "base_uri": "https://localhost:8080/",
          "height": 394
        },
        "executionInfo": {
          "elapsed": 4455,
          "status": "ok",
          "timestamp": 1755441756403,
          "user": {
            "displayName": "",
            "userId": ""
          },
          "user_tz": -330
        },
        "id": "Qx9o6Ebye1Z2",
        "outputId": "9107d955-9503-4f53-fa4f-69dae1e7488f"
      },
      "outputs": [
        {
          "data": {
            "text/html": [
              "Query job 6d508adc-e66d-4252-878e-6a89fb4ab808 is DONE. 1.1 MB processed. <a target=\"_blank\" href=\"https://console.cloud.google.com/bigquery?project=market-mirror-dev&j=bq:US:6d508adc-e66d-4252-878e-6a89fb4ab808&page=queryresults\">Open Job</a>"
            ],
            "text/plain": [
              "<IPython.core.display.HTML object>"
            ]
          },
          "metadata": {},
          "output_type": "display_data"
        },
        {
          "data": {
            "text/html": [
              "<div>\n",
              "<style scoped>\n",
              "    .dataframe tbody tr th:only-of-type {\n",
              "        vertical-align: middle;\n",
              "    }\n",
              "\n",
              "    .dataframe tbody tr th {\n",
              "        vertical-align: top;\n",
              "    }\n",
              "\n",
              "    .dataframe thead th {\n",
              "        text-align: right;\n",
              "    }\n",
              "</style>\n",
              "<table border=\"1\" class=\"dataframe\">\n",
              "  <thead>\n",
              "    <tr style=\"text-align: right;\">\n",
              "      <th></th>\n",
              "      <th>_c0</th>\n",
              "      <th>id</th>\n",
              "      <th>track_name</th>\n",
              "      <th>size_bytes</th>\n",
              "      <th>currency</th>\n",
              "      <th>price</th>\n",
              "      <th>rating_count_tot</th>\n",
              "      <th>rating_count_ver</th>\n",
              "      <th>user_rating</th>\n",
              "      <th>user_rating_ver</th>\n",
              "      <th>ver</th>\n",
              "      <th>cont_rating</th>\n",
              "      <th>prime_genre</th>\n",
              "      <th>sup_devices_num</th>\n",
              "      <th>ipadSc_urls_num</th>\n",
              "      <th>lang_num</th>\n",
              "      <th>vpp_lic</th>\n",
              "    </tr>\n",
              "  </thead>\n",
              "  <tbody>\n",
              "    <tr>\n",
              "      <th>0</th>\n",
              "      <td>3701</td>\n",
              "      <td>931337752</td>\n",
              "      <td>幻獣契約クリプトラクト</td>\n",
              "      <td>97223680</td>\n",
              "      <td>USD</td>\n",
              "      <td>0.0</td>\n",
              "      <td>33</td>\n",
              "      <td>0</td>\n",
              "      <td>4.0</td>\n",
              "      <td>0.0</td>\n",
              "      <td>v3.6.9</td>\n",
              "      <td>9+</td>\n",
              "      <td>Games</td>\n",
              "      <td>40</td>\n",
              "      <td>5</td>\n",
              "      <td>1</td>\n",
              "      <td>1</td>\n",
              "    </tr>\n",
              "    <tr>\n",
              "      <th>1</th>\n",
              "      <td>6668</td>\n",
              "      <td>1070864992</td>\n",
              "      <td>Solo Selfie</td>\n",
              "      <td>140281856</td>\n",
              "      <td>USD</td>\n",
              "      <td>0.0</td>\n",
              "      <td>1799</td>\n",
              "      <td>267</td>\n",
              "      <td>4.0</td>\n",
              "      <td>4.5</td>\n",
              "      <td>2.2.1</td>\n",
              "      <td>4+</td>\n",
              "      <td>Photo &amp; Video</td>\n",
              "      <td>37</td>\n",
              "      <td>4</td>\n",
              "      <td>11</td>\n",
              "      <td>1</td>\n",
              "    </tr>\n",
              "    <tr>\n",
              "      <th>2</th>\n",
              "      <td>5575</td>\n",
              "      <td>1042273323</td>\n",
              "      <td>Splash Cars</td>\n",
              "      <td>182239232</td>\n",
              "      <td>USD</td>\n",
              "      <td>0.0</td>\n",
              "      <td>2094</td>\n",
              "      <td>24</td>\n",
              "      <td>4.5</td>\n",
              "      <td>5.0</td>\n",
              "      <td>1.5.2</td>\n",
              "      <td>4+</td>\n",
              "      <td>Games</td>\n",
              "      <td>38</td>\n",
              "      <td>5</td>\n",
              "      <td>1</td>\n",
              "      <td>1</td>\n",
              "    </tr>\n",
              "    <tr>\n",
              "      <th>3</th>\n",
              "      <td>10217</td>\n",
              "      <td>1153473604</td>\n",
              "      <td>GoldenMoji - Golden Retriever Emojis</td>\n",
              "      <td>43315200</td>\n",
              "      <td>USD</td>\n",
              "      <td>0.0</td>\n",
              "      <td>27</td>\n",
              "      <td>3</td>\n",
              "      <td>2.5</td>\n",
              "      <td>2.0</td>\n",
              "      <td>1.5</td>\n",
              "      <td>4+</td>\n",
              "      <td>Utilities</td>\n",
              "      <td>37</td>\n",
              "      <td>3</td>\n",
              "      <td>1</td>\n",
              "      <td>1</td>\n",
              "    </tr>\n",
              "    <tr>\n",
              "      <th>4</th>\n",
              "      <td>1095</td>\n",
              "      <td>463142843</td>\n",
              "      <td>twinkle</td>\n",
              "      <td>17612800</td>\n",
              "      <td>USD</td>\n",
              "      <td>2.99</td>\n",
              "      <td>5</td>\n",
              "      <td>0</td>\n",
              "      <td>4.0</td>\n",
              "      <td>0.0</td>\n",
              "      <td>6.6</td>\n",
              "      <td>17+</td>\n",
              "      <td>Entertainment</td>\n",
              "      <td>37</td>\n",
              "      <td>1</td>\n",
              "      <td>1</td>\n",
              "      <td>1</td>\n",
              "    </tr>\n",
              "  </tbody>\n",
              "</table>\n",
              "<p>5 rows × 17 columns</p>\n",
              "</div>[5 rows x 17 columns in total]"
            ],
            "text/plain": [
              "     _c0          id                            track_name  size_bytes  \\\n",
              "0   3701   931337752                           幻獣契約クリプトラクト    97223680   \n",
              "1   6668  1070864992                           Solo Selfie   140281856   \n",
              "2   5575  1042273323                           Splash Cars   182239232   \n",
              "3  10217  1153473604  GoldenMoji - Golden Retriever Emojis    43315200   \n",
              "4   1095   463142843                               twinkle    17612800   \n",
              "\n",
              "  currency  price  rating_count_tot  rating_count_ver  user_rating  \\\n",
              "0      USD    0.0                33                 0          4.0   \n",
              "1      USD    0.0              1799               267          4.0   \n",
              "2      USD    0.0              2094                24          4.5   \n",
              "3      USD    0.0                27                 3          2.5   \n",
              "4      USD   2.99                 5                 0          4.0   \n",
              "\n",
              "   user_rating_ver     ver cont_rating    prime_genre  sup_devices_num  \\\n",
              "0              0.0  v3.6.9          9+          Games               40   \n",
              "1              4.5   2.2.1          4+  Photo & Video               37   \n",
              "2              5.0   1.5.2          4+          Games               38   \n",
              "3              2.0     1.5          4+      Utilities               37   \n",
              "4              0.0     6.6         17+  Entertainment               37   \n",
              "\n",
              "   ipadSc_urls_num  lang_num  vpp_lic  \n",
              "0                5         1        1  \n",
              "1                4        11        1  \n",
              "2                5         1        1  \n",
              "3                3         1        1  \n",
              "4                1         1        1  \n",
              "\n",
              "[5 rows x 17 columns]"
            ]
          },
          "execution_count": 61,
          "metadata": {},
          "output_type": "execute_result"
        }
      ],
      "source": [
        "apple_app_df.head(5)"
      ]
    },
    {
      "cell_type": "code",
      "execution_count": null,
      "metadata": {
        "id": "s_wExaVyfExo"
      },
      "outputs": [],
      "source": [
        "#Keep only a subset of columns\n",
        "apple_app_df_subset = apple_app_df[['id','track_name','size_bytes','currency','price','user_rating','prime_genre']]"
      ]
    },
    {
      "cell_type": "code",
      "execution_count": null,
      "metadata": {
        "colab": {
          "base_uri": "https://localhost:8080/",
          "height": 270
        },
        "executionInfo": {
          "elapsed": 4091,
          "status": "ok",
          "timestamp": 1755442369962,
          "user": {
            "displayName": "",
            "userId": ""
          },
          "user_tz": -330
        },
        "id": "x_-380_4fouH",
        "outputId": "d8c4da05-03e6-403a-f279-98d19d7fc239"
      },
      "outputs": [
        {
          "data": {
            "text/html": [
              "Query job 410da364-98f3-4041-b9c7-acfb688d2214 is DONE. 428 Bytes processed. <a target=\"_blank\" href=\"https://console.cloud.google.com/bigquery?project=market-mirror-dev&j=bq:US:410da364-98f3-4041-b9c7-acfb688d2214&page=queryresults\">Open Job</a>"
            ],
            "text/plain": [
              "<IPython.core.display.HTML object>"
            ]
          },
          "metadata": {},
          "output_type": "display_data"
        },
        {
          "data": {
            "text/html": [
              "<div>\n",
              "<style scoped>\n",
              "    .dataframe tbody tr th:only-of-type {\n",
              "        vertical-align: middle;\n",
              "    }\n",
              "\n",
              "    .dataframe tbody tr th {\n",
              "        vertical-align: top;\n",
              "    }\n",
              "\n",
              "    .dataframe thead th {\n",
              "        text-align: right;\n",
              "    }\n",
              "</style>\n",
              "<table border=\"1\" class=\"dataframe\">\n",
              "  <thead>\n",
              "    <tr style=\"text-align: right;\">\n",
              "      <th></th>\n",
              "      <th>id</th>\n",
              "      <th>track_name</th>\n",
              "      <th>size_bytes</th>\n",
              "      <th>currency</th>\n",
              "      <th>price</th>\n",
              "      <th>user_rating</th>\n",
              "      <th>prime_genre</th>\n",
              "    </tr>\n",
              "  </thead>\n",
              "  <tbody>\n",
              "    <tr>\n",
              "      <th>0</th>\n",
              "      <td>931337752</td>\n",
              "      <td>幻獣契約クリプトラクト</td>\n",
              "      <td>97223680</td>\n",
              "      <td>USD</td>\n",
              "      <td>0.0</td>\n",
              "      <td>4.0</td>\n",
              "      <td>Games</td>\n",
              "    </tr>\n",
              "    <tr>\n",
              "      <th>1</th>\n",
              "      <td>1070864992</td>\n",
              "      <td>Solo Selfie</td>\n",
              "      <td>140281856</td>\n",
              "      <td>USD</td>\n",
              "      <td>0.0</td>\n",
              "      <td>4.0</td>\n",
              "      <td>Photo &amp; Video</td>\n",
              "    </tr>\n",
              "    <tr>\n",
              "      <th>2</th>\n",
              "      <td>1042273323</td>\n",
              "      <td>Splash Cars</td>\n",
              "      <td>182239232</td>\n",
              "      <td>USD</td>\n",
              "      <td>0.0</td>\n",
              "      <td>4.5</td>\n",
              "      <td>Games</td>\n",
              "    </tr>\n",
              "    <tr>\n",
              "      <th>3</th>\n",
              "      <td>1153473604</td>\n",
              "      <td>GoldenMoji - Golden Retriever Emojis</td>\n",
              "      <td>43315200</td>\n",
              "      <td>USD</td>\n",
              "      <td>0.0</td>\n",
              "      <td>2.5</td>\n",
              "      <td>Utilities</td>\n",
              "    </tr>\n",
              "    <tr>\n",
              "      <th>4</th>\n",
              "      <td>463142843</td>\n",
              "      <td>twinkle</td>\n",
              "      <td>17612800</td>\n",
              "      <td>USD</td>\n",
              "      <td>2.99</td>\n",
              "      <td>4.0</td>\n",
              "      <td>Entertainment</td>\n",
              "    </tr>\n",
              "  </tbody>\n",
              "</table>\n",
              "<p>5 rows × 7 columns</p>\n",
              "</div>[5 rows x 7 columns in total]"
            ],
            "text/plain": [
              "           id                            track_name  size_bytes currency  \\\n",
              "0   931337752                           幻獣契約クリプトラクト    97223680      USD   \n",
              "1  1070864992                           Solo Selfie   140281856      USD   \n",
              "2  1042273323                           Splash Cars   182239232      USD   \n",
              "3  1153473604  GoldenMoji - Golden Retriever Emojis    43315200      USD   \n",
              "4   463142843                               twinkle    17612800      USD   \n",
              "\n",
              "   price  user_rating    prime_genre  \n",
              "0    0.0          4.0          Games  \n",
              "1    0.0          4.0  Photo & Video  \n",
              "2    0.0          4.5          Games  \n",
              "3    0.0          2.5      Utilities  \n",
              "4   2.99          4.0  Entertainment  \n",
              "\n",
              "[5 rows x 7 columns]"
            ]
          },
          "execution_count": 79,
          "metadata": {},
          "output_type": "execute_result"
        }
      ],
      "source": [
        "apple_app_df_subset.head(5)"
      ]
    },
    {
      "cell_type": "code",
      "execution_count": null,
      "metadata": {
        "colab": {
          "base_uri": "https://localhost:8080/",
          "height": 191
        },
        "executionInfo": {
          "elapsed": 12200,
          "status": "ok",
          "timestamp": 1755442388056,
          "user": {
            "displayName": "",
            "userId": ""
          },
          "user_tz": -330
        },
        "id": "pW5h_eHXghFU",
        "outputId": "39b29bea-efd7-4fec-fe1c-9288fecaabb2"
      },
      "outputs": [
        {
          "data": {
            "text/html": [
              "Query job fb4483ce-16ee-423d-ac1b-082a35354612 is DONE. 564.3 kB processed. <a target=\"_blank\" href=\"https://console.cloud.google.com/bigquery?project=market-mirror-dev&j=bq:US:fb4483ce-16ee-423d-ac1b-082a35354612&page=queryresults\">Open Job</a>"
            ],
            "text/plain": [
              "<IPython.core.display.HTML object>"
            ]
          },
          "metadata": {},
          "output_type": "display_data"
        },
        {
          "data": {
            "text/html": [
              "Query job 51a512ee-df54-47e0-a89e-9da9eb0cb4c7 is DONE. 183 Bytes processed. <a target=\"_blank\" href=\"https://console.cloud.google.com/bigquery?project=market-mirror-dev&j=bq:US:51a512ee-df54-47e0-a89e-9da9eb0cb4c7&page=queryresults\">Open Job</a>"
            ],
            "text/plain": [
              "<IPython.core.display.HTML object>"
            ]
          },
          "metadata": {},
          "output_type": "display_data"
        },
        {
          "data": {
            "text/plain": [
              "id             7197\n",
              "track_name     7197\n",
              "size_bytes     7197\n",
              "currency       7197\n",
              "price          7197\n",
              "user_rating    7197\n",
              "prime_genre    7197\n",
              "dtype: Int64"
            ]
          },
          "execution_count": 80,
          "metadata": {},
          "output_type": "execute_result"
        }
      ],
      "source": [
        "apple_app_df_subset.count()"
      ]
    },
    {
      "cell_type": "code",
      "execution_count": null,
      "metadata": {
        "colab": {
          "base_uri": "https://localhost:8080/"
        },
        "executionInfo": {
          "elapsed": 704,
          "status": "ok",
          "timestamp": 1755442101231,
          "user": {
            "displayName": "",
            "userId": ""
          },
          "user_tz": -330
        },
        "id": "e7Sqk1fhf43d",
        "outputId": "c70f3032-4b62-457d-8883-0d1b684c1177"
      },
      "outputs": [
        {
          "name": "stderr",
          "output_type": "stream",
          "text": [
            "/usr/local/lib/python3.11/dist-packages/bigframes/core/log_adapter.py:175: UserWarning: Reading cached table from 2025-08-17 14:47:55.848877+00:00 to avoid\n",
            "incompatibilies with previous reads of this table. To read the latest\n",
            "version, set `use_cache=False` or close the current session with\n",
            "Session.close() or bigframes.pandas.close_session().\n",
            "  return method(*args, **kwargs)\n"
          ]
        }
      ],
      "source": [
        "# Read the 2nd Apple product description table \n",
        "apple_app_df2 = bpd.read_gbq(f'{PROJECT_ID}.{BQ_BRONZE_DATASET}.appleStore_description')"
      ]
    },
    {
      "cell_type": "code",
      "execution_count": null,
      "metadata": {
        "colab": {
          "base_uri": "https://localhost:8080/",
          "height": 270
        },
        "executionInfo": {
          "elapsed": 4410,
          "status": "ok",
          "timestamp": 1755442113043,
          "user": {
            "displayName": "",
            "userId": ""
          },
          "user_tz": -330
        },
        "id": "Adb21QCKgMgY",
        "outputId": "3fa99c65-9c64-40bb-ea3d-c11dec202dcd"
      },
      "outputs": [
        {
          "data": {
            "text/html": [
              "Query job 80467c08-975a-440d-80d2-2a3a2cccab58 is DONE. 12.9 MB processed. <a target=\"_blank\" href=\"https://console.cloud.google.com/bigquery?project=market-mirror-dev&j=bq:US:80467c08-975a-440d-80d2-2a3a2cccab58&page=queryresults\">Open Job</a>"
            ],
            "text/plain": [
              "<IPython.core.display.HTML object>"
            ]
          },
          "metadata": {},
          "output_type": "display_data"
        },
        {
          "data": {
            "text/html": [
              "<div>\n",
              "<style scoped>\n",
              "    .dataframe tbody tr th:only-of-type {\n",
              "        vertical-align: middle;\n",
              "    }\n",
              "\n",
              "    .dataframe tbody tr th {\n",
              "        vertical-align: top;\n",
              "    }\n",
              "\n",
              "    .dataframe thead th {\n",
              "        text-align: right;\n",
              "    }\n",
              "</style>\n",
              "<table border=\"1\" class=\"dataframe\">\n",
              "  <thead>\n",
              "    <tr style=\"text-align: right;\">\n",
              "      <th></th>\n",
              "      <th>id</th>\n",
              "      <th>track_name</th>\n",
              "      <th>size_bytes</th>\n",
              "      <th>app_desc</th>\n",
              "    </tr>\n",
              "  </thead>\n",
              "  <tbody>\n",
              "    <tr>\n",
              "      <th>0</th>\n",
              "      <td>1120072154</td>\n",
              "      <td>Athlete Shave Salon Games</td>\n",
              "      <td>62823424</td>\n",
              "      <td>Can you help our your friends get ready for th...</td>\n",
              "    </tr>\n",
              "    <tr>\n",
              "      <th>1</th>\n",
              "      <td>1106737361</td>\n",
              "      <td>传说一刀 - 一刀一级PK爆屠龙</td>\n",
              "      <td>363078656</td>\n",
              "      <td>老司机带你飞！千人跨服战开打！\n",
              "\n",
              "复古76千人同屏攻城战手游《传说一刀》，以蓝光高清画质、流...</td>\n",
              "    </tr>\n",
              "    <tr>\n",
              "      <th>2</th>\n",
              "      <td>739836039</td>\n",
              "      <td>Literacy Leveler</td>\n",
              "      <td>2455552</td>\n",
              "      <td>Literacy Leveler makes it easy to level childr...</td>\n",
              "    </tr>\n",
              "    <tr>\n",
              "      <th>3</th>\n",
              "      <td>1085596938</td>\n",
              "      <td>Escape from the ICU room.</td>\n",
              "      <td>96123904</td>\n",
              "      <td>#Story :I tomorrow will leave the hospital.\n",
              "Bu...</td>\n",
              "    </tr>\n",
              "    <tr>\n",
              "      <th>4</th>\n",
              "      <td>453691481</td>\n",
              "      <td>飞猪</td>\n",
              "      <td>148888576</td>\n",
              "      <td>飞猪是阿里巴巴集团旗下旅行品牌，旨在为用户提供便捷、更高性价比的出行服务。 \n",
              "飞猪旅行app...</td>\n",
              "    </tr>\n",
              "  </tbody>\n",
              "</table>\n",
              "<p>5 rows × 4 columns</p>\n",
              "</div>[5 rows x 4 columns in total]"
            ],
            "text/plain": [
              "           id                 track_name  size_bytes  \\\n",
              "0  1120072154  Athlete Shave Salon Games    62823424   \n",
              "1  1106737361           传说一刀 - 一刀一级PK爆屠龙   363078656   \n",
              "2   739836039           Literacy Leveler     2455552   \n",
              "3  1085596938  Escape from the ICU room.    96123904   \n",
              "4   453691481                         飞猪   148888576   \n",
              "\n",
              "                                            app_desc  \n",
              "0  Can you help our your friends get ready for th...  \n",
              "1  老司机带你飞！千人跨服战开打！\n",
              "\n",
              "复古76千人同屏攻城战手游《传说一刀》，以蓝光高清画质、流...  \n",
              "2  Literacy Leveler makes it easy to level childr...  \n",
              "3  #Story :I tomorrow will leave the hospital.\n",
              "Bu...  \n",
              "4  飞猪是阿里巴巴集团旗下旅行品牌，旨在为用户提供便捷、更高性价比的出行服务。 \n",
              "飞猪旅行app...  \n",
              "\n",
              "[5 rows x 4 columns]"
            ]
          },
          "execution_count": 69,
          "metadata": {},
          "output_type": "execute_result"
        }
      ],
      "source": [
        "apple_app_df2.head()"
      ]
    },
    {
      "cell_type": "code",
      "execution_count": null,
      "metadata": {
        "id": "j4hoNxuLg_5o"
      },
      "outputs": [],
      "source": [
        "apple_app_df2_subset = apple_app_df2[['id','app_desc']]"
      ]
    },
    {
      "cell_type": "code",
      "execution_count": null,
      "metadata": {
        "colab": {
          "base_uri": "https://localhost:8080/",
          "height": 104
        },
        "executionInfo": {
          "elapsed": 8275,
          "status": "ok",
          "timestamp": 1755442349395,
          "user": {
            "displayName": "",
            "userId": ""
          },
          "user_tz": -330
        },
        "id": "u2Im7hC1gotR",
        "outputId": "e02e1500-bc40-4ae8-dc1d-c0c895ba514f"
      },
      "outputs": [
        {
          "data": {
            "text/html": [
              "Query job 887bcbfb-6e28-45d0-a2d4-85bb64e9e20d is DONE. 12.6 MB processed. <a target=\"_blank\" href=\"https://console.cloud.google.com/bigquery?project=market-mirror-dev&j=bq:US:887bcbfb-6e28-45d0-a2d4-85bb64e9e20d&page=queryresults\">Open Job</a>"
            ],
            "text/plain": [
              "<IPython.core.display.HTML object>"
            ]
          },
          "metadata": {},
          "output_type": "display_data"
        },
        {
          "data": {
            "text/html": [
              "Query job 0453ecff-a3d5-4bf4-aefe-a3ae701ae7e2 is DONE. 46 Bytes processed. <a target=\"_blank\" href=\"https://console.cloud.google.com/bigquery?project=market-mirror-dev&j=bq:US:0453ecff-a3d5-4bf4-aefe-a3ae701ae7e2&page=queryresults\">Open Job</a>"
            ],
            "text/plain": [
              "<IPython.core.display.HTML object>"
            ]
          },
          "metadata": {},
          "output_type": "display_data"
        },
        {
          "data": {
            "text/plain": [
              "id          7197\n",
              "app_desc    7197\n",
              "dtype: Int64"
            ]
          },
          "execution_count": 77,
          "metadata": {},
          "output_type": "execute_result"
        }
      ],
      "source": [
        "apple_app_df2_subset.count()"
      ]
    },
    {
      "cell_type": "code",
      "execution_count": null,
      "metadata": {
        "id": "ru9Xjt4dgsnb"
      },
      "outputs": [],
      "source": [
        "#join both the tables\n",
        "apple_app_df_subset = bpd.merge(apple_app_df_subset,apple_app_df2_subset,left_on='id',right_on='id',how='left')"
      ]
    },
    {
      "cell_type": "code",
      "execution_count": null,
      "metadata": {
        "colab": {
          "base_uri": "https://localhost:8080/",
          "height": 339
        },
        "executionInfo": {
          "elapsed": 4242,
          "status": "ok",
          "timestamp": 1755442423085,
          "user": {
            "displayName": "",
            "userId": ""
          },
          "user_tz": -330
        },
        "id": "ZRtZmbm9g1yW",
        "outputId": "612c1b9c-f1c5-48a9-c39f-ade681de9d9d"
      },
      "outputs": [
        {
          "data": {
            "text/html": [
              "Query job cfce353f-3346-4304-8994-d8be34f73084 is DONE. 14.0 MB processed. <a target=\"_blank\" href=\"https://console.cloud.google.com/bigquery?project=market-mirror-dev&j=bq:US:cfce353f-3346-4304-8994-d8be34f73084&page=queryresults\">Open Job</a>"
            ],
            "text/plain": [
              "<IPython.core.display.HTML object>"
            ]
          },
          "metadata": {},
          "output_type": "display_data"
        },
        {
          "data": {
            "text/html": [
              "<div>\n",
              "<style scoped>\n",
              "    .dataframe tbody tr th:only-of-type {\n",
              "        vertical-align: middle;\n",
              "    }\n",
              "\n",
              "    .dataframe tbody tr th {\n",
              "        vertical-align: top;\n",
              "    }\n",
              "\n",
              "    .dataframe thead th {\n",
              "        text-align: right;\n",
              "    }\n",
              "</style>\n",
              "<table border=\"1\" class=\"dataframe\">\n",
              "  <thead>\n",
              "    <tr style=\"text-align: right;\">\n",
              "      <th></th>\n",
              "      <th>id</th>\n",
              "      <th>track_name</th>\n",
              "      <th>size_bytes</th>\n",
              "      <th>currency</th>\n",
              "      <th>price</th>\n",
              "      <th>user_rating</th>\n",
              "      <th>prime_genre</th>\n",
              "      <th>app_desc</th>\n",
              "    </tr>\n",
              "  </thead>\n",
              "  <tbody>\n",
              "    <tr>\n",
              "      <th>0</th>\n",
              "      <td>931337752</td>\n",
              "      <td>幻獣契約クリプトラクト</td>\n",
              "      <td>97223680</td>\n",
              "      <td>USD</td>\n",
              "      <td>0.0</td>\n",
              "      <td>4.0</td>\n",
              "      <td>Games</td>\n",
              "      <td>◆【 600 万ダウンロード突破！】◆\n",
              "大ヒット王道ファンタジーRPG「幻獣契約クリプトラク...</td>\n",
              "    </tr>\n",
              "    <tr>\n",
              "      <th>1</th>\n",
              "      <td>1070864992</td>\n",
              "      <td>Solo Selfie</td>\n",
              "      <td>140281856</td>\n",
              "      <td>USD</td>\n",
              "      <td>0.0</td>\n",
              "      <td>4.0</td>\n",
              "      <td>Photo &amp; Video</td>\n",
              "      <td>Solo camera is the easiest way to create and s...</td>\n",
              "    </tr>\n",
              "    <tr>\n",
              "      <th>2</th>\n",
              "      <td>1042273323</td>\n",
              "      <td>Splash Cars</td>\n",
              "      <td>182239232</td>\n",
              "      <td>USD</td>\n",
              "      <td>0.0</td>\n",
              "      <td>4.5</td>\n",
              "      <td>Games</td>\n",
              "      <td>Tired of the everyday grey? Color the world in...</td>\n",
              "    </tr>\n",
              "    <tr>\n",
              "      <th>3</th>\n",
              "      <td>1153473604</td>\n",
              "      <td>GoldenMoji - Golden Retriever Emojis</td>\n",
              "      <td>43315200</td>\n",
              "      <td>USD</td>\n",
              "      <td>0.0</td>\n",
              "      <td>2.5</td>\n",
              "      <td>Utilities</td>\n",
              "      <td>The cutest Golden Retrievers and Ultimate Emoj...</td>\n",
              "    </tr>\n",
              "    <tr>\n",
              "      <th>4</th>\n",
              "      <td>463142843</td>\n",
              "      <td>twinkle</td>\n",
              "      <td>17612800</td>\n",
              "      <td>USD</td>\n",
              "      <td>2.99</td>\n",
              "      <td>4.0</td>\n",
              "      <td>Entertainment</td>\n",
              "      <td>2ちゃんねる、まちBBS、したらば、その他の2ちゃんねる互換の掲示板を閲覧するためのブラウザ...</td>\n",
              "    </tr>\n",
              "  </tbody>\n",
              "</table>\n",
              "<p>5 rows × 8 columns</p>\n",
              "</div>[5 rows x 8 columns in total]"
            ],
            "text/plain": [
              "           id                            track_name  size_bytes currency  \\\n",
              "0   931337752                           幻獣契約クリプトラクト    97223680      USD   \n",
              "1  1070864992                           Solo Selfie   140281856      USD   \n",
              "2  1042273323                           Splash Cars   182239232      USD   \n",
              "3  1153473604  GoldenMoji - Golden Retriever Emojis    43315200      USD   \n",
              "4   463142843                               twinkle    17612800      USD   \n",
              "\n",
              "   price  user_rating    prime_genre  \\\n",
              "0    0.0          4.0          Games   \n",
              "1    0.0          4.0  Photo & Video   \n",
              "2    0.0          4.5          Games   \n",
              "3    0.0          2.5      Utilities   \n",
              "4   2.99          4.0  Entertainment   \n",
              "\n",
              "                                            app_desc  \n",
              "0  ◆【 600 万ダウンロード突破！】◆\n",
              "大ヒット王道ファンタジーRPG「幻獣契約クリプトラク...  \n",
              "1  Solo camera is the easiest way to create and s...  \n",
              "2  Tired of the everyday grey? Color the world in...  \n",
              "3  The cutest Golden Retrievers and Ultimate Emoj...  \n",
              "4  2ちゃんねる、まちBBS、したらば、その他の2ちゃんねる互換の掲示板を閲覧するためのブラウザ...  \n",
              "\n",
              "[5 rows x 8 columns]"
            ]
          },
          "execution_count": 82,
          "metadata": {},
          "output_type": "execute_result"
        }
      ],
      "source": [
        "apple_app_df_subset.head(5)"
      ]
    },
    {
      "cell_type": "code",
      "execution_count": null,
      "metadata": {
        "colab": {
          "base_uri": "https://localhost:8080/",
          "height": 53
        },
        "executionInfo": {
          "elapsed": 4741,
          "status": "ok",
          "timestamp": 1755442450308,
          "user": {
            "displayName": "",
            "userId": ""
          },
          "user_tz": -330
        },
        "id": "z_520rocheYA",
        "outputId": "a1443b4f-08a4-4992-a091-267b933486b1"
      },
      "outputs": [
        {
          "data": {
            "text/html": [
              "Query job 9c659ed2-c9a6-4f1e-8711-2b9f3d966d52 is DONE. 13.2 MB processed. <a target=\"_blank\" href=\"https://console.cloud.google.com/bigquery?project=market-mirror-dev&j=bq:US:9c659ed2-c9a6-4f1e-8711-2b9f3d966d52&page=queryresults\">Open Job</a>"
            ],
            "text/plain": [
              "<IPython.core.display.HTML object>"
            ]
          },
          "metadata": {},
          "output_type": "display_data"
        },
        {
          "data": {
            "application/vnd.google.colaboratory.intrinsic+json": {
              "type": "string"
            },
            "text/plain": [
              "'market-mirror-dev.APP_MARKET_SILVER.T_APPLE_APP_DETAILS'"
            ]
          },
          "execution_count": 83,
          "metadata": {},
          "output_type": "execute_result"
        }
      ],
      "source": [
        "#finally write the table to BQ Silver layer\n",
        "apple_app_df_subset.to_gbq(f'{PROJECT_ID}.{BQ_SILVER_DATASET}.T_APPLE_APP_DETAILS',if_exists='replace')"
      ]
    }
  ],
  "metadata": {
    "colab": {
      "cell_execution_strategy": "setup",
      "name": "backend/02_explore_data.ipynb",
      "provenance": []
    },
    "kernelspec": {
      "display_name": "Python 3",
      "name": "python3"
    },
    "language_info": {
      "name": "python"
    },
    "widgets": {
      "application/vnd.jupyter.widget-state+json": {
        "091104be15cc425a89e1a8850d17f4a9": {
          "model_module": "@jupyter-widgets/controls",
          "model_module_version": "1.5.0",
          "model_name": "HBoxModel",
          "state": {
            "_dom_classes": [],
            "_model_module": "@jupyter-widgets/controls",
            "_model_module_version": "1.5.0",
            "_model_name": "HBoxModel",
            "_view_count": null,
            "_view_module": "@jupyter-widgets/controls",
            "_view_module_version": "1.5.0",
            "_view_name": "HBoxView",
            "box_style": "",
            "children": [
              "IPY_MODEL_e77b284874424e5bb26b2d962a13d3f9",
              "IPY_MODEL_f96d3f3d4f7a4061818f5662f3fd2e2a",
              "IPY_MODEL_f4c2d0baeffc45c69f93e98f512a7dde"
            ],
            "layout": "IPY_MODEL_e4e844b2f5434f4184dd3a92cc00f785"
          }
        },
        "0e45fcf283d14809b300f9ee20a54067": {
          "model_module": "@jupyter-widgets/controls",
          "model_module_version": "1.5.0",
          "model_name": "DescriptionStyleModel",
          "state": {
            "_model_module": "@jupyter-widgets/controls",
            "_model_module_version": "1.5.0",
            "_model_name": "DescriptionStyleModel",
            "_view_count": null,
            "_view_module": "@jupyter-widgets/base",
            "_view_module_version": "1.2.0",
            "_view_name": "StyleView",
            "description_width": ""
          }
        },
        "12b4e3391fa2440693c91ce67d812d4a": {
          "model_module": "@jupyter-widgets/base",
          "model_module_version": "1.2.0",
          "model_name": "LayoutModel",
          "state": {
            "_model_module": "@jupyter-widgets/base",
            "_model_module_version": "1.2.0",
            "_model_name": "LayoutModel",
            "_view_count": null,
            "_view_module": "@jupyter-widgets/base",
            "_view_module_version": "1.2.0",
            "_view_name": "LayoutView",
            "align_content": null,
            "align_items": null,
            "align_self": null,
            "border": null,
            "bottom": null,
            "display": null,
            "flex": null,
            "flex_flow": null,
            "grid_area": null,
            "grid_auto_columns": null,
            "grid_auto_flow": null,
            "grid_auto_rows": null,
            "grid_column": null,
            "grid_gap": null,
            "grid_row": null,
            "grid_template_areas": null,
            "grid_template_columns": null,
            "grid_template_rows": null,
            "height": null,
            "justify_content": null,
            "justify_items": null,
            "left": null,
            "margin": null,
            "max_height": null,
            "max_width": null,
            "min_height": null,
            "min_width": null,
            "object_fit": null,
            "object_position": null,
            "order": null,
            "overflow": null,
            "overflow_x": null,
            "overflow_y": null,
            "padding": null,
            "right": null,
            "top": null,
            "visibility": null,
            "width": null
          }
        },
        "14b3e2a8797d4aedabc2ecbf65afab48": {
          "model_module": "@jupyter-widgets/base",
          "model_module_version": "1.2.0",
          "model_name": "LayoutModel",
          "state": {
            "_model_module": "@jupyter-widgets/base",
            "_model_module_version": "1.2.0",
            "_model_name": "LayoutModel",
            "_view_count": null,
            "_view_module": "@jupyter-widgets/base",
            "_view_module_version": "1.2.0",
            "_view_name": "LayoutView",
            "align_content": null,
            "align_items": null,
            "align_self": null,
            "border": null,
            "bottom": null,
            "display": null,
            "flex": null,
            "flex_flow": null,
            "grid_area": null,
            "grid_auto_columns": null,
            "grid_auto_flow": null,
            "grid_auto_rows": null,
            "grid_column": null,
            "grid_gap": null,
            "grid_row": null,
            "grid_template_areas": null,
            "grid_template_columns": null,
            "grid_template_rows": null,
            "height": null,
            "justify_content": null,
            "justify_items": null,
            "left": null,
            "margin": null,
            "max_height": null,
            "max_width": null,
            "min_height": null,
            "min_width": null,
            "object_fit": null,
            "object_position": null,
            "order": null,
            "overflow": null,
            "overflow_x": null,
            "overflow_y": null,
            "padding": null,
            "right": null,
            "top": null,
            "visibility": null,
            "width": null
          }
        },
        "40dda10dbdea44158bdc2342f0058c86": {
          "model_module": "@jupyter-widgets/controls",
          "model_module_version": "1.5.0",
          "model_name": "DescriptionStyleModel",
          "state": {
            "_model_module": "@jupyter-widgets/controls",
            "_model_module_version": "1.5.0",
            "_model_name": "DescriptionStyleModel",
            "_view_count": null,
            "_view_module": "@jupyter-widgets/base",
            "_view_module_version": "1.2.0",
            "_view_name": "StyleView",
            "description_width": ""
          }
        },
        "50bd18d8750641ad8225b20e18c48e26": {
          "model_module": "@jupyter-widgets/controls",
          "model_module_version": "1.5.0",
          "model_name": "ProgressStyleModel",
          "state": {
            "_model_module": "@jupyter-widgets/controls",
            "_model_module_version": "1.5.0",
            "_model_name": "ProgressStyleModel",
            "_view_count": null,
            "_view_module": "@jupyter-widgets/base",
            "_view_module_version": "1.2.0",
            "_view_name": "StyleView",
            "bar_color": null,
            "description_width": ""
          }
        },
        "6477419cced047cb81964280b217bcc1": {
          "model_module": "@jupyter-widgets/controls",
          "model_module_version": "1.5.0",
          "model_name": "DescriptionStyleModel",
          "state": {
            "_model_module": "@jupyter-widgets/controls",
            "_model_module_version": "1.5.0",
            "_model_name": "DescriptionStyleModel",
            "_view_count": null,
            "_view_module": "@jupyter-widgets/base",
            "_view_module_version": "1.2.0",
            "_view_name": "StyleView",
            "description_width": ""
          }
        },
        "6da04285b0a543f7a7f69ef4810f01a5": {
          "model_module": "@jupyter-widgets/controls",
          "model_module_version": "1.5.0",
          "model_name": "ProgressStyleModel",
          "state": {
            "_model_module": "@jupyter-widgets/controls",
            "_model_module_version": "1.5.0",
            "_model_name": "ProgressStyleModel",
            "_view_count": null,
            "_view_module": "@jupyter-widgets/base",
            "_view_module_version": "1.2.0",
            "_view_name": "StyleView",
            "bar_color": null,
            "description_width": ""
          }
        },
        "707b0dfd887445299b488d2ed8909323": {
          "model_module": "@jupyter-widgets/controls",
          "model_module_version": "1.5.0",
          "model_name": "HBoxModel",
          "state": {
            "_dom_classes": [],
            "_model_module": "@jupyter-widgets/controls",
            "_model_module_version": "1.5.0",
            "_model_name": "HBoxModel",
            "_view_count": null,
            "_view_module": "@jupyter-widgets/controls",
            "_view_module_version": "1.5.0",
            "_view_name": "HBoxView",
            "box_style": "",
            "children": [
              "IPY_MODEL_87ab15548eb64bed8105e97e1f7d08f8",
              "IPY_MODEL_cc620096aed04006ae0f2d9393329232",
              "IPY_MODEL_dece499e025440d58540495a876d2d74"
            ],
            "layout": "IPY_MODEL_14b3e2a8797d4aedabc2ecbf65afab48"
          }
        },
        "7427503f344c467198a82b0b435d30cd": {
          "model_module": "@jupyter-widgets/base",
          "model_module_version": "1.2.0",
          "model_name": "LayoutModel",
          "state": {
            "_model_module": "@jupyter-widgets/base",
            "_model_module_version": "1.2.0",
            "_model_name": "LayoutModel",
            "_view_count": null,
            "_view_module": "@jupyter-widgets/base",
            "_view_module_version": "1.2.0",
            "_view_name": "LayoutView",
            "align_content": null,
            "align_items": null,
            "align_self": null,
            "border": null,
            "bottom": null,
            "display": null,
            "flex": null,
            "flex_flow": null,
            "grid_area": null,
            "grid_auto_columns": null,
            "grid_auto_flow": null,
            "grid_auto_rows": null,
            "grid_column": null,
            "grid_gap": null,
            "grid_row": null,
            "grid_template_areas": null,
            "grid_template_columns": null,
            "grid_template_rows": null,
            "height": null,
            "justify_content": null,
            "justify_items": null,
            "left": null,
            "margin": null,
            "max_height": null,
            "max_width": null,
            "min_height": null,
            "min_width": null,
            "object_fit": null,
            "object_position": null,
            "order": null,
            "overflow": null,
            "overflow_x": null,
            "overflow_y": null,
            "padding": null,
            "right": null,
            "top": null,
            "visibility": null,
            "width": null
          }
        },
        "7ba28185cfb14e678d34a09f1ca8ec64": {
          "model_module": "@jupyter-widgets/base",
          "model_module_version": "1.2.0",
          "model_name": "LayoutModel",
          "state": {
            "_model_module": "@jupyter-widgets/base",
            "_model_module_version": "1.2.0",
            "_model_name": "LayoutModel",
            "_view_count": null,
            "_view_module": "@jupyter-widgets/base",
            "_view_module_version": "1.2.0",
            "_view_name": "LayoutView",
            "align_content": null,
            "align_items": null,
            "align_self": null,
            "border": null,
            "bottom": null,
            "display": null,
            "flex": null,
            "flex_flow": null,
            "grid_area": null,
            "grid_auto_columns": null,
            "grid_auto_flow": null,
            "grid_auto_rows": null,
            "grid_column": null,
            "grid_gap": null,
            "grid_row": null,
            "grid_template_areas": null,
            "grid_template_columns": null,
            "grid_template_rows": null,
            "height": null,
            "justify_content": null,
            "justify_items": null,
            "left": null,
            "margin": null,
            "max_height": null,
            "max_width": null,
            "min_height": null,
            "min_width": null,
            "object_fit": null,
            "object_position": null,
            "order": null,
            "overflow": null,
            "overflow_x": null,
            "overflow_y": null,
            "padding": null,
            "right": null,
            "top": null,
            "visibility": null,
            "width": null
          }
        },
        "87ab15548eb64bed8105e97e1f7d08f8": {
          "model_module": "@jupyter-widgets/controls",
          "model_module_version": "1.5.0",
          "model_name": "HTMLModel",
          "state": {
            "_dom_classes": [],
            "_model_module": "@jupyter-widgets/controls",
            "_model_module_version": "1.5.0",
            "_model_name": "HTMLModel",
            "_view_count": null,
            "_view_module": "@jupyter-widgets/controls",
            "_view_module_version": "1.5.0",
            "_view_name": "HTMLView",
            "description": "",
            "description_tooltip": null,
            "layout": "IPY_MODEL_b53e9f5f230a4dcfacaced569a8482cd",
            "placeholder": "​",
            "style": "IPY_MODEL_0e45fcf283d14809b300f9ee20a54067",
            "value": "Job ID f2aba480-ecaf-4852-abf7-b4fe9b4fa08e successfully executed: 100%"
          }
        },
        "930301a2976248988b77e8ff5ee4fe2d": {
          "model_module": "@jupyter-widgets/controls",
          "model_module_version": "1.5.0",
          "model_name": "DescriptionStyleModel",
          "state": {
            "_model_module": "@jupyter-widgets/controls",
            "_model_module_version": "1.5.0",
            "_model_name": "DescriptionStyleModel",
            "_view_count": null,
            "_view_module": "@jupyter-widgets/base",
            "_view_module_version": "1.2.0",
            "_view_name": "StyleView",
            "description_width": ""
          }
        },
        "b53e9f5f230a4dcfacaced569a8482cd": {
          "model_module": "@jupyter-widgets/base",
          "model_module_version": "1.2.0",
          "model_name": "LayoutModel",
          "state": {
            "_model_module": "@jupyter-widgets/base",
            "_model_module_version": "1.2.0",
            "_model_name": "LayoutModel",
            "_view_count": null,
            "_view_module": "@jupyter-widgets/base",
            "_view_module_version": "1.2.0",
            "_view_name": "LayoutView",
            "align_content": null,
            "align_items": null,
            "align_self": null,
            "border": null,
            "bottom": null,
            "display": null,
            "flex": null,
            "flex_flow": null,
            "grid_area": null,
            "grid_auto_columns": null,
            "grid_auto_flow": null,
            "grid_auto_rows": null,
            "grid_column": null,
            "grid_gap": null,
            "grid_row": null,
            "grid_template_areas": null,
            "grid_template_columns": null,
            "grid_template_rows": null,
            "height": null,
            "justify_content": null,
            "justify_items": null,
            "left": null,
            "margin": null,
            "max_height": null,
            "max_width": null,
            "min_height": null,
            "min_width": null,
            "object_fit": null,
            "object_position": null,
            "order": null,
            "overflow": null,
            "overflow_x": null,
            "overflow_y": null,
            "padding": null,
            "right": null,
            "top": null,
            "visibility": null,
            "width": null
          }
        },
        "cc620096aed04006ae0f2d9393329232": {
          "model_module": "@jupyter-widgets/controls",
          "model_module_version": "1.5.0",
          "model_name": "FloatProgressModel",
          "state": {
            "_dom_classes": [],
            "_model_module": "@jupyter-widgets/controls",
            "_model_module_version": "1.5.0",
            "_model_name": "FloatProgressModel",
            "_view_count": null,
            "_view_module": "@jupyter-widgets/controls",
            "_view_module_version": "1.5.0",
            "_view_name": "ProgressView",
            "bar_style": "success",
            "description": "",
            "description_tooltip": null,
            "layout": "IPY_MODEL_7427503f344c467198a82b0b435d30cd",
            "max": 1,
            "min": 0,
            "orientation": "horizontal",
            "style": "IPY_MODEL_50bd18d8750641ad8225b20e18c48e26",
            "value": 1
          }
        },
        "d01931dfb4cf489a920c5b06bb04e772": {
          "model_module": "@jupyter-widgets/base",
          "model_module_version": "1.2.0",
          "model_name": "LayoutModel",
          "state": {
            "_model_module": "@jupyter-widgets/base",
            "_model_module_version": "1.2.0",
            "_model_name": "LayoutModel",
            "_view_count": null,
            "_view_module": "@jupyter-widgets/base",
            "_view_module_version": "1.2.0",
            "_view_name": "LayoutView",
            "align_content": null,
            "align_items": null,
            "align_self": null,
            "border": null,
            "bottom": null,
            "display": null,
            "flex": null,
            "flex_flow": null,
            "grid_area": null,
            "grid_auto_columns": null,
            "grid_auto_flow": null,
            "grid_auto_rows": null,
            "grid_column": null,
            "grid_gap": null,
            "grid_row": null,
            "grid_template_areas": null,
            "grid_template_columns": null,
            "grid_template_rows": null,
            "height": null,
            "justify_content": null,
            "justify_items": null,
            "left": null,
            "margin": null,
            "max_height": null,
            "max_width": null,
            "min_height": null,
            "min_width": null,
            "object_fit": null,
            "object_position": null,
            "order": null,
            "overflow": null,
            "overflow_x": null,
            "overflow_y": null,
            "padding": null,
            "right": null,
            "top": null,
            "visibility": null,
            "width": null
          }
        },
        "d32f38895a7d44a19e6324b9d4d97956": {
          "model_module": "@jupyter-widgets/base",
          "model_module_version": "1.2.0",
          "model_name": "LayoutModel",
          "state": {
            "_model_module": "@jupyter-widgets/base",
            "_model_module_version": "1.2.0",
            "_model_name": "LayoutModel",
            "_view_count": null,
            "_view_module": "@jupyter-widgets/base",
            "_view_module_version": "1.2.0",
            "_view_name": "LayoutView",
            "align_content": null,
            "align_items": null,
            "align_self": null,
            "border": null,
            "bottom": null,
            "display": null,
            "flex": null,
            "flex_flow": null,
            "grid_area": null,
            "grid_auto_columns": null,
            "grid_auto_flow": null,
            "grid_auto_rows": null,
            "grid_column": null,
            "grid_gap": null,
            "grid_row": null,
            "grid_template_areas": null,
            "grid_template_columns": null,
            "grid_template_rows": null,
            "height": null,
            "justify_content": null,
            "justify_items": null,
            "left": null,
            "margin": null,
            "max_height": null,
            "max_width": null,
            "min_height": null,
            "min_width": null,
            "object_fit": null,
            "object_position": null,
            "order": null,
            "overflow": null,
            "overflow_x": null,
            "overflow_y": null,
            "padding": null,
            "right": null,
            "top": null,
            "visibility": null,
            "width": null
          }
        },
        "dece499e025440d58540495a876d2d74": {
          "model_module": "@jupyter-widgets/controls",
          "model_module_version": "1.5.0",
          "model_name": "HTMLModel",
          "state": {
            "_dom_classes": [],
            "_model_module": "@jupyter-widgets/controls",
            "_model_module_version": "1.5.0",
            "_model_name": "HTMLModel",
            "_view_count": null,
            "_view_module": "@jupyter-widgets/controls",
            "_view_module_version": "1.5.0",
            "_view_name": "HTMLView",
            "description": "",
            "description_tooltip": null,
            "layout": "IPY_MODEL_12b4e3391fa2440693c91ce67d812d4a",
            "placeholder": "​",
            "style": "IPY_MODEL_40dda10dbdea44158bdc2342f0058c86",
            "value": ""
          }
        },
        "e4e844b2f5434f4184dd3a92cc00f785": {
          "model_module": "@jupyter-widgets/base",
          "model_module_version": "1.2.0",
          "model_name": "LayoutModel",
          "state": {
            "_model_module": "@jupyter-widgets/base",
            "_model_module_version": "1.2.0",
            "_model_name": "LayoutModel",
            "_view_count": null,
            "_view_module": "@jupyter-widgets/base",
            "_view_module_version": "1.2.0",
            "_view_name": "LayoutView",
            "align_content": null,
            "align_items": null,
            "align_self": null,
            "border": null,
            "bottom": null,
            "display": null,
            "flex": null,
            "flex_flow": null,
            "grid_area": null,
            "grid_auto_columns": null,
            "grid_auto_flow": null,
            "grid_auto_rows": null,
            "grid_column": null,
            "grid_gap": null,
            "grid_row": null,
            "grid_template_areas": null,
            "grid_template_columns": null,
            "grid_template_rows": null,
            "height": null,
            "justify_content": null,
            "justify_items": null,
            "left": null,
            "margin": null,
            "max_height": null,
            "max_width": null,
            "min_height": null,
            "min_width": null,
            "object_fit": null,
            "object_position": null,
            "order": null,
            "overflow": null,
            "overflow_x": null,
            "overflow_y": null,
            "padding": null,
            "right": null,
            "top": null,
            "visibility": null,
            "width": null
          }
        },
        "e77b284874424e5bb26b2d962a13d3f9": {
          "model_module": "@jupyter-widgets/controls",
          "model_module_version": "1.5.0",
          "model_name": "HTMLModel",
          "state": {
            "_dom_classes": [],
            "_model_module": "@jupyter-widgets/controls",
            "_model_module_version": "1.5.0",
            "_model_name": "HTMLModel",
            "_view_count": null,
            "_view_module": "@jupyter-widgets/controls",
            "_view_module_version": "1.5.0",
            "_view_name": "HTMLView",
            "description": "",
            "description_tooltip": null,
            "layout": "IPY_MODEL_d01931dfb4cf489a920c5b06bb04e772",
            "placeholder": "​",
            "style": "IPY_MODEL_930301a2976248988b77e8ff5ee4fe2d",
            "value": "Job ID 429d0f16-efbf-4526-975e-5b3952eb0847 successfully executed: 100%"
          }
        },
        "f4c2d0baeffc45c69f93e98f512a7dde": {
          "model_module": "@jupyter-widgets/controls",
          "model_module_version": "1.5.0",
          "model_name": "HTMLModel",
          "state": {
            "_dom_classes": [],
            "_model_module": "@jupyter-widgets/controls",
            "_model_module_version": "1.5.0",
            "_model_name": "HTMLModel",
            "_view_count": null,
            "_view_module": "@jupyter-widgets/controls",
            "_view_module_version": "1.5.0",
            "_view_name": "HTMLView",
            "description": "",
            "description_tooltip": null,
            "layout": "IPY_MODEL_7ba28185cfb14e678d34a09f1ca8ec64",
            "placeholder": "​",
            "style": "IPY_MODEL_6477419cced047cb81964280b217bcc1",
            "value": ""
          }
        },
        "f96d3f3d4f7a4061818f5662f3fd2e2a": {
          "model_module": "@jupyter-widgets/controls",
          "model_module_version": "1.5.0",
          "model_name": "FloatProgressModel",
          "state": {
            "_dom_classes": [],
            "_model_module": "@jupyter-widgets/controls",
            "_model_module_version": "1.5.0",
            "_model_name": "FloatProgressModel",
            "_view_count": null,
            "_view_module": "@jupyter-widgets/controls",
            "_view_module_version": "1.5.0",
            "_view_name": "ProgressView",
            "bar_style": "success",
            "description": "",
            "description_tooltip": null,
            "layout": "IPY_MODEL_d32f38895a7d44a19e6324b9d4d97956",
            "max": 1,
            "min": 0,
            "orientation": "horizontal",
            "style": "IPY_MODEL_6da04285b0a543f7a7f69ef4810f01a5",
            "value": 1
          }
        }
      }
    }
  },
  "nbformat": 4,
  "nbformat_minor": 0
}
