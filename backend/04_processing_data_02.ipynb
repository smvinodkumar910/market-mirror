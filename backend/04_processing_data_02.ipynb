{
  "nbformat": 4,
  "nbformat_minor": 0,
  "metadata": {
    "colab": {
      "name": "backend/04_processing_data_02.ipynb",
      "cell_execution_strategy": "setup",
      "provenance": []
    },
    "kernelspec": {
      "name": "python3",
      "display_name": "Python 3"
    },
    "language_info": {
      "name": "python"
    }
  },
  "cells": [
    {
      "cell_type": "markdown",
      "source": [
        "### Setting-up Environment"
      ],
      "metadata": {
        "id": "A7ltvsQUExK8"
      }
    },
    {
      "cell_type": "code",
      "source": [
        "import os\n",
        "\n",
        "PROJECT_ID = \"market-mirror-dev\"  # @param {type: \"string\", placeholder: \"[your-project-id]\", isTemplate: true}\n",
        "BUCKET_NAME = \"marke-mirror-dev-data\"  # @param {type: \"string\", placeholder: \"[your-bucket-name]\", isTemplate: true}\n",
        "LOCATION = \"US\"  # @param {type: \"string\", placeholder: \"[your-region]\", isTemplate: true}\n",
        "if not PROJECT_ID or PROJECT_ID == \"[your-project-id]\":\n",
        "    PROJECT_ID = str(os.environ.get(\"GOOGLE_CLOUD_PROJECT\"))\n",
        "\n",
        "if not LOCATION or LOCATION == \"[your-region]\":\n",
        "    LOCATION = os.environ.get(\"GOOGLE_CLOUD_REGION\", \"US\")\n"
      ],
      "metadata": {
        "id": "PPEQy8qUE0I2",
        "executionInfo": {
          "status": "ok",
          "timestamp": 1755947253208,
          "user_tz": -330,
          "elapsed": 666,
          "user": {
            "displayName": "",
            "userId": ""
          }
        }
      },
      "execution_count": 91,
      "outputs": []
    },
    {
      "cell_type": "code",
      "source": [
        "os.environ['GOOGLE_CLOUD_PROJECT'] = PROJECT_ID\n",
        "os.environ['GOOGLE_CLOUD_REGION'] = LOCATION"
      ],
      "metadata": {
        "id": "tGDMKnjuE1PG",
        "executionInfo": {
          "status": "ok",
          "timestamp": 1755947253907,
          "user_tz": -330,
          "elapsed": 2,
          "user": {
            "displayName": "",
            "userId": ""
          }
        }
      },
      "execution_count": 92,
      "outputs": []
    },
    {
      "cell_type": "code",
      "source": [
        "BQ_BRONZE_DATASET = \"APP_MARKET_BRONZE\" # @param {type: \"string\", placeholder: \"[bronze-dataset]\", isTemplate: true}\n",
        "BQ_SILVER_DATASET = \"APP_MARKET_SILVER\" # @param {type: \"string\", placeholder: \"[silver-dataset]\", isTemplate: true}\n",
        "BQ_GOLD_DATASET = \"APP_MARKET_GOLD\" # @param {type: \"string\", placeholder: \"[gold-dataset]\", isTemplate: true}"
      ],
      "metadata": {
        "id": "1R31-JROE39b",
        "executionInfo": {
          "status": "ok",
          "timestamp": 1755947253907,
          "user_tz": -330,
          "elapsed": 2,
          "user": {
            "displayName": "",
            "userId": ""
          }
        }
      },
      "execution_count": 93,
      "outputs": []
    },
    {
      "cell_type": "code",
      "source": [
        "import bigframes.pandas as bpd\n",
        "import bigframes.bigquery as bbq\n",
        "from bigframes.ml import llm\n",
        "\n",
        "bpd.options.bigquery.project = PROJECT_ID\n",
        "bpd.options.bigquery.location = LOCATION"
      ],
      "metadata": {
        "id": "St1JyRPWE9OB",
        "executionInfo": {
          "status": "ok",
          "timestamp": 1755947253907,
          "user_tz": -330,
          "elapsed": 2,
          "user": {
            "displayName": "",
            "userId": ""
          }
        }
      },
      "execution_count": 94,
      "outputs": []
    },
    {
      "cell_type": "code",
      "source": [
        "google_app_df = bpd.read_gbq(f'{PROJECT_ID}.{BQ_SILVER_DATASET}.T_GOOGLE_APP_DETAILS')\n",
        "windows_app_df = bpd.read_gbq(f'{PROJECT_ID}.{BQ_SILVER_DATASET}.T_WINDOWS_APP_DETAILS')\n",
        "apple_app_df = bpd.read_gbq(f'{PROJECT_ID}.{BQ_SILVER_DATASET}.T_APPLE_APP_DETAILS')"
      ],
      "metadata": {
        "colab": {
          "base_uri": "https://localhost:8080/"
        },
        "id": "4hEMVsTrPiWM",
        "executionInfo": {
          "status": "ok",
          "timestamp": 1755947254608,
          "user_tz": -330,
          "elapsed": 703,
          "user": {
            "displayName": "",
            "userId": ""
          }
        },
        "outputId": "ded8b9f7-2858-4a1f-c53d-0a29d4c6d7e7"
      },
      "execution_count": 95,
      "outputs": [
        {
          "output_type": "stream",
          "name": "stderr",
          "text": [
            "/usr/local/lib/python3.11/dist-packages/bigframes/core/log_adapter.py:175: UserWarning: Reading cached table from 2025-08-23 09:25:49.407391+00:00 to avoid\n",
            "incompatibilies with previous reads of this table. To read the latest\n",
            "version, set `use_cache=False` or close the current session with\n",
            "Session.close() or bigframes.pandas.close_session().\n",
            "  return method(*args, **kwargs)\n",
            "/usr/local/lib/python3.11/dist-packages/bigframes/core/log_adapter.py:175: UserWarning: Reading cached table from 2025-08-23 09:26:50.187809+00:00 to avoid\n",
            "incompatibilies with previous reads of this table. To read the latest\n",
            "version, set `use_cache=False` or close the current session with\n",
            "Session.close() or bigframes.pandas.close_session().\n",
            "  return method(*args, **kwargs)\n",
            "/usr/local/lib/python3.11/dist-packages/bigframes/core/log_adapter.py:175: UserWarning: Reading cached table from 2025-08-23 09:26:51.898209+00:00 to avoid\n",
            "incompatibilies with previous reads of this table. To read the latest\n",
            "version, set `use_cache=False` or close the current session with\n",
            "Session.close() or bigframes.pandas.close_session().\n",
            "  return method(*args, **kwargs)\n"
          ]
        }
      ]
    },
    {
      "cell_type": "code",
      "source": [
        "print(google_app_df.columns.tolist())\n",
        "print(windows_app_df.columns.tolist())\n",
        "print(apple_app_df.columns.tolist())"
      ],
      "metadata": {
        "colab": {
          "base_uri": "https://localhost:8080/"
        },
        "id": "M-Gvii5HP7cw",
        "executionInfo": {
          "status": "ok",
          "timestamp": 1755947254608,
          "user_tz": -330,
          "elapsed": 2,
          "user": {
            "displayName": "",
            "userId": ""
          }
        },
        "outputId": "6c8d3fe6-429a-456c-c360-44c193507153"
      },
      "execution_count": 96,
      "outputs": [
        {
          "output_type": "stream",
          "name": "stdout",
          "text": [
            "['title', 'description', 'summary', 'ratings', 'reviews', 'price', 'free', 'genre']\n",
            "['Name', 'Price', 'Description', 'Category', 'Size']\n",
            "['id', 'track_name', 'size_bytes', 'currency', 'price', 'user_rating', 'prime_genre', 'app_desc']\n"
          ]
        }
      ]
    },
    {
      "cell_type": "markdown",
      "source": [
        "## In the app details table we are going to keep only required columns\n",
        "\n",
        "1. app_name\n",
        "2. app_genre\n",
        "3. app_description\n",
        "4. app_price\n",
        "5. free_flag\n",
        "6. app_rating (windows_app_df not having the rating)\n",
        ""
      ],
      "metadata": {
        "id": "Z1qxmkqqQQnP"
      }
    },
    {
      "cell_type": "code",
      "source": [
        "## Processing google_app_df\n",
        "\n",
        "google_app_df = google_app_df.rename(columns={'title':'app_name',\n",
        "                              'genre':'app_genre',\n",
        "                              'description':'app_description',\n",
        "                              'price':'app_price',\n",
        "                              'free':'free_flag',\n",
        "                              'ratings':'app_rating'})\n",
        "\n",
        "google_app_df = google_app_df[['app_name','app_genre','app_description','app_price','free_flag','app_rating']]"
      ],
      "metadata": {
        "id": "gB6mbjscOtI-",
        "executionInfo": {
          "status": "ok",
          "timestamp": 1755947254608,
          "user_tz": -330,
          "elapsed": 1,
          "user": {
            "displayName": "",
            "userId": ""
          }
        }
      },
      "execution_count": 97,
      "outputs": []
    },
    {
      "cell_type": "code",
      "source": [
        "google_app_df.head()"
      ],
      "metadata": {
        "colab": {
          "base_uri": "https://localhost:8080/",
          "height": 339
        },
        "id": "MCCjwn4OVMDP",
        "executionInfo": {
          "status": "ok",
          "timestamp": 1755947260060,
          "user_tz": -330,
          "elapsed": 5453,
          "user": {
            "displayName": "",
            "userId": ""
          }
        },
        "outputId": "d8b94ce4-eb6d-4622-8e81-319981581f7d"
      },
      "execution_count": 98,
      "outputs": [
        {
          "output_type": "display_data",
          "data": {
            "text/plain": [
              "<IPython.core.display.HTML object>"
            ],
            "text/html": [
              "Query job 2dfe4eb3-501b-4276-8893-c6cf85f5ba12 is DONE. 23.8 MB processed. <a target=\"_blank\" href=\"https://console.cloud.google.com/bigquery?project=market-mirror-dev&j=bq:US:2dfe4eb3-501b-4276-8893-c6cf85f5ba12&page=queryresults\">Open Job</a>"
            ]
          },
          "metadata": {}
        },
        {
          "output_type": "execute_result",
          "data": {
            "text/plain": [
              "                         app_name  app_genre  \\\n",
              "0     ادعية و اذكار المسلم بالصوت  Education   \n",
              "1        Block Puzzle 99: Fish Go     Puzzle   \n",
              "2  Speech Blubs: Language Therapy  Parenting   \n",
              "3            Kids  flashcard game  Education   \n",
              "4  Magnet Balls 2: Physics Puzzle     Puzzle   \n",
              "\n",
              "                                     app_description  app_price  free_flag  \\\n",
              "0  يضم البرنامج حصن المسلم من الأذكار و الأدعية ا...        0.0       True   \n",
              "1  🐠<b>Block Puzzle 99: Fish Go</b>🐠 is a wonderf...        0.0       True   \n",
              "2  Do you need more proof? Check out the featured...        0.0       True   \n",
              "3  Application created for preschool kids to lear...        0.0       True   \n",
              "4  The newest game in the popular Magnet Balls se...        0.0       True   \n",
              "\n",
              "   app_rating  \n",
              "0     13660.0  \n",
              "1       226.0  \n",
              "2      7496.0  \n",
              "3      1433.0  \n",
              "4       885.0  \n",
              "\n",
              "[5 rows x 6 columns]"
            ],
            "text/html": [
              "<div>\n",
              "<style scoped>\n",
              "    .dataframe tbody tr th:only-of-type {\n",
              "        vertical-align: middle;\n",
              "    }\n",
              "\n",
              "    .dataframe tbody tr th {\n",
              "        vertical-align: top;\n",
              "    }\n",
              "\n",
              "    .dataframe thead th {\n",
              "        text-align: right;\n",
              "    }\n",
              "</style>\n",
              "<table border=\"1\" class=\"dataframe\">\n",
              "  <thead>\n",
              "    <tr style=\"text-align: right;\">\n",
              "      <th></th>\n",
              "      <th>app_name</th>\n",
              "      <th>app_genre</th>\n",
              "      <th>app_description</th>\n",
              "      <th>app_price</th>\n",
              "      <th>free_flag</th>\n",
              "      <th>app_rating</th>\n",
              "    </tr>\n",
              "  </thead>\n",
              "  <tbody>\n",
              "    <tr>\n",
              "      <th>0</th>\n",
              "      <td>ادعية و اذكار المسلم بالصوت</td>\n",
              "      <td>Education</td>\n",
              "      <td>يضم البرنامج حصن المسلم من الأذكار و الأدعية ا...</td>\n",
              "      <td>0.0</td>\n",
              "      <td>True</td>\n",
              "      <td>13660.0</td>\n",
              "    </tr>\n",
              "    <tr>\n",
              "      <th>1</th>\n",
              "      <td>Block Puzzle 99: Fish Go</td>\n",
              "      <td>Puzzle</td>\n",
              "      <td>🐠&lt;b&gt;Block Puzzle 99: Fish Go&lt;/b&gt;🐠 is a wonderf...</td>\n",
              "      <td>0.0</td>\n",
              "      <td>True</td>\n",
              "      <td>226.0</td>\n",
              "    </tr>\n",
              "    <tr>\n",
              "      <th>2</th>\n",
              "      <td>Speech Blubs: Language Therapy</td>\n",
              "      <td>Parenting</td>\n",
              "      <td>Do you need more proof? Check out the featured...</td>\n",
              "      <td>0.0</td>\n",
              "      <td>True</td>\n",
              "      <td>7496.0</td>\n",
              "    </tr>\n",
              "    <tr>\n",
              "      <th>3</th>\n",
              "      <td>Kids  flashcard game</td>\n",
              "      <td>Education</td>\n",
              "      <td>Application created for preschool kids to lear...</td>\n",
              "      <td>0.0</td>\n",
              "      <td>True</td>\n",
              "      <td>1433.0</td>\n",
              "    </tr>\n",
              "    <tr>\n",
              "      <th>4</th>\n",
              "      <td>Magnet Balls 2: Physics Puzzle</td>\n",
              "      <td>Puzzle</td>\n",
              "      <td>The newest game in the popular Magnet Balls se...</td>\n",
              "      <td>0.0</td>\n",
              "      <td>True</td>\n",
              "      <td>885.0</td>\n",
              "    </tr>\n",
              "  </tbody>\n",
              "</table>\n",
              "<p>5 rows × 6 columns</p>\n",
              "</div>[5 rows x 6 columns in total]"
            ]
          },
          "metadata": {},
          "execution_count": 98
        }
      ]
    },
    {
      "cell_type": "code",
      "source": [
        "google_app_df.info()"
      ],
      "metadata": {
        "colab": {
          "base_uri": "https://localhost:8080/"
        },
        "id": "YXBUez2BVUQz",
        "executionInfo": {
          "status": "ok",
          "timestamp": 1755947263730,
          "user_tz": -330,
          "elapsed": 3673,
          "user": {
            "displayName": "",
            "userId": ""
          }
        },
        "outputId": "8d95e8e0-4c7e-4694-88fa-04d9c1c502a7"
      },
      "execution_count": 99,
      "outputs": [
        {
          "output_type": "stream",
          "name": "stdout",
          "text": [
            "<class 'bigframes.dataframe.DataFrame'>\n",
            "Index: 11593 entries, 0 to 11592\n",
            "Data columns (total 6 columns):\n",
            "  #  Column           Non-Null Count    Dtype\n",
            "---  ---------------  ----------------  -------\n",
            "  0  app_name         11593 non-null    string\n",
            "  1  app_genre        11593 non-null    string\n",
            "  2  app_description  11593 non-null    string\n",
            "  3  app_price        11593 non-null    Float64\n",
            "  4  free_flag        11593 non-null    boolean\n",
            "  5  app_rating       11593 non-null    Float64\n",
            "dtypes: Float64(2), boolean(1), string(3)\n",
            "memory usage: 568057 bytes\n"
          ]
        }
      ]
    },
    {
      "cell_type": "code",
      "source": [
        "## Processing windows_app_df\n",
        "\n",
        "windows_app_df = windows_app_df.rename(columns={'Name':'app_name',\n",
        "                              'Category':'app_genre',\n",
        "                              'Description':'app_description',\n",
        "                              'Price':'app_price'\n",
        "                              })\n",
        "windows_app_df['app_rating'] = 0\n",
        "windows_app_df['free_flag'] = (windows_app_df['app_price'] == 'Free')\n"
      ],
      "metadata": {
        "id": "hisHJVNRTFym",
        "executionInfo": {
          "status": "ok",
          "timestamp": 1755947263730,
          "user_tz": -330,
          "elapsed": 6,
          "user": {
            "displayName": "",
            "userId": ""
          }
        }
      },
      "execution_count": 100,
      "outputs": []
    },
    {
      "cell_type": "code",
      "source": [
        "#windows_app_price_extract = windows_app_df.loc[windows_app_df['free_flag'] == False, ['app_name','app_price']]"
      ],
      "metadata": {
        "id": "BRGgG0HpYKZY",
        "executionInfo": {
          "status": "ok",
          "timestamp": 1755947263730,
          "user_tz": -330,
          "elapsed": 5,
          "user": {
            "displayName": "",
            "userId": ""
          }
        }
      },
      "execution_count": 101,
      "outputs": []
    },
    {
      "cell_type": "code",
      "source": [
        "#windows_app_price_extract.to_gbq(f'{PROJECT_ID}.{BQ_SILVER_DATASET}.T_WINDOWS_APP_PRICE_EXTRACT', if_exists='replace')"
      ],
      "metadata": {
        "id": "UUBduHqsav3a",
        "executionInfo": {
          "status": "ok",
          "timestamp": 1755947263730,
          "user_tz": -330,
          "elapsed": 5,
          "user": {
            "displayName": "",
            "userId": ""
          }
        }
      },
      "execution_count": 102,
      "outputs": []
    },
    {
      "cell_type": "code",
      "source": [
        "# %%bigquery\n",
        "\n",
        "# create or replace table `market-mirror-dev.APP_MARKET_SILVER.T_WINDOWS_APP_PRICE_EXTRACT` as\n",
        "# select app_name, app_price,\n",
        "# AI.GENERATE_INT(\n",
        "#   prompt =>  concat('I want you to understand the given app_price text which is related to the pricing of the windows application and',\n",
        "#   'answer what is the price of the app. ',\n",
        "#   'If only the price is mentioned with currency, just return the price value.',\n",
        "#    'app_name: ', app_name , ' app_price: ' , app_price ),\n",
        "#   connection_id => 'us.vertex-remote-models',\n",
        "#   endpoint => 'gemini-2.5-flash'\n",
        "# ).result  from `market-mirror-dev.APP_MARKET_SILVER.T_WINDOWS_APP_PRICE_EXTRACT`;"
      ],
      "metadata": {
        "id": "VX4Lc5qQa2w2",
        "executionInfo": {
          "status": "ok",
          "timestamp": 1755947263730,
          "user_tz": -330,
          "elapsed": 5,
          "user": {
            "displayName": "",
            "userId": ""
          }
        }
      },
      "execution_count": 103,
      "outputs": []
    },
    {
      "cell_type": "code",
      "source": [
        "windows_app_price_extract = bpd.read_gbq(f'{PROJECT_ID}.{BQ_SILVER_DATASET}.T_WINDOWS_APP_PRICE_EXTRACT')"
      ],
      "metadata": {
        "colab": {
          "base_uri": "https://localhost:8080/"
        },
        "id": "z9Dt_MIGfsk1",
        "executionInfo": {
          "status": "ok",
          "timestamp": 1755947263730,
          "user_tz": -330,
          "elapsed": 5,
          "user": {
            "displayName": "",
            "userId": ""
          }
        },
        "outputId": "56e76c4e-1d95-4727-d8bd-4764961d53bb"
      },
      "execution_count": 104,
      "outputs": [
        {
          "output_type": "stream",
          "name": "stderr",
          "text": [
            "/usr/local/lib/python3.11/dist-packages/bigframes/core/log_adapter.py:175: UserWarning: Reading cached table from 2025-08-23 10:42:47.601138+00:00 to avoid\n",
            "incompatibilies with previous reads of this table. To read the latest\n",
            "version, set `use_cache=False` or close the current session with\n",
            "Session.close() or bigframes.pandas.close_session().\n",
            "  return method(*args, **kwargs)\n"
          ]
        }
      ]
    },
    {
      "cell_type": "code",
      "source": [
        "windows_app_price_extract = windows_app_price_extract.drop(columns=['app_price'])\n",
        "\n"
      ],
      "metadata": {
        "id": "-u4GcevIfz26",
        "executionInfo": {
          "status": "ok",
          "timestamp": 1755947263730,
          "user_tz": -330,
          "elapsed": 4,
          "user": {
            "displayName": "",
            "userId": ""
          }
        }
      },
      "execution_count": 105,
      "outputs": []
    },
    {
      "cell_type": "code",
      "source": [
        "windows_app_with_price_extract = bpd.merge( windows_app_df , windows_app_price_extract, on='app_name',how='left')"
      ],
      "metadata": {
        "id": "xVnUCvVDlfkA",
        "executionInfo": {
          "status": "ok",
          "timestamp": 1755947263730,
          "user_tz": -330,
          "elapsed": 4,
          "user": {
            "displayName": "",
            "userId": ""
          }
        }
      },
      "execution_count": 106,
      "outputs": []
    },
    {
      "cell_type": "code",
      "source": [
        "windows_app_with_price_extract.head(5)"
      ],
      "metadata": {
        "colab": {
          "base_uri": "https://localhost:8080/",
          "height": 426
        },
        "id": "hTUKToVjh1cq",
        "executionInfo": {
          "status": "ok",
          "timestamp": 1755947268081,
          "user_tz": -330,
          "elapsed": 4355,
          "user": {
            "displayName": "",
            "userId": ""
          }
        },
        "outputId": "da161749-3626-4aa6-cfd1-abb5b517bfa2"
      },
      "execution_count": 107,
      "outputs": [
        {
          "output_type": "display_data",
          "data": {
            "text/plain": [
              "<IPython.core.display.HTML object>"
            ],
            "text/html": [
              "Query job 1b9dbaf3-74ac-4e2d-a642-edd8339552f3 is DONE. 4.8 MB processed. <a target=\"_blank\" href=\"https://console.cloud.google.com/bigquery?project=market-mirror-dev&j=bq:US:1b9dbaf3-74ac-4e2d-a642-edd8339552f3&page=queryresults\">Open Job</a>"
            ]
          },
          "metadata": {}
        },
        {
          "output_type": "execute_result",
          "data": {
            "text/plain": [
              "                                         app_name app_price  \\\n",
              "0                          HyperX NGENUITY (Beta)      Free   \n",
              "1                                    Real Pool 3D      Free   \n",
              "2                        Pick Me Up - Taxi Driver      Free   \n",
              "3  Mythic Wonders: The Philosopher's Stone (Full)  ₹ 379.00   \n",
              "4                     Warhammer 40,000: Freeblade      Free   \n",
              "\n",
              "                                     app_description           app_genre  \\\n",
              "0  HyperX NGENUITY is powerful, intuitive softwar...   Utilities & tools   \n",
              "1  The world`s best snooker and 8 ball pool game ...  Action & adventure   \n",
              "2  Have you ever wanted to be a ride share driver...  Action & adventure   \n",
              "3  FANTASTIC HIDDEN OBJECT PUZZLE ADVENTURE GAME ...     Puzzle & trivia   \n",
              "4  Warhammer 40K: Freeblade is the Space Marine G...  Action & adventure   \n",
              "\n",
              "        Size  app_rating  free_flag  result  \n",
              "0   151.3 MB           0       True    <NA>  \n",
              "1   91.72 MB           0       True    <NA>  \n",
              "2   123.9 MB           0       True    <NA>  \n",
              "3  703.64 MB           0      False     379  \n",
              "4    1.35 GB           0       True    <NA>  \n",
              "\n",
              "[5 rows x 8 columns]"
            ],
            "text/html": [
              "<div>\n",
              "<style scoped>\n",
              "    .dataframe tbody tr th:only-of-type {\n",
              "        vertical-align: middle;\n",
              "    }\n",
              "\n",
              "    .dataframe tbody tr th {\n",
              "        vertical-align: top;\n",
              "    }\n",
              "\n",
              "    .dataframe thead th {\n",
              "        text-align: right;\n",
              "    }\n",
              "</style>\n",
              "<table border=\"1\" class=\"dataframe\">\n",
              "  <thead>\n",
              "    <tr style=\"text-align: right;\">\n",
              "      <th></th>\n",
              "      <th>app_name</th>\n",
              "      <th>app_price</th>\n",
              "      <th>app_description</th>\n",
              "      <th>app_genre</th>\n",
              "      <th>Size</th>\n",
              "      <th>app_rating</th>\n",
              "      <th>free_flag</th>\n",
              "      <th>result</th>\n",
              "    </tr>\n",
              "  </thead>\n",
              "  <tbody>\n",
              "    <tr>\n",
              "      <th>0</th>\n",
              "      <td>HyperX NGENUITY (Beta)</td>\n",
              "      <td>Free</td>\n",
              "      <td>HyperX NGENUITY is powerful, intuitive softwar...</td>\n",
              "      <td>Utilities &amp; tools</td>\n",
              "      <td>151.3 MB</td>\n",
              "      <td>0</td>\n",
              "      <td>True</td>\n",
              "      <td>&lt;NA&gt;</td>\n",
              "    </tr>\n",
              "    <tr>\n",
              "      <th>1</th>\n",
              "      <td>Real Pool 3D</td>\n",
              "      <td>Free</td>\n",
              "      <td>The world`s best snooker and 8 ball pool game ...</td>\n",
              "      <td>Action &amp; adventure</td>\n",
              "      <td>91.72 MB</td>\n",
              "      <td>0</td>\n",
              "      <td>True</td>\n",
              "      <td>&lt;NA&gt;</td>\n",
              "    </tr>\n",
              "    <tr>\n",
              "      <th>2</th>\n",
              "      <td>Pick Me Up - Taxi Driver</td>\n",
              "      <td>Free</td>\n",
              "      <td>Have you ever wanted to be a ride share driver...</td>\n",
              "      <td>Action &amp; adventure</td>\n",
              "      <td>123.9 MB</td>\n",
              "      <td>0</td>\n",
              "      <td>True</td>\n",
              "      <td>&lt;NA&gt;</td>\n",
              "    </tr>\n",
              "    <tr>\n",
              "      <th>3</th>\n",
              "      <td>Mythic Wonders: The Philosopher's Stone (Full)</td>\n",
              "      <td>₹ 379.00</td>\n",
              "      <td>FANTASTIC HIDDEN OBJECT PUZZLE ADVENTURE GAME ...</td>\n",
              "      <td>Puzzle &amp; trivia</td>\n",
              "      <td>703.64 MB</td>\n",
              "      <td>0</td>\n",
              "      <td>False</td>\n",
              "      <td>379</td>\n",
              "    </tr>\n",
              "    <tr>\n",
              "      <th>4</th>\n",
              "      <td>Warhammer 40,000: Freeblade</td>\n",
              "      <td>Free</td>\n",
              "      <td>Warhammer 40K: Freeblade is the Space Marine G...</td>\n",
              "      <td>Action &amp; adventure</td>\n",
              "      <td>1.35 GB</td>\n",
              "      <td>0</td>\n",
              "      <td>True</td>\n",
              "      <td>&lt;NA&gt;</td>\n",
              "    </tr>\n",
              "  </tbody>\n",
              "</table>\n",
              "<p>5 rows × 8 columns</p>\n",
              "</div>[5 rows x 8 columns in total]"
            ]
          },
          "metadata": {},
          "execution_count": 107
        }
      ]
    },
    {
      "cell_type": "code",
      "source": [
        "windows_app_with_price_extract['result'] = windows_app_with_price_extract['result'].fillna(0)\n",
        "windows_app_with_price_extract['app_price'] = windows_app_with_price_extract['result']\n",
        "windows_app_with_price_extract = windows_app_with_price_extract.drop(columns=['result','Size'])\n"
      ],
      "metadata": {
        "id": "-SZVRnbGipvv",
        "executionInfo": {
          "status": "ok",
          "timestamp": 1755947268081,
          "user_tz": -330,
          "elapsed": 3,
          "user": {
            "displayName": "",
            "userId": ""
          }
        }
      },
      "execution_count": 108,
      "outputs": []
    },
    {
      "cell_type": "code",
      "source": [
        "windows_app_with_price_extract.head()"
      ],
      "metadata": {
        "colab": {
          "base_uri": "https://localhost:8080/",
          "height": 357
        },
        "id": "T746cSOnjs7X",
        "executionInfo": {
          "status": "ok",
          "timestamp": 1755947271915,
          "user_tz": -330,
          "elapsed": 3837,
          "user": {
            "displayName": "",
            "userId": ""
          }
        },
        "outputId": "e668e5e6-13ba-4e99-f523-b1f8b1ba4d87"
      },
      "execution_count": 109,
      "outputs": [
        {
          "output_type": "display_data",
          "data": {
            "text/plain": [
              "<IPython.core.display.HTML object>"
            ],
            "text/html": [
              "Query job a6819997-3fe9-4420-8e81-911aeee8f967 is DONE. 4.8 MB processed. <a target=\"_blank\" href=\"https://console.cloud.google.com/bigquery?project=market-mirror-dev&j=bq:US:a6819997-3fe9-4420-8e81-911aeee8f967&page=queryresults\">Open Job</a>"
            ]
          },
          "metadata": {}
        },
        {
          "output_type": "execute_result",
          "data": {
            "text/plain": [
              "                                         app_name  app_price  \\\n",
              "0                          HyperX NGENUITY (Beta)          0   \n",
              "1                                    Real Pool 3D          0   \n",
              "2                        Pick Me Up - Taxi Driver          0   \n",
              "3  Mythic Wonders: The Philosopher's Stone (Full)        379   \n",
              "4                     Warhammer 40,000: Freeblade          0   \n",
              "\n",
              "                                     app_description           app_genre  \\\n",
              "0  HyperX NGENUITY is powerful, intuitive softwar...   Utilities & tools   \n",
              "1  The world`s best snooker and 8 ball pool game ...  Action & adventure   \n",
              "2  Have you ever wanted to be a ride share driver...  Action & adventure   \n",
              "3  FANTASTIC HIDDEN OBJECT PUZZLE ADVENTURE GAME ...     Puzzle & trivia   \n",
              "4  Warhammer 40K: Freeblade is the Space Marine G...  Action & adventure   \n",
              "\n",
              "   app_rating  free_flag  \n",
              "0           0       True  \n",
              "1           0       True  \n",
              "2           0       True  \n",
              "3           0      False  \n",
              "4           0       True  \n",
              "\n",
              "[5 rows x 6 columns]"
            ],
            "text/html": [
              "<div>\n",
              "<style scoped>\n",
              "    .dataframe tbody tr th:only-of-type {\n",
              "        vertical-align: middle;\n",
              "    }\n",
              "\n",
              "    .dataframe tbody tr th {\n",
              "        vertical-align: top;\n",
              "    }\n",
              "\n",
              "    .dataframe thead th {\n",
              "        text-align: right;\n",
              "    }\n",
              "</style>\n",
              "<table border=\"1\" class=\"dataframe\">\n",
              "  <thead>\n",
              "    <tr style=\"text-align: right;\">\n",
              "      <th></th>\n",
              "      <th>app_name</th>\n",
              "      <th>app_price</th>\n",
              "      <th>app_description</th>\n",
              "      <th>app_genre</th>\n",
              "      <th>app_rating</th>\n",
              "      <th>free_flag</th>\n",
              "    </tr>\n",
              "  </thead>\n",
              "  <tbody>\n",
              "    <tr>\n",
              "      <th>0</th>\n",
              "      <td>HyperX NGENUITY (Beta)</td>\n",
              "      <td>0</td>\n",
              "      <td>HyperX NGENUITY is powerful, intuitive softwar...</td>\n",
              "      <td>Utilities &amp; tools</td>\n",
              "      <td>0</td>\n",
              "      <td>True</td>\n",
              "    </tr>\n",
              "    <tr>\n",
              "      <th>1</th>\n",
              "      <td>Real Pool 3D</td>\n",
              "      <td>0</td>\n",
              "      <td>The world`s best snooker and 8 ball pool game ...</td>\n",
              "      <td>Action &amp; adventure</td>\n",
              "      <td>0</td>\n",
              "      <td>True</td>\n",
              "    </tr>\n",
              "    <tr>\n",
              "      <th>2</th>\n",
              "      <td>Pick Me Up - Taxi Driver</td>\n",
              "      <td>0</td>\n",
              "      <td>Have you ever wanted to be a ride share driver...</td>\n",
              "      <td>Action &amp; adventure</td>\n",
              "      <td>0</td>\n",
              "      <td>True</td>\n",
              "    </tr>\n",
              "    <tr>\n",
              "      <th>3</th>\n",
              "      <td>Mythic Wonders: The Philosopher's Stone (Full)</td>\n",
              "      <td>379</td>\n",
              "      <td>FANTASTIC HIDDEN OBJECT PUZZLE ADVENTURE GAME ...</td>\n",
              "      <td>Puzzle &amp; trivia</td>\n",
              "      <td>0</td>\n",
              "      <td>False</td>\n",
              "    </tr>\n",
              "    <tr>\n",
              "      <th>4</th>\n",
              "      <td>Warhammer 40,000: Freeblade</td>\n",
              "      <td>0</td>\n",
              "      <td>Warhammer 40K: Freeblade is the Space Marine G...</td>\n",
              "      <td>Action &amp; adventure</td>\n",
              "      <td>0</td>\n",
              "      <td>True</td>\n",
              "    </tr>\n",
              "  </tbody>\n",
              "</table>\n",
              "<p>5 rows × 6 columns</p>\n",
              "</div>[5 rows x 6 columns in total]"
            ]
          },
          "metadata": {},
          "execution_count": 109
        }
      ]
    },
    {
      "cell_type": "code",
      "source": [
        "windows_app_with_price_extract= windows_app_with_price_extract[['app_name','app_genre','app_description','app_price','free_flag','app_rating']]\n",
        "windows_app_with_price_extract.head()\n",
        "\n"
      ],
      "metadata": {
        "colab": {
          "base_uri": "https://localhost:8080/",
          "height": 357
        },
        "id": "SbiSpfJqU84o",
        "executionInfo": {
          "status": "ok",
          "timestamp": 1755947276988,
          "user_tz": -330,
          "elapsed": 5076,
          "user": {
            "displayName": "",
            "userId": ""
          }
        },
        "outputId": "639c560d-a22f-49a1-d5ba-5d2931f93ff0"
      },
      "execution_count": 110,
      "outputs": [
        {
          "output_type": "display_data",
          "data": {
            "text/plain": [
              "<IPython.core.display.HTML object>"
            ],
            "text/html": [
              "Query job c0cd502c-a956-477c-b71b-97f51f949ffe is DONE. 4.8 MB processed. <a target=\"_blank\" href=\"https://console.cloud.google.com/bigquery?project=market-mirror-dev&j=bq:US:c0cd502c-a956-477c-b71b-97f51f949ffe&page=queryresults\">Open Job</a>"
            ]
          },
          "metadata": {}
        },
        {
          "output_type": "execute_result",
          "data": {
            "text/plain": [
              "                                         app_name           app_genre  \\\n",
              "0                          HyperX NGENUITY (Beta)   Utilities & tools   \n",
              "1                                    Real Pool 3D  Action & adventure   \n",
              "2                        Pick Me Up - Taxi Driver  Action & adventure   \n",
              "3  Mythic Wonders: The Philosopher's Stone (Full)     Puzzle & trivia   \n",
              "4                     Warhammer 40,000: Freeblade  Action & adventure   \n",
              "\n",
              "                                     app_description  app_price  free_flag  \\\n",
              "0  HyperX NGENUITY is powerful, intuitive softwar...          0       True   \n",
              "1  The world`s best snooker and 8 ball pool game ...          0       True   \n",
              "2  Have you ever wanted to be a ride share driver...          0       True   \n",
              "3  FANTASTIC HIDDEN OBJECT PUZZLE ADVENTURE GAME ...        379      False   \n",
              "4  Warhammer 40K: Freeblade is the Space Marine G...          0       True   \n",
              "\n",
              "   app_rating  \n",
              "0           0  \n",
              "1           0  \n",
              "2           0  \n",
              "3           0  \n",
              "4           0  \n",
              "\n",
              "[5 rows x 6 columns]"
            ],
            "text/html": [
              "<div>\n",
              "<style scoped>\n",
              "    .dataframe tbody tr th:only-of-type {\n",
              "        vertical-align: middle;\n",
              "    }\n",
              "\n",
              "    .dataframe tbody tr th {\n",
              "        vertical-align: top;\n",
              "    }\n",
              "\n",
              "    .dataframe thead th {\n",
              "        text-align: right;\n",
              "    }\n",
              "</style>\n",
              "<table border=\"1\" class=\"dataframe\">\n",
              "  <thead>\n",
              "    <tr style=\"text-align: right;\">\n",
              "      <th></th>\n",
              "      <th>app_name</th>\n",
              "      <th>app_genre</th>\n",
              "      <th>app_description</th>\n",
              "      <th>app_price</th>\n",
              "      <th>free_flag</th>\n",
              "      <th>app_rating</th>\n",
              "    </tr>\n",
              "  </thead>\n",
              "  <tbody>\n",
              "    <tr>\n",
              "      <th>0</th>\n",
              "      <td>HyperX NGENUITY (Beta)</td>\n",
              "      <td>Utilities &amp; tools</td>\n",
              "      <td>HyperX NGENUITY is powerful, intuitive softwar...</td>\n",
              "      <td>0</td>\n",
              "      <td>True</td>\n",
              "      <td>0</td>\n",
              "    </tr>\n",
              "    <tr>\n",
              "      <th>1</th>\n",
              "      <td>Real Pool 3D</td>\n",
              "      <td>Action &amp; adventure</td>\n",
              "      <td>The world`s best snooker and 8 ball pool game ...</td>\n",
              "      <td>0</td>\n",
              "      <td>True</td>\n",
              "      <td>0</td>\n",
              "    </tr>\n",
              "    <tr>\n",
              "      <th>2</th>\n",
              "      <td>Pick Me Up - Taxi Driver</td>\n",
              "      <td>Action &amp; adventure</td>\n",
              "      <td>Have you ever wanted to be a ride share driver...</td>\n",
              "      <td>0</td>\n",
              "      <td>True</td>\n",
              "      <td>0</td>\n",
              "    </tr>\n",
              "    <tr>\n",
              "      <th>3</th>\n",
              "      <td>Mythic Wonders: The Philosopher's Stone (Full)</td>\n",
              "      <td>Puzzle &amp; trivia</td>\n",
              "      <td>FANTASTIC HIDDEN OBJECT PUZZLE ADVENTURE GAME ...</td>\n",
              "      <td>379</td>\n",
              "      <td>False</td>\n",
              "      <td>0</td>\n",
              "    </tr>\n",
              "    <tr>\n",
              "      <th>4</th>\n",
              "      <td>Warhammer 40,000: Freeblade</td>\n",
              "      <td>Action &amp; adventure</td>\n",
              "      <td>Warhammer 40K: Freeblade is the Space Marine G...</td>\n",
              "      <td>0</td>\n",
              "      <td>True</td>\n",
              "      <td>0</td>\n",
              "    </tr>\n",
              "  </tbody>\n",
              "</table>\n",
              "<p>5 rows × 6 columns</p>\n",
              "</div>[5 rows x 6 columns in total]"
            ]
          },
          "metadata": {},
          "execution_count": 110
        }
      ]
    },
    {
      "cell_type": "code",
      "source": [
        "windows_app_with_price_extract.info()"
      ],
      "metadata": {
        "colab": {
          "base_uri": "https://localhost:8080/"
        },
        "id": "MRNDKhdsVqym",
        "executionInfo": {
          "status": "ok",
          "timestamp": 1755947334173,
          "user_tz": -330,
          "elapsed": 3337,
          "user": {
            "displayName": "",
            "userId": ""
          }
        },
        "outputId": "0b171100-7f55-4fd0-c841-df88fb3c1ce8"
      },
      "execution_count": 112,
      "outputs": [
        {
          "output_type": "stream",
          "name": "stdout",
          "text": [
            "<class 'bigframes.dataframe.DataFrame'>\n",
            "Index: 3960 entries, 0 to 3959\n",
            "Data columns (total 6 columns):\n",
            "  #  Column           Non-Null Count    Dtype\n",
            "---  ---------------  ----------------  -------\n",
            "  0  app_name         3960 non-null     string\n",
            "  1  app_genre        3960 non-null     string\n",
            "  2  app_description  3960 non-null     string\n",
            "  3  app_price        3960 non-null     Int64\n",
            "  4  free_flag        3960 non-null     boolean\n",
            "  5  app_rating       3960 non-null     Int64\n",
            "dtypes: Int64(2), boolean(1), string(3)\n",
            "memory usage: 194040 bytes\n"
          ]
        }
      ]
    },
    {
      "cell_type": "code",
      "source": [
        "## Processing Apple\n",
        "\n",
        "print(apple_app_df.columns.tolist())"
      ],
      "metadata": {
        "colab": {
          "base_uri": "https://localhost:8080/"
        },
        "id": "GqO3GDdani4z",
        "executionInfo": {
          "status": "ok",
          "timestamp": 1755947385935,
          "user_tz": -330,
          "elapsed": 4,
          "user": {
            "displayName": "",
            "userId": ""
          }
        },
        "outputId": "d82f82d8-e7f1-4d2a-ff43-5254d3e54514"
      },
      "execution_count": 113,
      "outputs": [
        {
          "output_type": "stream",
          "name": "stdout",
          "text": [
            "['id', 'track_name', 'size_bytes', 'currency', 'price', 'user_rating', 'prime_genre', 'app_desc']\n"
          ]
        }
      ]
    },
    {
      "cell_type": "code",
      "source": [
        "apple_app_df.head()"
      ],
      "metadata": {
        "colab": {
          "base_uri": "https://localhost:8080/",
          "height": 496
        },
        "id": "SSRENu9intRC",
        "executionInfo": {
          "status": "ok",
          "timestamp": 1755947416586,
          "user_tz": -330,
          "elapsed": 4842,
          "user": {
            "displayName": "",
            "userId": ""
          }
        },
        "outputId": "a0c55e4e-8a16-45bd-9326-07aa37baaefe"
      },
      "execution_count": 114,
      "outputs": [
        {
          "output_type": "display_data",
          "data": {
            "text/plain": [
              "<IPython.core.display.HTML object>"
            ],
            "text/html": [
              "Query job b786910b-9f50-4597-994f-8c5586b69995 is DONE. 13.1 MB processed. <a target=\"_blank\" href=\"https://console.cloud.google.com/bigquery?project=market-mirror-dev&j=bq:US:b786910b-9f50-4597-994f-8c5586b69995&page=queryresults\">Open Job</a>"
            ]
          },
          "metadata": {}
        },
        {
          "output_type": "execute_result",
          "data": {
            "text/plain": [
              "           id                                      track_name  size_bytes  \\\n",
              "0   992762497                        记账·圈子账本(专业版)—可共享的全能记帐本软件    77918208   \n",
              "1  1080243808                                     Arcadecraft   150849536   \n",
              "2   989254177  Good Morning Alarm Clock - Sleep Cycle Tracker    59503616   \n",
              "3   956373528                The Lost Heir: The Fall of Daria    47482880   \n",
              "4   646100661               AOL: News, Email, Weather & Video    85273600   \n",
              "\n",
              "  currency  price  user_rating       prime_genre  \\\n",
              "0      USD   0.99          4.5           Finance   \n",
              "1      USD   0.99          3.5             Games   \n",
              "2      USD   3.99          4.5  Health & Fitness   \n",
              "3      USD   2.99          5.0             Games   \n",
              "4      USD    0.0          4.0              News   \n",
              "\n",
              "                                            app_desc  \n",
              "0  ◆圈子账本，年轻人都在用的记账APP \n",
              "◆AppStore首页推荐，千万用户的选择\n",
              "◆腾讯、...  \n",
              "1  The hit console game has been refreshed and is...  \n",
              "2  Wake up feeling refreshed and ready for the da...  \n",
              "3  Take back the throne that was rightfully yours...  \n",
              "4  Stay informed, entertained and in touch with A...  \n",
              "\n",
              "[5 rows x 8 columns]"
            ],
            "text/html": [
              "<div>\n",
              "<style scoped>\n",
              "    .dataframe tbody tr th:only-of-type {\n",
              "        vertical-align: middle;\n",
              "    }\n",
              "\n",
              "    .dataframe tbody tr th {\n",
              "        vertical-align: top;\n",
              "    }\n",
              "\n",
              "    .dataframe thead th {\n",
              "        text-align: right;\n",
              "    }\n",
              "</style>\n",
              "<table border=\"1\" class=\"dataframe\">\n",
              "  <thead>\n",
              "    <tr style=\"text-align: right;\">\n",
              "      <th></th>\n",
              "      <th>id</th>\n",
              "      <th>track_name</th>\n",
              "      <th>size_bytes</th>\n",
              "      <th>currency</th>\n",
              "      <th>price</th>\n",
              "      <th>user_rating</th>\n",
              "      <th>prime_genre</th>\n",
              "      <th>app_desc</th>\n",
              "    </tr>\n",
              "  </thead>\n",
              "  <tbody>\n",
              "    <tr>\n",
              "      <th>0</th>\n",
              "      <td>992762497</td>\n",
              "      <td>记账·圈子账本(专业版)—可共享的全能记帐本软件</td>\n",
              "      <td>77918208</td>\n",
              "      <td>USD</td>\n",
              "      <td>0.99</td>\n",
              "      <td>4.5</td>\n",
              "      <td>Finance</td>\n",
              "      <td>◆圈子账本，年轻人都在用的记账APP \n",
              "◆AppStore首页推荐，千万用户的选择\n",
              "◆腾讯、...</td>\n",
              "    </tr>\n",
              "    <tr>\n",
              "      <th>1</th>\n",
              "      <td>1080243808</td>\n",
              "      <td>Arcadecraft</td>\n",
              "      <td>150849536</td>\n",
              "      <td>USD</td>\n",
              "      <td>0.99</td>\n",
              "      <td>3.5</td>\n",
              "      <td>Games</td>\n",
              "      <td>The hit console game has been refreshed and is...</td>\n",
              "    </tr>\n",
              "    <tr>\n",
              "      <th>2</th>\n",
              "      <td>989254177</td>\n",
              "      <td>Good Morning Alarm Clock - Sleep Cycle Tracker</td>\n",
              "      <td>59503616</td>\n",
              "      <td>USD</td>\n",
              "      <td>3.99</td>\n",
              "      <td>4.5</td>\n",
              "      <td>Health &amp; Fitness</td>\n",
              "      <td>Wake up feeling refreshed and ready for the da...</td>\n",
              "    </tr>\n",
              "    <tr>\n",
              "      <th>3</th>\n",
              "      <td>956373528</td>\n",
              "      <td>The Lost Heir: The Fall of Daria</td>\n",
              "      <td>47482880</td>\n",
              "      <td>USD</td>\n",
              "      <td>2.99</td>\n",
              "      <td>5.0</td>\n",
              "      <td>Games</td>\n",
              "      <td>Take back the throne that was rightfully yours...</td>\n",
              "    </tr>\n",
              "    <tr>\n",
              "      <th>4</th>\n",
              "      <td>646100661</td>\n",
              "      <td>AOL: News, Email, Weather &amp; Video</td>\n",
              "      <td>85273600</td>\n",
              "      <td>USD</td>\n",
              "      <td>0.0</td>\n",
              "      <td>4.0</td>\n",
              "      <td>News</td>\n",
              "      <td>Stay informed, entertained and in touch with A...</td>\n",
              "    </tr>\n",
              "  </tbody>\n",
              "</table>\n",
              "<p>5 rows × 8 columns</p>\n",
              "</div>[5 rows x 8 columns in total]"
            ]
          },
          "metadata": {},
          "execution_count": 114
        }
      ]
    },
    {
      "cell_type": "code",
      "source": [
        "apple_app_df = apple_app_df.rename(columns={'track_name':'app_name',\n",
        "                              'prime_genre':'app_genre',\n",
        "                              'app_desc':'app_description',\n",
        "                              'price':'app_price',\n",
        "                              'user_rating':'app_rating'})"
      ],
      "metadata": {
        "id": "pTh7E7mpn5rh",
        "executionInfo": {
          "status": "ok",
          "timestamp": 1755947562280,
          "user_tz": -330,
          "elapsed": 623,
          "user": {
            "displayName": "",
            "userId": ""
          }
        }
      },
      "execution_count": 115,
      "outputs": []
    },
    {
      "cell_type": "code",
      "source": [
        "apple_app_df['free_flag'] = (apple_app_df['app_price'] == 0)\n"
      ],
      "metadata": {
        "id": "KDTGsnGenzsd",
        "executionInfo": {
          "status": "ok",
          "timestamp": 1755947618901,
          "user_tz": -330,
          "elapsed": 3,
          "user": {
            "displayName": "",
            "userId": ""
          }
        }
      },
      "execution_count": 117,
      "outputs": []
    },
    {
      "cell_type": "code",
      "source": [
        "apple_app_df = apple_app_df[['app_name','app_genre','app_description','app_price','free_flag','app_rating']]"
      ],
      "metadata": {
        "id": "xDWOigY-oqLv",
        "executionInfo": {
          "status": "ok",
          "timestamp": 1755947650475,
          "user_tz": -330,
          "elapsed": 688,
          "user": {
            "displayName": "",
            "userId": ""
          }
        }
      },
      "execution_count": 118,
      "outputs": []
    },
    {
      "cell_type": "code",
      "source": [
        "print(google_app_df.columns.tolist())\n",
        "print(windows_app_with_price_extract.columns.tolist())\n",
        "print(apple_app_df.columns.tolist())"
      ],
      "metadata": {
        "colab": {
          "base_uri": "https://localhost:8080/"
        },
        "id": "qbYqYj3eoxfl",
        "executionInfo": {
          "status": "ok",
          "timestamp": 1755947690848,
          "user_tz": -330,
          "elapsed": 2,
          "user": {
            "displayName": "",
            "userId": ""
          }
        },
        "outputId": "d65623a7-d558-4de2-d4db-eff337cb6f0b"
      },
      "execution_count": 120,
      "outputs": [
        {
          "output_type": "stream",
          "name": "stdout",
          "text": [
            "['app_name', 'app_genre', 'app_description', 'app_price', 'free_flag', 'app_rating']\n",
            "['app_name', 'app_genre', 'app_description', 'app_price', 'free_flag', 'app_rating']\n",
            "['app_name', 'app_genre', 'app_description', 'app_price', 'free_flag', 'app_rating']\n"
          ]
        }
      ]
    },
    {
      "cell_type": "code",
      "source": [
        "#writing to silver dataset\n",
        "google_app_df.to_gbq(f\"{PROJECT_ID}.{BQ_SILVER_DATASET}.T_GOOGLE_APP_DETAIL_CLEANED\", if_exists='replace')\n",
        "windows_app_with_price_extract.to_gbq(f\"{PROJECT_ID}.{BQ_SILVER_DATASET}.T_WINDOWS_APP_DETAIL_CLEANED\", if_exists='replace')\n",
        "apple_app_df.to_gbq(f\"{PROJECT_ID}.{BQ_SILVER_DATASET}.T_APPLE_APP_DETAIL_CLEANED\", if_exists='replace')"
      ],
      "metadata": {
        "colab": {
          "base_uri": "https://localhost:8080/",
          "height": 88
        },
        "id": "GbwMJfsso8fA",
        "executionInfo": {
          "status": "ok",
          "timestamp": 1755948620071,
          "user_tz": -330,
          "elapsed": 14624,
          "user": {
            "displayName": "",
            "userId": ""
          }
        },
        "outputId": "b89fd597-639d-4909-c416-c1d4b3a10d86"
      },
      "execution_count": 122,
      "outputs": [
        {
          "output_type": "display_data",
          "data": {
            "text/plain": [
              "<IPython.core.display.HTML object>"
            ],
            "text/html": [
              "Query job b418b4d2-7ee4-4c9f-b2e5-788381838380 is DONE. 23.0 MB processed. <a target=\"_blank\" href=\"https://console.cloud.google.com/bigquery?project=market-mirror-dev&j=bq:US:b418b4d2-7ee4-4c9f-b2e5-788381838380&page=queryresults\">Open Job</a>"
            ]
          },
          "metadata": {}
        },
        {
          "output_type": "display_data",
          "data": {
            "text/plain": [
              "<IPython.core.display.HTML object>"
            ],
            "text/html": [
              "Query job 495078eb-67f0-4b7d-8c3b-46cb73e26036 is DONE. 4.7 MB processed. <a target=\"_blank\" href=\"https://console.cloud.google.com/bigquery?project=market-mirror-dev&j=bq:US:495078eb-67f0-4b7d-8c3b-46cb73e26036&page=queryresults\">Open Job</a>"
            ]
          },
          "metadata": {}
        },
        {
          "output_type": "display_data",
          "data": {
            "text/plain": [
              "<IPython.core.display.HTML object>"
            ],
            "text/html": [
              "Query job e7a6768d-1b34-4cc8-9db9-03a1ca2ce285 is DONE. 13.0 MB processed. <a target=\"_blank\" href=\"https://console.cloud.google.com/bigquery?project=market-mirror-dev&j=bq:US:e7a6768d-1b34-4cc8-9db9-03a1ca2ce285&page=queryresults\">Open Job</a>"
            ]
          },
          "metadata": {}
        },
        {
          "output_type": "execute_result",
          "data": {
            "text/plain": [
              "'market-mirror-dev.APP_MARKET_SILVER.T_APPLE_APP_DETAIL_CLEANED'"
            ],
            "application/vnd.google.colaboratory.intrinsic+json": {
              "type": "string"
            }
          },
          "metadata": {},
          "execution_count": 122
        }
      ]
    },
    {
      "cell_type": "code",
      "source": [
        "#writing to gold dataset\n",
        "google_app_df.to_gbq(f\"{PROJECT_ID}.{BQ_GOLD_DATASET}.T_GOOGLE_APP_DETAIL_FINAL\", if_exists='replace')\n",
        "windows_app_with_price_extract.to_gbq(f\"{PROJECT_ID}.{BQ_GOLD_DATASET}.T_WINDOWS_APP_DETAIL_FINAL\", if_exists='replace')\n",
        "apple_app_df.to_gbq(f\"{PROJECT_ID}.{BQ_GOLD_DATASET}.T_APPLE_APP_DETAIL_FINAL\", if_exists='replace')"
      ],
      "metadata": {
        "colab": {
          "base_uri": "https://localhost:8080/",
          "height": 88
        },
        "id": "DirMpkdEBraI",
        "executionInfo": {
          "status": "ok",
          "timestamp": 1755954250433,
          "user_tz": -330,
          "elapsed": 11351,
          "user": {
            "displayName": "",
            "userId": ""
          }
        },
        "outputId": "10d68444-5972-4fd4-c029-3138124bd4ca"
      },
      "execution_count": 123,
      "outputs": [
        {
          "output_type": "display_data",
          "data": {
            "text/plain": [
              "<IPython.core.display.HTML object>"
            ],
            "text/html": [
              "Query job fc8515e6-7552-492a-b8ac-6f394fe48d28 is DONE. 23.0 MB processed. <a target=\"_blank\" href=\"https://console.cloud.google.com/bigquery?project=market-mirror-dev&j=bq:US:fc8515e6-7552-492a-b8ac-6f394fe48d28&page=queryresults\">Open Job</a>"
            ]
          },
          "metadata": {}
        },
        {
          "output_type": "display_data",
          "data": {
            "text/plain": [
              "<IPython.core.display.HTML object>"
            ],
            "text/html": [
              "Query job a6b628ed-5077-4156-9d52-889087aba8c2 is DONE. 4.7 MB processed. <a target=\"_blank\" href=\"https://console.cloud.google.com/bigquery?project=market-mirror-dev&j=bq:US:a6b628ed-5077-4156-9d52-889087aba8c2&page=queryresults\">Open Job</a>"
            ]
          },
          "metadata": {}
        },
        {
          "output_type": "display_data",
          "data": {
            "text/plain": [
              "<IPython.core.display.HTML object>"
            ],
            "text/html": [
              "Query job 670aa6b0-5112-41c5-83e7-f726dbdef7d9 is DONE. 13.0 MB processed. <a target=\"_blank\" href=\"https://console.cloud.google.com/bigquery?project=market-mirror-dev&j=bq:US:670aa6b0-5112-41c5-83e7-f726dbdef7d9&page=queryresults\">Open Job</a>"
            ]
          },
          "metadata": {}
        },
        {
          "output_type": "execute_result",
          "data": {
            "text/plain": [
              "'market-mirror-dev.APP_MARKET_GOLD.T_APPLE_APP_DETAIL_FINAL'"
            ],
            "application/vnd.google.colaboratory.intrinsic+json": {
              "type": "string"
            }
          },
          "metadata": {},
          "execution_count": 123
        }
      ]
    },
    {
      "cell_type": "code",
      "source": [
        "%%bigquery\n",
        "\n",
        "UPDATE `market-mirror-dev.APP_MARKET_SILVER.T_WINDOWS_APP_DETAIL_CLEANED` SET app_price=0 where app_price=-1;"
      ],
      "metadata": {
        "id": "H1n9wNvYtsmT"
      },
      "execution_count": null,
      "outputs": []
    }
  ]
}