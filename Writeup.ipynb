{
 "cells": [
  {
   "cell_type": "markdown",
   "id": "84e292cf",
   "metadata": {},
   "source": [
    "# Market Mirror"
   ]
  },
  {
   "cell_type": "code",
   "execution_count": null,
   "id": "f3dac87e",
   "metadata": {
    "vscode": {
     "languageId": "plaintext"
    }
   },
   "outputs": [],
   "source": [
    "Market Mirror is a Gen-AI app which helps the Customer Engagement Officers to explore end user reviews about the company products and generate repond to it with GenAI in various languages that underlying LLM supports. \n",
    "Also this app provides way to explore competetive products available in the market and get a summary of the reviews."
   ]
  },
  {
   "cell_type": "markdown",
   "id": "dc21ece5",
   "metadata": {},
   "source": [
    "We are going to use 4 Kaggle Datasets for this project.\n",
    "\n",
    "1. https://www.kaggle.com/datasets/pratyushpuri/multilingual-mobile-app-reviews-dataset-2025\n",
    "2. https://www.kaggle.com/datasets/pratyushpuri/lava18/google-play-store-apps\n",
    "3. https://www.kaggle.com/datasets/ramamet4/app-store-apple-data-set-10k-apps\n",
    "4. https://www.kaggle.com/datasets/quadeer15sh/windows-store-top-apps-games"
   ]
  },
  {
   "cell_type": "code",
   "execution_count": null,
   "id": "848b8f39",
   "metadata": {
    "vscode": {
     "languageId": "plaintext"
    }
   },
   "outputs": [],
   "source": []
  }
 ],
 "metadata": {
  "kernelspec": {
   "display_name": "dataproc",
   "language": "python",
   "name": "python3"
  },
  "language_info": {
   "codemirror_mode": {
    "name": "ipython",
    "version": 3
   },
   "file_extension": ".py",
   "mimetype": "text/x-python",
   "name": "python",
   "nbconvert_exporter": "python",
   "pygments_lexer": "ipython3",
   "version": "3.12.3"
  }
 },
 "nbformat": 4,
 "nbformat_minor": 5
}
